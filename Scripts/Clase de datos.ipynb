{
 "cells": [
  {
   "cell_type": "code",
   "execution_count": 3,
   "metadata": {},
   "outputs": [],
   "source": [
    "#Librería de graficación\n",
    "import matplotlib.pyplot as plt\n",
    "import matplotlib as mp\n",
    "import cartopy.crs as ccrs\n",
    "import cartopy\n",
    "import matplotlib.pyplot as plt\n",
    "import cartopy.feature as cfeature\n",
    "\n",
    "\n",
    "#Librerías de procesamiento matemático y lectura de archivos\n",
    "import numpy as np\n",
    "import netCDF4 as nc\n",
    "import pandas as pd\n",
    "import glob\n",
    "import os\n",
    "\n",
    "\n",
    "#Librería de estadística\n",
    "import scipy as sp\n",
    "\n",
    "#librería para manejo de fechas\n",
    "from datetime import datetime,timedelta\n",
    "\n",
    "\n",
    "# from mpl_toolkits.axes_grid1 import make_axes_locatable\n",
    "\n",
    "plt.style.use(\"seaborn\")\n",
    "mp.rcParams['font.size'] = 20"
   ]
  },
  {
   "cell_type": "code",
   "execution_count": 4,
   "metadata": {},
   "outputs": [],
   "source": [
    "def reading_netcdf(ruta):\n",
    "    data=nc.Dataset(ruta)\n",
    "    for i in data.variables:\n",
    "        try:\n",
    "            print (i,data.variables[i].shape,data.variables[i].units) \n",
    "        except:\n",
    "            print (i,data.variables[i].shape) \n",
    "    print(\"\\n\")\n",
    "    data_variables=[np.array(data[i][:]) for i in list(data.variables.keys())]\n",
    "    return data_variables"
   ]
  },
  {
   "cell_type": "code",
   "execution_count": 5,
   "metadata": {},
   "outputs": [
    {
     "name": "stdout",
     "output_type": "stream",
     "text": [
      "adt (366, 45, 185) m\n",
      "time (366,) days since 1950-01-01 00:00:00\n",
      "latitude (45,) degrees_north\n",
      "longitude (185,) degrees_east\n",
      "ugos (366, 45, 185) m/s\n",
      "vgos (366, 45, 185) m/s\n",
      "vgosa (366, 45, 185) m/s\n",
      "sla (366, 45, 185) m\n",
      "ugosa (366, 45, 185) m/s\n",
      "\n",
      "\n",
      "adt (366, 45, 185) m\n",
      "time (366,) days since 1950-01-01 00:00:00\n",
      "latitude (45,) degrees_north\n",
      "longitude (185,) degrees_east\n",
      "ugos (366, 45, 185) m/s\n",
      "vgos (366, 45, 185) m/s\n",
      "vgosa (366, 45, 185) m/s\n",
      "sla (366, 45, 185) m\n",
      "ugosa (366, 45, 185) m/s\n",
      "\n",
      "\n",
      "adt (366, 45, 185) m\n",
      "time (366,) days since 1950-01-01 00:00:00\n",
      "latitude (45,) degrees_north\n",
      "longitude (185,) degrees_east\n",
      "ugos (366, 45, 185) m/s\n",
      "vgos (366, 45, 185) m/s\n",
      "vgosa (366, 45, 185) m/s\n",
      "sla (366, 45, 185) m\n",
      "ugosa (366, 45, 185) m/s\n",
      "\n",
      "\n",
      "adt (367, 45, 185) m\n",
      "time (367,) days since 1950-01-01 00:00:00\n",
      "latitude (45,) degrees_north\n",
      "longitude (185,) degrees_east\n",
      "ugos (367, 45, 185) m/s\n",
      "vgos (367, 45, 185) m/s\n",
      "vgosa (367, 45, 185) m/s\n",
      "sla (367, 45, 185) m\n",
      "ugosa (367, 45, 185) m/s\n",
      "\n",
      "\n",
      "adt (366, 45, 185) m\n",
      "time (366,) days since 1950-01-01 00:00:00\n",
      "latitude (45,) degrees_north\n",
      "longitude (185,) degrees_east\n",
      "ugos (366, 45, 185) m/s\n",
      "vgos (366, 45, 185) m/s\n",
      "vgosa (366, 45, 185) m/s\n",
      "sla (366, 45, 185) m\n",
      "ugosa (366, 45, 185) m/s\n",
      "\n",
      "\n",
      "adt (366, 45, 185) m\n",
      "time (366,) days since 1950-01-01 00:00:00\n",
      "latitude (45,) degrees_north\n",
      "longitude (185,) degrees_east\n",
      "ugos (366, 45, 185) m/s\n",
      "vgos (366, 45, 185) m/s\n",
      "vgosa (366, 45, 185) m/s\n",
      "sla (366, 45, 185) m\n",
      "ugosa (366, 45, 185) m/s\n",
      "\n",
      "\n",
      "adt (366, 45, 185) m\n",
      "time (366,) days since 1950-01-01 00:00:00\n",
      "latitude (45,) degrees_north\n",
      "longitude (185,) degrees_east\n",
      "ugos (366, 45, 185) m/s\n",
      "vgos (366, 45, 185) m/s\n",
      "vgosa (366, 45, 185) m/s\n",
      "sla (366, 45, 185) m\n",
      "ugosa (366, 45, 185) m/s\n",
      "\n",
      "\n",
      "adt (367, 45, 185) m\n",
      "time (367,) days since 1950-01-01 00:00:00\n",
      "latitude (45,) degrees_north\n",
      "longitude (185,) degrees_east\n",
      "ugos (367, 45, 185) m/s\n",
      "vgos (367, 45, 185) m/s\n",
      "vgosa (367, 45, 185) m/s\n",
      "sla (367, 45, 185) m\n",
      "ugosa (367, 45, 185) m/s\n",
      "\n",
      "\n",
      "adt (366, 45, 185) m\n",
      "time (366,) days since 1950-01-01 00:00:00\n",
      "latitude (45,) degrees_north\n",
      "longitude (185,) degrees_east\n",
      "ugos (366, 45, 185) m/s\n",
      "vgos (366, 45, 185) m/s\n",
      "vgosa (366, 45, 185) m/s\n",
      "sla (366, 45, 185) m\n",
      "ugosa (366, 45, 185) m/s\n",
      "\n",
      "\n",
      "adt (366, 45, 185) m\n",
      "time (366,) days since 1950-01-01 00:00:00\n",
      "latitude (45,) degrees_north\n",
      "longitude (185,) degrees_east\n",
      "ugos (366, 45, 185) m/s\n",
      "vgos (366, 45, 185) m/s\n",
      "vgosa (366, 45, 185) m/s\n",
      "sla (366, 45, 185) m\n",
      "ugosa (366, 45, 185) m/s\n",
      "\n",
      "\n",
      "adt (366, 45, 185) m\n",
      "time (366,) days since 1950-01-01 00:00:00\n",
      "latitude (45,) degrees_north\n",
      "longitude (185,) degrees_east\n",
      "ugos (366, 45, 185) m/s\n",
      "vgos (366, 45, 185) m/s\n",
      "vgosa (366, 45, 185) m/s\n",
      "sla (366, 45, 185) m\n",
      "ugosa (366, 45, 185) m/s\n",
      "\n",
      "\n",
      "adt (367, 45, 185) m\n",
      "time (367,) days since 1950-01-01 00:00:00\n",
      "latitude (45,) degrees_north\n",
      "longitude (185,) degrees_east\n",
      "ugos (367, 45, 185) m/s\n",
      "vgos (367, 45, 185) m/s\n",
      "vgosa (367, 45, 185) m/s\n",
      "sla (367, 45, 185) m\n",
      "ugosa (367, 45, 185) m/s\n",
      "\n",
      "\n",
      "adt (366, 45, 185) m\n",
      "time (366,) days since 1950-01-01 00:00:00\n",
      "latitude (45,) degrees_north\n",
      "longitude (185,) degrees_east\n",
      "ugos (366, 45, 185) m/s\n",
      "vgos (366, 45, 185) m/s\n",
      "vgosa (366, 45, 185) m/s\n",
      "sla (366, 45, 185) m\n",
      "ugosa (366, 45, 185) m/s\n",
      "\n",
      "\n",
      "adt (366, 45, 185) m\n",
      "time (366,) days since 1950-01-01 00:00:00\n",
      "latitude (45,) degrees_north\n",
      "longitude (185,) degrees_east\n",
      "ugos (366, 45, 185) m/s\n",
      "vgos (366, 45, 185) m/s\n",
      "vgosa (366, 45, 185) m/s\n",
      "sla (366, 45, 185) m\n",
      "ugosa (366, 45, 185) m/s\n",
      "\n",
      "\n",
      "adt (366, 45, 185) m\n",
      "time (366,) days since 1950-01-01 00:00:00\n",
      "latitude (45,) degrees_north\n",
      "longitude (185,) degrees_east\n",
      "ugos (366, 45, 185) m/s\n",
      "vgos (366, 45, 185) m/s\n",
      "vgosa (366, 45, 185) m/s\n",
      "sla (366, 45, 185) m\n",
      "ugosa (366, 45, 185) m/s\n",
      "\n",
      "\n",
      "adt (367, 45, 185) m\n",
      "time (367,) days since 1950-01-01 00:00:00\n",
      "latitude (45,) degrees_north\n",
      "longitude (185,) degrees_east\n",
      "ugos (367, 45, 185) m/s\n",
      "vgos (367, 45, 185) m/s\n",
      "vgosa (367, 45, 185) m/s\n",
      "sla (367, 45, 185) m\n",
      "ugosa (367, 45, 185) m/s\n",
      "\n",
      "\n",
      "adt (366, 45, 185) m\n",
      "time (366,) days since 1950-01-01 00:00:00\n",
      "latitude (45,) degrees_north\n",
      "longitude (185,) degrees_east\n",
      "ugos (366, 45, 185) m/s\n",
      "vgos (366, 45, 185) m/s\n",
      "vgosa (366, 45, 185) m/s\n",
      "sla (366, 45, 185) m\n",
      "ugosa (366, 45, 185) m/s\n",
      "\n",
      "\n",
      "adt (366, 45, 185) m\n",
      "time (366,) days since 1950-01-01 00:00:00\n",
      "latitude (45,) degrees_north\n",
      "longitude (185,) degrees_east\n",
      "ugos (366, 45, 185) m/s\n",
      "vgos (366, 45, 185) m/s\n",
      "vgosa (366, 45, 185) m/s\n",
      "sla (366, 45, 185) m\n",
      "ugosa (366, 45, 185) m/s\n",
      "\n",
      "\n",
      "adt (366, 45, 185) m\n",
      "time (366,) days since 1950-01-01 00:00:00\n",
      "latitude (45,) degrees_north\n",
      "longitude (185,) degrees_east\n",
      "ugos (366, 45, 185) m/s\n",
      "vgos (366, 45, 185) m/s\n",
      "vgosa (366, 45, 185) m/s\n",
      "sla (366, 45, 185) m\n",
      "ugosa (366, 45, 185) m/s\n",
      "\n",
      "\n",
      "adt (367, 45, 185) m\n",
      "time (367,) days since 1950-01-01 00:00:00\n",
      "latitude (45,) degrees_north\n",
      "longitude (185,) degrees_east\n",
      "ugos (367, 45, 185) m/s\n",
      "vgos (367, 45, 185) m/s\n",
      "vgosa (367, 45, 185) m/s\n",
      "sla (367, 45, 185) m\n",
      "ugosa (367, 45, 185) m/s\n",
      "\n",
      "\n",
      "adt (366, 45, 185) m\n",
      "time (366,) days since 1950-01-01 00:00:00\n",
      "latitude (45,) degrees_north\n",
      "longitude (185,) degrees_east\n",
      "ugos (366, 45, 185) m/s\n",
      "vgos (366, 45, 185) m/s\n",
      "vgosa (366, 45, 185) m/s\n",
      "sla (366, 45, 185) m\n",
      "ugosa (366, 45, 185) m/s\n",
      "\n",
      "\n",
      "adt (366, 45, 185) m\n",
      "time (366,) days since 1950-01-01 00:00:00\n",
      "latitude (45,) degrees_north\n",
      "longitude (185,) degrees_east\n",
      "ugos (366, 45, 185) m/s\n",
      "vgos (366, 45, 185) m/s\n",
      "vgosa (366, 45, 185) m/s\n",
      "sla (366, 45, 185) m\n",
      "ugosa (366, 45, 185) m/s\n",
      "\n",
      "\n",
      "adt (366, 45, 185) m\n",
      "time (366,) days since 1950-01-01 00:00:00\n",
      "latitude (45,) degrees_north\n",
      "longitude (185,) degrees_east\n",
      "ugos (366, 45, 185) m/s\n",
      "vgos (366, 45, 185) m/s\n",
      "vgosa (366, 45, 185) m/s\n",
      "sla (366, 45, 185) m\n",
      "ugosa (366, 45, 185) m/s\n",
      "\n",
      "\n",
      "adt (367, 45, 185) m\n",
      "time (367,) days since 1950-01-01 00:00:00\n",
      "latitude (45,) degrees_north\n",
      "longitude (185,) degrees_east\n",
      "ugos (367, 45, 185) m/s\n",
      "vgos (367, 45, 185) m/s\n",
      "vgosa (367, 45, 185) m/s\n",
      "sla (367, 45, 185) m\n",
      "ugosa (367, 45, 185) m/s\n",
      "\n",
      "\n",
      "adt (366, 45, 185) m\n",
      "time (366,) days since 1950-01-01 00:00:00\n",
      "latitude (45,) degrees_north\n",
      "longitude (185,) degrees_east\n",
      "ugos (366, 45, 185) m/s\n",
      "vgos (366, 45, 185) m/s\n",
      "vgosa (366, 45, 185) m/s\n",
      "sla (366, 45, 185) m\n",
      "ugosa (366, 45, 185) m/s\n",
      "\n",
      "\n",
      "adt (133, 45, 185) m\n",
      "time (133,) days since 1950-01-01 00:00:00\n",
      "latitude (45,) degrees_north\n",
      "longitude (185,) degrees_east\n",
      "ugos (133, 45, 185) m/s\n",
      "vgos (133, 45, 185) m/s\n",
      "vgosa (133, 45, 185) m/s\n",
      "sla (133, 45, 185) m\n",
      "ugosa (133, 45, 185) m/s\n",
      "\n",
      "\n"
     ]
    }
   ],
   "source": [
    "rutas = np.sort(glob.glob(\"../Dataset/CMEMS_ECMFW/*.nc\"))\n",
    "\n",
    "#Al estar por años se debe concatenar\n",
    "for i in range(0,len(rutas)):\n",
    "    if i==0:\n",
    "        [adt,time,lat,lon,ugos,vgos,vgosa,sla,ugosa]=reading_netcdf(rutas[i])\n",
    "    else:\n",
    "        [adt,time2,lat,lon,ugos,vgos,vgosa,sla2,ugosa]=reading_netcdf(rutas[i])\n",
    "        sla=np.concatenate((sla,sla2))\n",
    "        time=np.concatenate((time,time2))\n"
   ]
  },
  {
   "cell_type": "code",
   "execution_count": 6,
   "metadata": {},
   "outputs": [],
   "source": [
    "sla[sla<=-1000]=np.nan"
   ]
  },
  {
   "cell_type": "code",
   "execution_count": 7,
   "metadata": {},
   "outputs": [
    {
     "name": "stderr",
     "output_type": "stream",
     "text": [
      "/home/franklin/my_projects_dir/entorno_jup/lib/python3.6/site-packages/ipykernel_launcher.py:1: RuntimeWarning: Mean of empty slice\n",
      "  \"\"\"Entry point for launching an IPython kernel.\n"
     ]
    }
   ],
   "source": [
    "serie=np.nanmean(sla,axis=1)\n",
    "serie_temp=np.nanmean(serie,axis=1)"
   ]
  },
  {
   "cell_type": "code",
   "execution_count": 8,
   "metadata": {},
   "outputs": [],
   "source": [
    "da=[datetime(1950,1,1,0,0,0)+timedelta(days=int(time[w])) for w in range (0,len(time))]\n",
    "date=pd.DatetimeIndex(da)"
   ]
  },
  {
   "cell_type": "code",
   "execution_count": 9,
   "metadata": {},
   "outputs": [],
   "source": [
    "serie_sla=pd.Series(serie_temp,date)"
   ]
  },
  {
   "cell_type": "code",
   "execution_count": 10,
   "metadata": {},
   "outputs": [
    {
     "name": "stderr",
     "output_type": "stream",
     "text": [
      "/home/franklin/my_projects_dir/entorno_jup/lib/python3.6/site-packages/pandas/plotting/_matplotlib/converter.py:103: FutureWarning: Using an implicitly registered datetime converter for a matplotlib plotting method. The converter was registered by pandas on import. Future versions of pandas will require you to explicitly register matplotlib converters.\n",
      "\n",
      "To register the converters:\n",
      "\t>>> from pandas.plotting import register_matplotlib_converters\n",
      "\t>>> register_matplotlib_converters()\n",
      "  warnings.warn(msg, FutureWarning)\n"
     ]
    },
    {
     "data": {
      "text/plain": [
       "[<matplotlib.lines.Line2D at 0x7f7d49a6b208>]"
      ]
     },
     "execution_count": 10,
     "metadata": {},
     "output_type": "execute_result"
    },
    {
     "data": {
      "image/png": "[encoded data removed]",
      "text/plain": [
       "<Figure size 432x288 with 1 Axes>"
      ]
     },
     "metadata": {
      "needs_background": "light"
     },
     "output_type": "display_data"
    }
   ],
   "source": [
    "plt.plot(serie_sla)"
   ]
  },
  {
   "cell_type": "code",
   "execution_count": 11,
   "metadata": {},
   "outputs": [],
   "source": [
    "serie_rolling=serie_sla.rolling(366).mean()\n",
    "serie_rolling=serie_rolling[365:]"
   ]
  },
  {
   "cell_type": "code",
   "execution_count": 12,
   "metadata": {},
   "outputs": [
    {
     "data": {
      "text/plain": [
       "[<matplotlib.lines.Line2D at 0x7f7d497096a0>]"
      ]
     },
     "execution_count": 12,
     "metadata": {},
     "output_type": "execute_result"
    },
    {
     "data": {
      "image/png": "[encoded data removed]",
      "text/plain": [
       "<Figure size 432x288 with 1 Axes>"
      ]
     },
     "metadata": {
      "needs_background": "light"
     },
     "output_type": "display_data"
    }
   ],
   "source": [
    "plt.plot(serie_rolling)"
   ]
  },
  {
   "cell_type": "code",
   "execution_count": 13,
   "metadata": {},
   "outputs": [
    {
     "name": "stderr",
     "output_type": "stream",
     "text": [
      "/home/franklin/my_projects_dir/entorno_jup/lib/python3.6/site-packages/ipykernel_launcher.py:4: RuntimeWarning: divide by zero encountered in true_divide\n",
      "  after removing the cwd from sys.path.\n"
     ]
    }
   ],
   "source": [
    "freq_sla=np.fft.fftfreq(len(serie_rolling))\n",
    "fft_sla=np.fft.fft(serie_rolling.values)\n",
    "potencia=np.abs((1/len(serie_rolling))*fft_sla)**2 #Notar que tiene el factor de escalamiento 1/n\n",
    "periodo=1/freq_sla\n",
    "freq_pos=np.where(freq_sla>=0)[0]"
   ]
  },
  {
   "cell_type": "code",
   "execution_count": 14,
   "metadata": {},
   "outputs": [
    {
     "data": {
      "text/plain": [
       "<matplotlib.lines.Line2D at 0x7f7d49234e80>"
      ]
     },
     "execution_count": 14,
     "metadata": {},
     "output_type": "execute_result"
    },
    {
     "data": {
      "image/png": "[encoded data removed]",
      "text/plain": [
       "<Figure size 432x288 with 1 Axes>"
      ]
     },
     "metadata": {
      "needs_background": "light"
     },
     "output_type": "display_data"
    }
   ],
   "source": [
    "plt.plot(periodo[freq_pos],potencia[freq_pos],'k')\n",
    "plt.xscale('log')\n",
    "plt.axvline(365,ls='-.')\n",
    "plt.axvline(365*6,ls='-.')"
   ]
  },
  {
   "cell_type": "markdown",
   "metadata": {},
   "source": [
    "Estadísticamente significativo no necesariamentes es físicamente significativo\n",
    "\n",
    "- para algo físicamente significativo se puede notar el porcentaje de varianza\n",
    "- para algo estadísticamente significativo se debe mirar la longitud los datos y qué tan casual es que ese espectro se haya obtenido con datos aleatorios (random) y con parámetros estadísticos similares.\n",
    "\n",
    "\n",
    "* Ruido blanco: ruido no correlacionado (radio sin frecuencia emitida)\n",
    "* Ruido rojo: ruido correlacionado"
   ]
  },
  {
   "cell_type": "code",
   "execution_count": 15,
   "metadata": {},
   "outputs": [],
   "source": [
    "serie_copy=np.copy(serie_rolling.values)"
   ]
  },
  {
   "cell_type": "code",
   "execution_count": 16,
   "metadata": {},
   "outputs": [],
   "source": [
    "n=1000\n",
    "matriz=np.zeros((n,len(serie_copy)))*np.nan\n",
    "for i in range(n):\n",
    "    np.random.shuffle(serie_copy)\n",
    "    fft_sla2=np.fft.fft(serie_copy)\n",
    "    potencia2=np.abs((1/len(serie_copy))*fft_sla2)**2 #Notar que tiene el factor de escalamiento 1/n\n",
    "    matriz[i,:]=potencia2"
   ]
  },
  {
   "cell_type": "code",
   "execution_count": 17,
   "metadata": {},
   "outputs": [
    {
     "data": {
      "text/plain": [
       "<matplotlib.lines.Line2D at 0x7f7d4715fcf8>"
      ]
     },
     "execution_count": 17,
     "metadata": {},
     "output_type": "execute_result"
    },
    {
     "data": {
      "image/png": "[encoded data removed]",
      "text/plain": [
       "<Figure size 432x288 with 1 Axes>"
      ]
     },
     "metadata": {
      "needs_background": "light"
     },
     "output_type": "display_data"
    }
   ],
   "source": [
    "plt.plot(periodo[freq_pos],potencia[freq_pos],'k')\n",
    "plt.plot(periodo[freq_pos],matriz[800,:][freq_pos],'r')\n",
    "plt.xscale('log')\n",
    "plt.axvline(365,ls='-.')\n",
    "plt.axvline(365*6,ls='-.')"
   ]
  },
  {
   "cell_type": "code",
   "execution_count": 18,
   "metadata": {},
   "outputs": [],
   "source": [
    "perc_95=np.array([np.percentile(matriz[:,i],99) for i in range (0,len(freq_sla))])"
   ]
  },
  {
   "cell_type": "code",
   "execution_count": 19,
   "metadata": {},
   "outputs": [
    {
     "data": {
      "text/plain": [
       "array([1.45923446e-03, 9.81233389e-07, 1.20332521e-06, ...,\n",
       "       9.72796319e-07, 1.20332521e-06, 9.81233389e-07])"
      ]
     },
     "execution_count": 19,
     "metadata": {},
     "output_type": "execute_result"
    }
   ],
   "source": [
    "perc_95"
   ]
  },
  {
   "cell_type": "code",
   "execution_count": 20,
   "metadata": {
    "scrolled": true
   },
   "outputs": [
    {
     "data": {
      "text/plain": [
       "<matplotlib.lines.Line2D at 0x7f7d42b13fd0>"
      ]
     },
     "execution_count": 20,
     "metadata": {},
     "output_type": "execute_result"
    },
    {
     "data": {
      "image/png": "[encoded data removed]",
      "text/plain": [
       "<Figure size 432x288 with 1 Axes>"
      ]
     },
     "metadata": {
      "needs_background": "light"
     },
     "output_type": "display_data"
    }
   ],
   "source": [
    "plt.plot(periodo[freq_pos],potencia[freq_pos],'k')\n",
    "plt.plot(periodo[freq_pos],perc_95[freq_pos],'r')\n",
    "plt.xscale('log')\n",
    "\n",
    "plt.axvline(365,ls='-.')\n",
    "plt.axvline(365*6,ls='-.')"
   ]
  },
  {
   "cell_type": "code",
   "execution_count": null,
   "metadata": {},
   "outputs": [],
   "source": []
  },
  {
   "cell_type": "code",
   "execution_count": null,
   "metadata": {},
   "outputs": [],
   "source": []
  },
  {
   "cell_type": "code",
   "execution_count": null,
   "metadata": {},
   "outputs": [],
   "source": []
  },
  {
   "cell_type": "code",
   "execution_count": null,
   "metadata": {},
   "outputs": [],
   "source": []
  },
  {
   "cell_type": "code",
   "execution_count": null,
   "metadata": {},
   "outputs": [],
   "source": []
  },
  {
   "cell_type": "code",
   "execution_count": null,
   "metadata": {},
   "outputs": [],
   "source": []
  },
  {
   "cell_type": "code",
   "execution_count": null,
   "metadata": {},
   "outputs": [],
   "source": []
  },
  {
   "cell_type": "code",
   "execution_count": null,
   "metadata": {},
   "outputs": [],
   "source": []
  },
  {
   "cell_type": "code",
   "execution_count": null,
   "metadata": {},
   "outputs": [],
   "source": []
  },
  {
   "cell_type": "markdown",
   "metadata": {},
   "source": [
    "## EOF's"
   ]
  },
  {
   "cell_type": "code",
   "execution_count": 22,
   "metadata": {},
   "outputs": [
    {
     "data": {
      "text/plain": [
       "(9289, 45, 185)"
      ]
     },
     "execution_count": 22,
     "metadata": {},
     "output_type": "execute_result"
    }
   ],
   "source": [
    "sla.shape"
   ]
  },
  {
   "cell_type": "code",
   "execution_count": 25,
   "metadata": {},
   "outputs": [],
   "source": [
    "sla_r = np.reshape(sla,[sla.shape[0],sla.shape[1]*sla.shape[2]])"
   ]
  },
  {
   "cell_type": "code",
   "execution_count": 43,
   "metadata": {},
   "outputs": [
    {
     "ename": "ValueError",
     "evalue": "On entry to DLASCL parameter number 4 had an illegal value",
     "output_type": "error",
     "traceback": [
      "\u001b[0;31m---------------------------------------------------------------------------\u001b[0m",
      "\u001b[0;31mValueError\u001b[0m                                Traceback (most recent call last)",
      "\u001b[0;32m<timed exec>\u001b[0m in \u001b[0;36m<module>\u001b[0;34m\u001b[0m\n",
      "\u001b[0;32m<__array_function__ internals>\u001b[0m in \u001b[0;36msvd\u001b[0;34m(*args, **kwargs)\u001b[0m\n",
      "\u001b[0;32m~/my_projects_dir/entorno_jup/lib/python3.6/site-packages/numpy/linalg/linalg.py\u001b[0m in \u001b[0;36msvd\u001b[0;34m(a, full_matrices, compute_uv, hermitian)\u001b[0m\n\u001b[1;32m   1634\u001b[0m \u001b[0;34m\u001b[0m\u001b[0m\n\u001b[1;32m   1635\u001b[0m         \u001b[0msignature\u001b[0m \u001b[0;34m=\u001b[0m \u001b[0;34m'D->DdD'\u001b[0m \u001b[0;32mif\u001b[0m \u001b[0misComplexType\u001b[0m\u001b[0;34m(\u001b[0m\u001b[0mt\u001b[0m\u001b[0;34m)\u001b[0m \u001b[0;32melse\u001b[0m \u001b[0;34m'd->ddd'\u001b[0m\u001b[0;34m\u001b[0m\u001b[0;34m\u001b[0m\u001b[0m\n\u001b[0;32m-> 1636\u001b[0;31m         \u001b[0mu\u001b[0m\u001b[0;34m,\u001b[0m \u001b[0ms\u001b[0m\u001b[0;34m,\u001b[0m \u001b[0mvh\u001b[0m \u001b[0;34m=\u001b[0m \u001b[0mgufunc\u001b[0m\u001b[0;34m(\u001b[0m\u001b[0ma\u001b[0m\u001b[0;34m,\u001b[0m \u001b[0msignature\u001b[0m\u001b[0;34m=\u001b[0m\u001b[0msignature\u001b[0m\u001b[0;34m,\u001b[0m \u001b[0mextobj\u001b[0m\u001b[0;34m=\u001b[0m\u001b[0mextobj\u001b[0m\u001b[0;34m)\u001b[0m\u001b[0;34m\u001b[0m\u001b[0;34m\u001b[0m\u001b[0m\n\u001b[0m\u001b[1;32m   1637\u001b[0m         \u001b[0mu\u001b[0m \u001b[0;34m=\u001b[0m \u001b[0mu\u001b[0m\u001b[0;34m.\u001b[0m\u001b[0mastype\u001b[0m\u001b[0;34m(\u001b[0m\u001b[0mresult_t\u001b[0m\u001b[0;34m,\u001b[0m \u001b[0mcopy\u001b[0m\u001b[0;34m=\u001b[0m\u001b[0;32mFalse\u001b[0m\u001b[0;34m)\u001b[0m\u001b[0;34m\u001b[0m\u001b[0;34m\u001b[0m\u001b[0m\n\u001b[1;32m   1638\u001b[0m         \u001b[0ms\u001b[0m \u001b[0;34m=\u001b[0m \u001b[0ms\u001b[0m\u001b[0;34m.\u001b[0m\u001b[0mastype\u001b[0m\u001b[0;34m(\u001b[0m\u001b[0m_realType\u001b[0m\u001b[0;34m(\u001b[0m\u001b[0mresult_t\u001b[0m\u001b[0;34m)\u001b[0m\u001b[0;34m,\u001b[0m \u001b[0mcopy\u001b[0m\u001b[0;34m=\u001b[0m\u001b[0;32mFalse\u001b[0m\u001b[0;34m)\u001b[0m\u001b[0;34m\u001b[0m\u001b[0;34m\u001b[0m\u001b[0m\n",
      "\u001b[0;31mValueError\u001b[0m: On entry to DLASCL parameter number 4 had an illegal value"
     ]
    }
   ],
   "source": [
    "%%time\n",
    "U_sla,S_sla,Vh_sla = np.linalg.svd(sla_r, full_matrices=True)"
   ]
  },
  {
   "cell_type": "code",
   "execution_count": null,
   "metadata": {},
   "outputs": [],
   "source": [
    "print(U_air.shape, S_air.shape,Vh_air.shape)"
   ]
  },
  {
   "cell_type": "code",
   "execution_count": null,
   "metadata": {},
   "outputs": [],
   "source": []
  }
 ],
 "metadata": {
  "kernelspec": {
   "display_name": "Python 3",
   "language": "python",
   "name": "python3"
  },
  "language_info": {
   "codemirror_mode": {
    "name": "ipython",
    "version": 3
   },
   "file_extension": ".py",
   "mimetype": "text/x-python",
   "name": "python",
   "nbconvert_exporter": "python",
   "pygments_lexer": "ipython3",
   "version": "3.6.8"
  },
  "toc": {
   "base_numbering": 1,
   "nav_menu": {},
   "number_sections": true,
   "sideBar": true,
   "skip_h1_title": false,
   "title_cell": "Table of Contents",
   "title_sidebar": "Contents",
   "toc_cell": false,
   "toc_position": {},
   "toc_section_display": true,
   "toc_window_display": false
  }
 },
 "nbformat": 4,
 "nbformat_minor": 2
}
