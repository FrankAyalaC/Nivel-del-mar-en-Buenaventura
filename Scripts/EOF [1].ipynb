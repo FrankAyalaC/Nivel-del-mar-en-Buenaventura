{
 "cells": [
  {
   "cell_type": "code",
   "execution_count": 1,
   "metadata": {
    "ExecuteTime": {
     "end_time": "2019-11-13T11:54:52.274723Z",
     "start_time": "2019-11-13T11:54:51.258826Z"
    }
   },
   "outputs": [],
   "source": [
    "import matplotlib.pyplot as plt\n",
    "import numpy as np\n",
    "from scipy import linalg as la"
   ]
  },
  {
   "cell_type": "code",
   "execution_count": 2,
   "metadata": {
    "ExecuteTime": {
     "end_time": "2019-11-13T11:55:20.778640Z",
     "start_time": "2019-11-13T11:55:20.770121Z"
    }
   },
   "outputs": [],
   "source": [
    "x=np.random.normal(0,1,100)\n",
    "y=2*x+np.random.normal(0,1,100)"
   ]
  },
  {
   "cell_type": "markdown",
   "metadata": {},
   "source": [
    "Los patrones de un problema bivariado son vectores (se reduce la dimensionalidad). Los pasos son exactamente los mismos"
   ]
  },
  {
   "cell_type": "markdown",
   "metadata": {},
   "source": [
    "# Matriz de datos"
   ]
  },
  {
   "cell_type": "code",
   "execution_count": 10,
   "metadata": {
    "ExecuteTime": {
     "end_time": "2019-11-13T12:10:06.479410Z",
     "start_time": "2019-11-13T12:10:06.467264Z"
    }
   },
   "outputs": [],
   "source": [
    "A=np.c_[x,y]\n",
    "A2=np.c_[(x-np.mean(x))/np.std(x),(y-np.mean(y))/np.std(y)]"
   ]
  },
  {
   "cell_type": "code",
   "execution_count": 25,
   "metadata": {
    "ExecuteTime": {
     "end_time": "2019-11-13T12:16:47.271993Z",
     "start_time": "2019-11-13T12:16:47.253873Z"
    }
   },
   "outputs": [],
   "source": [
    "## Estas son las matrices de covarianza\n",
    "B=1/(len(x)-1)*np.dot(A,A.T)\n",
    "B_alternativa=1/(len(x)-1)*np.dot(A.T,A)\n",
    "\n",
    "## Estas son las matrices de correlaciones\n",
    "B_2=1/(len(x))*np.dot(A2,A2.T) ## Hay que acotar que es importante la dirección en la que se realiza la desviación\n",
    "B_alternativa_2=1/(len(x))*np.dot(A2.T,A2)"
   ]
  },
  {
   "cell_type": "markdown",
   "metadata": {
    "variables": {
     "B_alternativa.shape": "<p><strong>NameError</strong>: name &#39;B_alternativa&#39; is not defined</p>\n"
    }
   },
   "source": [
    "\n",
    "[2xn][nx2]=[2x2] Correlación temporal distribuida el espacio, resumo el tiempo (la dimensión del tiempo se borra)\n",
    "\n",
    "[nx2][2xn]=[nxn] Correlación espacial distribuida el tiempo\n",
    "\n",
    "La dimensión de B_alternativa es {{B_alternativa.shape}}, es decir, obedece a una correlación temporal en el espacio.\n",
    "\n",
    "Un análisis con correlación, cada uno tiene igual importancia. Un análisis de covarianza si se ve influenciada por la variabilidad.\n",
    "\n",
    "Aunque la matriz de covarianza ya me habla del grado de variabilidad, la matriz de correlación ayuda para que, al adimensionalizar todo, se pueda comparar o encontrar los modos de oscilación y después escalar con un factor de corrección\n",
    "\n",
    "Para la matriz de correlación espacial en el tiempo tiene problemas con la dirección en la que se escala e implica que existan diversas variables\n",
    "\n",
    "- Los vectores propios de la matriz B están distribuidas en el espacio (Esto corresponde a los modos de oscilación, patrones espaciales)\n",
    "- Los vectores propios de la matriz B_alternativa están distribuidas en el tiempo (Esto corresponde las trazas en el tiempo, componentes principales)\n"
   ]
  },
  {
   "cell_type": "code",
   "execution_count": 35,
   "metadata": {
    "ExecuteTime": {
     "end_time": "2019-11-13T12:42:35.141711Z",
     "start_time": "2019-11-13T12:42:35.129267Z"
    }
   },
   "outputs": [],
   "source": [
    "val,vec=la.eig(B)\n",
    "val_alternativa,vec_alternativa=la.eig(B_alternativa)\n",
    "\n",
    "val_corr_alternativa,vec_corr_alternativa=la.eig(B_alternativa_2)"
   ]
  },
  {
   "cell_type": "code",
   "execution_count": 38,
   "metadata": {
    "ExecuteTime": {
     "end_time": "2019-11-13T12:42:54.260259Z",
     "start_time": "2019-11-13T12:42:54.247070Z"
    }
   },
   "outputs": [],
   "source": [
    "a=np.sum(val)\n",
    "b=np.sum(np.diag(B_alternativa))"
   ]
  },
  {
   "cell_type": "code",
   "execution_count": 39,
   "metadata": {
    "ExecuteTime": {
     "end_time": "2019-11-13T12:42:54.794458Z",
     "start_time": "2019-11-13T12:42:54.779184Z"
    }
   },
   "outputs": [
    {
     "data": {
      "text/plain": [
       "((6.472782518092113+0j), 6.472782518092108)"
      ]
     },
     "execution_count": 39,
     "metadata": {},
     "output_type": "execute_result"
    }
   ],
   "source": [
    "a,b"
   ]
  },
  {
   "cell_type": "code",
   "execution_count": 46,
   "metadata": {
    "ExecuteTime": {
     "end_time": "2019-11-13T12:47:26.697592Z",
     "start_time": "2019-11-13T12:47:26.486656Z"
    }
   },
   "outputs": [
    {
     "data": {
      "text/plain": [
       "(-2.62694633098302, 3.0318798456108516, -5.265479989347723, 6.671843220583462)"
      ]
     },
     "execution_count": 46,
     "metadata": {},
     "output_type": "execute_result"
    },
    {
     "data": {
      "image/png": "[encoded data removed]",
      "text/plain": [
       "<Figure size 432x288 with 1 Axes>"
      ]
     },
     "metadata": {
      "needs_background": "light"
     },
     "output_type": "display_data"
    }
   ],
   "source": [
    "plt.figure()\n",
    "xx1=np.array([0,vec_alternativa[0][0]])\n",
    "xx2=np.array([0,vec_alternativa[0][0]])\n",
    "plt.scatter(x,y)\n",
    "plt.plot(xx1*5)\n",
    "plt.axis(\"equal\")"
   ]
  },
  {
   "cell_type": "markdown",
   "metadata": {},
   "source": [
    "El vector en dirección de la tendencia es el que indica la mayor parte de la varianza y el otro aparece por obligación de ortogonalidad."
   ]
  },
  {
   "cell_type": "markdown",
   "metadata": {},
   "source": [
    "## Probando el segundo método"
   ]
  },
  {
   "cell_type": "markdown",
   "metadata": {},
   "source": [
    "Este método permite la obtención directa de las componentes principales y de los modos de oscilación, es decir los patrones espacio-temporales"
   ]
  },
  {
   "cell_type": "code",
   "execution_count": 49,
   "metadata": {
    "ExecuteTime": {
     "end_time": "2019-11-13T12:49:04.117356Z",
     "start_time": "2019-11-13T12:49:04.111458Z"
    }
   },
   "outputs": [],
   "source": [
    "U,S,Vh=np.linalg.svd(A)"
   ]
  },
  {
   "cell_type": "code",
   "execution_count": 50,
   "metadata": {
    "ExecuteTime": {
     "end_time": "2019-11-13T12:49:04.383453Z",
     "start_time": "2019-11-13T12:49:04.366039Z"
    }
   },
   "outputs": [
    {
     "data": {
      "text/plain": [
       "((100, 100), (2,), (2, 2))"
      ]
     },
     "execution_count": 50,
     "metadata": {},
     "output_type": "execute_result"
    }
   ],
   "source": [
    "U.shape,S.shape,Vh.shape"
   ]
  },
  {
   "cell_type": "code",
   "execution_count": null,
   "metadata": {},
   "outputs": [],
   "source": []
  }
 ],
 "metadata": {
  "hide_input": false,
  "kernelspec": {
   "display_name": "Python 3",
   "language": "python",
   "name": "python3"
  },
  "language_info": {
   "codemirror_mode": {
    "name": "ipython",
    "version": 3
   },
   "file_extension": ".py",
   "mimetype": "text/x-python",
   "name": "python",
   "nbconvert_exporter": "python",
   "pygments_lexer": "ipython3",
   "version": "3.6.8"
  },
  "latex_envs": {
   "LaTeX_envs_menu_present": true,
   "autoclose": false,
   "autocomplete": true,
   "bibliofile": "biblio.bib",
   "cite_by": "apalike",
   "current_citInitial": 1,
   "eqLabelWithNumbers": true,
   "eqNumInitial": 1,
   "hotkeys": {
    "equation": "Ctrl-E",
    "itemize": "Ctrl-I"
   },
   "labels_anchors": false,
   "latex_user_defs": false,
   "report_style_numbering": false,
   "user_envs_cfg": false
  },
  "toc": {
   "base_numbering": 1,
   "nav_menu": {},
   "number_sections": true,
   "sideBar": true,
   "skip_h1_title": false,
   "title_cell": "Table of Contents",
   "title_sidebar": "Contents",
   "toc_cell": false,
   "toc_position": {},
   "toc_section_display": true,
   "toc_window_display": false
  }
 },
 "nbformat": 4,
 "nbformat_minor": 2
}
