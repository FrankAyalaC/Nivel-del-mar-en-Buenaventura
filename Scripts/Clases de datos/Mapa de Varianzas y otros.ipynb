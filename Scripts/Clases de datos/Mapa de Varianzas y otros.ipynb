{
 "cells": [
  {
   "cell_type": "code",
   "execution_count": 1,
   "metadata": {
    "ExecuteTime": {
     "end_time": "2020-03-20T20:31:01.574036Z",
     "start_time": "2020-03-20T20:31:00.246146Z"
    }
   },
   "outputs": [],
   "source": [
    "#Librería de graficación\n",
    "import matplotlib.pyplot as plt\n",
    "import matplotlib as mp\n",
    "import cartopy.crs as ccrs\n",
    "import cartopy\n",
    "import matplotlib.pyplot as plt\n",
    "import cartopy.feature as cfeature\n",
    "import metpy.calc as mpcalc\n",
    "from cartopy.mpl.gridliner import LONGITUDE_FORMATTER, LATITUDE_FORMATTER\n",
    "import matplotlib.gridspec as gsa\n",
    "import matplotlib.ticker as mticker\n",
    "from mpl_toolkits.basemap import Basemap\n",
    "from matplotlib import pyplot, transforms\n",
    "\n",
    "\n",
    "\n",
    "#Librerías de procesamiento matemático y lectura de archivos\n",
    "import numpy as np\n",
    "import netCDF4 as nc\n",
    "import pandas as pd\n",
    "import glob\n",
    "import os\n",
    "from scipy import signal\n",
    "\n",
    "#Librería de estadística\n",
    "import scipy as sp\n",
    "from scipy.stats import pearsonr,spearmanr\n",
    "\n",
    "#librería para manejo de fechas\n",
    "from datetime import datetime,timedelta\n",
    "\n",
    "plt.style.use(\"seaborn\")\n",
    "mp.rcParams['xtick.labelsize']=15\n",
    "mp.rcParams['ytick.labelsize']=15\n",
    "\n",
    "mp.rcParams['axes.labelsize']=17"
   ]
  },
  {
   "cell_type": "code",
   "execution_count": 2,
   "metadata": {
    "ExecuteTime": {
     "end_time": "2020-03-20T20:31:12.737025Z",
     "start_time": "2020-03-20T20:31:12.719173Z"
    }
   },
   "outputs": [],
   "source": [
    "def reading_netcdf(ruta):\n",
    "    data=nc.Dataset(ruta)\n",
    "    for i in data.variables:\n",
    "        try:\n",
    "            print (i,data.variables[i].shape,data.variables[i].units) \n",
    "        except:\n",
    "            print (i,data.variables[i].shape) \n",
    "    print(\"\\n\")\n",
    "    return data"
   ]
  },
  {
   "cell_type": "code",
   "execution_count": 3,
   "metadata": {
    "ExecuteTime": {
     "end_time": "2020-03-20T20:31:21.099611Z",
     "start_time": "2020-03-20T20:31:21.069512Z"
    }
   },
   "outputs": [],
   "source": [
    "def T_fourier(serie):\n",
    "    fourier=np.fft.fft(serie)\n",
    "    freq= np.fft.fftfreq(len(serie)) \n",
    "    pot = np.abs(fourier*1/len(serie))**2\n",
    "    periodos = 1/freq\n",
    "    freq_pos=np.where(freq>=0)[0]\n",
    "    \n",
    "    return fourier,freq_pos,pot,periodos,freq"
   ]
  },
  {
   "cell_type": "code",
   "execution_count": 5,
   "metadata": {
    "ExecuteTime": {
     "end_time": "2020-03-20T20:32:13.140071Z",
     "start_time": "2020-03-20T20:32:13.097649Z"
    }
   },
   "outputs": [
    {
     "name": "stdout",
     "output_type": "stream",
     "text": [
      "adt (366, 45, 185) m\n",
      "time (366,) days since 1950-01-01 00:00:00\n",
      "latitude (45,) degrees_north\n",
      "longitude (185,) degrees_east\n",
      "ugos (366, 45, 185) m/s\n",
      "vgos (366, 45, 185) m/s\n",
      "vgosa (366, 45, 185) m/s\n",
      "sla (366, 45, 185) m\n",
      "ugosa (366, 45, 185) m/s\n",
      "\n",
      "\n"
     ]
    },
    {
     "ename": "TypeError",
     "evalue": "expected str, bytes or os.PathLike object, not int",
     "output_type": "error",
     "traceback": [
      "\u001b[0;31m---------------------------------------------------------------------------\u001b[0m",
      "\u001b[0;31mTypeError\u001b[0m                                 Traceback (most recent call last)",
      "\u001b[0;32m<ipython-input-5-28d41f33b2ef>\u001b[0m in \u001b[0;36m<module>\u001b[0;34m\u001b[0m\n\u001b[1;32m      4\u001b[0m \u001b[0;32mfor\u001b[0m \u001b[0mi\u001b[0m \u001b[0;32min\u001b[0m \u001b[0mrange\u001b[0m\u001b[0;34m(\u001b[0m\u001b[0mlen\u001b[0m\u001b[0;34m(\u001b[0m\u001b[0mrutas\u001b[0m\u001b[0;34m)\u001b[0m\u001b[0;34m)\u001b[0m\u001b[0;34m:\u001b[0m\u001b[0;34m\u001b[0m\u001b[0;34m\u001b[0m\u001b[0m\n\u001b[1;32m      5\u001b[0m     \u001b[0;32mif\u001b[0m \u001b[0mi\u001b[0m\u001b[0;34m==\u001b[0m\u001b[0;36m0\u001b[0m\u001b[0;34m:\u001b[0m\u001b[0;34m\u001b[0m\u001b[0;34m\u001b[0m\u001b[0m\n\u001b[0;32m----> 6\u001b[0;31m         \u001b[0;34m[\u001b[0m\u001b[0madt\u001b[0m\u001b[0;34m,\u001b[0m\u001b[0mtime\u001b[0m\u001b[0;34m,\u001b[0m\u001b[0mlat\u001b[0m\u001b[0;34m,\u001b[0m\u001b[0mlon\u001b[0m\u001b[0;34m,\u001b[0m\u001b[0mugos\u001b[0m\u001b[0;34m,\u001b[0m\u001b[0mvgos\u001b[0m\u001b[0;34m,\u001b[0m\u001b[0mvgosa\u001b[0m\u001b[0;34m,\u001b[0m\u001b[0msla\u001b[0m\u001b[0;34m,\u001b[0m\u001b[0mugosa\u001b[0m\u001b[0;34m]\u001b[0m\u001b[0;34m=\u001b[0m\u001b[0mreading_netcdf\u001b[0m\u001b[0;34m(\u001b[0m\u001b[0mrutas\u001b[0m\u001b[0;34m[\u001b[0m\u001b[0mi\u001b[0m\u001b[0;34m]\u001b[0m\u001b[0;34m)\u001b[0m\u001b[0;34m\u001b[0m\u001b[0;34m\u001b[0m\u001b[0m\n\u001b[0m\u001b[1;32m      7\u001b[0m     \u001b[0;32melse\u001b[0m\u001b[0;34m:\u001b[0m\u001b[0;34m\u001b[0m\u001b[0;34m\u001b[0m\u001b[0m\n\u001b[1;32m      8\u001b[0m         \u001b[0;34m[\u001b[0m\u001b[0madt\u001b[0m\u001b[0;34m,\u001b[0m\u001b[0mtime2\u001b[0m\u001b[0;34m,\u001b[0m\u001b[0mlat\u001b[0m\u001b[0;34m,\u001b[0m\u001b[0mlon\u001b[0m\u001b[0;34m,\u001b[0m\u001b[0mugos\u001b[0m\u001b[0;34m,\u001b[0m\u001b[0mvgos\u001b[0m\u001b[0;34m,\u001b[0m\u001b[0mvgosa\u001b[0m\u001b[0;34m,\u001b[0m\u001b[0msla2\u001b[0m\u001b[0;34m,\u001b[0m\u001b[0mugosa\u001b[0m\u001b[0;34m]\u001b[0m\u001b[0;34m=\u001b[0m\u001b[0mreading_netcdf\u001b[0m\u001b[0;34m(\u001b[0m\u001b[0mrutas\u001b[0m\u001b[0;34m[\u001b[0m\u001b[0mi\u001b[0m\u001b[0;34m]\u001b[0m\u001b[0;34m)\u001b[0m\u001b[0;34m\u001b[0m\u001b[0;34m\u001b[0m\u001b[0m\n",
      "\u001b[0;32mnetCDF4/_netCDF4.pyx\u001b[0m in \u001b[0;36mnetCDF4._netCDF4.Dataset.__getitem__\u001b[0;34m()\u001b[0m\n",
      "\u001b[0;32m~/my_projects_dir/entorno_jup/lib/python3.6/posixpath.py\u001b[0m in \u001b[0;36mnormpath\u001b[0;34m(path)\u001b[0m\n\u001b[1;32m    338\u001b[0m \u001b[0;32mdef\u001b[0m \u001b[0mnormpath\u001b[0m\u001b[0;34m(\u001b[0m\u001b[0mpath\u001b[0m\u001b[0;34m)\u001b[0m\u001b[0;34m:\u001b[0m\u001b[0;34m\u001b[0m\u001b[0;34m\u001b[0m\u001b[0m\n\u001b[1;32m    339\u001b[0m     \u001b[0;34m\"\"\"Normalize path, eliminating double slashes, etc.\"\"\"\u001b[0m\u001b[0;34m\u001b[0m\u001b[0;34m\u001b[0m\u001b[0m\n\u001b[0;32m--> 340\u001b[0;31m     \u001b[0mpath\u001b[0m \u001b[0;34m=\u001b[0m \u001b[0mos\u001b[0m\u001b[0;34m.\u001b[0m\u001b[0mfspath\u001b[0m\u001b[0;34m(\u001b[0m\u001b[0mpath\u001b[0m\u001b[0;34m)\u001b[0m\u001b[0;34m\u001b[0m\u001b[0;34m\u001b[0m\u001b[0m\n\u001b[0m\u001b[1;32m    341\u001b[0m     \u001b[0;32mif\u001b[0m \u001b[0misinstance\u001b[0m\u001b[0;34m(\u001b[0m\u001b[0mpath\u001b[0m\u001b[0;34m,\u001b[0m \u001b[0mbytes\u001b[0m\u001b[0;34m)\u001b[0m\u001b[0;34m:\u001b[0m\u001b[0;34m\u001b[0m\u001b[0;34m\u001b[0m\u001b[0m\n\u001b[1;32m    342\u001b[0m         \u001b[0msep\u001b[0m \u001b[0;34m=\u001b[0m \u001b[0;34mb'/'\u001b[0m\u001b[0;34m\u001b[0m\u001b[0;34m\u001b[0m\u001b[0m\n",
      "\u001b[0;31mTypeError\u001b[0m: expected str, bytes or os.PathLike object, not int"
     ]
    }
   ],
   "source": [
    "rutas = np.sort(glob.glob(\"/home/franklin/Documentos/GitHub/TDG/Dataset/CMEMS_ECMFW/*.nc\"))\n",
    "\n",
    "#Al estar por años se debe concatenar\n",
    "for i in range(len(rutas)):\n",
    "    if i==0:\n",
    "        [adt,time,lat,lon,ugos,vgos,vgosa,sla,ugosa]=reading_netcdf(rutas[i])\n",
    "    else:\n",
    "        [adt,time2,lat,lon,ugos,vgos,vgosa,sla2,ugosa]=reading_netcdf(rutas[i])\n",
    "        sla=np.concatenate((sla,sla2))\n",
    "        time=np.concatenate((time,time2))"
   ]
  },
  {
   "cell_type": "code",
   "execution_count": null,
   "metadata": {},
   "outputs": [],
   "source": []
  }
 ],
 "metadata": {
  "kernelspec": {
   "display_name": "Python 3",
   "language": "python",
   "name": "python3"
  },
  "language_info": {
   "codemirror_mode": {
    "name": "ipython",
    "version": 3
   },
   "file_extension": ".py",
   "mimetype": "text/x-python",
   "name": "python",
   "nbconvert_exporter": "python",
   "pygments_lexer": "ipython3",
   "version": "3.6.8"
  },
  "latex_envs": {
   "LaTeX_envs_menu_present": true,
   "autoclose": false,
   "autocomplete": true,
   "bibliofile": "biblio.bib",
   "cite_by": "apalike",
   "current_citInitial": 1,
   "eqLabelWithNumbers": true,
   "eqNumInitial": 1,
   "hotkeys": {
    "equation": "Ctrl-E",
    "itemize": "Ctrl-I"
   },
   "labels_anchors": false,
   "latex_user_defs": false,
   "report_style_numbering": false,
   "user_envs_cfg": false
  },
  "toc": {
   "base_numbering": 1,
   "nav_menu": {},
   "number_sections": true,
   "sideBar": true,
   "skip_h1_title": false,
   "title_cell": "Table of Contents",
   "title_sidebar": "Contents",
   "toc_cell": false,
   "toc_position": {},
   "toc_section_display": true,
   "toc_window_display": false
  }
 },
 "nbformat": 4,
 "nbformat_minor": 2
}
