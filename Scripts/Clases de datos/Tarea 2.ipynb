{
 "cells": [
  {
   "cell_type": "code",
   "execution_count": 3,
   "metadata": {
    "ExecuteTime": {
     "end_time": "2020-03-17T21:29:26.017943Z",
     "start_time": "2020-03-17T21:29:26.002718Z"
    }
   },
   "outputs": [],
   "source": [
    "#Librería de graficación\n",
    "import matplotlib.pyplot as plt\n",
    "import matplotlib as mp\n",
    "import cartopy.crs as ccrs\n",
    "import cartopy\n",
    "import matplotlib.pyplot as plt\n",
    "import cartopy.feature as cfeature\n",
    "import metpy.calc as mpcalc\n",
    "from cartopy.mpl.gridliner import LONGITUDE_FORMATTER, LATITUDE_FORMATTER\n",
    "import matplotlib.gridspec as gsa\n",
    "import matplotlib.ticker as mticker\n",
    "from mpl_toolkits.basemap import Basemap\n",
    "from matplotlib import pyplot, transforms\n",
    "\n",
    "\n",
    "\n",
    "#Librerías de procesamiento matemático y lectura de archivos\n",
    "import numpy as np\n",
    "import netCDF4 as nc\n",
    "import pandas as pd\n",
    "import glob\n",
    "import os\n",
    "from scipy import signal\n",
    "\n",
    "#Librería de estadística\n",
    "import scipy as sp\n",
    "from scipy.stats import pearsonr,spearmanr\n",
    "\n",
    "#librería para manejo de fechas\n",
    "from datetime import datetime,timedelta\n",
    "\n",
    "plt.style.use(\"seaborn\")\n",
    "mp.rcParams['xtick.labelsize']=15\n",
    "mp.rcParams['ytick.labelsize']=15\n",
    "\n",
    "mp.rcParams['axes.labelsize']=17"
   ]
  },
  {
   "cell_type": "markdown",
   "metadata": {},
   "source": [
    "# Primera parte"
   ]
  },
  {
   "cell_type": "code",
   "execution_count": null,
   "metadata": {},
   "outputs": [],
   "source": []
  },
  {
   "cell_type": "markdown",
   "metadata": {},
   "source": [
    "# Segunda Parte"
   ]
  },
  {
   "cell_type": "code",
   "execution_count": 4,
   "metadata": {
    "ExecuteTime": {
     "end_time": "2020-03-17T21:29:28.003841Z",
     "start_time": "2020-03-17T21:29:27.992922Z"
    }
   },
   "outputs": [],
   "source": [
    "def reading_netcdf(ruta):\n",
    "    data=nc.Dataset(ruta)\n",
    "    for i in data.variables:\n",
    "        try:\n",
    "            print (i,data.variables[i].shape,data.variables[i].units) \n",
    "        except:\n",
    "            print (i,data.variables[i].shape) \n",
    "    print(\"\\n\")\n",
    "    data_variables=[np.array(data[i][:]) for i in list(data.variables.keys())]\n",
    "    return data_variables"
   ]
  },
  {
   "cell_type": "code",
   "execution_count": 5,
   "metadata": {
    "ExecuteTime": {
     "end_time": "2020-03-17T21:29:38.161244Z",
     "start_time": "2020-03-17T21:29:28.768905Z"
    }
   },
   "outputs": [
    {
     "name": "stdout",
     "output_type": "stream",
     "text": [
      "adt (366, 45, 185) m\n",
      "time (366,) days since 1950-01-01 00:00:00\n",
      "latitude (45,) degrees_north\n",
      "longitude (185,) degrees_east\n",
      "ugos (366, 45, 185) m/s\n",
      "vgos (366, 45, 185) m/s\n",
      "vgosa (366, 45, 185) m/s\n",
      "sla (366, 45, 185) m\n",
      "ugosa (366, 45, 185) m/s\n",
      "\n",
      "\n",
      "adt (366, 45, 185) m\n",
      "time (366,) days since 1950-01-01 00:00:00\n",
      "latitude (45,) degrees_north\n",
      "longitude (185,) degrees_east\n",
      "ugos (366, 45, 185) m/s\n",
      "vgos (366, 45, 185) m/s\n",
      "vgosa (366, 45, 185) m/s\n",
      "sla (366, 45, 185) m\n",
      "ugosa (366, 45, 185) m/s\n",
      "\n",
      "\n",
      "adt (366, 45, 185) m\n",
      "time (366,) days since 1950-01-01 00:00:00\n",
      "latitude (45,) degrees_north\n",
      "longitude (185,) degrees_east\n",
      "ugos (366, 45, 185) m/s\n",
      "vgos (366, 45, 185) m/s\n",
      "vgosa (366, 45, 185) m/s\n",
      "sla (366, 45, 185) m\n",
      "ugosa (366, 45, 185) m/s\n",
      "\n",
      "\n",
      "adt (367, 45, 185) m\n",
      "time (367,) days since 1950-01-01 00:00:00\n",
      "latitude (45,) degrees_north\n",
      "longitude (185,) degrees_east\n",
      "ugos (367, 45, 185) m/s\n",
      "vgos (367, 45, 185) m/s\n",
      "vgosa (367, 45, 185) m/s\n",
      "sla (367, 45, 185) m\n",
      "ugosa (367, 45, 185) m/s\n",
      "\n",
      "\n",
      "adt (366, 45, 185) m\n",
      "time (366,) days since 1950-01-01 00:00:00\n",
      "latitude (45,) degrees_north\n",
      "longitude (185,) degrees_east\n",
      "ugos (366, 45, 185) m/s\n",
      "vgos (366, 45, 185) m/s\n",
      "vgosa (366, 45, 185) m/s\n",
      "sla (366, 45, 185) m\n",
      "ugosa (366, 45, 185) m/s\n",
      "\n",
      "\n",
      "adt (366, 45, 185) m\n",
      "time (366,) days since 1950-01-01 00:00:00\n",
      "latitude (45,) degrees_north\n",
      "longitude (185,) degrees_east\n",
      "ugos (366, 45, 185) m/s\n",
      "vgos (366, 45, 185) m/s\n",
      "vgosa (366, 45, 185) m/s\n",
      "sla (366, 45, 185) m\n",
      "ugosa (366, 45, 185) m/s\n",
      "\n",
      "\n",
      "adt (366, 45, 185) m\n",
      "time (366,) days since 1950-01-01 00:00:00\n",
      "latitude (45,) degrees_north\n",
      "longitude (185,) degrees_east\n",
      "ugos (366, 45, 185) m/s\n",
      "vgos (366, 45, 185) m/s\n",
      "vgosa (366, 45, 185) m/s\n",
      "sla (366, 45, 185) m\n",
      "ugosa (366, 45, 185) m/s\n",
      "\n",
      "\n",
      "adt (367, 45, 185) m\n",
      "time (367,) days since 1950-01-01 00:00:00\n",
      "latitude (45,) degrees_north\n",
      "longitude (185,) degrees_east\n",
      "ugos (367, 45, 185) m/s\n",
      "vgos (367, 45, 185) m/s\n",
      "vgosa (367, 45, 185) m/s\n",
      "sla (367, 45, 185) m\n",
      "ugosa (367, 45, 185) m/s\n",
      "\n",
      "\n",
      "adt (366, 45, 185) m\n",
      "time (366,) days since 1950-01-01 00:00:00\n",
      "latitude (45,) degrees_north\n",
      "longitude (185,) degrees_east\n",
      "ugos (366, 45, 185) m/s\n",
      "vgos (366, 45, 185) m/s\n",
      "vgosa (366, 45, 185) m/s\n",
      "sla (366, 45, 185) m\n",
      "ugosa (366, 45, 185) m/s\n",
      "\n",
      "\n",
      "adt (366, 45, 185) m\n",
      "time (366,) days since 1950-01-01 00:00:00\n",
      "latitude (45,) degrees_north\n",
      "longitude (185,) degrees_east\n",
      "ugos (366, 45, 185) m/s\n",
      "vgos (366, 45, 185) m/s\n",
      "vgosa (366, 45, 185) m/s\n",
      "sla (366, 45, 185) m\n",
      "ugosa (366, 45, 185) m/s\n",
      "\n",
      "\n",
      "adt (366, 45, 185) m\n",
      "time (366,) days since 1950-01-01 00:00:00\n",
      "latitude (45,) degrees_north\n",
      "longitude (185,) degrees_east\n",
      "ugos (366, 45, 185) m/s\n",
      "vgos (366, 45, 185) m/s\n",
      "vgosa (366, 45, 185) m/s\n",
      "sla (366, 45, 185) m\n",
      "ugosa (366, 45, 185) m/s\n",
      "\n",
      "\n",
      "adt (367, 45, 185) m\n",
      "time (367,) days since 1950-01-01 00:00:00\n",
      "latitude (45,) degrees_north\n",
      "longitude (185,) degrees_east\n",
      "ugos (367, 45, 185) m/s\n",
      "vgos (367, 45, 185) m/s\n",
      "vgosa (367, 45, 185) m/s\n",
      "sla (367, 45, 185) m\n",
      "ugosa (367, 45, 185) m/s\n",
      "\n",
      "\n",
      "adt (366, 45, 185) m\n",
      "time (366,) days since 1950-01-01 00:00:00\n",
      "latitude (45,) degrees_north\n",
      "longitude (185,) degrees_east\n",
      "ugos (366, 45, 185) m/s\n",
      "vgos (366, 45, 185) m/s\n",
      "vgosa (366, 45, 185) m/s\n",
      "sla (366, 45, 185) m\n",
      "ugosa (366, 45, 185) m/s\n",
      "\n",
      "\n",
      "adt (366, 45, 185) m\n",
      "time (366,) days since 1950-01-01 00:00:00\n",
      "latitude (45,) degrees_north\n",
      "longitude (185,) degrees_east\n",
      "ugos (366, 45, 185) m/s\n",
      "vgos (366, 45, 185) m/s\n",
      "vgosa (366, 45, 185) m/s\n",
      "sla (366, 45, 185) m\n",
      "ugosa (366, 45, 185) m/s\n",
      "\n",
      "\n",
      "adt (366, 45, 185) m\n",
      "time (366,) days since 1950-01-01 00:00:00\n",
      "latitude (45,) degrees_north\n",
      "longitude (185,) degrees_east\n",
      "ugos (366, 45, 185) m/s\n",
      "vgos (366, 45, 185) m/s\n",
      "vgosa (366, 45, 185) m/s\n",
      "sla (366, 45, 185) m\n",
      "ugosa (366, 45, 185) m/s\n",
      "\n",
      "\n",
      "adt (367, 45, 185) m\n",
      "time (367,) days since 1950-01-01 00:00:00\n",
      "latitude (45,) degrees_north\n",
      "longitude (185,) degrees_east\n",
      "ugos (367, 45, 185) m/s\n",
      "vgos (367, 45, 185) m/s\n",
      "vgosa (367, 45, 185) m/s\n",
      "sla (367, 45, 185) m\n",
      "ugosa (367, 45, 185) m/s\n",
      "\n",
      "\n",
      "adt (366, 45, 185) m\n",
      "time (366,) days since 1950-01-01 00:00:00\n",
      "latitude (45,) degrees_north\n",
      "longitude (185,) degrees_east\n",
      "ugos (366, 45, 185) m/s\n",
      "vgos (366, 45, 185) m/s\n",
      "vgosa (366, 45, 185) m/s\n",
      "sla (366, 45, 185) m\n",
      "ugosa (366, 45, 185) m/s\n",
      "\n",
      "\n",
      "adt (366, 45, 185) m\n",
      "time (366,) days since 1950-01-01 00:00:00\n",
      "latitude (45,) degrees_north\n",
      "longitude (185,) degrees_east\n",
      "ugos (366, 45, 185) m/s\n",
      "vgos (366, 45, 185) m/s\n",
      "vgosa (366, 45, 185) m/s\n",
      "sla (366, 45, 185) m\n",
      "ugosa (366, 45, 185) m/s\n",
      "\n",
      "\n",
      "adt (366, 45, 185) m\n",
      "time (366,) days since 1950-01-01 00:00:00\n",
      "latitude (45,) degrees_north\n",
      "longitude (185,) degrees_east\n",
      "ugos (366, 45, 185) m/s\n",
      "vgos (366, 45, 185) m/s\n",
      "vgosa (366, 45, 185) m/s\n",
      "sla (366, 45, 185) m\n",
      "ugosa (366, 45, 185) m/s\n",
      "\n",
      "\n",
      "adt (367, 45, 185) m\n",
      "time (367,) days since 1950-01-01 00:00:00\n",
      "latitude (45,) degrees_north\n",
      "longitude (185,) degrees_east\n",
      "ugos (367, 45, 185) m/s\n",
      "vgos (367, 45, 185) m/s\n",
      "vgosa (367, 45, 185) m/s\n",
      "sla (367, 45, 185) m\n",
      "ugosa (367, 45, 185) m/s\n",
      "\n",
      "\n",
      "adt (366, 45, 185) m\n",
      "time (366,) days since 1950-01-01 00:00:00\n",
      "latitude (45,) degrees_north\n",
      "longitude (185,) degrees_east\n",
      "ugos (366, 45, 185) m/s\n",
      "vgos (366, 45, 185) m/s\n",
      "vgosa (366, 45, 185) m/s\n",
      "sla (366, 45, 185) m\n",
      "ugosa (366, 45, 185) m/s\n",
      "\n",
      "\n",
      "adt (366, 45, 185) m\n",
      "time (366,) days since 1950-01-01 00:00:00\n",
      "latitude (45,) degrees_north\n",
      "longitude (185,) degrees_east\n",
      "ugos (366, 45, 185) m/s\n",
      "vgos (366, 45, 185) m/s\n",
      "vgosa (366, 45, 185) m/s\n",
      "sla (366, 45, 185) m\n",
      "ugosa (366, 45, 185) m/s\n",
      "\n",
      "\n",
      "adt (366, 45, 185) m\n",
      "time (366,) days since 1950-01-01 00:00:00\n",
      "latitude (45,) degrees_north\n",
      "longitude (185,) degrees_east\n",
      "ugos (366, 45, 185) m/s\n",
      "vgos (366, 45, 185) m/s\n",
      "vgosa (366, 45, 185) m/s\n",
      "sla (366, 45, 185) m\n",
      "ugosa (366, 45, 185) m/s\n",
      "\n",
      "\n",
      "adt (367, 45, 185) m\n",
      "time (367,) days since 1950-01-01 00:00:00\n",
      "latitude (45,) degrees_north\n",
      "longitude (185,) degrees_east\n",
      "ugos (367, 45, 185) m/s\n",
      "vgos (367, 45, 185) m/s\n",
      "vgosa (367, 45, 185) m/s\n",
      "sla (367, 45, 185) m\n",
      "ugosa (367, 45, 185) m/s\n",
      "\n",
      "\n",
      "adt (366, 45, 185) m\n",
      "time (366,) days since 1950-01-01 00:00:00\n",
      "latitude (45,) degrees_north\n",
      "longitude (185,) degrees_east\n",
      "ugos (366, 45, 185) m/s\n",
      "vgos (366, 45, 185) m/s\n",
      "vgosa (366, 45, 185) m/s\n",
      "sla (366, 45, 185) m\n",
      "ugosa (366, 45, 185) m/s\n",
      "\n",
      "\n",
      "adt (133, 45, 185) m\n",
      "time (133,) days since 1950-01-01 00:00:00\n",
      "latitude (45,) degrees_north\n",
      "longitude (185,) degrees_east\n",
      "ugos (133, 45, 185) m/s\n",
      "vgos (133, 45, 185) m/s\n",
      "vgosa (133, 45, 185) m/s\n",
      "sla (133, 45, 185) m\n",
      "ugosa (133, 45, 185) m/s\n",
      "\n",
      "\n"
     ]
    }
   ],
   "source": [
    "rutas = np.sort(glob.glob(\"/home/franklin/Documentos/GitHub/TDG/Dataset/CMEMS_ECMFW/*.nc\"))\n",
    "\n",
    "#Al estar por años se debe concatenar\n",
    "for i in range(0,len(rutas)):\n",
    "    if i==0:\n",
    "        [adt,time,lat,lon,ugos,vgos,vgosa,sla,ugosa]=reading_netcdf(rutas[i])\n",
    "    else:\n",
    "        [adt,time2,lat,lon,ugos,vgos,vgosa,sla2,ugosa]=reading_netcdf(rutas[i])\n",
    "        sla=np.concatenate((sla,sla2))\n",
    "        time=np.concatenate((time,time2))"
   ]
  },
  {
   "cell_type": "markdown",
   "metadata": {},
   "source": [
    "Resolución diaria"
   ]
  },
  {
   "cell_type": "code",
   "execution_count": 6,
   "metadata": {
    "ExecuteTime": {
     "end_time": "2020-03-17T21:31:49.261339Z",
     "start_time": "2020-03-17T21:31:49.107008Z"
    }
   },
   "outputs": [],
   "source": [
    "sla[sla<=-1000]=np.nan\n",
    "da=[datetime(1950,1,1,0,0,0)+timedelta(days=int(time[w])) for w in range (0,len(time))]\n",
    "date=pd.DatetimeIndex(da)\n",
    "new_array = np.array(date.to_pydatetime(), dtype=object)\n",
    "sla_copy=sla"
   ]
  },
  {
   "cell_type": "code",
   "execution_count": 7,
   "metadata": {
    "ExecuteTime": {
     "end_time": "2020-03-17T21:31:50.321153Z",
     "start_time": "2020-03-17T21:31:50.310390Z"
    }
   },
   "outputs": [],
   "source": [
    "# for la in range (sla_copy.shape[1]):\n",
    "#     for lo in range(sla_copy.shape[2]):\n",
    "#         a=sla_copy[:,la,lo]\n",
    "#         serie_test=pd.Series(a,index=date)\n",
    "#         serie_rolling=serie_test.rolling(30).mean()\n",
    "#         sla_copy[:,la,lo]=serie_rolling.values"
   ]
  },
  {
   "cell_type": "code",
   "execution_count": 8,
   "metadata": {
    "ExecuteTime": {
     "end_time": "2020-03-17T21:31:52.276757Z",
     "start_time": "2020-03-17T21:31:51.130115Z"
    }
   },
   "outputs": [
    {
     "data": {
      "image/png": "[encoded data removed]",
      "text/plain": [
       "<Figure size 1440x1440 with 2 Axes>"
      ]
     },
     "metadata": {},
     "output_type": "display_data"
    }
   ],
   "source": [
    "fig=plt.figure(figsize=(20,20))\n",
    "ax=fig.add_subplot(projection=ccrs.PlateCarree())\n",
    "x,y=np.meshgrid(lon,lat)\n",
    "cf=ax.contourf(x,y,sla_copy[2000,:,:],20,transform=ccrs.PlateCarree(),cmap=\"jet\")\n",
    "gl = ax.gridlines(crs=ccrs.PlateCarree(), draw_labels=True,\n",
    "                  linewidth=1, color='gray', alpha=0.6, linestyle='--')\n",
    "gl.xlabel_style = {'size': 18, 'color': 'black'}\n",
    "gl.ylabel_style = {'size': 18, 'color': 'black'}\n",
    "ax.coastlines()\n",
    "cbar=plt.colorbar(cf,orientation=\"horizontal\",fraction=0.1, pad=0.06,aspect=40)\n",
    "cbar.ax.tick_params(labelsize=15) \n",
    "\n",
    "plt.show()"
   ]
  },
  {
   "cell_type": "code",
   "execution_count": 9,
   "metadata": {
    "ExecuteTime": {
     "end_time": "2020-03-17T21:31:55.340769Z",
     "start_time": "2020-03-17T21:31:55.337028Z"
    }
   },
   "outputs": [
    {
     "data": {
      "text/plain": [
       "(9289, 45, 185)"
      ]
     },
     "execution_count": 9,
     "metadata": {},
     "output_type": "execute_result"
    }
   ],
   "source": [
    "sla_copy.shape"
   ]
  },
  {
   "cell_type": "code",
   "execution_count": 10,
   "metadata": {
    "ExecuteTime": {
     "end_time": "2020-03-17T21:32:02.927159Z",
     "start_time": "2020-03-17T21:32:02.924000Z"
    }
   },
   "outputs": [],
   "source": [
    "A=np.reshape(sla_copy,(len(time),len(lon)*len(lat)))"
   ]
  },
  {
   "cell_type": "code",
   "execution_count": 11,
   "metadata": {
    "ExecuteTime": {
     "end_time": "2020-03-17T21:32:03.900433Z",
     "start_time": "2020-03-17T21:32:03.712975Z"
    }
   },
   "outputs": [],
   "source": [
    "A_copy=np.copy(A)"
   ]
  },
  {
   "cell_type": "code",
   "execution_count": 12,
   "metadata": {
    "ExecuteTime": {
     "end_time": "2020-03-17T21:32:06.064159Z",
     "start_time": "2020-03-17T21:32:05.664381Z"
    }
   },
   "outputs": [],
   "source": [
    "idx=[]\n",
    "for i in range(A_copy.shape[1]):\n",
    "    if np.isnan(A_copy[:,i]).any()==True:\n",
    "            idx.append(i)"
   ]
  },
  {
   "cell_type": "code",
   "execution_count": 13,
   "metadata": {
    "ExecuteTime": {
     "end_time": "2020-03-17T21:32:10.552228Z",
     "start_time": "2020-03-17T21:32:06.931921Z"
    }
   },
   "outputs": [],
   "source": [
    "mat=np.ones((len(time),(len(lon)*len(lat))))*np.nan"
   ]
  },
  {
   "cell_type": "code",
   "execution_count": 14,
   "metadata": {
    "ExecuteTime": {
     "end_time": "2020-03-17T21:32:11.608149Z",
     "start_time": "2020-03-17T21:32:11.595952Z"
    }
   },
   "outputs": [],
   "source": [
    "verify=np.copy((A_copy[0]))"
   ]
  },
  {
   "cell_type": "code",
   "execution_count": 15,
   "metadata": {
    "ExecuteTime": {
     "end_time": "2020-03-06T20:10:50.939556Z",
     "start_time": "2020-03-06T20:06:14.268850Z"
    }
   },
   "outputs": [],
   "source": [
    "U,S,Vh=np.linalg.svd(A_fill)"
   ]
  },
  {
   "cell_type": "code",
   "execution_count": 15,
   "metadata": {
    "ExecuteTime": {
     "end_time": "2020-03-17T21:32:12.527988Z",
     "start_time": "2020-03-17T21:32:12.521451Z"
    }
   },
   "outputs": [
    {
     "data": {
      "text/plain": [
       "array([0.1207, 0.125 , 0.1291, ...,    nan,    nan,    nan])"
      ]
     },
     "execution_count": 15,
     "metadata": {},
     "output_type": "execute_result"
    }
   ],
   "source": [
    "verify"
   ]
  },
  {
   "cell_type": "code",
   "execution_count": 16,
   "metadata": {
    "ExecuteTime": {
     "end_time": "2020-03-17T21:32:16.695315Z",
     "start_time": "2020-03-17T21:32:16.675388Z"
    }
   },
   "outputs": [
    {
     "ename": "NameError",
     "evalue": "name 'Vh' is not defined",
     "output_type": "error",
     "traceback": [
      "\u001b[0;31m---------------------------------------------------------------------------\u001b[0m",
      "\u001b[0;31mNameError\u001b[0m                                 Traceback (most recent call last)",
      "\u001b[0;32m<ipython-input-16-b443851a80f3>\u001b[0m in \u001b[0;36m<module>\u001b[0;34m\u001b[0m\n\u001b[1;32m      4\u001b[0m         \u001b[0miters\u001b[0m\u001b[0;34m=\u001b[0m\u001b[0miters\u001b[0m\u001b[0;34m\u001b[0m\u001b[0;34m\u001b[0m\u001b[0m\n\u001b[1;32m      5\u001b[0m     \u001b[0;32mif\u001b[0m \u001b[0mnp\u001b[0m\u001b[0;34m.\u001b[0m\u001b[0misnan\u001b[0m\u001b[0;34m(\u001b[0m\u001b[0mverify\u001b[0m\u001b[0;34m[\u001b[0m\u001b[0mi\u001b[0m\u001b[0;34m]\u001b[0m\u001b[0;34m)\u001b[0m\u001b[0;34m==\u001b[0m\u001b[0;32mFalse\u001b[0m\u001b[0;34m:\u001b[0m\u001b[0;34m\u001b[0m\u001b[0;34m\u001b[0m\u001b[0m\n\u001b[0;32m----> 6\u001b[0;31m         \u001b[0mverify\u001b[0m\u001b[0;34m[\u001b[0m\u001b[0mi\u001b[0m\u001b[0;34m]\u001b[0m\u001b[0;34m==\u001b[0m\u001b[0mVh\u001b[0m\u001b[0;34m[\u001b[0m\u001b[0;36m0\u001b[0m\u001b[0;34m,\u001b[0m\u001b[0miters\u001b[0m\u001b[0;34m]\u001b[0m\u001b[0;34m\u001b[0m\u001b[0;34m\u001b[0m\u001b[0m\n\u001b[0m\u001b[1;32m      7\u001b[0m         \u001b[0miters\u001b[0m\u001b[0;34m=\u001b[0m\u001b[0miters\u001b[0m\u001b[0;34m+\u001b[0m\u001b[0;36m1\u001b[0m\u001b[0;34m\u001b[0m\u001b[0;34m\u001b[0m\u001b[0m\n",
      "\u001b[0;31mNameError\u001b[0m: name 'Vh' is not defined"
     ]
    }
   ],
   "source": [
    "iters=0\n",
    "for i in range(len(verify)):\n",
    "    if np.isnan(verify[i])==True:\n",
    "        iters=iters\n",
    "    if np.isnan(verify[i])==False:\n",
    "        verify[i]==Vh[0,iters]\n",
    "        iters=iters+1"
   ]
  },
  {
   "cell_type": "code",
   "execution_count": null,
   "metadata": {},
   "outputs": [],
   "source": []
  },
  {
   "cell_type": "code",
   "execution_count": null,
   "metadata": {},
   "outputs": [],
   "source": []
  },
  {
   "cell_type": "code",
   "execution_count": null,
   "metadata": {},
   "outputs": [],
   "source": []
  },
  {
   "cell_type": "code",
   "execution_count": null,
   "metadata": {},
   "outputs": [],
   "source": []
  },
  {
   "cell_type": "code",
   "execution_count": null,
   "metadata": {},
   "outputs": [],
   "source": []
  },
  {
   "cell_type": "code",
   "execution_count": null,
   "metadata": {},
   "outputs": [],
   "source": []
  },
  {
   "cell_type": "code",
   "execution_count": 68,
   "metadata": {
    "ExecuteTime": {
     "end_time": "2020-03-06T20:48:51.979373Z",
     "start_time": "2020-03-06T20:48:51.710945Z"
    }
   },
   "outputs": [
    {
     "data": {
      "text/plain": [
       "(array([], dtype=int64), array([], dtype=int64))"
      ]
     },
     "execution_count": 68,
     "metadata": {},
     "output_type": "execute_result"
    }
   ],
   "source": [
    "for i in range(A_copy.shape[1]):\n",
    "    if np.isnan(A_copy[:,i]).any()==False:\n",
    "        A_copy[:,i]=Vh[0,i]\n"
   ]
  },
  {
   "cell_type": "code",
   "execution_count": null,
   "metadata": {},
   "outputs": [],
   "source": []
  },
  {
   "cell_type": "code",
   "execution_count": null,
   "metadata": {},
   "outputs": [],
   "source": []
  },
  {
   "cell_type": "code",
   "execution_count": null,
   "metadata": {},
   "outputs": [],
   "source": []
  },
  {
   "cell_type": "code",
   "execution_count": null,
   "metadata": {},
   "outputs": [],
   "source": []
  },
  {
   "cell_type": "code",
   "execution_count": null,
   "metadata": {},
   "outputs": [],
   "source": []
  },
  {
   "cell_type": "code",
   "execution_count": null,
   "metadata": {},
   "outputs": [],
   "source": []
  },
  {
   "cell_type": "code",
   "execution_count": 14,
   "metadata": {
    "ExecuteTime": {
     "end_time": "2020-03-06T20:06:14.266596Z",
     "start_time": "2020-03-06T20:06:13.692069Z"
    }
   },
   "outputs": [],
   "source": [
    "A_fill=np.delete(A,idx,1)"
   ]
  },
  {
   "cell_type": "code",
   "execution_count": null,
   "metadata": {},
   "outputs": [],
   "source": []
  },
  {
   "cell_type": "code",
   "execution_count": null,
   "metadata": {},
   "outputs": [],
   "source": []
  },
  {
   "cell_type": "code",
   "execution_count": null,
   "metadata": {},
   "outputs": [],
   "source": []
  },
  {
   "cell_type": "code",
   "execution_count": 24,
   "metadata": {
    "ExecuteTime": {
     "end_time": "2020-03-06T20:14:33.203811Z",
     "start_time": "2020-03-06T20:14:32.995875Z"
    }
   },
   "outputs": [
    {
     "data": {
      "text/plain": [
       "Text(0, 0.5, 'Porcentaje de varianza')"
      ]
     },
     "execution_count": 24,
     "metadata": {},
     "output_type": "execute_result"
    },
    {
     "data": {
      "image/png": "[encoded data removed]",
      "text/plain": [
       "<Figure size 432x288 with 1 Axes>"
      ]
     },
     "metadata": {
      "needs_background": "light"
     },
     "output_type": "display_data"
    }
   ],
   "source": [
    "plt.figure()\n",
    "plt.plot((S/np.sum(S))*100)\n",
    "plt.xlim(0,10)\n",
    "plt.title(\"Modos de oscilación\")\n",
    "plt.ylabel(\"Porcentaje de varianza\")"
   ]
  },
  {
   "cell_type": "code",
   "execution_count": 22,
   "metadata": {
    "ExecuteTime": {
     "end_time": "2020-03-06T20:12:55.490742Z",
     "start_time": "2020-03-06T20:12:55.473646Z"
    }
   },
   "outputs": [
    {
     "data": {
      "text/plain": [
       "58.35802705235679"
      ]
     },
     "execution_count": 22,
     "metadata": {},
     "output_type": "execute_result"
    }
   ],
   "source": [
    "np.sum(S[:50])*100/(np.sum(S))"
   ]
  },
  {
   "cell_type": "code",
   "execution_count": 27,
   "metadata": {
    "ExecuteTime": {
     "end_time": "2020-03-06T20:16:33.392940Z",
     "start_time": "2020-03-06T20:16:33.377110Z"
    }
   },
   "outputs": [
    {
     "data": {
      "text/plain": [
       "(7444, 7444)"
      ]
     },
     "execution_count": 27,
     "metadata": {},
     "output_type": "execute_result"
    }
   ],
   "source": [
    "Vh.shape"
   ]
  },
  {
   "cell_type": "code",
   "execution_count": 28,
   "metadata": {
    "ExecuteTime": {
     "end_time": "2020-03-06T20:20:59.718039Z",
     "start_time": "2020-03-06T20:20:59.705177Z"
    }
   },
   "outputs": [
    {
     "ename": "ValueError",
     "evalue": "cannot reshape array of size 7444 into shape (185,45)",
     "output_type": "error",
     "traceback": [
      "\u001b[0;31m---------------------------------------------------------------------------\u001b[0m",
      "\u001b[0;31mValueError\u001b[0m                                Traceback (most recent call last)",
      "\u001b[0;32m<ipython-input-28-7156ba101e07>\u001b[0m in \u001b[0;36m<module>\u001b[0;34m\u001b[0m\n\u001b[0;32m----> 1\u001b[0;31m \u001b[0mEOF\u001b[0m\u001b[0;34m=\u001b[0m\u001b[0mVh\u001b[0m\u001b[0;34m[\u001b[0m\u001b[0;36m0\u001b[0m\u001b[0;34m,\u001b[0m\u001b[0;34m:\u001b[0m\u001b[0;34m]\u001b[0m\u001b[0;34m.\u001b[0m\u001b[0mreshape\u001b[0m\u001b[0;34m(\u001b[0m\u001b[0;34m[\u001b[0m\u001b[0mlen\u001b[0m\u001b[0;34m(\u001b[0m\u001b[0mlon\u001b[0m\u001b[0;34m)\u001b[0m\u001b[0;34m,\u001b[0m\u001b[0mlen\u001b[0m\u001b[0;34m(\u001b[0m\u001b[0mlat\u001b[0m\u001b[0;34m)\u001b[0m\u001b[0;34m]\u001b[0m\u001b[0;34m)\u001b[0m\u001b[0;34m\u001b[0m\u001b[0;34m\u001b[0m\u001b[0m\n\u001b[0m",
      "\u001b[0;31mValueError\u001b[0m: cannot reshape array of size 7444 into shape (185,45)"
     ]
    }
   ],
   "source": [
    "EOF=Vh[0,:].reshape([len(lon),len(lat)])"
   ]
  },
  {
   "cell_type": "code",
   "execution_count": 48,
   "metadata": {
    "ExecuteTime": {
     "end_time": "2020-03-06T20:33:59.146272Z",
     "start_time": "2020-03-06T20:33:59.133087Z"
    }
   },
   "outputs": [
    {
     "data": {
      "text/plain": [
       "2"
      ]
     },
     "execution_count": 48,
     "metadata": {},
     "output_type": "execute_result"
    }
   ],
   "source": [
    "a=[True,True,False]\n",
    "a.count(True)"
   ]
  },
  {
   "cell_type": "code",
   "execution_count": 55,
   "metadata": {
    "ExecuteTime": {
     "end_time": "2020-03-06T20:36:10.412062Z",
     "start_time": "2020-03-06T20:36:10.399462Z"
    }
   },
   "outputs": [
    {
     "data": {
      "text/plain": [
       "185"
      ]
     },
     "execution_count": 55,
     "metadata": {},
     "output_type": "execute_result"
    }
   ],
   "source": [
    "len(lon)"
   ]
  },
  {
   "cell_type": "code",
   "execution_count": 52,
   "metadata": {
    "ExecuteTime": {
     "end_time": "2020-03-06T20:35:35.996583Z",
     "start_time": "2020-03-06T20:35:35.958574Z"
    }
   },
   "outputs": [
    {
     "name": "stdout",
     "output_type": "stream",
     "text": [
      "0\n",
      "0\n",
      "0\n",
      "0\n",
      "0\n",
      "0\n",
      "0\n",
      "0\n",
      "0\n",
      "0\n",
      "0\n",
      "0\n",
      "0\n",
      "0\n",
      "0\n",
      "0\n",
      "0\n",
      "0\n",
      "0\n",
      "0\n",
      "0\n",
      "0\n",
      "0\n",
      "0\n",
      "0\n",
      "0\n",
      "0\n",
      "0\n",
      "0\n",
      "0\n",
      "0\n",
      "0\n",
      "0\n",
      "0\n",
      "0\n",
      "0\n",
      "0\n",
      "0\n",
      "0\n",
      "0\n",
      "0\n",
      "0\n",
      "0\n",
      "0\n",
      "0\n",
      "0\n",
      "0\n",
      "0\n",
      "0\n",
      "0\n",
      "0\n",
      "0\n",
      "0\n",
      "0\n",
      "0\n",
      "0\n",
      "0\n",
      "0\n",
      "0\n",
      "0\n",
      "0\n",
      "0\n",
      "0\n",
      "0\n",
      "0\n",
      "0\n",
      "0\n",
      "0\n",
      "0\n",
      "0\n",
      "0\n",
      "0\n",
      "0\n",
      "0\n",
      "0\n",
      "0\n",
      "0\n",
      "0\n",
      "0\n",
      "0\n",
      "0\n",
      "0\n",
      "0\n",
      "0\n",
      "0\n",
      "0\n",
      "0\n",
      "0\n",
      "0\n",
      "0\n",
      "0\n",
      "0\n",
      "0\n",
      "0\n",
      "0\n",
      "0\n",
      "0\n",
      "0\n",
      "0\n",
      "0\n",
      "0\n",
      "0\n",
      "0\n",
      "0\n",
      "0\n",
      "0\n",
      "0\n",
      "0\n",
      "0\n",
      "0\n",
      "0\n",
      "0\n",
      "0\n",
      "0\n",
      "1\n",
      "1\n",
      "0\n",
      "0\n",
      "1\n",
      "0\n",
      "0\n",
      "0\n",
      "0\n",
      "0\n",
      "0\n",
      "0\n",
      "0\n",
      "0\n",
      "0\n",
      "0\n",
      "0\n",
      "0\n",
      "0\n",
      "0\n",
      "0\n",
      "0\n",
      "0\n",
      "0\n",
      "0\n",
      "0\n",
      "0\n",
      "0\n",
      "0\n",
      "0\n",
      "0\n",
      "0\n",
      "0\n",
      "0\n",
      "0\n",
      "0\n",
      "0\n",
      "0\n",
      "0\n",
      "0\n",
      "2\n",
      "1\n",
      "3\n",
      "9\n",
      "8\n",
      "8\n",
      "11\n",
      "15\n",
      "16\n",
      "16\n",
      "16\n",
      "19\n",
      "21\n",
      "24\n",
      "26\n",
      "28\n",
      "30\n",
      "42\n",
      "43\n",
      "45\n",
      "45\n",
      "45\n",
      "45\n",
      "45\n",
      "45\n",
      "45\n",
      "45\n",
      "45\n",
      "45\n",
      "45\n",
      "45\n"
     ]
    }
   ],
   "source": [
    "for i in range(sla.shape[2]):\n",
    "    print(np.isnan(sla[0,:,i]).tolist().count(True))"
   ]
  },
  {
   "cell_type": "code",
   "execution_count": 51,
   "metadata": {
    "ExecuteTime": {
     "end_time": "2020-03-06T20:34:28.785068Z",
     "start_time": "2020-03-06T20:34:28.772121Z"
    }
   },
   "outputs": [
    {
     "data": {
      "text/plain": [
       "30.379310344827587"
      ]
     },
     "execution_count": 51,
     "metadata": {},
     "output_type": "execute_result"
    }
   ],
   "source": [
    "881/29"
   ]
  },
  {
   "cell_type": "code",
   "execution_count": 53,
   "metadata": {
    "ExecuteTime": {
     "end_time": "2020-03-06T20:35:46.452486Z",
     "start_time": "2020-03-06T20:35:46.433620Z"
    }
   },
   "outputs": [
    {
     "data": {
      "text/plain": [
       "1305"
      ]
     },
     "execution_count": 53,
     "metadata": {},
     "output_type": "execute_result"
    }
   ],
   "source": [
    "45*29"
   ]
  },
  {
   "cell_type": "code",
   "execution_count": null,
   "metadata": {},
   "outputs": [],
   "source": []
  }
 ],
 "metadata": {
  "kernelspec": {
   "display_name": "Python 3",
   "language": "python",
   "name": "python3"
  },
  "language_info": {
   "codemirror_mode": {
    "name": "ipython",
    "version": 3
   },
   "file_extension": ".py",
   "mimetype": "text/x-python",
   "name": "python",
   "nbconvert_exporter": "python",
   "pygments_lexer": "ipython3",
   "version": "3.6.8"
  },
  "latex_envs": {
   "LaTeX_envs_menu_present": true,
   "autoclose": false,
   "autocomplete": true,
   "bibliofile": "biblio.bib",
   "cite_by": "apalike",
   "current_citInitial": 1,
   "eqLabelWithNumbers": true,
   "eqNumInitial": 1,
   "hotkeys": {
    "equation": "Ctrl-E",
    "itemize": "Ctrl-I"
   },
   "labels_anchors": false,
   "latex_user_defs": false,
   "report_style_numbering": false,
   "user_envs_cfg": false
  },
  "toc": {
   "base_numbering": 1,
   "nav_menu": {},
   "number_sections": true,
   "sideBar": true,
   "skip_h1_title": false,
   "title_cell": "Table of Contents",
   "title_sidebar": "Contents",
   "toc_cell": false,
   "toc_position": {},
   "toc_section_display": true,
   "toc_window_display": true
  }
 },
 "nbformat": 4,
 "nbformat_minor": 2
}
