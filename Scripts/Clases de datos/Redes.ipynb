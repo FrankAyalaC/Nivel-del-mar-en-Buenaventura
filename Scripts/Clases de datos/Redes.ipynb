{
 "cells": [
  {
   "cell_type": "code",
   "execution_count": 1,
   "metadata": {
    "ExecuteTime": {
     "end_time": "2020-04-01T12:17:33.240630Z",
     "start_time": "2020-04-01T12:17:32.189189Z"
    }
   },
   "outputs": [],
   "source": [
    "from pybrain.datasets import UnsupervisedDataSet,SupervisedDataSet\n",
    "from pybrain.supervised.trainers import BackpropTrainer\n",
    "from pybrain.tools.shortcuts import buildNetwork\n",
    "from pybrain.structure import TanhLayer,SigmoidLayer,LinearLayer"
   ]
  },
  {
   "cell_type": "code",
   "execution_count": 2,
   "metadata": {
    "ExecuteTime": {
     "end_time": "2020-04-01T12:17:33.546400Z",
     "start_time": "2020-04-01T12:17:33.242950Z"
    }
   },
   "outputs": [],
   "source": [
    "import numpy as np\n",
    "import matplotlib.pyplot as plt"
   ]
  },
  {
   "cell_type": "code",
   "execution_count": 10,
   "metadata": {
    "ExecuteTime": {
     "end_time": "2020-04-01T12:39:06.670134Z",
     "start_time": "2020-04-01T12:39:06.661579Z"
    }
   },
   "outputs": [],
   "source": [
    "x=np.arange(300)/10\n",
    "y=(np.arange(300)/10)*3\n",
    "z=(x+3)**2+50+14*y"
   ]
  },
  {
   "cell_type": "code",
   "execution_count": 12,
   "metadata": {
    "ExecuteTime": {
     "end_time": "2020-04-01T12:46:17.767106Z",
     "start_time": "2020-04-01T12:46:17.755188Z"
    }
   },
   "outputs": [],
   "source": [
    "dsCalib=SupervisedDataSet(2,1)\n",
    "\n",
    "for p1,p2,res in zip(x,y,z):\n",
    "    dsCalib.addSample((n,v1,v2,t),(res,))"
   ]
  },
  {
   "cell_type": "code",
   "execution_count": 27,
   "metadata": {
    "ExecuteTime": {
     "end_time": "2020-04-01T13:07:11.733896Z",
     "start_time": "2020-04-01T13:07:11.726489Z"
    }
   },
   "outputs": [],
   "source": [
    "# print(dsCalib)"
   ]
  },
  {
   "cell_type": "code",
   "execution_count": 20,
   "metadata": {
    "ExecuteTime": {
     "end_time": "2020-04-01T12:56:33.539704Z",
     "start_time": "2020-04-01T12:56:33.521379Z"
    }
   },
   "outputs": [],
   "source": [
    "#Crear la red\n",
    "net=buildNetwork(2,2,1,bias=True,hiddenclass=TanhLayer)\n",
    "\n",
    "net.reset\n",
    "\n",
    "trainer=BackpropTrainer(net,dsCalib)"
   ]
  },
  {
   "cell_type": "code",
   "execution_count": 21,
   "metadata": {
    "ExecuteTime": {
     "end_time": "2020-04-01T12:57:40.620795Z",
     "start_time": "2020-04-01T12:56:34.135422Z"
    }
   },
   "outputs": [],
   "source": [
    "iters=500\n",
    "errors,activacion=[],[]\n",
    "PesosEvol,BiasEvol=np.zeros((iters,4)),np.zeros((iters,3))\n",
    "for j in range (iters):\n",
    "    errors.append(trainer.train())\n",
    "    activacion.append(net.activateOnDataset(dsCalib))\n",
    "    Pesos,Bias=[],[]\n",
    "    for i in net.modules:\n",
    "        if i.name!=\"bias\":\n",
    "            for c in net.connections[i]:\n",
    "                Pesos.append(c.params)\n",
    "        else:\n",
    "            for c in net.connections[i]:\n",
    "                Bias.append(c.params)\n",
    "#     Pesos=np.array(Pesos).reshape(4)\n",
    "#     Bias =np.array(np.concatenate(Bias,axis=0)).reshape(3)\n",
    "#     PesosEvol[j,:]=Pesos\n",
    "#     BiasEvol[j,:]=Bias\n",
    "    "
   ]
  },
  {
   "cell_type": "code",
   "execution_count": 22,
   "metadata": {
    "ExecuteTime": {
     "end_time": "2020-04-01T13:01:57.775986Z",
     "start_time": "2020-04-01T13:01:57.764524Z"
    }
   },
   "outputs": [
    {
     "name": "stdout",
     "output_type": "stream",
     "text": [
      "Module hidden0\n",
      "--connection to out\n",
      "-parameters [320.69794418 -40.44188994]\n",
      "Module bias\n",
      "--connection to out\n",
      "-parameters [638.40053302]\n",
      "--connection to hidden0\n",
      "-parameters [  19.57990909 -267.78702041]\n",
      "Module in\n",
      "--connection to hidden0\n",
      "-parameters [ 0.09642292  1.11165617 -0.13502297  0.92020295]\n",
      "Module out\n"
     ]
    }
   ],
   "source": [
    "for mod in net.modules:\n",
    "    print(\"Module\",mod.name)\n",
    "    if mod.paramdim>0:\n",
    "        print(\"--parameters:\",mod.params)\n",
    "    for conn in net.connections[mod]:\n",
    "        print(\"--connection to\",conn.outmod.name)\n",
    "        if conn.paramdim>0:\n",
    "            print(\"-parameters\",conn.params)"
   ]
  },
  {
   "cell_type": "code",
   "execution_count": 23,
   "metadata": {
    "ExecuteTime": {
     "end_time": "2020-04-01T13:02:05.711228Z",
     "start_time": "2020-04-01T13:02:05.516009Z"
    }
   },
   "outputs": [
    {
     "data": {
      "text/plain": [
       "[<matplotlib.lines.Line2D at 0x7f1c89db47f0>]"
      ]
     },
     "execution_count": 23,
     "metadata": {},
     "output_type": "execute_result"
    },
    {
     "data": {
      "image/png": "[encoded data removed]",
      "text/plain": [
       "<Figure size 432x288 with 1 Axes>"
      ]
     },
     "metadata": {
      "needs_background": "light"
     },
     "output_type": "display_data"
    }
   ],
   "source": [
    "plt.plot(errors,lw=3)"
   ]
  },
  {
   "cell_type": "code",
   "execution_count": 33,
   "metadata": {
    "ExecuteTime": {
     "end_time": "2020-04-01T13:09:25.123347Z",
     "start_time": "2020-04-01T13:09:24.882204Z"
    }
   },
   "outputs": [
    {
     "data": {
      "text/plain": [
       "[<matplotlib.lines.Line2D at 0x7f1c89d38ba8>]"
      ]
     },
     "execution_count": 33,
     "metadata": {},
     "output_type": "execute_result"
    },
    {
     "data": {
      "image/png": "[encoded data removed]",
      "text/plain": [
       "<Figure size 432x288 with 1 Axes>"
      ]
     },
     "metadata": {
      "needs_background": "light"
     },
     "output_type": "display_data"
    }
   ],
   "source": [
    "net_sim=net.activateOnDataset(dsCalib)\n",
    "plt.plot(y)\n",
    "plt.plot(net_sim,c='r')"
   ]
  },
  {
   "cell_type": "markdown",
   "metadata": {},
   "source": [
    "## Reescalamiento\n",
    "\n",
    "Es importante el reescalamiento porque a veces la red no podrá captar fluctuaciones muy grandes"
   ]
  },
  {
   "cell_type": "code",
   "execution_count": 45,
   "metadata": {
    "ExecuteTime": {
     "end_time": "2020-04-01T13:10:46.897296Z",
     "start_time": "2020-04-01T13:10:46.886772Z"
    }
   },
   "outputs": [],
   "source": [
    "x_esc=5*((x/np.max(abs(x))*2)-1)\n",
    "y_esc=5*((y/np.max(abs(y))*2)-1)\n",
    "z_esc=5*((z/np.max(abs(z))*2)-1)"
   ]
  },
  {
   "cell_type": "code",
   "execution_count": 46,
   "metadata": {
    "ExecuteTime": {
     "end_time": "2020-04-01T13:10:47.264544Z",
     "start_time": "2020-04-01T13:10:47.251345Z"
    }
   },
   "outputs": [],
   "source": [
    "dsCalib2=SupervisedDataSet(2,1)\n",
    "\n",
    "for p1,p2,res in zip(x_esc,y_esc,z_esc):\n",
    "    dsCalib2.addSample((p1,p2),(res,))"
   ]
  },
  {
   "cell_type": "code",
   "execution_count": 47,
   "metadata": {
    "ExecuteTime": {
     "end_time": "2020-04-01T13:10:47.735321Z",
     "start_time": "2020-04-01T13:10:47.719271Z"
    }
   },
   "outputs": [],
   "source": [
    "#Crear la red\n",
    "net2=buildNetwork(2,2,1,bias=True,hiddenclass=TanhLayer)\n",
    "\n",
    "net2.reset\n",
    "\n",
    "trainer2=BackpropTrainer(net2,dsCalib2)"
   ]
  },
  {
   "cell_type": "code",
   "execution_count": 51,
   "metadata": {
    "ExecuteTime": {
     "end_time": "2020-04-01T13:12:11.804428Z",
     "start_time": "2020-04-01T13:11:09.067490Z"
    }
   },
   "outputs": [],
   "source": [
    "iters=500\n",
    "errors,activacion=[],[]\n",
    "PesosEvol,BiasEvol=np.zeros((iters,4)),np.zeros((iters,3))\n",
    "for j in range (iters):\n",
    "    errors.append(trainer2.train())\n",
    "    activacion.append(net2.activateOnDataset(dsCalib))\n",
    "    Pesos,Bias=[],[]\n",
    "    for i in net2.modules:\n",
    "        if i.name!=\"bias\":\n",
    "            for c in net2.connections[i]:\n",
    "                Pesos.append(c.params)\n",
    "        else:\n",
    "            for c in net2.connections[i]:\n",
    "                Bias.append(c.params)\n",
    "#     Pesos=np.array(Pesos).reshape(4)\n",
    "#     Bias =np.array(np.concatenate(Bias,axis=0)).reshape(3)\n",
    "#     PesosEvol[j,:]=Pesos\n",
    "#     BiasEvol[j,:]=Bias\n",
    "    "
   ]
  },
  {
   "cell_type": "code",
   "execution_count": 57,
   "metadata": {
    "ExecuteTime": {
     "end_time": "2020-04-01T13:12:45.953338Z",
     "start_time": "2020-04-01T13:12:45.722201Z"
    }
   },
   "outputs": [
    {
     "data": {
      "text/plain": [
       "[<matplotlib.lines.Line2D at 0x7f1c88d68a90>]"
      ]
     },
     "execution_count": 57,
     "metadata": {},
     "output_type": "execute_result"
    },
    {
     "data": {
      "image/png": "[encoded data removed]",
      "text/plain": [
       "<Figure size 432x288 with 1 Axes>"
      ]
     },
     "metadata": {
      "needs_background": "light"
     },
     "output_type": "display_data"
    }
   ],
   "source": [
    "net_sim2=net2.activateOnDataset(dsCalib2)\n",
    "plt.plot(x_esc,y_esc)\n",
    "plt.plot(x_esc,net_sim2,c='r')"
   ]
  },
  {
   "cell_type": "code",
   "execution_count": 58,
   "metadata": {
    "ExecuteTime": {
     "end_time": "2020-04-01T13:12:47.034601Z",
     "start_time": "2020-04-01T13:12:46.823707Z"
    }
   },
   "outputs": [
    {
     "data": {
      "text/plain": [
       "[<matplotlib.lines.Line2D at 0x7f1c88fb4048>]"
      ]
     },
     "execution_count": 58,
     "metadata": {},
     "output_type": "execute_result"
    },
    {
     "data": {
      "image/png": "[encoded data removed]",
      "text/plain": [
       "<Figure size 432x288 with 1 Axes>"
      ]
     },
     "metadata": {
      "needs_background": "light"
     },
     "output_type": "display_data"
    }
   ],
   "source": [
    "plt.plot(errors)"
   ]
  },
  {
   "cell_type": "code",
   "execution_count": 81,
   "metadata": {
    "ExecuteTime": {
     "end_time": "2020-04-01T14:47:20.966446Z",
     "start_time": "2020-04-01T14:47:20.957777Z"
    }
   },
   "outputs": [],
   "source": [
    "serie=np.array([1,2,3,4,np.nan,6])"
   ]
  },
  {
   "cell_type": "code",
   "execution_count": 82,
   "metadata": {
    "ExecuteTime": {
     "end_time": "2020-04-01T14:47:31.736423Z",
     "start_time": "2020-04-01T14:47:31.726283Z"
    }
   },
   "outputs": [],
   "source": [
    "ind=np.where(np.isnan(serie)==False)[0]"
   ]
  },
  {
   "cell_type": "code",
   "execution_count": 83,
   "metadata": {
    "ExecuteTime": {
     "end_time": "2020-04-01T14:47:48.149896Z",
     "start_time": "2020-04-01T14:47:48.144366Z"
    }
   },
   "outputs": [
    {
     "data": {
      "text/plain": [
       "array([0, 1, 2, 3, 5])"
      ]
     },
     "execution_count": 83,
     "metadata": {},
     "output_type": "execute_result"
    }
   ],
   "source": [
    "ind"
   ]
  },
  {
   "cell_type": "code",
   "execution_count": 84,
   "metadata": {
    "ExecuteTime": {
     "end_time": "2020-04-01T14:48:26.351603Z",
     "start_time": "2020-04-01T14:48:26.335824Z"
    }
   },
   "outputs": [
    {
     "data": {
      "text/plain": [
       "array([1., 2., 3., 4., 6.])"
      ]
     },
     "execution_count": 84,
     "metadata": {},
     "output_type": "execute_result"
    }
   ],
   "source": [
    "serie[ind]"
   ]
  },
  {
   "cell_type": "code",
   "execution_count": 86,
   "metadata": {
    "ExecuteTime": {
     "end_time": "2020-04-01T14:50:47.594371Z",
     "start_time": "2020-04-01T14:50:47.583327Z"
    }
   },
   "outputs": [
    {
     "data": {
      "text/plain": [
       "array([nan, nan, nan, nan, nan, nan])"
      ]
     },
     "execution_count": 86,
     "metadata": {},
     "output_type": "execute_result"
    }
   ],
   "source": [
    "serie = np.ones(len(serie))*np.nan\n",
    "serie\n",
    "serie[ind] =pc_obtenida"
   ]
  },
  {
   "cell_type": "code",
   "execution_count": 87,
   "metadata": {
    "ExecuteTime": {
     "end_time": "2020-04-01T16:17:06.889971Z",
     "start_time": "2020-04-01T16:17:06.753460Z"
    }
   },
   "outputs": [],
   "source": [
    "class PybrainNNVisualizer():\n",
    "    def __init__(self, neural_network):\n",
    "        \"\"\"\n",
    "        :type neural_network: Network\n",
    "        \"\"\"\n",
    "        self.neural_network = neural_network\n",
    "\n",
    "    def draw(self):\n",
    "        widest_layer = max([layer.dim for layer in self.neural_network.modules])\n",
    "        network = NeuralNetwork(widest_layer)\n",
    "        for layer in self.neural_network.modulesSorted:\n",
    "            if type(layer) is BiasUnit:\n",
    "                continue\n",
    "            network.add_layer(layer.dim)\n",
    "        network.draw()"
   ]
  },
  {
   "cell_type": "code",
   "execution_count": 2,
   "metadata": {
    "ExecuteTime": {
     "end_time": "2020-04-02T01:35:26.121551Z",
     "start_time": "2020-04-02T01:35:25.999071Z"
    }
   },
   "outputs": [
    {
     "ename": "NameError",
     "evalue": "name 'buildNetwork' is not defined",
     "output_type": "error",
     "traceback": [
      "\u001b[0;31m---------------------------------------------------------------------------\u001b[0m",
      "\u001b[0;31mNameError\u001b[0m                                 Traceback (most recent call last)",
      "\u001b[0;32m<ipython-input-2-0622952937e7>\u001b[0m in \u001b[0;36m<module>\u001b[0;34m\u001b[0m\n\u001b[0;32m----> 1\u001b[0;31m \u001b[0mfnn\u001b[0m \u001b[0;34m=\u001b[0m \u001b[0mbuildNetwork\u001b[0m\u001b[0;34m(\u001b[0m\u001b[0;36m4\u001b[0m\u001b[0;34m,\u001b[0m \u001b[0;36m8\u001b[0m\u001b[0;34m,\u001b[0m \u001b[0;36m1\u001b[0m\u001b[0;34m)\u001b[0m\u001b[0;34m\u001b[0m\u001b[0;34m\u001b[0m\u001b[0m\n\u001b[0m\u001b[1;32m      2\u001b[0m \u001b[0;34m\u001b[0m\u001b[0m\n\u001b[1;32m      3\u001b[0m \u001b[0mPybrainNNVisualizer\u001b[0m\u001b[0;34m(\u001b[0m\u001b[0mfnn\u001b[0m\u001b[0;34m)\u001b[0m\u001b[0;34m.\u001b[0m\u001b[0mdraw\u001b[0m\u001b[0;34m(\u001b[0m\u001b[0;34m)\u001b[0m\u001b[0;34m\u001b[0m\u001b[0;34m\u001b[0m\u001b[0m\n",
      "\u001b[0;31mNameError\u001b[0m: name 'buildNetwork' is not defined"
     ]
    }
   ],
   "source": [
    "fnn = buildNetwork(4, 8, 1)\n",
    "\n",
    "PybrainNNVisualizer(fnn).draw()\n"
   ]
  },
  {
   "cell_type": "code",
   "execution_count": 1,
   "metadata": {
    "ExecuteTime": {
     "end_time": "2020-04-02T01:35:24.339218Z",
     "start_time": "2020-04-02T01:35:23.748589Z"
    }
   },
   "outputs": [],
   "source": [
    "from matplotlib import pyplot\n",
    "from math import cos, sin, atan\n",
    "\n",
    "from pybrain import BiasUnit\n",
    "from pybrain.structure.networks.network import Network\n",
    "\n",
    "\n",
    "class Neuron():\n",
    "    def __init__(self, x, y):\n",
    "        self.x = x\n",
    "        self.y = y\n",
    "\n",
    "    def draw(self, neuron_radius):\n",
    "        circle = pyplot.Circle((self.x, self.y), radius=neuron_radius, fill=False)\n",
    "        pyplot.gca().add_patch(circle)\n",
    "\n",
    "\n",
    "class Layer():\n",
    "    def __init__(self, network, number_of_neurons, number_of_neurons_in_widest_layer):\n",
    "        self.vertical_distance_between_layers = 6\n",
    "        self.horizontal_distance_between_neurons = 2\n",
    "        self.neuron_radius = 0.5\n",
    "        self.number_of_neurons_in_widest_layer = number_of_neurons_in_widest_layer\n",
    "        self.previous_layer = self.__get_previous_layer(network)\n",
    "        self.y = self.__calculate_layer_y_position()\n",
    "        self.neurons = self.__intialise_neurons(number_of_neurons)\n",
    "\n",
    "    def __intialise_neurons(self, number_of_neurons):\n",
    "        neurons = []\n",
    "        x = self.__calculate_left_margin_so_layer_is_centered(number_of_neurons)\n",
    "        for iteration in range(number_of_neurons):\n",
    "            neuron = Neuron(x, self.y)\n",
    "            neurons.append(neuron)\n",
    "            x += self.horizontal_distance_between_neurons\n",
    "        return neurons\n",
    "\n",
    "    def __calculate_left_margin_so_layer_is_centered(self, number_of_neurons):\n",
    "        return self.horizontal_distance_between_neurons * (\n",
    "                self.number_of_neurons_in_widest_layer - number_of_neurons) / 2\n",
    "\n",
    "    def __calculate_layer_y_position(self):\n",
    "        if self.previous_layer:\n",
    "            return self.previous_layer.y + self.vertical_distance_between_layers\n",
    "        else:\n",
    "            return 0\n",
    "\n",
    "    def __get_previous_layer(self, network):\n",
    "        if len(network.layers) > 0:\n",
    "            return network.layers[-1]\n",
    "        else:\n",
    "            return None\n",
    "\n",
    "    def __line_between_two_neurons(self, neuron1, neuron2):\n",
    "        angle = atan((neuron2.x - neuron1.x) / float(neuron2.y - neuron1.y))\n",
    "        x_adjustment = self.neuron_radius * sin(angle)\n",
    "        y_adjustment = self.neuron_radius * cos(angle)\n",
    "        line = pyplot.Line2D((neuron1.x - x_adjustment, neuron2.x + x_adjustment),\n",
    "                             (neuron1.y - y_adjustment, neuron2.y + y_adjustment))\n",
    "        pyplot.gca().add_line(line)\n",
    "        pyplot.text(x_text, self.y, '1', fontsize=12)\n",
    "\n",
    "    def draw(self, layerType=0):\n",
    "        for neuron in self.neurons:\n",
    "            neuron.draw(self.neuron_radius)\n",
    "            if self.previous_layer:\n",
    "                for previous_layer_neuron in self.previous_layer.neurons:\n",
    "                    self.__line_between_two_neurons(neuron, previous_layer_neuron)\n",
    "        # write Text\n",
    "        x_text = self.number_of_neurons_in_widest_layer * self.horizontal_distance_between_neurons\n",
    "        if layerType == 0:\n",
    "            pyplot.text(x_text, self.y, 'Input Layer', fontsize=12)\n",
    "        elif layerType == -1:\n",
    "            pyplot.text(x_text, self.y, 'Output Layer', fontsize=12)\n",
    "        else:\n",
    "            pyplot.text(x_text, self.y, 'Hidden Layer ' + str(layerType), fontsize=12)\n",
    "\n",
    "\n",
    "class NeuralNetwork():\n",
    "    def __init__(self, number_of_neurons_in_widest_layer):\n",
    "        self.number_of_neurons_in_widest_layer = number_of_neurons_in_widest_layer\n",
    "        self.layers = []\n",
    "        self.layertype = 0\n",
    "\n",
    "    def add_layer(self, number_of_neurons):\n",
    "        layer = Layer(self, number_of_neurons, self.number_of_neurons_in_widest_layer)\n",
    "        self.layers.append(layer)\n",
    "\n",
    "    def draw(self):\n",
    "        pyplot.figure()\n",
    "        for i in range(len(self.layers)):\n",
    "            layer = self.layers[i]\n",
    "            if i == len(self.layers) - 1:\n",
    "                i = -1\n",
    "            layer.draw(i)\n",
    "        pyplot.axis('scaled')\n",
    "        pyplot.axis('off')\n",
    "        pyplot.title('Neural Network architecture', fontsize=15)\n",
    "        pyplot.show()\n",
    "\n",
    "\n",
    "class NNVisualizer():\n",
    "    def __init__(self, neural_network):\n",
    "        self.neural_network = neural_network\n",
    "\n",
    "    def draw(self):\n",
    "        widest_layer = max(self.neural_network)\n",
    "        network = NeuralNetwork(widest_layer)\n",
    "        for l in self.neural_network:\n",
    "            network.add_layer(l)\n",
    "        network.draw()\n",
    "\n",
    "\n",
    "class PybrainNNVisualizer():\n",
    "    def __init__(self, neural_network):\n",
    "        \"\"\"\n",
    "        :type neural_network: Network\n",
    "        \"\"\"\n",
    "        self.neural_network = neural_network\n",
    "\n",
    "    def draw(self):\n",
    "        widest_layer = max([layer.dim for layer in self.neural_network.modules])\n",
    "        network = NeuralNetwork(widest_layer)\n",
    "        for layer in self.neural_network.modulesSorted:\n",
    "            if type(layer) is BiasUnit:\n",
    "                continue\n",
    "            network.add_layer(layer.dim)\n",
    "        network.draw()"
   ]
  },
  {
   "cell_type": "code",
   "execution_count": 92,
   "metadata": {
    "ExecuteTime": {
     "end_time": "2020-04-01T16:27:21.586022Z",
     "start_time": "2020-04-01T16:27:20.806484Z"
    }
   },
   "outputs": [
    {
     "data": {
      "image/png": "[encoded data removed]",
      "text/plain": [
       "<Figure size 432x288 with 1 Axes>"
      ]
     },
     "metadata": {
      "needs_background": "light"
     },
     "output_type": "display_data"
    }
   ],
   "source": [
    "fnn = buildNetwork(4, 8, 1)\n",
    "\n",
    "PybrainNNVisualizer(fnn).draw()"
   ]
  },
  {
   "cell_type": "code",
   "execution_count": null,
   "metadata": {},
   "outputs": [],
   "source": []
  }
 ],
 "metadata": {
  "kernelspec": {
   "display_name": "Python 3",
   "language": "python",
   "name": "python3"
  },
  "language_info": {
   "codemirror_mode": {
    "name": "ipython",
    "version": 3
   },
   "file_extension": ".py",
   "mimetype": "text/x-python",
   "name": "python",
   "nbconvert_exporter": "python",
   "pygments_lexer": "ipython3",
   "version": "3.6.8"
  },
  "latex_envs": {
   "LaTeX_envs_menu_present": true,
   "autoclose": false,
   "autocomplete": true,
   "bibliofile": "biblio.bib",
   "cite_by": "apalike",
   "current_citInitial": 1,
   "eqLabelWithNumbers": true,
   "eqNumInitial": 1,
   "hotkeys": {
    "equation": "Ctrl-E",
    "itemize": "Ctrl-I"
   },
   "labels_anchors": false,
   "latex_user_defs": false,
   "report_style_numbering": false,
   "user_envs_cfg": false
  },
  "toc": {
   "base_numbering": 1,
   "nav_menu": {},
   "number_sections": true,
   "sideBar": true,
   "skip_h1_title": false,
   "title_cell": "Table of Contents",
   "title_sidebar": "Contents",
   "toc_cell": false,
   "toc_position": {},
   "toc_section_display": true,
   "toc_window_display": false
  }
 },
 "nbformat": 4,
 "nbformat_minor": 2
}
