{
 "cells": [
  {
   "cell_type": "code",
   "execution_count": 15,
   "metadata": {
    "ExecuteTime": {
     "end_time": "2020-03-04T12:06:56.373920Z",
     "start_time": "2020-03-04T12:06:56.359471Z"
    }
   },
   "outputs": [],
   "source": [
    "from pybrain.datasets import UnsupervisedDataSet,SupervisedDataSet\n",
    "from pybrain.supervised.trainers import BackpropTrainer\n",
    "from pybrain.tools.shortcuts import buildNetwork\n",
    "from pybrain.structure import TanhLayer,SigmoidLayer,LinearLayer"
   ]
  },
  {
   "cell_type": "code",
   "execution_count": 30,
   "metadata": {
    "ExecuteTime": {
     "end_time": "2020-03-04T12:25:55.071005Z",
     "start_time": "2020-03-04T12:25:53.728309Z"
    }
   },
   "outputs": [],
   "source": [
    "import numpy as np\n",
    "import matplotlib.pyplot as plt"
   ]
  },
  {
   "cell_type": "code",
   "execution_count": 42,
   "metadata": {
    "ExecuteTime": {
     "end_time": "2020-03-04T12:28:10.921417Z",
     "start_time": "2020-03-04T12:28:10.897804Z"
    }
   },
   "outputs": [],
   "source": [
    "x=np.arange(300)/10\n",
    "y=(x+3)**2+50"
   ]
  },
  {
   "cell_type": "code",
   "execution_count": 43,
   "metadata": {
    "ExecuteTime": {
     "end_time": "2020-03-04T12:28:11.429416Z",
     "start_time": "2020-03-04T12:28:11.412098Z"
    }
   },
   "outputs": [],
   "source": [
    "dsCalib=SupervisedDataSet(1,1)\n",
    "\n",
    "for p1,res in zip(x,y):\n",
    "    dsCalib.addSample((p1),(res,))"
   ]
  },
  {
   "cell_type": "code",
   "execution_count": 44,
   "metadata": {
    "ExecuteTime": {
     "end_time": "2020-03-04T12:28:12.094732Z",
     "start_time": "2020-03-04T12:28:12.075456Z"
    }
   },
   "outputs": [],
   "source": [
    "#Crear la red\n",
    "net=buildNetwork(1,2,1,bias=False,hiddenclass=TanhLayer)\n",
    "\n",
    "net.reset\n",
    "\n",
    "trainer=BackpropTrainer(net,dsCalib)"
   ]
  },
  {
   "cell_type": "code",
   "execution_count": 45,
   "metadata": {
    "ExecuteTime": {
     "end_time": "2020-03-04T12:29:08.274092Z",
     "start_time": "2020-03-04T12:28:13.128913Z"
    }
   },
   "outputs": [],
   "source": [
    "iters=500\n",
    "errors,activacion=[],[]\n",
    "PesosEvol,BiasEvol=np.zeros((iters,4)),np.zeros((iters,3))\n",
    "for j in range (iters):\n",
    "    errors.append(trainer.train())\n",
    "    activacion.append(net.activateOnDataset(dsCalib))\n",
    "    Pesos,Bias=[],[]\n",
    "    for i in net.modules:\n",
    "        if i.name!=\"bias\":\n",
    "            for c in net.connections[i]:\n",
    "                Pesos.append(c.params)\n",
    "        else:\n",
    "            for c in net.connections[i]:\n",
    "                Bias.append(c.params)\n",
    "    Pesos=np.array(Pesos).reshape(4)\n",
    "#     Bias =np.array(np.concatenate(Bias,axis=0)).reshape(3)\n",
    "    PesosEvol[j,:]=Pesos\n",
    "#     BiasEvol[j,:]=Bias\n",
    "    "
   ]
  },
  {
   "cell_type": "code",
   "execution_count": 37,
   "metadata": {
    "ExecuteTime": {
     "end_time": "2020-03-04T12:26:41.370143Z",
     "start_time": "2020-03-04T12:26:41.357321Z"
    }
   },
   "outputs": [],
   "source": [
    "for mod in net.modules:\n",
    "    print(\"Module\",mod.name)\n",
    "    if mod.paramdim>0:\n",
    "        print(\"--parameters:\",mod.params)\n",
    "    for conn in net.connections[mod]:\n",
    "        print(\"--connection to\",conn.outmod.name)\n",
    "        if conn.paramdim>0:\n",
    "            print(\"-parameters\",conn.params)"
   ]
  },
  {
   "cell_type": "code",
   "execution_count": 49,
   "metadata": {
    "ExecuteTime": {
     "end_time": "2020-03-04T12:30:12.166472Z",
     "start_time": "2020-03-04T12:30:11.961376Z"
    }
   },
   "outputs": [
    {
     "data": {
      "text/plain": [
       "[<matplotlib.lines.Line2D at 0x7fefc7ed32e8>]"
      ]
     },
     "execution_count": 49,
     "metadata": {},
     "output_type": "execute_result"
    },
    {
     "data": {
      "image/png": "[encoded data removed]",
      "text/plain": [
       "<Figure size 432x288 with 1 Axes>"
      ]
     },
     "metadata": {
      "needs_background": "light"
     },
     "output_type": "display_data"
    }
   ],
   "source": [
    "plt.plot(errors,lw=3)"
   ]
  },
  {
   "cell_type": "code",
   "execution_count": 46,
   "metadata": {
    "ExecuteTime": {
     "end_time": "2020-03-04T12:29:12.530503Z",
     "start_time": "2020-03-04T12:29:12.239762Z"
    }
   },
   "outputs": [
    {
     "data": {
      "text/plain": [
       "[<matplotlib.lines.Line2D at 0x7fefc81b7fd0>]"
      ]
     },
     "execution_count": 46,
     "metadata": {},
     "output_type": "execute_result"
    },
    {
     "data": {
      "image/png": "[encoded data removed]",
      "text/plain": [
       "<Figure size 432x288 with 1 Axes>"
      ]
     },
     "metadata": {
      "needs_background": "light"
     },
     "output_type": "display_data"
    }
   ],
   "source": [
    "net_sim=net.activateOnDataset(dsCalib)\n",
    "plt.plot(x,y)\n",
    "plt.plot(x,net_sim,c='r')"
   ]
  },
  {
   "cell_type": "markdown",
   "metadata": {},
   "source": [
    "## Reescalamiento\n",
    "\n",
    "Es importante el reescalamiento porque a veces la red no podrá captar fluctuaciones muy grandes"
   ]
  },
  {
   "cell_type": "code",
   "execution_count": 64,
   "metadata": {
    "ExecuteTime": {
     "end_time": "2020-03-04T12:40:24.181231Z",
     "start_time": "2020-03-04T12:40:24.165761Z"
    }
   },
   "outputs": [],
   "source": [
    "x_esc=5*((x/np.max(abs(x))*2)-1)\n",
    "y_esc=5*((y/np.max(abs(y))*2)-1)"
   ]
  },
  {
   "cell_type": "code",
   "execution_count": 65,
   "metadata": {
    "ExecuteTime": {
     "end_time": "2020-03-04T12:40:24.831290Z",
     "start_time": "2020-03-04T12:40:24.781780Z"
    }
   },
   "outputs": [],
   "source": [
    "dsCalib2=SupervisedDataSet(1,1)\n",
    "\n",
    "for p1,res in zip(x_esc,y_esc):\n",
    "    dsCalib2.addSample((p1),(res,))"
   ]
  },
  {
   "cell_type": "code",
   "execution_count": 72,
   "metadata": {
    "ExecuteTime": {
     "end_time": "2020-03-04T12:42:07.278478Z",
     "start_time": "2020-03-04T12:42:07.253771Z"
    }
   },
   "outputs": [],
   "source": [
    "#Crear la red\n",
    "net2=buildNetwork(1,2,1,bias=True,hiddenclass=TanhLayer)\n",
    "\n",
    "net2.reset\n",
    "\n",
    "trainer2=BackpropTrainer(net2,dsCalib2)"
   ]
  },
  {
   "cell_type": "code",
   "execution_count": 73,
   "metadata": {
    "ExecuteTime": {
     "end_time": "2020-03-04T12:43:13.081956Z",
     "start_time": "2020-03-04T12:42:08.049981Z"
    }
   },
   "outputs": [],
   "source": [
    "iters=500\n",
    "errors,activacion=[],[]\n",
    "PesosEvol,BiasEvol=np.zeros((iters,4)),np.zeros((iters,3))\n",
    "for j in range (iters):\n",
    "    errors.append(trainer2.train())\n",
    "    activacion.append(net2.activateOnDataset(dsCalib))\n",
    "    Pesos,Bias=[],[]\n",
    "    for i in net2.modules:\n",
    "        if i.name!=\"bias\":\n",
    "            for c in net2.connections[i]:\n",
    "                Pesos.append(c.params)\n",
    "        else:\n",
    "            for c in net2.connections[i]:\n",
    "                Bias.append(c.params)\n",
    "    Pesos=np.array(Pesos).reshape(4)\n",
    "    Bias =np.array(np.concatenate(Bias,axis=0)).reshape(3)\n",
    "    PesosEvol[j,:]=Pesos\n",
    "    BiasEvol[j,:]=Bias\n",
    "    "
   ]
  },
  {
   "cell_type": "code",
   "execution_count": 74,
   "metadata": {
    "ExecuteTime": {
     "end_time": "2020-03-04T12:43:13.314954Z",
     "start_time": "2020-03-04T12:43:13.083773Z"
    }
   },
   "outputs": [
    {
     "data": {
      "text/plain": [
       "[<matplotlib.lines.Line2D at 0x7fefc7c6f978>]"
      ]
     },
     "execution_count": 74,
     "metadata": {},
     "output_type": "execute_result"
    },
    {
     "data": {
      "image/png": "[encoded data removed]",
      "text/plain": [
       "<Figure size 432x288 with 1 Axes>"
      ]
     },
     "metadata": {
      "needs_background": "light"
     },
     "output_type": "display_data"
    }
   ],
   "source": [
    "net_sim2=net2.activateOnDataset(dsCalib2)\n",
    "plt.plot(x_esc,y_esc)\n",
    "plt.plot(x_esc,net_sim2,c='r')"
   ]
  },
  {
   "cell_type": "code",
   "execution_count": 76,
   "metadata": {
    "ExecuteTime": {
     "end_time": "2020-03-04T12:43:30.424924Z",
     "start_time": "2020-03-04T12:43:30.143144Z"
    }
   },
   "outputs": [
    {
     "data": {
      "text/plain": [
       "[<matplotlib.lines.Line2D at 0x7fefc77a6320>]"
      ]
     },
     "execution_count": 76,
     "metadata": {},
     "output_type": "execute_result"
    },
    {
     "data": {
      "image/png": "[encoded data removed]",
      "text/plain": [
       "<Figure size 432x288 with 1 Axes>"
      ]
     },
     "metadata": {
      "needs_background": "light"
     },
     "output_type": "display_data"
    }
   ],
   "source": [
    "plt.plot(errors)"
   ]
  },
  {
   "cell_type": "code",
   "execution_count": null,
   "metadata": {},
   "outputs": [],
   "source": []
  }
 ],
 "metadata": {
  "kernelspec": {
   "display_name": "Python 3",
   "language": "python",
   "name": "python3"
  },
  "language_info": {
   "codemirror_mode": {
    "name": "ipython",
    "version": 3
   },
   "file_extension": ".py",
   "mimetype": "text/x-python",
   "name": "python",
   "nbconvert_exporter": "python",
   "pygments_lexer": "ipython3",
   "version": "3.6.8"
  },
  "latex_envs": {
   "LaTeX_envs_menu_present": true,
   "autoclose": false,
   "autocomplete": true,
   "bibliofile": "biblio.bib",
   "cite_by": "apalike",
   "current_citInitial": 1,
   "eqLabelWithNumbers": true,
   "eqNumInitial": 1,
   "hotkeys": {
    "equation": "Ctrl-E",
    "itemize": "Ctrl-I"
   },
   "labels_anchors": false,
   "latex_user_defs": false,
   "report_style_numbering": false,
   "user_envs_cfg": false
  },
  "toc": {
   "base_numbering": 1,
   "nav_menu": {},
   "number_sections": true,
   "sideBar": true,
   "skip_h1_title": false,
   "title_cell": "Table of Contents",
   "title_sidebar": "Contents",
   "toc_cell": false,
   "toc_position": {},
   "toc_section_display": true,
   "toc_window_display": false
  }
 },
 "nbformat": 4,
 "nbformat_minor": 2
}
