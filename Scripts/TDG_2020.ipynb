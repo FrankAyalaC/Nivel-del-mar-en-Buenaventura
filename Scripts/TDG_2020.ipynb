{
 "cells": [
  {
   "cell_type": "markdown",
   "metadata": {},
   "source": [
    "# Importando las librerías y funciones básicas"
   ]
  },
  {
   "cell_type": "code",
   "execution_count": 141,
   "metadata": {
    "ExecuteTime": {
     "end_time": "2020-03-03T13:55:36.506955Z",
     "start_time": "2020-03-03T13:55:36.488795Z"
    }
   },
   "outputs": [],
   "source": [
    "#Librería de graficación\n",
    "import matplotlib.pyplot as plt\n",
    "import matplotlib as mp\n",
    "import cartopy.crs as ccrs\n",
    "import cartopy\n",
    "import matplotlib.pyplot as plt\n",
    "import cartopy.feature as cfeature\n",
    "import metpy.calc as mpcalc\n",
    "from cartopy.mpl.gridliner import LONGITUDE_FORMATTER, LATITUDE_FORMATTER\n",
    "import matplotlib.gridspec as gsa\n",
    "import matplotlib.ticker as mticker\n",
    "from mpl_toolkits.basemap import Basemap\n",
    "from matplotlib import pyplot, transforms\n",
    "\n",
    "\n",
    "#Librerías de procesamiento matemático y lectura de archivos\n",
    "import numpy as np\n",
    "import netCDF4 as nc\n",
    "import pandas as pd\n",
    "import glob\n",
    "import os\n",
    "from scipy import signal\n",
    "import qgrid\n",
    "\n",
    "\n",
    "#Librería de estadística\n",
    "import scipy as sp\n",
    "\n",
    "#librería para manejo de fechas\n",
    "from datetime import datetime,timedelta\n",
    "\n",
    "\n",
    "# from mpl_toolkits.axes_grid1 import make_axes_locatable\n",
    "\n",
    "#Análisis Armónico\n",
    "from ttide import t_tide\n",
    "from pytides.tide import Tide\n",
    "# from pytides.astro import astro\n",
    "\n",
    "plt.style.use(\"seaborn\")\n",
    "mp.rcParams['xtick.labelsize']=15\n",
    "mp.rcParams['ytick.labelsize']=15\n",
    "\n",
    "mp.rcParams['axes.labelsize']=17"
   ]
  },
  {
   "cell_type": "code",
   "execution_count": 6,
   "metadata": {
    "ExecuteTime": {
     "end_time": "2020-03-03T04:26:04.890591Z",
     "start_time": "2020-03-03T04:26:04.870376Z"
    }
   },
   "outputs": [],
   "source": [
    "def reading_netcdf(ruta):\n",
    "    data=nc.Dataset(ruta)\n",
    "    for i in data.variables:\n",
    "        try:\n",
    "            print (i,data.variables[i].shape,data.variables[i].units) \n",
    "        except:\n",
    "            print (i,data.variables[i].shape) \n",
    "    print(\"\\n\")\n",
    "    data_variables=[np.array(data[i][:]) for i in list(data.variables.keys())]\n",
    "    return data_variables"
   ]
  },
  {
   "cell_type": "markdown",
   "metadata": {},
   "source": [
    "# Limpieza y exploración de los datos"
   ]
  },
  {
   "cell_type": "code",
   "execution_count": 7,
   "metadata": {
    "ExecuteTime": {
     "end_time": "2020-03-03T04:26:20.937338Z",
     "start_time": "2020-03-03T04:26:06.701079Z"
    },
    "scrolled": true
   },
   "outputs": [
    {
     "name": "stdout",
     "output_type": "stream",
     "text": [
      "adt (366, 45, 185) m\n",
      "time (366,) days since 1950-01-01 00:00:00\n",
      "latitude (45,) degrees_north\n",
      "longitude (185,) degrees_east\n",
      "ugos (366, 45, 185) m/s\n",
      "vgos (366, 45, 185) m/s\n",
      "vgosa (366, 45, 185) m/s\n",
      "sla (366, 45, 185) m\n",
      "ugosa (366, 45, 185) m/s\n",
      "\n",
      "\n",
      "adt (366, 45, 185) m\n",
      "time (366,) days since 1950-01-01 00:00:00\n",
      "latitude (45,) degrees_north\n",
      "longitude (185,) degrees_east\n",
      "ugos (366, 45, 185) m/s\n",
      "vgos (366, 45, 185) m/s\n",
      "vgosa (366, 45, 185) m/s\n",
      "sla (366, 45, 185) m\n",
      "ugosa (366, 45, 185) m/s\n",
      "\n",
      "\n",
      "adt (366, 45, 185) m\n",
      "time (366,) days since 1950-01-01 00:00:00\n",
      "latitude (45,) degrees_north\n",
      "longitude (185,) degrees_east\n",
      "ugos (366, 45, 185) m/s\n",
      "vgos (366, 45, 185) m/s\n",
      "vgosa (366, 45, 185) m/s\n",
      "sla (366, 45, 185) m\n",
      "ugosa (366, 45, 185) m/s\n",
      "\n",
      "\n",
      "adt (367, 45, 185) m\n",
      "time (367,) days since 1950-01-01 00:00:00\n",
      "latitude (45,) degrees_north\n",
      "longitude (185,) degrees_east\n",
      "ugos (367, 45, 185) m/s\n",
      "vgos (367, 45, 185) m/s\n",
      "vgosa (367, 45, 185) m/s\n",
      "sla (367, 45, 185) m\n",
      "ugosa (367, 45, 185) m/s\n",
      "\n",
      "\n",
      "adt (366, 45, 185) m\n",
      "time (366,) days since 1950-01-01 00:00:00\n",
      "latitude (45,) degrees_north\n",
      "longitude (185,) degrees_east\n",
      "ugos (366, 45, 185) m/s\n",
      "vgos (366, 45, 185) m/s\n",
      "vgosa (366, 45, 185) m/s\n",
      "sla (366, 45, 185) m\n",
      "ugosa (366, 45, 185) m/s\n",
      "\n",
      "\n",
      "adt (366, 45, 185) m\n",
      "time (366,) days since 1950-01-01 00:00:00\n",
      "latitude (45,) degrees_north\n",
      "longitude (185,) degrees_east\n",
      "ugos (366, 45, 185) m/s\n",
      "vgos (366, 45, 185) m/s\n",
      "vgosa (366, 45, 185) m/s\n",
      "sla (366, 45, 185) m\n",
      "ugosa (366, 45, 185) m/s\n",
      "\n",
      "\n",
      "adt (366, 45, 185) m\n",
      "time (366,) days since 1950-01-01 00:00:00\n",
      "latitude (45,) degrees_north\n",
      "longitude (185,) degrees_east\n",
      "ugos (366, 45, 185) m/s\n",
      "vgos (366, 45, 185) m/s\n",
      "vgosa (366, 45, 185) m/s\n",
      "sla (366, 45, 185) m\n",
      "ugosa (366, 45, 185) m/s\n",
      "\n",
      "\n",
      "adt (367, 45, 185) m\n",
      "time (367,) days since 1950-01-01 00:00:00\n",
      "latitude (45,) degrees_north\n",
      "longitude (185,) degrees_east\n",
      "ugos (367, 45, 185) m/s\n",
      "vgos (367, 45, 185) m/s\n",
      "vgosa (367, 45, 185) m/s\n",
      "sla (367, 45, 185) m\n",
      "ugosa (367, 45, 185) m/s\n",
      "\n",
      "\n",
      "adt (366, 45, 185) m\n",
      "time (366,) days since 1950-01-01 00:00:00\n",
      "latitude (45,) degrees_north\n",
      "longitude (185,) degrees_east\n",
      "ugos (366, 45, 185) m/s\n",
      "vgos (366, 45, 185) m/s\n",
      "vgosa (366, 45, 185) m/s\n",
      "sla (366, 45, 185) m\n",
      "ugosa (366, 45, 185) m/s\n",
      "\n",
      "\n",
      "adt (366, 45, 185) m\n",
      "time (366,) days since 1950-01-01 00:00:00\n",
      "latitude (45,) degrees_north\n",
      "longitude (185,) degrees_east\n",
      "ugos (366, 45, 185) m/s\n",
      "vgos (366, 45, 185) m/s\n",
      "vgosa (366, 45, 185) m/s\n",
      "sla (366, 45, 185) m\n",
      "ugosa (366, 45, 185) m/s\n",
      "\n",
      "\n",
      "adt (366, 45, 185) m\n",
      "time (366,) days since 1950-01-01 00:00:00\n",
      "latitude (45,) degrees_north\n",
      "longitude (185,) degrees_east\n",
      "ugos (366, 45, 185) m/s\n",
      "vgos (366, 45, 185) m/s\n",
      "vgosa (366, 45, 185) m/s\n",
      "sla (366, 45, 185) m\n",
      "ugosa (366, 45, 185) m/s\n",
      "\n",
      "\n",
      "adt (367, 45, 185) m\n",
      "time (367,) days since 1950-01-01 00:00:00\n",
      "latitude (45,) degrees_north\n",
      "longitude (185,) degrees_east\n",
      "ugos (367, 45, 185) m/s\n",
      "vgos (367, 45, 185) m/s\n",
      "vgosa (367, 45, 185) m/s\n",
      "sla (367, 45, 185) m\n",
      "ugosa (367, 45, 185) m/s\n",
      "\n",
      "\n",
      "adt (366, 45, 185) m\n",
      "time (366,) days since 1950-01-01 00:00:00\n",
      "latitude (45,) degrees_north\n",
      "longitude (185,) degrees_east\n",
      "ugos (366, 45, 185) m/s\n",
      "vgos (366, 45, 185) m/s\n",
      "vgosa (366, 45, 185) m/s\n",
      "sla (366, 45, 185) m\n",
      "ugosa (366, 45, 185) m/s\n",
      "\n",
      "\n",
      "adt (366, 45, 185) m\n",
      "time (366,) days since 1950-01-01 00:00:00\n",
      "latitude (45,) degrees_north\n",
      "longitude (185,) degrees_east\n",
      "ugos (366, 45, 185) m/s\n",
      "vgos (366, 45, 185) m/s\n",
      "vgosa (366, 45, 185) m/s\n",
      "sla (366, 45, 185) m\n",
      "ugosa (366, 45, 185) m/s\n",
      "\n",
      "\n",
      "adt (366, 45, 185) m\n",
      "time (366,) days since 1950-01-01 00:00:00\n",
      "latitude (45,) degrees_north\n",
      "longitude (185,) degrees_east\n",
      "ugos (366, 45, 185) m/s\n",
      "vgos (366, 45, 185) m/s\n",
      "vgosa (366, 45, 185) m/s\n",
      "sla (366, 45, 185) m\n",
      "ugosa (366, 45, 185) m/s\n",
      "\n",
      "\n",
      "adt (367, 45, 185) m\n",
      "time (367,) days since 1950-01-01 00:00:00\n",
      "latitude (45,) degrees_north\n",
      "longitude (185,) degrees_east\n",
      "ugos (367, 45, 185) m/s\n",
      "vgos (367, 45, 185) m/s\n",
      "vgosa (367, 45, 185) m/s\n",
      "sla (367, 45, 185) m\n",
      "ugosa (367, 45, 185) m/s\n",
      "\n",
      "\n",
      "adt (366, 45, 185) m\n",
      "time (366,) days since 1950-01-01 00:00:00\n",
      "latitude (45,) degrees_north\n",
      "longitude (185,) degrees_east\n",
      "ugos (366, 45, 185) m/s\n",
      "vgos (366, 45, 185) m/s\n",
      "vgosa (366, 45, 185) m/s\n",
      "sla (366, 45, 185) m\n",
      "ugosa (366, 45, 185) m/s\n",
      "\n",
      "\n",
      "adt (366, 45, 185) m\n",
      "time (366,) days since 1950-01-01 00:00:00\n",
      "latitude (45,) degrees_north\n",
      "longitude (185,) degrees_east\n",
      "ugos (366, 45, 185) m/s\n",
      "vgos (366, 45, 185) m/s\n",
      "vgosa (366, 45, 185) m/s\n",
      "sla (366, 45, 185) m\n",
      "ugosa (366, 45, 185) m/s\n",
      "\n",
      "\n",
      "adt (366, 45, 185) m\n",
      "time (366,) days since 1950-01-01 00:00:00\n",
      "latitude (45,) degrees_north\n",
      "longitude (185,) degrees_east\n",
      "ugos (366, 45, 185) m/s\n",
      "vgos (366, 45, 185) m/s\n",
      "vgosa (366, 45, 185) m/s\n",
      "sla (366, 45, 185) m\n",
      "ugosa (366, 45, 185) m/s\n",
      "\n",
      "\n",
      "adt (367, 45, 185) m\n",
      "time (367,) days since 1950-01-01 00:00:00\n",
      "latitude (45,) degrees_north\n",
      "longitude (185,) degrees_east\n",
      "ugos (367, 45, 185) m/s\n",
      "vgos (367, 45, 185) m/s\n",
      "vgosa (367, 45, 185) m/s\n",
      "sla (367, 45, 185) m\n",
      "ugosa (367, 45, 185) m/s\n",
      "\n",
      "\n",
      "adt (366, 45, 185) m\n",
      "time (366,) days since 1950-01-01 00:00:00\n",
      "latitude (45,) degrees_north\n",
      "longitude (185,) degrees_east\n",
      "ugos (366, 45, 185) m/s\n",
      "vgos (366, 45, 185) m/s\n",
      "vgosa (366, 45, 185) m/s\n",
      "sla (366, 45, 185) m\n",
      "ugosa (366, 45, 185) m/s\n",
      "\n",
      "\n",
      "adt (366, 45, 185) m\n",
      "time (366,) days since 1950-01-01 00:00:00\n",
      "latitude (45,) degrees_north\n",
      "longitude (185,) degrees_east\n",
      "ugos (366, 45, 185) m/s\n",
      "vgos (366, 45, 185) m/s\n",
      "vgosa (366, 45, 185) m/s\n",
      "sla (366, 45, 185) m\n",
      "ugosa (366, 45, 185) m/s\n",
      "\n",
      "\n",
      "adt (366, 45, 185) m\n",
      "time (366,) days since 1950-01-01 00:00:00\n",
      "latitude (45,) degrees_north\n",
      "longitude (185,) degrees_east\n",
      "ugos (366, 45, 185) m/s\n",
      "vgos (366, 45, 185) m/s\n",
      "vgosa (366, 45, 185) m/s\n",
      "sla (366, 45, 185) m\n",
      "ugosa (366, 45, 185) m/s\n",
      "\n",
      "\n",
      "adt (367, 45, 185) m\n",
      "time (367,) days since 1950-01-01 00:00:00\n",
      "latitude (45,) degrees_north\n",
      "longitude (185,) degrees_east\n",
      "ugos (367, 45, 185) m/s\n",
      "vgos (367, 45, 185) m/s\n",
      "vgosa (367, 45, 185) m/s\n",
      "sla (367, 45, 185) m\n",
      "ugosa (367, 45, 185) m/s\n",
      "\n",
      "\n",
      "adt (366, 45, 185) m\n",
      "time (366,) days since 1950-01-01 00:00:00\n",
      "latitude (45,) degrees_north\n",
      "longitude (185,) degrees_east\n",
      "ugos (366, 45, 185) m/s\n",
      "vgos (366, 45, 185) m/s\n",
      "vgosa (366, 45, 185) m/s\n",
      "sla (366, 45, 185) m\n",
      "ugosa (366, 45, 185) m/s\n",
      "\n",
      "\n",
      "adt (133, 45, 185) m\n",
      "time (133,) days since 1950-01-01 00:00:00\n",
      "latitude (45,) degrees_north\n",
      "longitude (185,) degrees_east\n",
      "ugos (133, 45, 185) m/s\n",
      "vgos (133, 45, 185) m/s\n",
      "vgosa (133, 45, 185) m/s\n",
      "sla (133, 45, 185) m\n",
      "ugosa (133, 45, 185) m/s\n",
      "\n",
      "\n"
     ]
    }
   ],
   "source": [
    "rutas = np.sort(glob.glob(\"../Dataset/CMEMS_ECMFW/*.nc\"))\n",
    "\n",
    "#Al estar por años se debe concatenar\n",
    "for i in range(0,len(rutas)):\n",
    "    if i==0:\n",
    "        [adt,time,lat,lon,ugos,vgos,vgosa,sla,ugosa]=reading_netcdf(rutas[i])\n",
    "    else:\n",
    "        [adt,time2,lat,lon,ugos,vgos,vgosa,sla2,ugosa]=reading_netcdf(rutas[i])\n",
    "        sla=np.concatenate((sla,sla2))\n",
    "        time=np.concatenate((time,time2))\n"
   ]
  },
  {
   "cell_type": "code",
   "execution_count": 8,
   "metadata": {
    "ExecuteTime": {
     "end_time": "2020-03-03T04:26:21.024872Z",
     "start_time": "2020-03-03T04:26:20.939118Z"
    },
    "scrolled": true
   },
   "outputs": [],
   "source": [
    "sla[sla<=-1000]=np.nan"
   ]
  },
  {
   "cell_type": "code",
   "execution_count": 9,
   "metadata": {
    "ExecuteTime": {
     "end_time": "2020-03-03T04:26:22.410376Z",
     "start_time": "2020-03-03T04:26:21.028044Z"
    }
   },
   "outputs": [
    {
     "data": {
      "image/png": "[encoded data removed]",
      "text/plain": [
       "<Figure size 1440x1440 with 2 Axes>"
      ]
     },
     "metadata": {},
     "output_type": "display_data"
    }
   ],
   "source": [
    "fig=plt.figure(figsize=(20,20))\n",
    "ax=fig.add_subplot(projection=ccrs.PlateCarree())\n",
    "x,y=np.meshgrid(lon,lat)\n",
    "cf=ax.contourf(x,y,sla[2000,:,:],20,transform=ccrs.PlateCarree(),cmap=\"jet\")\n",
    "gl = ax.gridlines(crs=ccrs.PlateCarree(), draw_labels=True,\n",
    "                  linewidth=1, color='gray', alpha=0.6, linestyle='--')\n",
    "gl.xlabel_style = {'size': 18, 'color': 'black'}\n",
    "gl.ylabel_style = {'size': 18, 'color': 'black'}\n",
    "ax.coastlines()\n",
    "cbar=plt.colorbar(cf,orientation=\"horizontal\",fraction=0.1, pad=0.06,aspect=40)\n",
    "cbar.ax.tick_params(labelsize=15) \n",
    "\n",
    "plt.show()"
   ]
  },
  {
   "cell_type": "code",
   "execution_count": 10,
   "metadata": {
    "ExecuteTime": {
     "end_time": "2020-03-03T04:26:23.557762Z",
     "start_time": "2020-03-03T04:26:22.412238Z"
    }
   },
   "outputs": [
    {
     "name": "stderr",
     "output_type": "stream",
     "text": [
      "/home/franklin/my_projects_dir/entorno_jup/lib/python3.6/site-packages/ipykernel_launcher.py:1: RuntimeWarning: Mean of empty slice\n",
      "  \"\"\"Entry point for launching an IPython kernel.\n"
     ]
    }
   ],
   "source": [
    "serie=np.nanmean(sla,axis=1)\n",
    "serie_temp=np.nanmean(serie,axis=1)"
   ]
  },
  {
   "cell_type": "code",
   "execution_count": 11,
   "metadata": {
    "ExecuteTime": {
     "end_time": "2020-03-03T04:26:23.710247Z",
     "start_time": "2020-03-03T04:26:23.559733Z"
    }
   },
   "outputs": [],
   "source": [
    "da=[datetime(1950,1,1,0,0,0)+timedelta(days=int(time[w])) for w in range (0,len(time))]\n",
    "date=pd.DatetimeIndex(da)"
   ]
  },
  {
   "cell_type": "code",
   "execution_count": 12,
   "metadata": {
    "ExecuteTime": {
     "end_time": "2020-03-03T04:26:23.783344Z",
     "start_time": "2020-03-03T04:26:23.713486Z"
    }
   },
   "outputs": [],
   "source": [
    "serie_sla=pd.Series(serie_temp,date)"
   ]
  },
  {
   "cell_type": "markdown",
   "metadata": {},
   "source": [
    "# Graficando un diagrama de Hovmoller"
   ]
  },
  {
   "cell_type": "markdown",
   "metadata": {},
   "source": [
    "Un diagrama de Hovmoller permite conocer la variación temporal de una variable integrada en las latitudes o en las latitudes."
   ]
  },
  {
   "cell_type": "code",
   "execution_count": 13,
   "metadata": {
    "ExecuteTime": {
     "end_time": "2020-03-03T04:26:23.893956Z",
     "start_time": "2020-03-03T04:26:23.791351Z"
    }
   },
   "outputs": [],
   "source": [
    "new_array = np.array(date.to_pydatetime(), dtype=object)"
   ]
  },
  {
   "cell_type": "code",
   "execution_count": null,
   "metadata": {
    "ExecuteTime": {
     "end_time": "2020-02-18T18:25:34.173081Z",
     "start_time": "2020-02-18T18:25:32.993Z"
    }
   },
   "outputs": [],
   "source": [
    "sla_copy=sla"
   ]
  },
  {
   "cell_type": "markdown",
   "metadata": {},
   "source": [
    "Se realiza el filtrado de la información con un suavizado anual para solo captar variaciones interanuales."
   ]
  },
  {
   "cell_type": "code",
   "execution_count": null,
   "metadata": {
    "ExecuteTime": {
     "end_time": "2020-02-18T18:25:34.174134Z",
     "start_time": "2020-02-18T18:25:33.095Z"
    }
   },
   "outputs": [],
   "source": [
    "for la in range (sla_copy.shape[1]):\n",
    "    for lo in range(sla_copy.shape[2]):\n",
    "        a=sla_copy[:,la,lo]\n",
    "        serie_test=pd.Series(a,index=date)\n",
    "        serie_rolling=serie_test.rolling(30).mean()\n",
    "#         serie_rolling=serie_rolling\n",
    "        sla_copy[:,la,lo]=serie_rolling.values"
   ]
  },
  {
   "cell_type": "markdown",
   "metadata": {},
   "source": [
    "## Hovmoller con las longitudes"
   ]
  },
  {
   "cell_type": "code",
   "execution_count": null,
   "metadata": {
    "ExecuteTime": {
     "end_time": "2020-02-18T18:25:34.175120Z",
     "start_time": "2020-02-18T18:25:33.180Z"
    }
   },
   "outputs": [],
   "source": [
    "fig=plt.figure(figsize=(10,13))\n",
    "\n",
    "gs = gsa.GridSpec(nrows=2, ncols=1,height_ratios=[1,6],hspace=0.2)\n",
    "\n",
    "x_tick_labels = [u'120\\N{DEGREE SIGN}W', u'110\\N{DEGREE SIGN}W',\n",
    "                 u'100\\N{DEGREE SIGN}W', u'90\\N{DEGREE SIGN}W',\n",
    "                 u'80\\N{DEGREE SIGN}W']\n",
    "\n",
    "y_tick_labels = [u'-2\\N{DEGREE SIGN}N', u'0\\N{DEGREE SIGN}N',\n",
    "                 u'2\\N{DEGREE SIGN}N', u'4\\N{DEGREE SIGN}N',\n",
    "                 u'6\\N{DEGREE SIGN}N',u'8\\N{DEGREE SIGN}N']\n",
    "\n",
    "xlocs=np.arange(-120, -60, 10)\n",
    "ylocs=np.arange(-3,10,2)\n",
    "\n",
    "# Acerca del primer subplot\n",
    "ax1 = fig.add_subplot(gs[0, 0], projection=ccrs.PlateCarree())\n",
    "ax1.set_extent([lon[0], lon[-1], lat[0],lat[-1]], ccrs.PlateCarree())\n",
    "ax1.coastlines('50m')\n",
    "ax1.add_feature(cartopy.feature.LAND, zorder=0,facecolor='#B1B2B4')\n",
    "ax1.plot([lon[0],lon[-1]],[lat[27],lat[27]],color='red',transform=ccrs.PlateCarree())\n",
    "\n",
    "gl = ax1.gridlines(crs=ccrs.PlateCarree(), draw_labels=True,\n",
    "                  linewidth=2, color='gray', alpha=0.2, linestyle='--',\n",
    "                   xlocs=xlocs,ylocs=ylocs)\n",
    "gl.xformatter = LONGITUDE_FORMATTER\n",
    "gl.yformatter = LATITUDE_FORMATTER\n",
    "gl.xlabel_style = {'size': 13, 'color': 'black'}\n",
    "gl.ylabel_style = {'size': 13, 'color': 'black'}\n",
    "\n",
    "# plt.title('CMEMS Reanalysis',y=1.3, loc='right',fontsize=18)\n",
    "\n",
    "# Acerca del segundo subplot\n",
    "ax2 = fig.add_subplot(gs[1, 0])\n",
    "ax2.invert_yaxis()  # Reverse the time order to do oldest first\n",
    "ax2.set_title('Diagrama de Hovmoller para lat: '+str(lat[27])+\"°N\",fontsize=18)\n",
    "\n",
    "x,y=np.meshgrid(lon,new_array)\n",
    "cf=ax2.contourf(x,y,sla_copy[:,27,:],20,cmap=\"jet\")\n",
    "cr=ax2.contour(x,y,sla_copy[:,27,:],20,colors=\"k\",linewidths=0.3)\n",
    "cbar = plt.colorbar(cf, orientation='horizontal', pad=0.08, aspect=50)\n",
    "cbar.set_label('m',fontsize=15)\n",
    "cbar.ax.tick_params(labelsize=15) \n",
    "\n",
    "ax2.set_xticks(np.array(xlocs)+360)\n",
    "ax2.set_xticklabels(x_tick_labels)\n",
    "ax2.set_ylim((new_array[-1],new_array[365]))\n",
    "\n",
    "ax2.tick_params(labelsize=15)\n",
    "plt.savefig('./Plots/hovmoller_lon.png',dpi=600,bbox_inches=\"tight\")"
   ]
  },
  {
   "cell_type": "markdown",
   "metadata": {},
   "source": [
    "### Interpolando los datos a resoluciones espaciales menores."
   ]
  },
  {
   "cell_type": "code",
   "execution_count": null,
   "metadata": {
    "ExecuteTime": {
     "end_time": "2020-02-18T18:25:34.176238Z",
     "start_time": "2020-02-18T18:25:33.270Z"
    }
   },
   "outputs": [],
   "source": [
    "new_lon=np.arange(240,286,1)\n",
    "sla_copy_mod=np.zeros((sla_copy.shape[0],len(new_lon)))\n",
    "for i in range(sla_copy.shape[0]):\n",
    "    sla_copy_mod[i,:]=np.interp(new_lon,lon,sla_copy[i,27,:])"
   ]
  },
  {
   "cell_type": "code",
   "execution_count": null,
   "metadata": {
    "ExecuteTime": {
     "end_time": "2020-02-18T18:25:34.177337Z",
     "start_time": "2020-02-18T18:25:33.274Z"
    },
    "scrolled": true
   },
   "outputs": [],
   "source": [
    "sla_copy_mod.shape"
   ]
  },
  {
   "cell_type": "code",
   "execution_count": null,
   "metadata": {
    "ExecuteTime": {
     "end_time": "2020-02-18T18:25:34.178434Z",
     "start_time": "2020-02-18T18:25:33.279Z"
    }
   },
   "outputs": [],
   "source": [
    "fig=plt.figure(figsize=(10,13))\n",
    "\n",
    "gs = gsa.GridSpec(nrows=2, ncols=1,height_ratios=[1,6],hspace=0.2)\n",
    "\n",
    "x_tick_labels = [u'120\\N{DEGREE SIGN}W', u'110\\N{DEGREE SIGN}W',\n",
    "                 u'100\\N{DEGREE SIGN}W', u'90\\N{DEGREE SIGN}W',\n",
    "                 u'80\\N{DEGREE SIGN}W']\n",
    "\n",
    "y_tick_labels = [u'-2\\N{DEGREE SIGN}N', u'0\\N{DEGREE SIGN}N',\n",
    "                 u'2\\N{DEGREE SIGN}N', u'4\\N{DEGREE SIGN}N',\n",
    "                 u'6\\N{DEGREE SIGN}N',u'8\\N{DEGREE SIGN}N']\n",
    "\n",
    "xlocs=np.arange(-120, -60, 10)\n",
    "ylocs=np.arange(-3,10,2)\n",
    "\n",
    "# Acerca del primer subplot\n",
    "ax1 = fig.add_subplot(gs[0, 0], projection=ccrs.PlateCarree())\n",
    "ax1.set_extent([lon[0], lon[-1], lat[0],lat[-1]], ccrs.PlateCarree())\n",
    "ax1.coastlines('50m')\n",
    "ax1.add_feature(cartopy.feature.LAND, zorder=0,facecolor='#B1B2B4')\n",
    "ax1.plot([lon[0],lon[-1]],[lat[27],lat[27]],color='red',transform=ccrs.PlateCarree())\n",
    "\n",
    "gl = ax1.gridlines(crs=ccrs.PlateCarree(), draw_labels=True,\n",
    "                  linewidth=2, color='gray', alpha=0.2, linestyle='--',\n",
    "                   xlocs=xlocs,ylocs=ylocs)\n",
    "gl.xformatter = LONGITUDE_FORMATTER\n",
    "gl.yformatter = LATITUDE_FORMATTER\n",
    "gl.xlabel_style = {'size': 13, 'color': 'black'}\n",
    "gl.ylabel_style = {'size': 13, 'color': 'black'}\n",
    "\n",
    "# plt.title('CMEMS Reanalysis',y=1.3, loc='right',fontsize=18)\n",
    "\n",
    "# Acerca del segundo subplot\n",
    "ax2 = fig.add_subplot(gs[1, 0])\n",
    "ax2.invert_yaxis()  # Reverse the time order to do oldest first\n",
    "ax2.set_title('Diagrama de Hovmoller para lat: '+str(lat[27])+\"°N\",fontsize=18)\n",
    "\n",
    "x,y=np.meshgrid(new_lon,new_array)\n",
    "cf=ax2.contourf(x,y,sla_copy_mod[:,:],20,cmap=\"jet\")\n",
    "cr=ax2.contour(x,y,sla_copy_mod[:,:],20,colors=\"k\",linewidths=0.3)\n",
    "cbar = plt.colorbar(cf, orientation='horizontal', pad=0.08, aspect=50)\n",
    "cbar.set_label('m',fontsize=15)\n",
    "cbar.ax.tick_params(labelsize=15) \n",
    "\n",
    "ax2.set_xticks(np.array(xlocs)+360)\n",
    "ax2.set_xticklabels(x_tick_labels)\n",
    "ax2.set_ylim((new_array[2300],new_array[1400]))\n",
    "\n",
    "ax2.tick_params(labelsize=15)\n",
    "plt.savefig('./Plots/hovmoller_lon_mod.png',dpi=600,bbox_inches=\"tight\")"
   ]
  },
  {
   "cell_type": "markdown",
   "metadata": {},
   "source": [
    "**La pregunta de investigación que surgiría es: ¿Los incrementos de nivel del mar en Buenaventura (tasas altas) se han registrado antes en una mayor longitud (mar adentro)?**"
   ]
  },
  {
   "cell_type": "markdown",
   "metadata": {},
   "source": [
    "## Hovmoller con las latitudes"
   ]
  },
  {
   "cell_type": "code",
   "execution_count": null,
   "metadata": {
    "ExecuteTime": {
     "end_time": "2020-02-18T18:25:34.179595Z",
     "start_time": "2020-02-18T18:25:33.454Z"
    }
   },
   "outputs": [],
   "source": [
    "fig=plt.figure(figsize=(10,13))\n",
    "\n",
    "gs = gsa.GridSpec(nrows=2, ncols=1,height_ratios=[1,6],hspace=0.2)\n",
    "\n",
    "x_tick_labels = [u'120\\N{DEGREE SIGN}W', u'110\\N{DEGREE SIGN}W',\n",
    "                 u'100\\N{DEGREE SIGN}W', u'90\\N{DEGREE SIGN}W',\n",
    "                 u'80\\N{DEGREE SIGN}W']\n",
    "\n",
    "y_tick_labels = [u'-2\\N{DEGREE SIGN}N', u'0\\N{DEGREE SIGN}N',\n",
    "                 u'2\\N{DEGREE SIGN}N', u'4\\N{DEGREE SIGN}N',\n",
    "                 u'6\\N{DEGREE SIGN}N',u'8\\N{DEGREE SIGN}N']\n",
    "\n",
    "xlocs=np.arange(-120, -60, 10)\n",
    "ylocs=np.arange(-3,10,2)\n",
    "\n",
    "# Acerca del primer subplot\n",
    "ax1 = fig.add_subplot(gs[0, 0], projection=ccrs.PlateCarree())\n",
    "ax1.set_extent([lon[0], lon[-1], lat[0],lat[-1]], ccrs.PlateCarree())\n",
    "ax1.coastlines('50m')\n",
    "ax1.add_feature(cartopy.feature.LAND, zorder=0,facecolor='#B1B2B4')\n",
    "ax1.plot([lon[150],lon[150]],[lat[0],lat[-1]],color='red',transform=ccrs.PlateCarree())\n",
    "\n",
    "gl = ax1.gridlines(crs=ccrs.PlateCarree(), draw_labels=True,\n",
    "                  linewidth=2, color='gray', alpha=0.2, linestyle='--',\n",
    "                   xlocs=xlocs,ylocs=ylocs)\n",
    "gl.xformatter = LONGITUDE_FORMATTER\n",
    "gl.yformatter = LATITUDE_FORMATTER\n",
    "gl.xlabel_style = {'size': 13, 'color': 'black'}\n",
    "gl.ylabel_style = {'size': 13, 'color': 'black'}\n",
    "\n",
    "# plt.title('CMEMS Reanalysis',y=1.3, loc='right',fontsize=18)\n",
    "\n",
    "# Acerca del segundo subplot\n",
    "ax2 = fig.add_subplot(gs[1, 0])\n",
    "ax2.set_title('Diagrama de Hovmoller para lon: '+str(360-lon[150])+\"°W\",fontsize=18)\n",
    "\n",
    "x,y=np.meshgrid(new_array,lat)\n",
    "cf=ax2.contourf(x,y,sla[:,:,150].T,10,cmap=\"jet\")\n",
    "cr=ax2.contour(x,y,sla[:,:,150].T,10,colors=\"k\",linewidths=0.3)\n",
    "cbar = plt.colorbar(cf, orientation='horizontal', pad=0.08, aspect=50)\n",
    "cbar.set_label('m',fontsize=15)\n",
    "cbar.ax.tick_params(labelsize=15) \n",
    "\n",
    "# ax2.set_xticks(np.array(xlocs)+360)\n",
    "# ax2.set_xticklabels(x_tick_labels)\n",
    "ax2.set_xlim((new_array[365],new_array[-1]))\n",
    "\n",
    "ax2.tick_params(labelsize=15)"
   ]
  },
  {
   "cell_type": "markdown",
   "metadata": {},
   "source": [
    "Revisando el diagrama de Hovmoller para las longitudes puede intuirse que si existe una zona más hacia el oeste donde también ocurren las altas tasas de nivel medio del mar que se registran en Buenaventura.\n",
    "\n",
    "Para comparar las tasas de nivel medio del mar de 2016-2019 (zona con mayores incrementos) con otros períodos, se calculan las tasas de cambio en ventanas de 3 años"
   ]
  },
  {
   "cell_type": "markdown",
   "metadata": {},
   "source": [
    "# Recopilando la información y análisis de 2019"
   ]
  },
  {
   "cell_type": "code",
   "execution_count": 85,
   "metadata": {
    "ExecuteTime": {
     "end_time": "2020-02-18T19:18:59.567547Z",
     "start_time": "2020-02-18T19:18:59.561079Z"
    }
   },
   "outputs": [],
   "source": [
    "# fecha_inicio=datetime(1970,1,1)\n",
    "# fecha_inicio2=datetime(1988,1,1)\n",
    "# fecha_fin=datetime(2019,1,1)\n",
    "# fecha_fin2=datetime(1986,1,1)"
   ]
  },
  {
   "cell_type": "markdown",
   "metadata": {},
   "source": [
    "## Cargue de información de nivel del mar"
   ]
  },
  {
   "cell_type": "code",
   "execution_count": 14,
   "metadata": {
    "ExecuteTime": {
     "end_time": "2020-03-03T04:31:16.699436Z",
     "start_time": "2020-03-03T04:29:56.994411Z"
    },
    "scrolled": false
   },
   "outputs": [],
   "source": [
    "df_nmm=pd.read_csv(r\"../Dataset/rqh0085a.csv\")\n",
    "fechas=[datetime(df_nmm.Year.loc[i],df_nmm.Month.loc[i],df_nmm.Day.loc[i],df_nmm.Hour.loc[i]) for i in range(len(df_nmm))]\n",
    "serie_nmm=pd.Series(data=df_nmm.nmm.values/1000,index=fechas)\n",
    "# serie_nmm=serie_nmm[fecha_inicio:]"
   ]
  },
  {
   "cell_type": "code",
   "execution_count": 20,
   "metadata": {
    "ExecuteTime": {
     "end_time": "2020-03-03T04:32:05.461028Z",
     "start_time": "2020-03-03T04:32:04.246198Z"
    }
   },
   "outputs": [
    {
     "data": {
      "text/plain": [
       "[<matplotlib.lines.Line2D at 0x7f8962dede10>]"
      ]
     },
     "execution_count": 20,
     "metadata": {},
     "output_type": "execute_result"
    },
    {
     "data": {
      "image/png": "[encoded data removed]",
      "text/plain": [
       "<Figure size 576x396 with 1 Axes>"
      ]
     },
     "metadata": {},
     "output_type": "display_data"
    }
   ],
   "source": [
    "plt.plot(serie_nmm)"
   ]
  },
  {
   "cell_type": "markdown",
   "metadata": {},
   "source": [
    "## Calculando el porcentaje de datos faltantes por año:"
   ]
  },
  {
   "cell_type": "code",
   "execution_count": 16,
   "metadata": {
    "ExecuteTime": {
     "end_time": "2020-03-03T04:31:18.171177Z",
     "start_time": "2020-03-03T04:31:17.770445Z"
    }
   },
   "outputs": [],
   "source": [
    "data_nmm=pd.DataFrame(serie_nmm,columns=[\"nmm\"])\n",
    "data_nmm[\"year\"]=data_nmm.index.year\n",
    "data_nmm_year=data_nmm.groupby(\"year\").count()"
   ]
  },
  {
   "cell_type": "code",
   "execution_count": 17,
   "metadata": {
    "ExecuteTime": {
     "end_time": "2020-03-03T04:31:18.199021Z",
     "start_time": "2020-03-03T04:31:18.173346Z"
    }
   },
   "outputs": [],
   "source": [
    "porcentajes=np.zeros((int(len(data_nmm_year.index)),1))\n",
    "for i,z in enumerate(data_nmm_year.index):\n",
    "    d=(lambda year : (year % 400 == 0) or (year % 4 == 0 and year % 100 != 0))(z)\n",
    "    if d==True:\n",
    "        dv=366*24\n",
    "        porcentajes[i]=((dv-data_nmm_year.nmm[z])/(dv))*100\n",
    "    else:\n",
    "        dv=365*24\n",
    "        porcentajes[i]=((dv-data_nmm_year.nmm[z])/(dv))*100"
   ]
  },
  {
   "cell_type": "code",
   "execution_count": 18,
   "metadata": {
    "ExecuteTime": {
     "end_time": "2020-03-03T04:31:18.319809Z",
     "start_time": "2020-03-03T04:31:18.201717Z"
    }
   },
   "outputs": [],
   "source": [
    "df_faltantes=pd.DataFrame(porcentajes,index=data_nmm_year.index,columns=[\"Datos faltantes [%]\"])"
   ]
  },
  {
   "cell_type": "code",
   "execution_count": 22,
   "metadata": {
    "ExecuteTime": {
     "end_time": "2020-03-03T04:33:27.300831Z",
     "start_time": "2020-03-03T04:33:26.958956Z"
    }
   },
   "outputs": [
    {
     "data": {
      "text/plain": [
       "[<matplotlib.lines.Line2D at 0x7f89618e1f28>]"
      ]
     },
     "execution_count": 22,
     "metadata": {},
     "output_type": "execute_result"
    },
    {
     "data": {
      "image/png": "[encoded data removed]",
      "text/plain": [
       "<Figure size 576x396 with 1 Axes>"
      ]
     },
     "metadata": {},
     "output_type": "display_data"
    }
   ],
   "source": [
    "plt.plot(df_faltantes)"
   ]
  },
  {
   "cell_type": "markdown",
   "metadata": {},
   "source": [
    "## Determinación de la marea astronómica"
   ]
  },
  {
   "cell_type": "markdown",
   "metadata": {},
   "source": [
    "La herramienta empleada es Pytides, una librería de Python que realiza el análisis armónico de la marea."
   ]
  },
  {
   "cell_type": "code",
   "execution_count": 23,
   "metadata": {
    "ExecuteTime": {
     "end_time": "2020-03-03T04:35:15.512603Z",
     "start_time": "2020-03-03T04:35:15.402100Z"
    }
   },
   "outputs": [],
   "source": [
    "serie_real=serie_nmm-np.mean(serie_nmm) #Anomalías de la serie"
   ]
  },
  {
   "cell_type": "code",
   "execution_count": 24,
   "metadata": {
    "ExecuteTime": {
     "end_time": "2020-03-03T04:36:03.021536Z",
     "start_time": "2020-03-03T04:36:03.007642Z"
    }
   },
   "outputs": [],
   "source": [
    "#Script de Víctor Saavedra\n",
    "\n",
    "# marea = niveles-nmm\n",
    "# tide = Tide.decompose(marea, tiempos)\n",
    "# tide1 = Tide(model = tide.model, radians = False)\n",
    "# astronomica = tide1.at(tiempos)\n",
    "# meteo = marea-tide1.at(tiempos)"
   ]
  },
  {
   "cell_type": "code",
   "execution_count": 25,
   "metadata": {
    "ExecuteTime": {
     "end_time": "2020-03-03T04:38:06.432441Z",
     "start_time": "2020-03-03T04:36:04.748008Z"
    }
   },
   "outputs": [],
   "source": [
    "tide = Tide.decompose(serie_real.values,serie_real.index)"
   ]
  },
  {
   "cell_type": "code",
   "execution_count": 26,
   "metadata": {
    "ExecuteTime": {
     "end_time": "2020-03-03T04:38:06.446953Z",
     "start_time": "2020-03-03T04:38:06.438012Z"
    }
   },
   "outputs": [],
   "source": [
    "tide1 = Tide(model = tide.model, radians = False)"
   ]
  },
  {
   "cell_type": "code",
   "execution_count": 27,
   "metadata": {
    "ExecuteTime": {
     "end_time": "2020-03-03T04:38:28.737698Z",
     "start_time": "2020-03-03T04:38:10.331586Z"
    }
   },
   "outputs": [],
   "source": [
    "astronomica = tide1.at(serie_real.index)\n",
    "serie_astronomica=pd.Series(astronomica,index=serie_real.index)\n",
    "# serie_astronomica.to_csv(\"astronomica_buenaventura.csv\")"
   ]
  },
  {
   "cell_type": "code",
   "execution_count": 28,
   "metadata": {
    "ExecuteTime": {
     "end_time": "2020-03-03T04:38:33.671852Z",
     "start_time": "2020-03-03T04:38:33.654629Z"
    }
   },
   "outputs": [],
   "source": [
    "serie_residual=serie_real-serie_astronomica"
   ]
  },
  {
   "cell_type": "code",
   "execution_count": 29,
   "metadata": {
    "ExecuteTime": {
     "end_time": "2020-03-03T04:38:37.307133Z",
     "start_time": "2020-03-03T04:38:36.804548Z"
    }
   },
   "outputs": [
    {
     "data": {
      "text/plain": [
       "(array([711858., 715510., 719163., 722815., 726468., 730120., 733773.,\n",
       "        737425.]), <a list of 8 Text xticklabel objects>)"
      ]
     },
     "execution_count": 29,
     "metadata": {},
     "output_type": "execute_result"
    },
    {
     "data": {
      "image/png": "[encoded data removed]",
      "text/plain": [
       "<Figure size 576x396 with 1 Axes>"
      ]
     },
     "metadata": {},
     "output_type": "display_data"
    }
   ],
   "source": [
    "plt.figure()\n",
    "plt.plot(serie_residual)\n",
    "plt.xticks(rotation=30)\n"
   ]
  },
  {
   "cell_type": "code",
   "execution_count": 97,
   "metadata": {
    "ExecuteTime": {
     "end_time": "2020-02-18T19:26:17.528180Z",
     "start_time": "2020-02-18T19:26:17.404490Z"
    }
   },
   "outputs": [
    {
     "data": {
      "application/javascript": [
       "/* Put everything inside the global mpl namespace */\n",
       "window.mpl = {};\n",
       "\n",
       "\n",
       "mpl.get_websocket_type = function() {\n",
       "    if (typeof(WebSocket) !== 'undefined') {\n",
       "        return WebSocket;\n",
       "    } else if (typeof(MozWebSocket) !== 'undefined') {\n",
       "        return MozWebSocket;\n",
       "    } else {\n",
       "        alert('Your browser does not have WebSocket support. ' +\n",
       "              'Please try Chrome, Safari or Firefox ≥ 6. ' +\n",
       "              'Firefox 4 and 5 are also supported but you ' +\n",
       "              'have to enable WebSockets in about:config.');\n",
       "    };\n",
       "}\n",
       "\n",
       "mpl.figure = function(figure_id, websocket, ondownload, parent_element) {\n",
       "    this.id = figure_id;\n",
       "\n",
       "    this.ws = websocket;\n",
       "\n",
       "    this.supports_binary = (this.ws.binaryType != undefined);\n",
       "\n",
       "    if (!this.supports_binary) {\n",
       "        var warnings = document.getElementById(\"mpl-warnings\");\n",
       "        if (warnings) {\n",
       "            warnings.style.display = 'block';\n",
       "            warnings.textContent = (\n",
       "                \"This browser does not support binary websocket messages. \" +\n",
       "                    \"Performance may be slow.\");\n",
       "        }\n",
       "    }\n",
       "\n",
       "    this.imageObj = new Image();\n",
       "\n",
       "    this.context = undefined;\n",
       "    this.message = undefined;\n",
       "    this.canvas = undefined;\n",
       "    this.rubberband_canvas = undefined;\n",
       "    this.rubberband_context = undefined;\n",
       "    this.format_dropdown = undefined;\n",
       "\n",
       "    this.image_mode = 'full';\n",
       "\n",
       "    this.root = $('<div/>');\n",
       "    this._root_extra_style(this.root)\n",
       "    this.root.attr('style', 'display: inline-block');\n",
       "\n",
       "    $(parent_element).append(this.root);\n",
       "\n",
       "    this._init_header(this);\n",
       "    this._init_canvas(this);\n",
       "    this._init_toolbar(this);\n",
       "\n",
       "    var fig = this;\n",
       "\n",
       "    this.waiting = false;\n",
       "\n",
       "    this.ws.onopen =  function () {\n",
       "            fig.send_message(\"supports_binary\", {value: fig.supports_binary});\n",
       "            fig.send_message(\"send_image_mode\", {});\n",
       "            if (mpl.ratio != 1) {\n",
       "                fig.send_message(\"set_dpi_ratio\", {'dpi_ratio': mpl.ratio});\n",
       "            }\n",
       "            fig.send_message(\"refresh\", {});\n",
       "        }\n",
       "\n",
       "    this.imageObj.onload = function() {\n",
       "            if (fig.image_mode == 'full') {\n",
       "                // Full images could contain transparency (where diff images\n",
       "                // almost always do), so we need to clear the canvas so that\n",
       "                // there is no ghosting.\n",
       "                fig.context.clearRect(0, 0, fig.canvas.width, fig.canvas.height);\n",
       "            }\n",
       "            fig.context.drawImage(fig.imageObj, 0, 0);\n",
       "        };\n",
       "\n",
       "    this.imageObj.onunload = function() {\n",
       "        fig.ws.close();\n",
       "    }\n",
       "\n",
       "    this.ws.onmessage = this._make_on_message_function(this);\n",
       "\n",
       "    this.ondownload = ondownload;\n",
       "}\n",
       "\n",
       "mpl.figure.prototype._init_header = function() {\n",
       "    var titlebar = $(\n",
       "        '<div class=\"ui-dialog-titlebar ui-widget-header ui-corner-all ' +\n",
       "        'ui-helper-clearfix\"/>');\n",
       "    var titletext = $(\n",
       "        '<div class=\"ui-dialog-title\" style=\"width: 100%; ' +\n",
       "        'text-align: center; padding: 3px;\"/>');\n",
       "    titlebar.append(titletext)\n",
       "    this.root.append(titlebar);\n",
       "    this.header = titletext[0];\n",
       "}\n",
       "\n",
       "\n",
       "\n",
       "mpl.figure.prototype._canvas_extra_style = function(canvas_div) {\n",
       "\n",
       "}\n",
       "\n",
       "\n",
       "mpl.figure.prototype._root_extra_style = function(canvas_div) {\n",
       "\n",
       "}\n",
       "\n",
       "mpl.figure.prototype._init_canvas = function() {\n",
       "    var fig = this;\n",
       "\n",
       "    var canvas_div = $('<div/>');\n",
       "\n",
       "    canvas_div.attr('style', 'position: relative; clear: both; outline: 0');\n",
       "\n",
       "    function canvas_keyboard_event(event) {\n",
       "        return fig.key_event(event, event['data']);\n",
       "    }\n",
       "\n",
       "    canvas_div.keydown('key_press', canvas_keyboard_event);\n",
       "    canvas_div.keyup('key_release', canvas_keyboard_event);\n",
       "    this.canvas_div = canvas_div\n",
       "    this._canvas_extra_style(canvas_div)\n",
       "    this.root.append(canvas_div);\n",
       "\n",
       "    var canvas = $('<canvas/>');\n",
       "    canvas.addClass('mpl-canvas');\n",
       "    canvas.attr('style', \"left: 0; top: 0; z-index: 0; outline: 0\")\n",
       "\n",
       "    this.canvas = canvas[0];\n",
       "    this.context = canvas[0].getContext(\"2d\");\n",
       "\n",
       "    var backingStore = this.context.backingStorePixelRatio ||\n",
       "\tthis.context.webkitBackingStorePixelRatio ||\n",
       "\tthis.context.mozBackingStorePixelRatio ||\n",
       "\tthis.context.msBackingStorePixelRatio ||\n",
       "\tthis.context.oBackingStorePixelRatio ||\n",
       "\tthis.context.backingStorePixelRatio || 1;\n",
       "\n",
       "    mpl.ratio = (window.devicePixelRatio || 1) / backingStore;\n",
       "\n",
       "    var rubberband = $('<canvas/>');\n",
       "    rubberband.attr('style', \"position: absolute; left: 0; top: 0; z-index: 1;\")\n",
       "\n",
       "    var pass_mouse_events = true;\n",
       "\n",
       "    canvas_div.resizable({\n",
       "        start: function(event, ui) {\n",
       "            pass_mouse_events = false;\n",
       "        },\n",
       "        resize: function(event, ui) {\n",
       "            fig.request_resize(ui.size.width, ui.size.height);\n",
       "        },\n",
       "        stop: function(event, ui) {\n",
       "            pass_mouse_events = true;\n",
       "            fig.request_resize(ui.size.width, ui.size.height);\n",
       "        },\n",
       "    });\n",
       "\n",
       "    function mouse_event_fn(event) {\n",
       "        if (pass_mouse_events)\n",
       "            return fig.mouse_event(event, event['data']);\n",
       "    }\n",
       "\n",
       "    rubberband.mousedown('button_press', mouse_event_fn);\n",
       "    rubberband.mouseup('button_release', mouse_event_fn);\n",
       "    // Throttle sequential mouse events to 1 every 20ms.\n",
       "    rubberband.mousemove('motion_notify', mouse_event_fn);\n",
       "\n",
       "    rubberband.mouseenter('figure_enter', mouse_event_fn);\n",
       "    rubberband.mouseleave('figure_leave', mouse_event_fn);\n",
       "\n",
       "    canvas_div.on(\"wheel\", function (event) {\n",
       "        event = event.originalEvent;\n",
       "        event['data'] = 'scroll'\n",
       "        if (event.deltaY < 0) {\n",
       "            event.step = 1;\n",
       "        } else {\n",
       "            event.step = -1;\n",
       "        }\n",
       "        mouse_event_fn(event);\n",
       "    });\n",
       "\n",
       "    canvas_div.append(canvas);\n",
       "    canvas_div.append(rubberband);\n",
       "\n",
       "    this.rubberband = rubberband;\n",
       "    this.rubberband_canvas = rubberband[0];\n",
       "    this.rubberband_context = rubberband[0].getContext(\"2d\");\n",
       "    this.rubberband_context.strokeStyle = \"#000000\";\n",
       "\n",
       "    this._resize_canvas = function(width, height) {\n",
       "        // Keep the size of the canvas, canvas container, and rubber band\n",
       "        // canvas in synch.\n",
       "        canvas_div.css('width', width)\n",
       "        canvas_div.css('height', height)\n",
       "\n",
       "        canvas.attr('width', width * mpl.ratio);\n",
       "        canvas.attr('height', height * mpl.ratio);\n",
       "        canvas.attr('style', 'width: ' + width + 'px; height: ' + height + 'px;');\n",
       "\n",
       "        rubberband.attr('width', width);\n",
       "        rubberband.attr('height', height);\n",
       "    }\n",
       "\n",
       "    // Set the figure to an initial 600x600px, this will subsequently be updated\n",
       "    // upon first draw.\n",
       "    this._resize_canvas(600, 600);\n",
       "\n",
       "    // Disable right mouse context menu.\n",
       "    $(this.rubberband_canvas).bind(\"contextmenu\",function(e){\n",
       "        return false;\n",
       "    });\n",
       "\n",
       "    function set_focus () {\n",
       "        canvas.focus();\n",
       "        canvas_div.focus();\n",
       "    }\n",
       "\n",
       "    window.setTimeout(set_focus, 100);\n",
       "}\n",
       "\n",
       "mpl.figure.prototype._init_toolbar = function() {\n",
       "    var fig = this;\n",
       "\n",
       "    var nav_element = $('<div/>');\n",
       "    nav_element.attr('style', 'width: 100%');\n",
       "    this.root.append(nav_element);\n",
       "\n",
       "    // Define a callback function for later on.\n",
       "    function toolbar_event(event) {\n",
       "        return fig.toolbar_button_onclick(event['data']);\n",
       "    }\n",
       "    function toolbar_mouse_event(event) {\n",
       "        return fig.toolbar_button_onmouseover(event['data']);\n",
       "    }\n",
       "\n",
       "    for(var toolbar_ind in mpl.toolbar_items) {\n",
       "        var name = mpl.toolbar_items[toolbar_ind][0];\n",
       "        var tooltip = mpl.toolbar_items[toolbar_ind][1];\n",
       "        var image = mpl.toolbar_items[toolbar_ind][2];\n",
       "        var method_name = mpl.toolbar_items[toolbar_ind][3];\n",
       "\n",
       "        if (!name) {\n",
       "            // put a spacer in here.\n",
       "            continue;\n",
       "        }\n",
       "        var button = $('<button/>');\n",
       "        button.addClass('ui-button ui-widget ui-state-default ui-corner-all ' +\n",
       "                        'ui-button-icon-only');\n",
       "        button.attr('role', 'button');\n",
       "        button.attr('aria-disabled', 'false');\n",
       "        button.click(method_name, toolbar_event);\n",
       "        button.mouseover(tooltip, toolbar_mouse_event);\n",
       "\n",
       "        var icon_img = $('<span/>');\n",
       "        icon_img.addClass('ui-button-icon-primary ui-icon');\n",
       "        icon_img.addClass(image);\n",
       "        icon_img.addClass('ui-corner-all');\n",
       "\n",
       "        var tooltip_span = $('<span/>');\n",
       "        tooltip_span.addClass('ui-button-text');\n",
       "        tooltip_span.html(tooltip);\n",
       "\n",
       "        button.append(icon_img);\n",
       "        button.append(tooltip_span);\n",
       "\n",
       "        nav_element.append(button);\n",
       "    }\n",
       "\n",
       "    var fmt_picker_span = $('<span/>');\n",
       "\n",
       "    var fmt_picker = $('<select/>');\n",
       "    fmt_picker.addClass('mpl-toolbar-option ui-widget ui-widget-content');\n",
       "    fmt_picker_span.append(fmt_picker);\n",
       "    nav_element.append(fmt_picker_span);\n",
       "    this.format_dropdown = fmt_picker[0];\n",
       "\n",
       "    for (var ind in mpl.extensions) {\n",
       "        var fmt = mpl.extensions[ind];\n",
       "        var option = $(\n",
       "            '<option/>', {selected: fmt === mpl.default_extension}).html(fmt);\n",
       "        fmt_picker.append(option);\n",
       "    }\n",
       "\n",
       "    // Add hover states to the ui-buttons\n",
       "    $( \".ui-button\" ).hover(\n",
       "        function() { $(this).addClass(\"ui-state-hover\");},\n",
       "        function() { $(this).removeClass(\"ui-state-hover\");}\n",
       "    );\n",
       "\n",
       "    var status_bar = $('<span class=\"mpl-message\"/>');\n",
       "    nav_element.append(status_bar);\n",
       "    this.message = status_bar[0];\n",
       "}\n",
       "\n",
       "mpl.figure.prototype.request_resize = function(x_pixels, y_pixels) {\n",
       "    // Request matplotlib to resize the figure. Matplotlib will then trigger a resize in the client,\n",
       "    // which will in turn request a refresh of the image.\n",
       "    this.send_message('resize', {'width': x_pixels, 'height': y_pixels});\n",
       "}\n",
       "\n",
       "mpl.figure.prototype.send_message = function(type, properties) {\n",
       "    properties['type'] = type;\n",
       "    properties['figure_id'] = this.id;\n",
       "    this.ws.send(JSON.stringify(properties));\n",
       "}\n",
       "\n",
       "mpl.figure.prototype.send_draw_message = function() {\n",
       "    if (!this.waiting) {\n",
       "        this.waiting = true;\n",
       "        this.ws.send(JSON.stringify({type: \"draw\", figure_id: this.id}));\n",
       "    }\n",
       "}\n",
       "\n",
       "\n",
       "mpl.figure.prototype.handle_save = function(fig, msg) {\n",
       "    var format_dropdown = fig.format_dropdown;\n",
       "    var format = format_dropdown.options[format_dropdown.selectedIndex].value;\n",
       "    fig.ondownload(fig, format);\n",
       "}\n",
       "\n",
       "\n",
       "mpl.figure.prototype.handle_resize = function(fig, msg) {\n",
       "    var size = msg['size'];\n",
       "    if (size[0] != fig.canvas.width || size[1] != fig.canvas.height) {\n",
       "        fig._resize_canvas(size[0], size[1]);\n",
       "        fig.send_message(\"refresh\", {});\n",
       "    };\n",
       "}\n",
       "\n",
       "mpl.figure.prototype.handle_rubberband = function(fig, msg) {\n",
       "    var x0 = msg['x0'] / mpl.ratio;\n",
       "    var y0 = (fig.canvas.height - msg['y0']) / mpl.ratio;\n",
       "    var x1 = msg['x1'] / mpl.ratio;\n",
       "    var y1 = (fig.canvas.height - msg['y1']) / mpl.ratio;\n",
       "    x0 = Math.floor(x0) + 0.5;\n",
       "    y0 = Math.floor(y0) + 0.5;\n",
       "    x1 = Math.floor(x1) + 0.5;\n",
       "    y1 = Math.floor(y1) + 0.5;\n",
       "    var min_x = Math.min(x0, x1);\n",
       "    var min_y = Math.min(y0, y1);\n",
       "    var width = Math.abs(x1 - x0);\n",
       "    var height = Math.abs(y1 - y0);\n",
       "\n",
       "    fig.rubberband_context.clearRect(\n",
       "        0, 0, fig.canvas.width / mpl.ratio, fig.canvas.height / mpl.ratio);\n",
       "\n",
       "    fig.rubberband_context.strokeRect(min_x, min_y, width, height);\n",
       "}\n",
       "\n",
       "mpl.figure.prototype.handle_figure_label = function(fig, msg) {\n",
       "    // Updates the figure title.\n",
       "    fig.header.textContent = msg['label'];\n",
       "}\n",
       "\n",
       "mpl.figure.prototype.handle_cursor = function(fig, msg) {\n",
       "    var cursor = msg['cursor'];\n",
       "    switch(cursor)\n",
       "    {\n",
       "    case 0:\n",
       "        cursor = 'pointer';\n",
       "        break;\n",
       "    case 1:\n",
       "        cursor = 'default';\n",
       "        break;\n",
       "    case 2:\n",
       "        cursor = 'crosshair';\n",
       "        break;\n",
       "    case 3:\n",
       "        cursor = 'move';\n",
       "        break;\n",
       "    }\n",
       "    fig.rubberband_canvas.style.cursor = cursor;\n",
       "}\n",
       "\n",
       "mpl.figure.prototype.handle_message = function(fig, msg) {\n",
       "    fig.message.textContent = msg['message'];\n",
       "}\n",
       "\n",
       "mpl.figure.prototype.handle_draw = function(fig, msg) {\n",
       "    // Request the server to send over a new figure.\n",
       "    fig.send_draw_message();\n",
       "}\n",
       "\n",
       "mpl.figure.prototype.handle_image_mode = function(fig, msg) {\n",
       "    fig.image_mode = msg['mode'];\n",
       "}\n",
       "\n",
       "mpl.figure.prototype.updated_canvas_event = function() {\n",
       "    // Called whenever the canvas gets updated.\n",
       "    this.send_message(\"ack\", {});\n",
       "}\n",
       "\n",
       "// A function to construct a web socket function for onmessage handling.\n",
       "// Called in the figure constructor.\n",
       "mpl.figure.prototype._make_on_message_function = function(fig) {\n",
       "    return function socket_on_message(evt) {\n",
       "        if (evt.data instanceof Blob) {\n",
       "            /* FIXME: We get \"Resource interpreted as Image but\n",
       "             * transferred with MIME type text/plain:\" errors on\n",
       "             * Chrome.  But how to set the MIME type?  It doesn't seem\n",
       "             * to be part of the websocket stream */\n",
       "            evt.data.type = \"image/png\";\n",
       "\n",
       "            /* Free the memory for the previous frames */\n",
       "            if (fig.imageObj.src) {\n",
       "                (window.URL || window.webkitURL).revokeObjectURL(\n",
       "                    fig.imageObj.src);\n",
       "            }\n",
       "\n",
       "            fig.imageObj.src = (window.URL || window.webkitURL).createObjectURL(\n",
       "                evt.data);\n",
       "            fig.updated_canvas_event();\n",
       "            fig.waiting = false;\n",
       "            return;\n",
       "        }\n",
       "        else if (typeof evt.data === 'string' && evt.data.slice(0, 21) == \"data:image/png;base64\") {\n",
       "            fig.imageObj.src = evt.data;\n",
       "            fig.updated_canvas_event();\n",
       "            fig.waiting = false;\n",
       "            return;\n",
       "        }\n",
       "\n",
       "        var msg = JSON.parse(evt.data);\n",
       "        var msg_type = msg['type'];\n",
       "\n",
       "        // Call the  \"handle_{type}\" callback, which takes\n",
       "        // the figure and JSON message as its only arguments.\n",
       "        try {\n",
       "            var callback = fig[\"handle_\" + msg_type];\n",
       "        } catch (e) {\n",
       "            console.log(\"No handler for the '\" + msg_type + \"' message type: \", msg);\n",
       "            return;\n",
       "        }\n",
       "\n",
       "        if (callback) {\n",
       "            try {\n",
       "                // console.log(\"Handling '\" + msg_type + \"' message: \", msg);\n",
       "                callback(fig, msg);\n",
       "            } catch (e) {\n",
       "                console.log(\"Exception inside the 'handler_\" + msg_type + \"' callback:\", e, e.stack, msg);\n",
       "            }\n",
       "        }\n",
       "    };\n",
       "}\n",
       "\n",
       "// from http://stackoverflow.com/questions/1114465/getting-mouse-location-in-canvas\n",
       "mpl.findpos = function(e) {\n",
       "    //this section is from http://www.quirksmode.org/js/events_properties.html\n",
       "    var targ;\n",
       "    if (!e)\n",
       "        e = window.event;\n",
       "    if (e.target)\n",
       "        targ = e.target;\n",
       "    else if (e.srcElement)\n",
       "        targ = e.srcElement;\n",
       "    if (targ.nodeType == 3) // defeat Safari bug\n",
       "        targ = targ.parentNode;\n",
       "\n",
       "    // jQuery normalizes the pageX and pageY\n",
       "    // pageX,Y are the mouse positions relative to the document\n",
       "    // offset() returns the position of the element relative to the document\n",
       "    var x = e.pageX - $(targ).offset().left;\n",
       "    var y = e.pageY - $(targ).offset().top;\n",
       "\n",
       "    return {\"x\": x, \"y\": y};\n",
       "};\n",
       "\n",
       "/*\n",
       " * return a copy of an object with only non-object keys\n",
       " * we need this to avoid circular references\n",
       " * http://stackoverflow.com/a/24161582/3208463\n",
       " */\n",
       "function simpleKeys (original) {\n",
       "  return Object.keys(original).reduce(function (obj, key) {\n",
       "    if (typeof original[key] !== 'object')\n",
       "        obj[key] = original[key]\n",
       "    return obj;\n",
       "  }, {});\n",
       "}\n",
       "\n",
       "mpl.figure.prototype.mouse_event = function(event, name) {\n",
       "    var canvas_pos = mpl.findpos(event)\n",
       "\n",
       "    if (name === 'button_press')\n",
       "    {\n",
       "        this.canvas.focus();\n",
       "        this.canvas_div.focus();\n",
       "    }\n",
       "\n",
       "    var x = canvas_pos.x * mpl.ratio;\n",
       "    var y = canvas_pos.y * mpl.ratio;\n",
       "\n",
       "    this.send_message(name, {x: x, y: y, button: event.button,\n",
       "                             step: event.step,\n",
       "                             guiEvent: simpleKeys(event)});\n",
       "\n",
       "    /* This prevents the web browser from automatically changing to\n",
       "     * the text insertion cursor when the button is pressed.  We want\n",
       "     * to control all of the cursor setting manually through the\n",
       "     * 'cursor' event from matplotlib */\n",
       "    event.preventDefault();\n",
       "    return false;\n",
       "}\n",
       "\n",
       "mpl.figure.prototype._key_event_extra = function(event, name) {\n",
       "    // Handle any extra behaviour associated with a key event\n",
       "}\n",
       "\n",
       "mpl.figure.prototype.key_event = function(event, name) {\n",
       "\n",
       "    // Prevent repeat events\n",
       "    if (name == 'key_press')\n",
       "    {\n",
       "        if (event.which === this._key)\n",
       "            return;\n",
       "        else\n",
       "            this._key = event.which;\n",
       "    }\n",
       "    if (name == 'key_release')\n",
       "        this._key = null;\n",
       "\n",
       "    var value = '';\n",
       "    if (event.ctrlKey && event.which != 17)\n",
       "        value += \"ctrl+\";\n",
       "    if (event.altKey && event.which != 18)\n",
       "        value += \"alt+\";\n",
       "    if (event.shiftKey && event.which != 16)\n",
       "        value += \"shift+\";\n",
       "\n",
       "    value += 'k';\n",
       "    value += event.which.toString();\n",
       "\n",
       "    this._key_event_extra(event, name);\n",
       "\n",
       "    this.send_message(name, {key: value,\n",
       "                             guiEvent: simpleKeys(event)});\n",
       "    return false;\n",
       "}\n",
       "\n",
       "mpl.figure.prototype.toolbar_button_onclick = function(name) {\n",
       "    if (name == 'download') {\n",
       "        this.handle_save(this, null);\n",
       "    } else {\n",
       "        this.send_message(\"toolbar_button\", {name: name});\n",
       "    }\n",
       "};\n",
       "\n",
       "mpl.figure.prototype.toolbar_button_onmouseover = function(tooltip) {\n",
       "    this.message.textContent = tooltip;\n",
       "};\n",
       "mpl.toolbar_items = [[\"Home\", \"Reset original view\", \"fa fa-home icon-home\", \"home\"], [\"Back\", \"Back to previous view\", \"fa fa-arrow-left icon-arrow-left\", \"back\"], [\"Forward\", \"Forward to next view\", \"fa fa-arrow-right icon-arrow-right\", \"forward\"], [\"\", \"\", \"\", \"\"], [\"Pan\", \"Pan axes with left mouse, zoom with right\", \"fa fa-arrows icon-move\", \"pan\"], [\"Zoom\", \"Zoom to rectangle\", \"fa fa-square-o icon-check-empty\", \"zoom\"], [\"\", \"\", \"\", \"\"], [\"Download\", \"Download plot\", \"fa fa-floppy-o icon-save\", \"download\"]];\n",
       "\n",
       "mpl.extensions = [\"eps\", \"jpeg\", \"pdf\", \"png\", \"ps\", \"raw\", \"svg\", \"tif\"];\n",
       "\n",
       "mpl.default_extension = \"png\";var comm_websocket_adapter = function(comm) {\n",
       "    // Create a \"websocket\"-like object which calls the given IPython comm\n",
       "    // object with the appropriate methods. Currently this is a non binary\n",
       "    // socket, so there is still some room for performance tuning.\n",
       "    var ws = {};\n",
       "\n",
       "    ws.close = function() {\n",
       "        comm.close()\n",
       "    };\n",
       "    ws.send = function(m) {\n",
       "        //console.log('sending', m);\n",
       "        comm.send(m);\n",
       "    };\n",
       "    // Register the callback with on_msg.\n",
       "    comm.on_msg(function(msg) {\n",
       "        //console.log('receiving', msg['content']['data'], msg);\n",
       "        // Pass the mpl event to the overridden (by mpl) onmessage function.\n",
       "        ws.onmessage(msg['content']['data'])\n",
       "    });\n",
       "    return ws;\n",
       "}\n",
       "\n",
       "mpl.mpl_figure_comm = function(comm, msg) {\n",
       "    // This is the function which gets called when the mpl process\n",
       "    // starts-up an IPython Comm through the \"matplotlib\" channel.\n",
       "\n",
       "    var id = msg.content.data.id;\n",
       "    // Get hold of the div created by the display call when the Comm\n",
       "    // socket was opened in Python.\n",
       "    var element = $(\"#\" + id);\n",
       "    var ws_proxy = comm_websocket_adapter(comm)\n",
       "\n",
       "    function ondownload(figure, format) {\n",
       "        window.open(figure.imageObj.src);\n",
       "    }\n",
       "\n",
       "    var fig = new mpl.figure(id, ws_proxy,\n",
       "                           ondownload,\n",
       "                           element.get(0));\n",
       "\n",
       "    // Call onopen now - mpl needs it, as it is assuming we've passed it a real\n",
       "    // web socket which is closed, not our websocket->open comm proxy.\n",
       "    ws_proxy.onopen();\n",
       "\n",
       "    fig.parent_element = element.get(0);\n",
       "    fig.cell_info = mpl.find_output_cell(\"<div id='\" + id + \"'></div>\");\n",
       "    if (!fig.cell_info) {\n",
       "        console.error(\"Failed to find cell for figure\", id, fig);\n",
       "        return;\n",
       "    }\n",
       "\n",
       "    var output_index = fig.cell_info[2]\n",
       "    var cell = fig.cell_info[0];\n",
       "\n",
       "};\n",
       "\n",
       "mpl.figure.prototype.handle_close = function(fig, msg) {\n",
       "    var width = fig.canvas.width/mpl.ratio\n",
       "    fig.root.unbind('remove')\n",
       "\n",
       "    // Update the output cell to use the data from the current canvas.\n",
       "    fig.push_to_output();\n",
       "    var dataURL = fig.canvas.toDataURL();\n",
       "    // Re-enable the keyboard manager in IPython - without this line, in FF,\n",
       "    // the notebook keyboard shortcuts fail.\n",
       "    IPython.keyboard_manager.enable()\n",
       "    $(fig.parent_element).html('<img src=\"' + dataURL + '\" width=\"' + width + '\">');\n",
       "    fig.close_ws(fig, msg);\n",
       "}\n",
       "\n",
       "mpl.figure.prototype.close_ws = function(fig, msg){\n",
       "    fig.send_message('closing', msg);\n",
       "    // fig.ws.close()\n",
       "}\n",
       "\n",
       "mpl.figure.prototype.push_to_output = function(remove_interactive) {\n",
       "    // Turn the data on the canvas into data in the output cell.\n",
       "    var width = this.canvas.width/mpl.ratio\n",
       "    var dataURL = this.canvas.toDataURL();\n",
       "    this.cell_info[1]['text/html'] = '<img src=\"' + dataURL + '\" width=\"' + width + '\">';\n",
       "}\n",
       "\n",
       "mpl.figure.prototype.updated_canvas_event = function() {\n",
       "    // Tell IPython that the notebook contents must change.\n",
       "    IPython.notebook.set_dirty(true);\n",
       "    this.send_message(\"ack\", {});\n",
       "    var fig = this;\n",
       "    // Wait a second, then push the new image to the DOM so\n",
       "    // that it is saved nicely (might be nice to debounce this).\n",
       "    setTimeout(function () { fig.push_to_output() }, 1000);\n",
       "}\n",
       "\n",
       "mpl.figure.prototype._init_toolbar = function() {\n",
       "    var fig = this;\n",
       "\n",
       "    var nav_element = $('<div/>');\n",
       "    nav_element.attr('style', 'width: 100%');\n",
       "    this.root.append(nav_element);\n",
       "\n",
       "    // Define a callback function for later on.\n",
       "    function toolbar_event(event) {\n",
       "        return fig.toolbar_button_onclick(event['data']);\n",
       "    }\n",
       "    function toolbar_mouse_event(event) {\n",
       "        return fig.toolbar_button_onmouseover(event['data']);\n",
       "    }\n",
       "\n",
       "    for(var toolbar_ind in mpl.toolbar_items){\n",
       "        var name = mpl.toolbar_items[toolbar_ind][0];\n",
       "        var tooltip = mpl.toolbar_items[toolbar_ind][1];\n",
       "        var image = mpl.toolbar_items[toolbar_ind][2];\n",
       "        var method_name = mpl.toolbar_items[toolbar_ind][3];\n",
       "\n",
       "        if (!name) { continue; };\n",
       "\n",
       "        var button = $('<button class=\"btn btn-default\" href=\"#\" title=\"' + name + '\"><i class=\"fa ' + image + ' fa-lg\"></i></button>');\n",
       "        button.click(method_name, toolbar_event);\n",
       "        button.mouseover(tooltip, toolbar_mouse_event);\n",
       "        nav_element.append(button);\n",
       "    }\n",
       "\n",
       "    // Add the status bar.\n",
       "    var status_bar = $('<span class=\"mpl-message\" style=\"text-align:right; float: right;\"/>');\n",
       "    nav_element.append(status_bar);\n",
       "    this.message = status_bar[0];\n",
       "\n",
       "    // Add the close button to the window.\n",
       "    var buttongrp = $('<div class=\"btn-group inline pull-right\"></div>');\n",
       "    var button = $('<button class=\"btn btn-mini btn-primary\" href=\"#\" title=\"Stop Interaction\"><i class=\"fa fa-power-off icon-remove icon-large\"></i></button>');\n",
       "    button.click(function (evt) { fig.handle_close(fig, {}); } );\n",
       "    button.mouseover('Stop Interaction', toolbar_mouse_event);\n",
       "    buttongrp.append(button);\n",
       "    var titlebar = this.root.find($('.ui-dialog-titlebar'));\n",
       "    titlebar.prepend(buttongrp);\n",
       "}\n",
       "\n",
       "mpl.figure.prototype._root_extra_style = function(el){\n",
       "    var fig = this\n",
       "    el.on(\"remove\", function(){\n",
       "\tfig.close_ws(fig, {});\n",
       "    });\n",
       "}\n",
       "\n",
       "mpl.figure.prototype._canvas_extra_style = function(el){\n",
       "    // this is important to make the div 'focusable\n",
       "    el.attr('tabindex', 0)\n",
       "    // reach out to IPython and tell the keyboard manager to turn it's self\n",
       "    // off when our div gets focus\n",
       "\n",
       "    // location in version 3\n",
       "    if (IPython.notebook.keyboard_manager) {\n",
       "        IPython.notebook.keyboard_manager.register_events(el);\n",
       "    }\n",
       "    else {\n",
       "        // location in version 2\n",
       "        IPython.keyboard_manager.register_events(el);\n",
       "    }\n",
       "\n",
       "}\n",
       "\n",
       "mpl.figure.prototype._key_event_extra = function(event, name) {\n",
       "    var manager = IPython.notebook.keyboard_manager;\n",
       "    if (!manager)\n",
       "        manager = IPython.keyboard_manager;\n",
       "\n",
       "    // Check for shift+enter\n",
       "    if (event.shiftKey && event.which == 13) {\n",
       "        this.canvas_div.blur();\n",
       "        event.shiftKey = false;\n",
       "        // Send a \"J\" for go to next cell\n",
       "        event.which = 74;\n",
       "        event.keyCode = 74;\n",
       "        manager.command_mode();\n",
       "        manager.handle_keydown(event);\n",
       "    }\n",
       "}\n",
       "\n",
       "mpl.figure.prototype.handle_save = function(fig, msg) {\n",
       "    fig.ondownload(fig, null);\n",
       "}\n",
       "\n",
       "\n",
       "mpl.find_output_cell = function(html_output) {\n",
       "    // Return the cell and output element which can be found *uniquely* in the notebook.\n",
       "    // Note - this is a bit hacky, but it is done because the \"notebook_saving.Notebook\"\n",
       "    // IPython event is triggered only after the cells have been serialised, which for\n",
       "    // our purposes (turning an active figure into a static one), is too late.\n",
       "    var cells = IPython.notebook.get_cells();\n",
       "    var ncells = cells.length;\n",
       "    for (var i=0; i<ncells; i++) {\n",
       "        var cell = cells[i];\n",
       "        if (cell.cell_type === 'code'){\n",
       "            for (var j=0; j<cell.output_area.outputs.length; j++) {\n",
       "                var data = cell.output_area.outputs[j];\n",
       "                if (data.data) {\n",
       "                    // IPython >= 3 moved mimebundle to data attribute of output\n",
       "                    data = data.data;\n",
       "                }\n",
       "                if (data['text/html'] == html_output) {\n",
       "                    return [cell, data, j];\n",
       "                }\n",
       "            }\n",
       "        }\n",
       "    }\n",
       "}\n",
       "\n",
       "// Register the function which deals with the matplotlib target/channel.\n",
       "// The kernel may be null if the page has been refreshed.\n",
       "if (IPython.notebook.kernel != null) {\n",
       "    IPython.notebook.kernel.comm_manager.register_target('matplotlib', mpl.mpl_figure_comm);\n",
       "}\n"
      ],
      "text/plain": [
       "<IPython.core.display.Javascript object>"
      ]
     },
     "metadata": {},
     "output_type": "display_data"
    },
    {
     "data": {
      "text/html": [
       "<img src=\"data:image/png;base64,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\" width=\"640\">"
      ],
      "text/plain": [
       "<IPython.core.display.HTML object>"
      ]
     },
     "metadata": {},
     "output_type": "display_data"
    },
    {
     "data": {
      "text/plain": [
       "<matplotlib.legend.Legend at 0x7fe2d8139c88>"
      ]
     },
     "execution_count": 97,
     "metadata": {},
     "output_type": "execute_result"
    }
   ],
   "source": [
    "plt.figure()\n",
    "plt.plot(serie_real,label=\"real\")\n",
    "plt.plot(serie_astronomica,label=\"astronomica\")\n",
    "plt.xticks(rotation=30)\n",
    "plt.legend()"
   ]
  },
  {
   "cell_type": "markdown",
   "metadata": {},
   "source": [
    "## Componentes armónicas importaaaaantes"
   ]
  },
  {
   "cell_type": "code",
   "execution_count": 30,
   "metadata": {
    "ExecuteTime": {
     "end_time": "2020-03-03T04:39:42.780714Z",
     "start_time": "2020-03-03T04:39:42.561323Z"
    }
   },
   "outputs": [
    {
     "name": "stdout",
     "output_type": "stream",
     "text": [
      "Form number 0.07404437171080588, the tide is semidiurnal.\n"
     ]
    }
   ],
   "source": [
    "constituent = [c.name for c in tide.model['constituent']]\n",
    "df = pd.DataFrame(tide.model, index=constituent).drop('constituent', axis=1)\n",
    "df.sort_values('amplitude', ascending=False).head(10)\n",
    "print('Form number %s, the tide is %s.' %\n",
    "      (tide.form_number()[0], tide.classify()))"
   ]
  },
  {
   "cell_type": "code",
   "execution_count": 31,
   "metadata": {
    "ExecuteTime": {
     "end_time": "2020-03-03T04:39:46.222401Z",
     "start_time": "2020-03-03T04:39:46.171839Z"
    }
   },
   "outputs": [
    {
     "data": {
      "text/html": [
       "<div>\n",
       "<style scoped>\n",
       "    .dataframe tbody tr th:only-of-type {\n",
       "        vertical-align: middle;\n",
       "    }\n",
       "\n",
       "    .dataframe tbody tr th {\n",
       "        vertical-align: top;\n",
       "    }\n",
       "\n",
       "    .dataframe thead th {\n",
       "        text-align: right;\n",
       "    }\n",
       "</style>\n",
       "<table border=\"1\" class=\"dataframe\">\n",
       "  <thead>\n",
       "    <tr style=\"text-align: right;\">\n",
       "      <th></th>\n",
       "      <th>amplitude</th>\n",
       "      <th>phase</th>\n",
       "    </tr>\n",
       "  </thead>\n",
       "  <tbody>\n",
       "    <tr>\n",
       "      <th>Z0</th>\n",
       "      <td>8.818746e-16</td>\n",
       "      <td>180.000000</td>\n",
       "    </tr>\n",
       "    <tr>\n",
       "      <th>M2</th>\n",
       "      <td>1.496180e+00</td>\n",
       "      <td>254.876106</td>\n",
       "    </tr>\n",
       "    <tr>\n",
       "      <th>S2</th>\n",
       "      <td>4.020873e-01</td>\n",
       "      <td>314.505943</td>\n",
       "    </tr>\n",
       "    <tr>\n",
       "      <th>N2</th>\n",
       "      <td>3.143344e-01</td>\n",
       "      <td>225.782371</td>\n",
       "    </tr>\n",
       "    <tr>\n",
       "      <th>K1</th>\n",
       "      <td>1.148958e-01</td>\n",
       "      <td>62.672819</td>\n",
       "    </tr>\n",
       "    <tr>\n",
       "      <th>M4</th>\n",
       "      <td>6.526875e-02</td>\n",
       "      <td>222.617288</td>\n",
       "    </tr>\n",
       "    <tr>\n",
       "      <th>O1</th>\n",
       "      <td>2.566022e-02</td>\n",
       "      <td>72.832462</td>\n",
       "    </tr>\n",
       "    <tr>\n",
       "      <th>M6</th>\n",
       "      <td>1.904818e-03</td>\n",
       "      <td>47.834515</td>\n",
       "    </tr>\n",
       "    <tr>\n",
       "      <th>MK3</th>\n",
       "      <td>4.724058e-03</td>\n",
       "      <td>30.646567</td>\n",
       "    </tr>\n",
       "    <tr>\n",
       "      <th>S4</th>\n",
       "      <td>8.254021e-03</td>\n",
       "      <td>10.961457</td>\n",
       "    </tr>\n",
       "    <tr>\n",
       "      <th>MN4</th>\n",
       "      <td>2.761133e-02</td>\n",
       "      <td>204.191259</td>\n",
       "    </tr>\n",
       "    <tr>\n",
       "      <th>nu2</th>\n",
       "      <td>5.463701e-02</td>\n",
       "      <td>229.113165</td>\n",
       "    </tr>\n",
       "    <tr>\n",
       "      <th>S6</th>\n",
       "      <td>1.590922e-04</td>\n",
       "      <td>310.794195</td>\n",
       "    </tr>\n",
       "    <tr>\n",
       "      <th>mu2</th>\n",
       "      <td>4.825813e-02</td>\n",
       "      <td>231.885963</td>\n",
       "    </tr>\n",
       "    <tr>\n",
       "      <th>2N2</th>\n",
       "      <td>4.019469e-02</td>\n",
       "      <td>199.247975</td>\n",
       "    </tr>\n",
       "    <tr>\n",
       "      <th>OO1</th>\n",
       "      <td>7.892819e-03</td>\n",
       "      <td>102.969480</td>\n",
       "    </tr>\n",
       "    <tr>\n",
       "      <th>lambda2</th>\n",
       "      <td>1.745960e-02</td>\n",
       "      <td>235.330271</td>\n",
       "    </tr>\n",
       "    <tr>\n",
       "      <th>S1</th>\n",
       "      <td>1.751115e-02</td>\n",
       "      <td>153.964161</td>\n",
       "    </tr>\n",
       "    <tr>\n",
       "      <th>M1</th>\n",
       "      <td>7.883759e-04</td>\n",
       "      <td>220.433357</td>\n",
       "    </tr>\n",
       "    <tr>\n",
       "      <th>J1</th>\n",
       "      <td>9.315281e-03</td>\n",
       "      <td>91.030707</td>\n",
       "    </tr>\n",
       "    <tr>\n",
       "      <th>Mm</th>\n",
       "      <td>1.686856e-02</td>\n",
       "      <td>33.013369</td>\n",
       "    </tr>\n",
       "    <tr>\n",
       "      <th>Ssa</th>\n",
       "      <td>5.068172e-02</td>\n",
       "      <td>143.731352</td>\n",
       "    </tr>\n",
       "    <tr>\n",
       "      <th>Sa</th>\n",
       "      <td>7.491347e-02</td>\n",
       "      <td>167.100683</td>\n",
       "    </tr>\n",
       "    <tr>\n",
       "      <th>MSF</th>\n",
       "      <td>1.822784e-02</td>\n",
       "      <td>65.976966</td>\n",
       "    </tr>\n",
       "    <tr>\n",
       "      <th>Mf</th>\n",
       "      <td>1.561979e-02</td>\n",
       "      <td>24.217108</td>\n",
       "    </tr>\n",
       "    <tr>\n",
       "      <th>rho1</th>\n",
       "      <td>1.021653e-03</td>\n",
       "      <td>112.724673</td>\n",
       "    </tr>\n",
       "    <tr>\n",
       "      <th>Q1</th>\n",
       "      <td>5.392940e-03</td>\n",
       "      <td>140.126755</td>\n",
       "    </tr>\n",
       "    <tr>\n",
       "      <th>T2</th>\n",
       "      <td>2.518584e-02</td>\n",
       "      <td>325.095421</td>\n",
       "    </tr>\n",
       "    <tr>\n",
       "      <th>R2</th>\n",
       "      <td>3.346328e-03</td>\n",
       "      <td>275.492169</td>\n",
       "    </tr>\n",
       "    <tr>\n",
       "      <th>2Q1</th>\n",
       "      <td>1.470813e-03</td>\n",
       "      <td>140.474764</td>\n",
       "    </tr>\n",
       "    <tr>\n",
       "      <th>P1</th>\n",
       "      <td>3.456818e-02</td>\n",
       "      <td>63.412879</td>\n",
       "    </tr>\n",
       "    <tr>\n",
       "      <th>2SM2</th>\n",
       "      <td>9.899597e-03</td>\n",
       "      <td>129.638903</td>\n",
       "    </tr>\n",
       "    <tr>\n",
       "      <th>M3</th>\n",
       "      <td>5.713051e-03</td>\n",
       "      <td>28.408009</td>\n",
       "    </tr>\n",
       "    <tr>\n",
       "      <th>L2</th>\n",
       "      <td>4.269700e-02</td>\n",
       "      <td>261.067483</td>\n",
       "    </tr>\n",
       "    <tr>\n",
       "      <th>2MK3</th>\n",
       "      <td>3.216973e-03</td>\n",
       "      <td>224.681572</td>\n",
       "    </tr>\n",
       "    <tr>\n",
       "      <th>K2</th>\n",
       "      <td>1.043465e-01</td>\n",
       "      <td>310.487260</td>\n",
       "    </tr>\n",
       "    <tr>\n",
       "      <th>M8</th>\n",
       "      <td>7.865417e-03</td>\n",
       "      <td>109.287571</td>\n",
       "    </tr>\n",
       "    <tr>\n",
       "      <th>MS4</th>\n",
       "      <td>4.251314e-02</td>\n",
       "      <td>292.979985</td>\n",
       "    </tr>\n",
       "  </tbody>\n",
       "</table>\n",
       "</div>"
      ],
      "text/plain": [
       "            amplitude       phase\n",
       "Z0       8.818746e-16  180.000000\n",
       "M2       1.496180e+00  254.876106\n",
       "S2       4.020873e-01  314.505943\n",
       "N2       3.143344e-01  225.782371\n",
       "K1       1.148958e-01   62.672819\n",
       "M4       6.526875e-02  222.617288\n",
       "O1       2.566022e-02   72.832462\n",
       "M6       1.904818e-03   47.834515\n",
       "MK3      4.724058e-03   30.646567\n",
       "S4       8.254021e-03   10.961457\n",
       "MN4      2.761133e-02  204.191259\n",
       "nu2      5.463701e-02  229.113165\n",
       "S6       1.590922e-04  310.794195\n",
       "mu2      4.825813e-02  231.885963\n",
       "2N2      4.019469e-02  199.247975\n",
       "OO1      7.892819e-03  102.969480\n",
       "lambda2  1.745960e-02  235.330271\n",
       "S1       1.751115e-02  153.964161\n",
       "M1       7.883759e-04  220.433357\n",
       "J1       9.315281e-03   91.030707\n",
       "Mm       1.686856e-02   33.013369\n",
       "Ssa      5.068172e-02  143.731352\n",
       "Sa       7.491347e-02  167.100683\n",
       "MSF      1.822784e-02   65.976966\n",
       "Mf       1.561979e-02   24.217108\n",
       "rho1     1.021653e-03  112.724673\n",
       "Q1       5.392940e-03  140.126755\n",
       "T2       2.518584e-02  325.095421\n",
       "R2       3.346328e-03  275.492169\n",
       "2Q1      1.470813e-03  140.474764\n",
       "P1       3.456818e-02   63.412879\n",
       "2SM2     9.899597e-03  129.638903\n",
       "M3       5.713051e-03   28.408009\n",
       "L2       4.269700e-02  261.067483\n",
       "2MK3     3.216973e-03  224.681572\n",
       "K2       1.043465e-01  310.487260\n",
       "M8       7.865417e-03  109.287571\n",
       "MS4      4.251314e-02  292.979985"
      ]
     },
     "execution_count": 31,
     "metadata": {},
     "output_type": "execute_result"
    }
   ],
   "source": [
    "df"
   ]
  },
  {
   "cell_type": "code",
   "execution_count": 32,
   "metadata": {
    "ExecuteTime": {
     "end_time": "2020-03-03T04:40:05.811370Z",
     "start_time": "2020-03-03T04:40:05.802300Z"
    }
   },
   "outputs": [],
   "source": [
    "# def astronomica(serie_real):\n",
    "#     ttide=t_tide(serie_real,dt=1)\n",
    "#     ttide_out=ttide\n",
    "#     datos_astro=ttide_out[\"xout\"].ravel()\n",
    "#     serie_astro=pd.Series(data=datos_astro,index=serie_real.index)\n",
    "#     return serie_astro\n",
    "\n",
    "# serie_astro=astronomica(serie_real[fecha_inicio2:fecha_fin2])"
   ]
  },
  {
   "cell_type": "markdown",
   "metadata": {},
   "source": [
    "Según información recolectada, el mayor aporte a la marea lo da la componente $M_{2}$ (principal lunar), por lo tanto es semidiurno (**tiene todo el sentido del mundo**)\n",
    "\n",
    "Aportes principales:\n",
    "\n",
    "- $M_{2}$: Principal lunar, 150.09 cm\n",
    "- $S_{2}$: Principal solar, 40.25 cm\n",
    "- $N_{2}$: Lunar mayor elíptica, 31.66 cm\n",
    "- $K_{2}$: Lunar-solar declinacional, 10.97 cm\n",
    "- $K_{1}$: Lunar-solar diurna declinacional, 11.25 cm\n",
    "\n",
    "\n",
    "EL link de la info es [Caracterización de la marea](http://www.ideam.gov.co/documents/21021/23877/Caracterizaci%C3%B3n+de+la+Marea+%282010%29.pdf/a8ed71d8-3d7f-4a88-bed5-796c542aff4f)\n"
   ]
  },
  {
   "cell_type": "markdown",
   "metadata": {},
   "source": [
    "## Sensibilidad de la componente M2 respecto a la cantidad de información tomada"
   ]
  },
  {
   "cell_type": "code",
   "execution_count": 2,
   "metadata": {
    "ExecuteTime": {
     "end_time": "2020-02-18T18:25:34.321004Z",
     "start_time": "2020-02-18T18:25:34.299096Z"
    }
   },
   "outputs": [
    {
     "ename": "NameError",
     "evalue": "name 'serie_real' is not defined",
     "output_type": "error",
     "traceback": [
      "\u001b[0;31m---------------------------------------------------------------------------\u001b[0m",
      "\u001b[0;31mNameError\u001b[0m                                 Traceback (most recent call last)",
      "\u001b[0;32m<ipython-input-2-7ae6a560e766>\u001b[0m in \u001b[0;36m<module>\u001b[0;34m\u001b[0m\n\u001b[1;32m      3\u001b[0m \u001b[0;34m\u001b[0m\u001b[0m\n\u001b[1;32m      4\u001b[0m \u001b[0;32mfor\u001b[0m \u001b[0mi\u001b[0m \u001b[0;32min\u001b[0m \u001b[0mrange\u001b[0m\u001b[0;34m(\u001b[0m\u001b[0;36m0\u001b[0m\u001b[0;34m,\u001b[0m\u001b[0;36m15\u001b[0m\u001b[0;34m,\u001b[0m\u001b[0;36m1\u001b[0m\u001b[0;34m)\u001b[0m\u001b[0;34m:\u001b[0m\u001b[0;34m\u001b[0m\u001b[0;34m\u001b[0m\u001b[0m\n\u001b[0;32m----> 5\u001b[0;31m     \u001b[0mttide\u001b[0m\u001b[0;34m=\u001b[0m\u001b[0mt_tide\u001b[0m\u001b[0;34m(\u001b[0m\u001b[0mserie_real\u001b[0m\u001b[0;34m[\u001b[0m\u001b[0mfecha_inicio\u001b[0m\u001b[0;34m:\u001b[0m\u001b[0mdatetime\u001b[0m\u001b[0;34m(\u001b[0m\u001b[0;36m1993\u001b[0m\u001b[0;34m+\u001b[0m\u001b[0mi\u001b[0m\u001b[0;34m+\u001b[0m\u001b[0;36m1\u001b[0m\u001b[0;34m,\u001b[0m\u001b[0;36m1\u001b[0m\u001b[0;34m,\u001b[0m\u001b[0;36m1\u001b[0m\u001b[0;34m)\u001b[0m\u001b[0;34m]\u001b[0m\u001b[0;34m,\u001b[0m\u001b[0mdt\u001b[0m\u001b[0;34m=\u001b[0m\u001b[0;36m1\u001b[0m\u001b[0;34m)\u001b[0m\u001b[0;34m\u001b[0m\u001b[0;34m\u001b[0m\u001b[0m\n\u001b[0m\u001b[1;32m      6\u001b[0m     \u001b[0mttide_out\u001b[0m\u001b[0;34m=\u001b[0m\u001b[0mttide\u001b[0m\u001b[0;34m\u001b[0m\u001b[0;34m\u001b[0m\u001b[0m\n\u001b[1;32m      7\u001b[0m     \u001b[0midx_m2\u001b[0m\u001b[0;34m=\u001b[0m\u001b[0mnp\u001b[0m\u001b[0;34m.\u001b[0m\u001b[0mwhere\u001b[0m\u001b[0;34m(\u001b[0m\u001b[0mttide_out\u001b[0m\u001b[0;34m[\u001b[0m\u001b[0;34m\"nameu\"\u001b[0m\u001b[0;34m]\u001b[0m\u001b[0;34m==\u001b[0m\u001b[0;34mb'M2  '\u001b[0m\u001b[0;34m)\u001b[0m\u001b[0;34m[\u001b[0m\u001b[0;36m0\u001b[0m\u001b[0;34m]\u001b[0m\u001b[0;34m\u001b[0m\u001b[0;34m\u001b[0m\u001b[0m\n",
      "\u001b[0;31mNameError\u001b[0m: name 'serie_real' is not defined"
     ]
    }
   ],
   "source": [
    "fecha_inicio=datetime(1993,1,1)\n",
    "amps_m2=np.ones((15,1))\n",
    "\n",
    "for i in range(0,15,1):\n",
    "    ttide=t_tide(serie_real[fecha_inicio:datetime(1993+i+1,1,1)],dt=1)\n",
    "    ttide_out=ttide\n",
    "    idx_m2=np.where(ttide_out[\"nameu\"]==b'M2  ')[0]\n",
    "    amps=ttide_out[\"tidecon\"][:,0]\n",
    "    amp_m2=amps[idx_m2]\n",
    "    amps_m2[i]=amp_m2"
   ]
  },
  {
   "cell_type": "code",
   "execution_count": null,
   "metadata": {
    "ExecuteTime": {
     "end_time": "2020-02-18T18:25:34.324007Z",
     "start_time": "2020-02-18T18:25:34.302Z"
    }
   },
   "outputs": [],
   "source": [
    "plt.plot(np.arange(1,16,1),amps_m2)"
   ]
  },
  {
   "cell_type": "markdown",
   "metadata": {},
   "source": [
    "## Recreando la serie completa desde ttide"
   ]
  },
  {
   "cell_type": "code",
   "execution_count": 3,
   "metadata": {
    "ExecuteTime": {
     "end_time": "2020-02-18T18:25:34.458911Z",
     "start_time": "2020-02-18T18:25:34.426993Z"
    }
   },
   "outputs": [
    {
     "ename": "NameError",
     "evalue": "name 'serie_real' is not defined",
     "output_type": "error",
     "traceback": [
      "\u001b[0;31m---------------------------------------------------------------------------\u001b[0m",
      "\u001b[0;31mNameError\u001b[0m                                 Traceback (most recent call last)",
      "\u001b[0;32m<ipython-input-3-d786af2dfaf5>\u001b[0m in \u001b[0;36m<module>\u001b[0;34m\u001b[0m\n\u001b[0;32m----> 1\u001b[0;31m \u001b[0mttide\u001b[0m\u001b[0;34m=\u001b[0m\u001b[0mt_tide\u001b[0m\u001b[0;34m(\u001b[0m\u001b[0mserie_real\u001b[0m\u001b[0;34m[\u001b[0m\u001b[0mfecha_inicio2\u001b[0m\u001b[0;34m:\u001b[0m\u001b[0mfecha_fin2\u001b[0m\u001b[0;34m]\u001b[0m\u001b[0;34m,\u001b[0m\u001b[0mdt\u001b[0m\u001b[0;34m=\u001b[0m\u001b[0;36m1\u001b[0m\u001b[0;34m,\u001b[0m\u001b[0mout_style\u001b[0m\u001b[0;34m=\u001b[0m\u001b[0;32mNone\u001b[0m\u001b[0;34m)\u001b[0m\u001b[0;34m\u001b[0m\u001b[0;34m\u001b[0m\u001b[0m\n\u001b[0m\u001b[1;32m      2\u001b[0m \u001b[0mttide_out\u001b[0m\u001b[0;34m=\u001b[0m\u001b[0mttide\u001b[0m\u001b[0;34m\u001b[0m\u001b[0;34m\u001b[0m\u001b[0m\n\u001b[1;32m      3\u001b[0m \u001b[0;34m\u001b[0m\u001b[0m\n\u001b[1;32m      4\u001b[0m \u001b[0mfreqs\u001b[0m\u001b[0;34m=\u001b[0m\u001b[0mttide_out\u001b[0m\u001b[0;34m[\u001b[0m\u001b[0;34m\"fu\"\u001b[0m\u001b[0;34m]\u001b[0m\u001b[0;34m\u001b[0m\u001b[0;34m\u001b[0m\u001b[0m\n\u001b[1;32m      5\u001b[0m \u001b[0mamps\u001b[0m\u001b[0;34m=\u001b[0m\u001b[0mttide_out\u001b[0m\u001b[0;34m[\u001b[0m\u001b[0;34m\"tidecon\"\u001b[0m\u001b[0;34m]\u001b[0m\u001b[0;34m[\u001b[0m\u001b[0;34m:\u001b[0m\u001b[0;34m,\u001b[0m\u001b[0;36m0\u001b[0m\u001b[0;34m]\u001b[0m\u001b[0;34m\u001b[0m\u001b[0;34m\u001b[0m\u001b[0m\n",
      "\u001b[0;31mNameError\u001b[0m: name 'serie_real' is not defined"
     ]
    }
   ],
   "source": [
    "ttide=t_tide(serie_real[fecha_inicio2:fecha_fin2],dt=1,out_style=None)\n",
    "ttide_out=ttide\n",
    "\n",
    "freqs=ttide_out[\"fu\"]\n",
    "amps=ttide_out[\"tidecon\"][:,0]\n",
    "phases=ttide_out[\"tidecon\"][:,2]\n",
    "amps_err=ttide_out[\"tidecon\"][:,1]\n",
    "\n",
    "suma_total=np.zeros((len(serie_real[fecha_inicio2:fecha_fin2]),))*1j\n",
    "t=np.arange(0,len(serie_real[fecha_inicio2:fecha_fin2]))\n",
    "for ix in range(0,len(freqs)):\n",
    "    suma_total+=(amps[ix]+amps_err[ix])*np.exp(1j*(freqs[ix]*2*np.pi*t+phases[ix]))\n",
    "#     suma_total+=amplitud*(np.cos(nmm_freq[ix]*2*np.pi*t+fase)+1j*np.sin(nmm_freq[ix]*2*np.pi*t+fase))\n"
   ]
  },
  {
   "cell_type": "code",
   "execution_count": null,
   "metadata": {
    "ExecuteTime": {
     "end_time": "2020-02-18T18:25:34.461349Z",
     "start_time": "2020-02-18T18:25:34.405Z"
    }
   },
   "outputs": [],
   "source": [
    "plt.plot(suma_total[:100])"
   ]
  },
  {
   "cell_type": "code",
   "execution_count": null,
   "metadata": {
    "ExecuteTime": {
     "end_time": "2020-02-18T18:25:34.463134Z",
     "start_time": "2020-02-18T18:25:34.412Z"
    }
   },
   "outputs": [],
   "source": [
    "datos_astro=ttide_out[\"xout\"].ravel()\n",
    "plt.plot(datos_astro[:100])"
   ]
  },
  {
   "cell_type": "markdown",
   "metadata": {},
   "source": [
    "## Suavizado de la información\n",
    "\n",
    "Con el fin de que la visualización de la información sea más clara y ordenada, se realiza un suavizado de cada 30 horas."
   ]
  },
  {
   "cell_type": "code",
   "execution_count": 86,
   "metadata": {
    "ExecuteTime": {
     "end_time": "2020-03-03T12:51:54.407445Z",
     "start_time": "2020-03-03T12:51:54.400837Z"
    }
   },
   "outputs": [],
   "source": [
    "def smooth(y,box_pts):\n",
    "    box=np.ones(box_pts)/box_pts\n",
    "    y_smooth=np.convolve(y,box,mode=\"same\")\n",
    "    return y_smooth"
   ]
  },
  {
   "cell_type": "code",
   "execution_count": 87,
   "metadata": {
    "ExecuteTime": {
     "end_time": "2020-03-03T12:53:20.431776Z",
     "start_time": "2020-03-03T12:53:08.608967Z"
    }
   },
   "outputs": [],
   "source": [
    "def maximos(serie_residual,inicio):\n",
    "    maximos_residual,fechas_residual=[],[]\n",
    "#     maximos_astro,fechas_astro=[],[]\n",
    "    for k in range(int(len(serie_residual)/24)):\n",
    "\n",
    "        #Ventana de marea residual\n",
    "        window_residual=serie_residual[inicio+timedelta(days=int(k)):inicio+timedelta(days=int(k+1))-timedelta(hours=1)]\n",
    "        max_window_residual=np.max(window_residual)\n",
    "\n",
    "        #Ventana de marea astronómica\n",
    "#         window_astro=serie_astro[inicio+timedelta(days=int(k)):inicio+timedelta(days=int(k+1))-timedelta(hours=1)]\n",
    "#         max_window_astro=np.max(window_astro)\n",
    "\n",
    "        if max_window_residual>0:\n",
    "#             maximos_astro.append(max_window_astro)\n",
    "#             fechas_astro.append(window_astro.idxmax()-timedelta(hours=window_astro.idxmax().hour))    \n",
    "            maximos_residual.append(max_window_residual)\n",
    "            fechas_residual.append(window_residual.idxmax()-timedelta(hours=window_residual.idxmax().hour))\n",
    "\n",
    "    #Series de máximos\n",
    "    serie_maximos_residual=pd.Series(data=maximos_residual,index=fechas_residual)\n",
    "#     serie_maximos_astro=pd.Series(data=maximos_astro,index=fechas_astro)\n",
    "    return serie_maximos_residual\n",
    "\n",
    "serie_max_residual=maximos(serie_residual,serie_residual.index[0])"
   ]
  },
  {
   "cell_type": "code",
   "execution_count": 102,
   "metadata": {
    "ExecuteTime": {
     "end_time": "2020-03-03T13:01:27.913355Z",
     "start_time": "2020-03-03T13:01:27.623033Z"
    }
   },
   "outputs": [
    {
     "data": {
      "text/plain": [
       "[<matplotlib.lines.Line2D at 0x7f895a9ac198>]"
      ]
     },
     "execution_count": 102,
     "metadata": {},
     "output_type": "execute_result"
    },
    {
     "data": {
      "image/png": "[encoded data removed]",
      "text/plain": [
       "<Figure size 576x396 with 1 Axes>"
      ]
     },
     "metadata": {},
     "output_type": "display_data"
    }
   ],
   "source": [
    "plt.plot(serie_residual[\"1953-05-9\":\"1953-05-15\"])"
   ]
  },
  {
   "cell_type": "code",
   "execution_count": 98,
   "metadata": {
    "ExecuteTime": {
     "end_time": "2020-03-03T12:58:48.588388Z",
     "start_time": "2020-03-03T12:58:48.579852Z"
    }
   },
   "outputs": [
    {
     "data": {
      "text/plain": [
       "1953-05-12    0.022443\n",
       "1953-05-14    0.084830\n",
       "1953-05-15    0.021232\n",
       "1953-05-24    0.041146\n",
       "1953-05-26    0.085945\n",
       "                ...   \n",
       "2008-10-12    0.209544\n",
       "2008-10-13    0.294820\n",
       "2008-10-14    0.327441\n",
       "2008-10-15    0.352626\n",
       "2008-10-16    0.359543\n",
       "Length: 16536, dtype: float64"
      ]
     },
     "execution_count": 98,
     "metadata": {},
     "output_type": "execute_result"
    }
   ],
   "source": [
    "serie_max_residual[]"
   ]
  },
  {
   "cell_type": "code",
   "execution_count": 104,
   "metadata": {
    "ExecuteTime": {
     "end_time": "2020-03-03T13:05:17.513573Z",
     "start_time": "2020-03-03T13:05:17.508635Z"
    }
   },
   "outputs": [],
   "source": [
    "def smoothed(serie_max_residual):\n",
    "    serie_dif_maximos=serie_max_residual\n",
    "    dif_maximos_smoothed=smooth(serie_dif_maximos,90)\n",
    "    serie_maximos_smoothed=pd.Series(data=dif_maximos_smoothed,index=serie_dif_maximos.index)\n",
    "    return serie_dif_maximos,serie_maximos_smoothed"
   ]
  },
  {
   "cell_type": "code",
   "execution_count": 105,
   "metadata": {
    "ExecuteTime": {
     "end_time": "2020-03-03T13:05:19.030684Z",
     "start_time": "2020-03-03T13:05:19.027201Z"
    }
   },
   "outputs": [],
   "source": [
    "serie_dif_maximos,serie_maximos_smoothed=smoothed(serie_max_residual)"
   ]
  },
  {
   "cell_type": "code",
   "execution_count": 106,
   "metadata": {
    "ExecuteTime": {
     "end_time": "2020-03-03T13:05:20.226349Z",
     "start_time": "2020-03-03T13:05:19.886427Z"
    }
   },
   "outputs": [
    {
     "data": {
      "text/plain": [
       "Text(0.5, 0, 'Tiempo [h]')"
      ]
     },
     "execution_count": 106,
     "metadata": {},
     "output_type": "execute_result"
    },
    {
     "data": {
      "image/png": "[encoded data removed]",
      "text/plain": [
       "<Figure size 720x432 with 1 Axes>"
      ]
     },
     "metadata": {},
     "output_type": "display_data"
    }
   ],
   "source": [
    "plt.figure(figsize=(10,6))\n",
    "plt.title(\"Serie de Máximos\")\n",
    "plt.plot(serie_dif_maximos,c=\"orange\",alpha=0.5)\n",
    "plt.plot(serie_maximos_smoothed,c=\"k\")\n",
    "plt.ylabel(\"h [m]\")\n",
    "plt.xlabel(\"Tiempo [h]\")"
   ]
  },
  {
   "cell_type": "markdown",
   "metadata": {},
   "source": [
    "## Datos y Eventos ENSO desde el índice ONI"
   ]
  },
  {
   "cell_type": "code",
   "execution_count": 46,
   "metadata": {
    "ExecuteTime": {
     "end_time": "2020-03-03T04:43:18.325233Z",
     "start_time": "2020-03-03T04:43:18.258096Z"
    }
   },
   "outputs": [],
   "source": [
    "dataset_oni=pd.read_excel(r\"../Dataset/oni index.xlsx\").set_index(\"Year\")\n",
    "# rutas = glob.glob(\"../Dataset/CMEMS_ECMFW/*.nc\")"
   ]
  },
  {
   "cell_type": "code",
   "execution_count": 47,
   "metadata": {
    "ExecuteTime": {
     "end_time": "2020-03-03T04:43:19.018246Z",
     "start_time": "2020-03-03T04:43:18.983741Z"
    }
   },
   "outputs": [],
   "source": [
    "def serie_oni(dataset_oni,a,b):\n",
    "    data=dataset_oni.values.ravel()\n",
    "    fechas=pd.date_range(\"1950-01-01\",\"2019-01-01\",freq=\"M\")\n",
    "    date=[i-timedelta(days=15) for i in fechas]\n",
    "    serie_oni_d=pd.Series(data=data,index=date)[a:b]\n",
    "    return serie_oni_d"
   ]
  },
  {
   "cell_type": "code",
   "execution_count": 52,
   "metadata": {
    "ExecuteTime": {
     "end_time": "2020-03-03T04:47:29.891878Z",
     "start_time": "2020-03-03T04:47:29.770143Z"
    }
   },
   "outputs": [],
   "source": [
    "Serie_oni=serie_oni(dataset_oni,serie_residual.index[0],serie_residual.index[-1])"
   ]
  },
  {
   "cell_type": "code",
   "execution_count": 54,
   "metadata": {
    "ExecuteTime": {
     "end_time": "2020-03-03T04:47:39.086525Z",
     "start_time": "2020-03-03T04:47:39.027861Z"
    }
   },
   "outputs": [],
   "source": [
    "def looking_for_events(Serie_oni):\n",
    "    loc_niña=[] #Revisar siempre estas posiciones\n",
    "    loc_niño=[]\n",
    "    for i in range (4,int(len(Serie_oni)-4)):\n",
    "        k,d,z=0,0,0\n",
    "        while k<5:\n",
    "            a=i+k-4\n",
    "            b=i+k+1\n",
    "            window=np.around(np.asarray((Serie_oni.values[a:b])),1)\n",
    "            test_niño=window>=0.5\n",
    "            test_niña=window<=-0.5\n",
    "            if test_niño.all()==True:\n",
    "                d=d+1\n",
    "            if test_niña.all()==True:\n",
    "                z=z+1\n",
    "            k=k+1\n",
    "        if d>=1:\n",
    "            loc_niño.append(i)\n",
    "        if z>=1:\n",
    "            loc_niña.append(i)\n",
    "    return loc_niña,loc_niño"
   ]
  },
  {
   "cell_type": "code",
   "execution_count": 55,
   "metadata": {
    "ExecuteTime": {
     "end_time": "2020-03-03T04:47:40.452643Z",
     "start_time": "2020-03-03T04:47:40.325684Z"
    }
   },
   "outputs": [],
   "source": [
    "locs_niña,locs_niño=looking_for_events(Serie_oni)     "
   ]
  },
  {
   "cell_type": "code",
   "execution_count": 56,
   "metadata": {
    "ExecuteTime": {
     "end_time": "2020-03-03T04:47:41.359636Z",
     "start_time": "2020-03-03T04:47:41.321766Z"
    }
   },
   "outputs": [],
   "source": [
    "def events(loc_niño,loc_niña):\n",
    "    fines_niña=np.where(np.diff(loc_niña)!=1)[0].tolist()+[len(loc_niña)-1]\n",
    "    fines_niño=np.where(np.diff(loc_niño)!=1)[0].tolist()+[len(loc_niño)-1]\n",
    "    inicios_niña=[0]+[i+1 for i in fines_niña][:-1]\n",
    "    inicios_niño=[0]+[i+1 for i in fines_niño][:-1]\n",
    "    return inicios_niño,fines_niño,inicios_niña,fines_niña"
   ]
  },
  {
   "cell_type": "code",
   "execution_count": 57,
   "metadata": {
    "ExecuteTime": {
     "end_time": "2020-03-03T04:47:42.230925Z",
     "start_time": "2020-03-03T04:47:42.157546Z"
    }
   },
   "outputs": [],
   "source": [
    "inicio_niño,fin_niño,inicio_niña,fin_niña=events(locs_niño,locs_niña)"
   ]
  },
  {
   "cell_type": "code",
   "execution_count": 58,
   "metadata": {
    "ExecuteTime": {
     "end_time": "2020-03-03T04:47:43.310037Z",
     "start_time": "2020-03-03T04:47:43.266306Z"
    }
   },
   "outputs": [],
   "source": [
    "def plotting_events(Serie_oni,inicio_niño,fin_niño,locs_niño,inicio_niña,fin_niña,locs_niña):\n",
    "    fig,ax=plt.subplots(1,1,figsize=(12,6))\n",
    "    ax.plot(Serie_oni,'-o',c='k')\n",
    "    ax.set_title(\"Eventos ENSO\")\n",
    "    ax.set_yticks(np.arange(-3,3,0.5))\n",
    "    ax.grid()\n",
    "    for i,k in zip(inicio_niño,fin_niño): #Niño y después niña\n",
    "        ax.fill_betweenx([-3,3],Serie_oni.index[locs_niño[i]],Serie_oni.index[locs_niño[k]],color=\"r\",alpha=0.4)\n",
    "    for j,m in zip(inicio_niña,fin_niña): #Niño y después niña\n",
    "        ax.fill_betweenx([-3,3],Serie_oni.index[locs_niña[j]],Serie_oni.index[locs_niña[m]],color=\"b\",alpha=0.4) \n",
    "    plt.grid()\n",
    "    plt.savefig(\".\\Plots\\Eventos_ENSO.png\",dpi=400,box_inches=\"tight\")\n",
    "    return fig"
   ]
  },
  {
   "cell_type": "code",
   "execution_count": 59,
   "metadata": {
    "ExecuteTime": {
     "end_time": "2020-03-03T04:47:47.405969Z",
     "start_time": "2020-03-03T04:47:44.998157Z"
    }
   },
   "outputs": [
    {
     "data": {
      "image/png": "[encoded data removed]",
      "text/plain": [
       "<Figure size 864x432 with 1 Axes>"
      ]
     },
     "metadata": {},
     "output_type": "display_data"
    }
   ],
   "source": [
    "plots_ENSO=plotting_events(Serie_oni,inicio_niño[1:],fin_niño[1:],locs_niño,inicio_niña,fin_niña,locs_niña)"
   ]
  },
  {
   "cell_type": "code",
   "execution_count": 71,
   "metadata": {
    "ExecuteTime": {
     "end_time": "2020-03-03T04:55:28.940343Z",
     "start_time": "2020-03-03T04:55:28.932766Z"
    }
   },
   "outputs": [
    {
     "data": {
      "text/plain": [
       "1953-05-12 00:00:00   -0.137887\n",
       "1953-05-12 01:00:00   -0.159952\n",
       "1953-05-12 02:00:00   -0.165773\n",
       "1953-05-12 03:00:00   -0.038695\n",
       "1953-05-12 04:00:00   -0.056547\n",
       "                         ...   \n",
       "2014-12-31 19:00:00    0.280907\n",
       "2014-12-31 20:00:00    0.190488\n",
       "2014-12-31 21:00:00    0.150538\n",
       "2014-12-31 22:00:00    0.229216\n",
       "2014-12-31 23:00:00    0.246752\n",
       "Length: 485945, dtype: float64"
      ]
     },
     "execution_count": 71,
     "metadata": {},
     "output_type": "execute_result"
    }
   ],
   "source": [
    "serie_residual"
   ]
  },
  {
   "cell_type": "code",
   "execution_count": 121,
   "metadata": {
    "ExecuteTime": {
     "end_time": "2020-03-03T13:19:31.591330Z",
     "start_time": "2020-03-03T13:19:31.578053Z"
    }
   },
   "outputs": [
    {
     "name": "stdout",
     "output_type": "stream",
     "text": [
      "0 5\n",
      "6 21\n",
      "22 26\n",
      "27 35\n",
      "36 47\n",
      "48 55\n",
      "56 61\n",
      "62 72\n",
      "73 78\n",
      "79 83\n",
      "84 98\n",
      "99 116\n",
      "117 129\n",
      "130 136\n",
      "137 148\n",
      "149 157\n",
      "158 165\n",
      "166 170\n",
      "171 179\n"
     ]
    }
   ],
   "source": [
    "for i,k in zip(inicio_niño,fin_niño): \n",
    "    print(i,k)"
   ]
  },
  {
   "cell_type": "code",
   "execution_count": 124,
   "metadata": {
    "ExecuteTime": {
     "end_time": "2020-03-03T13:20:39.858789Z",
     "start_time": "2020-03-03T13:20:39.852603Z"
    }
   },
   "outputs": [
    {
     "data": {
      "text/plain": [
       "1"
      ]
     },
     "execution_count": 124,
     "metadata": {},
     "output_type": "execute_result"
    }
   ],
   "source": [
    "inicio_niño.index(6)"
   ]
  },
  {
   "cell_type": "code",
   "execution_count": null,
   "metadata": {},
   "outputs": [],
   "source": []
  },
  {
   "cell_type": "code",
   "execution_count": 146,
   "metadata": {
    "ExecuteTime": {
     "end_time": "2020-03-03T13:58:04.545841Z",
     "start_time": "2020-03-03T13:57:59.920422Z"
    }
   },
   "outputs": [
    {
     "name": "stderr",
     "output_type": "stream",
     "text": [
      "No handles with labels found to put in legend.\n"
     ]
    },
    {
     "name": "stdout",
     "output_type": "stream",
     "text": [
      "1953-09-15 00:00:00 1954-02-13 00:00:00\n",
      "1957-04-15 00:00:00 1958-07-16 00:00:00\n",
      "1958-11-15 00:00:00 1959-03-16 00:00:00\n",
      "1963-06-15 00:00:00 1964-02-14 00:00:00\n",
      "1965-05-16 00:00:00 1966-04-15 00:00:00\n",
      "1968-10-16 00:00:00 1969-05-16 00:00:00\n",
      "1969-08-16 00:00:00 1970-01-16 00:00:00\n",
      "1972-05-16 00:00:00 1973-03-16 00:00:00\n",
      "1976-09-15 00:00:00 1977-02-13 00:00:00\n",
      "1977-09-15 00:00:00 1978-01-16 00:00:00\n",
      "1982-04-15 00:00:00 1983-06-15 00:00:00\n",
      "1986-09-15 00:00:00 1988-02-14 00:00:00\n",
      "1991-06-15 00:00:00 1992-06-15 00:00:00\n",
      "1994-09-15 00:00:00 1995-03-16 00:00:00\n",
      "1997-05-16 00:00:00 1998-04-15 00:00:00\n",
      "2002-06-15 00:00:00 2003-02-13 00:00:00\n",
      "2004-07-16 00:00:00 2005-02-13 00:00:00\n",
      "2006-09-15 00:00:00 2007-01-16 00:00:00\n",
      "2009-07-16 00:00:00 2010-03-16 00:00:00\n"
     ]
    },
    {
     "data": {
      "image/png": "[encoded data removed]",
      "text/plain": [
       "<Figure size 576x396 with 1 Axes>"
      ]
     },
     "metadata": {},
     "output_type": "display_data"
    }
   ],
   "source": [
    "colors = cm.prism(np.linspace(0, 1, len(inicio_niño)))\n",
    "\n",
    "for i,k in zip(inicio_niño,fin_niño): #Niño y después niña\n",
    "    a=Serie_oni.index[locs_niño[i]]\n",
    "    b=Serie_oni.index[locs_niño[k]]\n",
    "    print(a,b)\n",
    "#     plt.figure()\n",
    "    serie_plot=serie_maximos_smoothed[a:b].values\n",
    "    if len(serie_plot)>300:\n",
    "        plt.plot(serie_plot,c=colors[inicio_niño.index(i)],label=str(a.year)+\"-\"+str(b.year))\n",
    "    else:\n",
    "        plt.plot(serie_plot,c=colors[inicio_niño.index(i)])\n",
    "    plt.ylim(-0.25,0.75)\n",
    "    plt.xlabel(\"Duración [días]\")\n",
    "    plt.ylabel(\"Sobrelevación [m]\")\n",
    "    plt.legend(prop={'size':12})\n",
    "plt.savefig('./Plots/nino_events',dpi=600,bbox_inches=\"tight\")"
   ]
  },
  {
   "cell_type": "code",
   "execution_count": 136,
   "metadata": {
    "ExecuteTime": {
     "end_time": "2020-03-03T13:49:51.524234Z",
     "start_time": "2020-03-03T13:49:51.513318Z"
    }
   },
   "outputs": [
    {
     "data": {
      "text/plain": [
       "1953-05-12 00:00:00   -0.137887\n",
       "1953-05-12 01:00:00   -0.159952\n",
       "1953-05-12 02:00:00   -0.165773\n",
       "1953-05-12 03:00:00   -0.038695\n",
       "1953-05-12 04:00:00   -0.056547\n",
       "                         ...   \n",
       "2014-12-31 19:00:00    0.280907\n",
       "2014-12-31 20:00:00    0.190488\n",
       "2014-12-31 21:00:00    0.150538\n",
       "2014-12-31 22:00:00    0.229216\n",
       "2014-12-31 23:00:00    0.246752\n",
       "Length: 485945, dtype: float64"
      ]
     },
     "execution_count": 136,
     "metadata": {},
     "output_type": "execute_result"
    }
   ],
   "source": [
    "serie_residual"
   ]
  },
  {
   "cell_type": "code",
   "execution_count": null,
   "metadata": {},
   "outputs": [],
   "source": []
  },
  {
   "cell_type": "code",
   "execution_count": null,
   "metadata": {},
   "outputs": [],
   "source": []
  },
  {
   "cell_type": "code",
   "execution_count": null,
   "metadata": {},
   "outputs": [],
   "source": []
  },
  {
   "cell_type": "code",
   "execution_count": null,
   "metadata": {},
   "outputs": [],
   "source": []
  },
  {
   "cell_type": "code",
   "execution_count": null,
   "metadata": {},
   "outputs": [],
   "source": []
  },
  {
   "cell_type": "markdown",
   "metadata": {},
   "source": [
    "## Traslapando la información"
   ]
  },
  {
   "cell_type": "code",
   "execution_count": 7,
   "metadata": {
    "ExecuteTime": {
     "end_time": "2020-02-18T18:25:34.908867Z",
     "start_time": "2020-02-18T18:25:34.901328Z"
    }
   },
   "outputs": [],
   "source": [
    "def converge(serie_original,serie_smoothed,Serie_oni,inicio_niño,fin_niño,locs_niño,inicio_niña,fin_niña,locs_niña):\n",
    "        fig,ax=plt.subplots(1,1,figsize=(12,6))\n",
    "#         ax.plot(serie_oni,c='red',alpha=0.5)\n",
    "        ax.plot(serie_original,c='orange',alpha=0.5)\n",
    "        ax.set_title(\"Serie de nmm vs Eventos ENSO [ONI]\")\n",
    "        ax.plot(serie_smoothed,c='k')\n",
    "        ax.set_yticks(np.arange(-3,3,0.5))\n",
    "        ax.set_ylim(0,3)\n",
    "        ax.grid()\n",
    "        ax.set_ylabel(\"h [m]\")\n",
    "        ax.set_xlabel(\"Tiempo [h]\")\n",
    "        for i,k in zip(inicio_niño,fin_niño): #Niño y después niña\n",
    "            ax.fill_betweenx([-3,3],Serie_oni.index[locs_niño[i]],Serie_oni.index[locs_niño[k]],color=\"r\",alpha=0.4)\n",
    "        for j,m in zip(inicio_niña,fin_niña): #Niño y después niña\n",
    "            ax.fill_betweenx([-3,3],Serie_oni.index[locs_niña[j]],Serie_oni.index[locs_niña[m]],color=\"b\",alpha=0.4) \n",
    "        plt.savefig(\".\\Plots\\All.png\",dpi=400,box_inches=\"tight\")\n",
    "        return fig"
   ]
  },
  {
   "cell_type": "code",
   "execution_count": 8,
   "metadata": {
    "ExecuteTime": {
     "end_time": "2020-02-18T18:25:35.027374Z",
     "start_time": "2020-02-18T18:25:34.910832Z"
    }
   },
   "outputs": [
    {
     "ename": "NameError",
     "evalue": "name 'serie_maximos_smoothed' is not defined",
     "output_type": "error",
     "traceback": [
      "\u001b[0;31m---------------------------------------------------------------------------\u001b[0m",
      "\u001b[0;31mNameError\u001b[0m                                 Traceback (most recent call last)",
      "\u001b[0;32m<ipython-input-8-5ee3fae461f6>\u001b[0m in \u001b[0;36m<module>\u001b[0;34m\u001b[0m\n\u001b[0;32m----> 1\u001b[0;31m \u001b[0mplt\u001b[0m\u001b[0;34m.\u001b[0m\u001b[0mplot\u001b[0m\u001b[0;34m(\u001b[0m\u001b[0mserie_maximos_smoothed\u001b[0m\u001b[0;34m)\u001b[0m\u001b[0;34m\u001b[0m\u001b[0;34m\u001b[0m\u001b[0m\n\u001b[0m",
      "\u001b[0;31mNameError\u001b[0m: name 'serie_maximos_smoothed' is not defined"
     ]
    }
   ],
   "source": [
    "plt.plot(serie_maximos_smoothed)"
   ]
  },
  {
   "cell_type": "code",
   "execution_count": null,
   "metadata": {
    "ExecuteTime": {
     "end_time": "2020-02-18T18:25:35.029676Z",
     "start_time": "2020-02-18T18:25:34.808Z"
    }
   },
   "outputs": [],
   "source": [
    "plot_final=converge(serie_dif_maximos,serie_maximos_smoothed,Serie_oni,inicio_niño,fin_niño,locs_niño,inicio_niña,fin_niña,locs_niña)"
   ]
  },
  {
   "cell_type": "markdown",
   "metadata": {},
   "source": [
    "# Análisis espectral"
   ]
  },
  {
   "cell_type": "code",
   "execution_count": null,
   "metadata": {
    "ExecuteTime": {
     "end_time": "2020-02-18T18:25:35.031156Z",
     "start_time": "2020-02-18T18:25:34.953Z"
    }
   },
   "outputs": [],
   "source": [
    "plt.figure()\n",
    "plt.plot(serie_real)"
   ]
  },
  {
   "cell_type": "code",
   "execution_count": null,
   "metadata": {
    "ExecuteTime": {
     "end_time": "2020-02-18T18:25:35.032634Z",
     "start_time": "2020-02-18T18:25:34.958Z"
    }
   },
   "outputs": [],
   "source": [
    "fecha_inicio2,fecha_fin2"
   ]
  },
  {
   "cell_type": "code",
   "execution_count": null,
   "metadata": {
    "ExecuteTime": {
     "end_time": "2020-02-18T18:25:35.034162Z",
     "start_time": "2020-02-18T18:25:34.962Z"
    }
   },
   "outputs": [],
   "source": [
    "def T_fourier(serie):\n",
    "    serie_trend=serie[fecha_inicio2:fecha_fin2].values\n",
    "    serie_detrened=signal.detrend(serie_trend)\n",
    "    fourier=np.fft.fft(serie_detrened)\n",
    "    freq= np.fft.fftfreq(len(serie_detrened)) \n",
    "    pot = np.abs(fourier*1./len(fourier))\n",
    "    periodos = 1/freq\n",
    "    freq_pos=np.where(freq>=0)[0]\n",
    "    \n",
    "    return fourier,freq_pos,pot,periodos,freq"
   ]
  },
  {
   "cell_type": "code",
   "execution_count": null,
   "metadata": {
    "ExecuteTime": {
     "end_time": "2020-02-18T18:25:35.035731Z",
     "start_time": "2020-02-18T18:25:34.966Z"
    }
   },
   "outputs": [],
   "source": [
    "nmm_fourier,nmm_freq_pos,nmm_potencias,nmm_periodos,nmm_freq,=T_fourier(serie_real)"
   ]
  },
  {
   "cell_type": "code",
   "execution_count": null,
   "metadata": {
    "ExecuteTime": {
     "end_time": "2020-02-18T18:25:35.037238Z",
     "start_time": "2020-02-18T18:25:34.970Z"
    }
   },
   "outputs": [],
   "source": [
    "# %matplotlib notebook\n",
    "plt.figure(figsize=(8,4))\n",
    "plt.suptitle(\"Espectro de potencias de Fourier\")\n",
    "plt.subplot(121)\n",
    "plt.plot(nmm_periodos[nmm_freq_pos],nmm_potencias[nmm_freq_pos],'-o',c=\"tomato\")\n",
    "# plt.xscale(\"log\")\n",
    "plt.axvline(x=6,ymin=0,ymax=1,ls=\"--\",c='k')\n",
    "plt.axvline(x=12,ymin=0,ymax=1,ls=\"--\",c='k')\n",
    "plt.axvline(x=24,ymin=0,ymax=1,ls=\"--\",c='k')\n",
    "plt.xlabel(\"Período [horas]\")\n",
    "plt.ylabel(\"Potencia [$m^{2}$]\")\n",
    "plt.savefig(\".\\Plots\\Espectro de potencias.jpg\",dpi=800,box_inches=\"tight\",pad_inches=0)\n",
    "\n",
    "plt.subplot(122)\n",
    "plt.plot(nmm_periodos[nmm_freq_pos],nmm_potencias[nmm_freq_pos],'-o',c=\"tomato\")\n",
    "# plt.xscale(\"log\")\n",
    "plt.axvline(x=6,ymin=0,ymax=1,ls=\"--\",c='k',alpha=0.5)\n",
    "plt.axvline(x=12,ymin=0,ymax=1,ls=\"--\",c='k',alpha=0.5)\n",
    "plt.axvline(x=24,ymin=0,ymax=1,ls=\"--\",c='k',alpha=0.5)\n",
    "plt.xlabel(\"Período [horas]\")\n",
    "plt.ylabel(\"Potencia [$m^{2}$]\")\n",
    "plt.xlim(0,30)\n",
    "plt.ylim(0,0.1)\n",
    "plt.savefig(\".\\Plots\\Espectro de potencias.jpg\",dpi=800,box_inches=\"tight\",pad_inches=0)\n",
    "\n",
    "plt.subplots_adjust(wspace=0.3)"
   ]
  },
  {
   "cell_type": "code",
   "execution_count": null,
   "metadata": {
    "ExecuteTime": {
     "end_time": "2020-02-18T18:25:35.038723Z",
     "start_time": "2020-02-18T18:25:34.974Z"
    }
   },
   "outputs": [],
   "source": [
    "df_fourier=pd.DataFrame({\"potencias\":nmm_potencias[nmm_freq_pos],\"p\":nmm_periodos[nmm_freq_pos]})"
   ]
  },
  {
   "cell_type": "code",
   "execution_count": null,
   "metadata": {
    "ExecuteTime": {
     "end_time": "2020-02-18T18:25:35.040034Z",
     "start_time": "2020-02-18T18:25:34.979Z"
    }
   },
   "outputs": [],
   "source": [
    "# df_fourier[(round(df_fourier[\"p\"],2)==11.96) | (round(df_fourier[\"p\"],2)==11.97)]"
   ]
  },
  {
   "cell_type": "code",
   "execution_count": null,
   "metadata": {
    "ExecuteTime": {
     "end_time": "2020-02-18T18:25:35.041196Z",
     "start_time": "2020-02-18T18:25:34.983Z"
    }
   },
   "outputs": [],
   "source": [
    "test=df_fourier.sort_values(by=\"potencias\")\n",
    "# qgrid_widget = qgrid.show_grid(test, show_toolbar=True)"
   ]
  },
  {
   "cell_type": "markdown",
   "metadata": {},
   "source": [
    "## Construyendo una componente\n",
    "\n",
    "Para una primera aproximación, se intentará recrear el armónico $S_{2}$"
   ]
  },
  {
   "cell_type": "code",
   "execution_count": 9,
   "metadata": {
    "ExecuteTime": {
     "end_time": "2020-02-18T18:25:35.155265Z",
     "start_time": "2020-02-18T18:25:35.144254Z"
    }
   },
   "outputs": [
    {
     "ename": "NameError",
     "evalue": "name 'df_fourier' is not defined",
     "output_type": "error",
     "traceback": [
      "\u001b[0;31m---------------------------------------------------------------------------\u001b[0m",
      "\u001b[0;31mNameError\u001b[0m                                 Traceback (most recent call last)",
      "\u001b[0;32m<ipython-input-9-bb5b897a63fc>\u001b[0m in \u001b[0;36m<module>\u001b[0;34m\u001b[0m\n\u001b[0;32m----> 1\u001b[0;31m \u001b[0mindex\u001b[0m\u001b[0;34m=\u001b[0m\u001b[0mnp\u001b[0m\u001b[0;34m.\u001b[0m\u001b[0mwhere\u001b[0m\u001b[0;34m(\u001b[0m\u001b[0mround\u001b[0m\u001b[0;34m(\u001b[0m\u001b[0mdf_fourier\u001b[0m\u001b[0;34m[\u001b[0m\u001b[0;34m\"p\"\u001b[0m\u001b[0;34m]\u001b[0m\u001b[0;34m,\u001b[0m\u001b[0;36m2\u001b[0m\u001b[0;34m)\u001b[0m\u001b[0;34m==\u001b[0m\u001b[0;36m11.97\u001b[0m\u001b[0;34m)\u001b[0m\u001b[0;34m[\u001b[0m\u001b[0;36m0\u001b[0m\u001b[0;34m]\u001b[0m\u001b[0;34m[\u001b[0m\u001b[0;36m2\u001b[0m\u001b[0;34m]\u001b[0m \u001b[0;31m#Index 4384 con mayor potencia\u001b[0m\u001b[0;34m\u001b[0m\u001b[0;34m\u001b[0m\u001b[0m\n\u001b[0m\u001b[1;32m      2\u001b[0m \u001b[0mamplitud_s2\u001b[0m\u001b[0;34m=\u001b[0m\u001b[0mnmm_potencias\u001b[0m\u001b[0;34m[\u001b[0m\u001b[0mindex\u001b[0m\u001b[0;34m]\u001b[0m\u001b[0;34m*\u001b[0m\u001b[0;36m2\u001b[0m\u001b[0;34m\u001b[0m\u001b[0;34m\u001b[0m\u001b[0m\n\u001b[1;32m      3\u001b[0m \u001b[0mfase_s2\u001b[0m\u001b[0;34m=\u001b[0m\u001b[0mnp\u001b[0m\u001b[0;34m.\u001b[0m\u001b[0mangle\u001b[0m\u001b[0;34m(\u001b[0m\u001b[0mnmm_fourier\u001b[0m\u001b[0;34m[\u001b[0m\u001b[0mindex\u001b[0m\u001b[0;34m]\u001b[0m\u001b[0;34m)\u001b[0m\u001b[0;34m\u001b[0m\u001b[0;34m\u001b[0m\u001b[0m\n",
      "\u001b[0;31mNameError\u001b[0m: name 'df_fourier' is not defined"
     ]
    }
   ],
   "source": [
    "index=np.where(round(df_fourier[\"p\"],2)==11.97)[0][2] #Index 4384 con mayor potencia\n",
    "amplitud_s2=nmm_potencias[index]*2 \n",
    "fase_s2=np.angle(nmm_fourier[index])"
   ]
  },
  {
   "cell_type": "code",
   "execution_count": null,
   "metadata": {
    "ExecuteTime": {
     "end_time": "2020-02-18T18:25:35.157499Z",
     "start_time": "2020-02-18T18:25:35.109Z"
    }
   },
   "outputs": [],
   "source": [
    "t=np.arange(0,len(nmm_fourier))\n",
    "s2_e=amplitud_s2*np.exp(1j*(nmm_freq[index]*2*np.pi*t+fase_s2))\n",
    "s2=amplitud_s2*(np.cos(nmm_freq[index]*2*np.pi*t+fase_s2)+1j*np.sin(nmm_freq[index]*2*np.pi*t+fase_s2))"
   ]
  },
  {
   "cell_type": "code",
   "execution_count": null,
   "metadata": {
    "ExecuteTime": {
     "end_time": "2020-02-18T18:25:35.158904Z",
     "start_time": "2020-02-18T18:25:35.114Z"
    }
   },
   "outputs": [],
   "source": [
    "plt.plot(s2[:49])\n",
    "plt.plot(s2_e[:49])"
   ]
  },
  {
   "cell_type": "code",
   "execution_count": null,
   "metadata": {
    "ExecuteTime": {
     "end_time": "2020-02-18T18:25:35.160758Z",
     "start_time": "2020-02-18T18:25:35.118Z"
    }
   },
   "outputs": [],
   "source": [
    "n=len(nmm_fourier)\n",
    "\n",
    "nmm_fourier_copy=np.copy(nmm_fourier)    \n",
    "np.put(nmm_fourier_copy, range(0,index), 0.0)\n",
    "np.put(nmm_fourier_copy, range(index+1, n), 0.0)\n",
    "nmm_fourier_copy=nmm_fourier_copy*2\n",
    "# Now fourier holds 1 imaginary coefficient\n",
    "ifft = np.fft.ifft(nmm_fourier_copy)"
   ]
  },
  {
   "cell_type": "code",
   "execution_count": null,
   "metadata": {
    "ExecuteTime": {
     "end_time": "2020-02-18T18:25:35.162252Z",
     "start_time": "2020-02-18T18:25:35.123Z"
    }
   },
   "outputs": [],
   "source": [
    "plt.plot(ifft[:49])\n",
    "plt.plot(s2[:49])"
   ]
  },
  {
   "cell_type": "markdown",
   "metadata": {},
   "source": [
    "## Construyendo diversas componentes"
   ]
  },
  {
   "cell_type": "code",
   "execution_count": 10,
   "metadata": {
    "ExecuteTime": {
     "end_time": "2020-02-18T18:25:35.289428Z",
     "start_time": "2020-02-18T18:25:35.276010Z"
    }
   },
   "outputs": [
    {
     "ename": "NameError",
     "evalue": "name 'test' is not defined",
     "output_type": "error",
     "traceback": [
      "\u001b[0;31m---------------------------------------------------------------------------\u001b[0m",
      "\u001b[0;31mNameError\u001b[0m                                 Traceback (most recent call last)",
      "\u001b[0;32m<ipython-input-10-560b6b5b3156>\u001b[0m in \u001b[0;36m<module>\u001b[0;34m\u001b[0m\n\u001b[0;32m----> 1\u001b[0;31m \u001b[0mindex\u001b[0m\u001b[0;34m=\u001b[0m\u001b[0mtest\u001b[0m\u001b[0;34m[\u001b[0m\u001b[0mtest\u001b[0m\u001b[0;34m.\u001b[0m\u001b[0mp\u001b[0m\u001b[0;34m<=\u001b[0m\u001b[0;36m3\u001b[0m\u001b[0;34m]\u001b[0m\u001b[0;34m.\u001b[0m\u001b[0mindex\u001b[0m\u001b[0;34m\u001b[0m\u001b[0;34m\u001b[0m\u001b[0m\n\u001b[0m",
      "\u001b[0;31mNameError\u001b[0m: name 'test' is not defined"
     ]
    }
   ],
   "source": [
    "index=test[test.p<=3].index"
   ]
  },
  {
   "cell_type": "code",
   "execution_count": null,
   "metadata": {
    "ExecuteTime": {
     "end_time": "2020-02-18T18:25:35.292766Z",
     "start_time": "2020-02-18T18:25:35.283Z"
    }
   },
   "outputs": [],
   "source": [
    "test.p[index]"
   ]
  },
  {
   "cell_type": "markdown",
   "metadata": {},
   "source": [
    "### Obteniendo la sumatoria de las componente armónicas"
   ]
  },
  {
   "cell_type": "code",
   "execution_count": 11,
   "metadata": {
    "ExecuteTime": {
     "end_time": "2020-02-18T18:25:35.462464Z",
     "start_time": "2020-02-18T18:25:35.450255Z"
    }
   },
   "outputs": [
    {
     "ename": "NameError",
     "evalue": "name 'nmm_fourier' is not defined",
     "output_type": "error",
     "traceback": [
      "\u001b[0;31m---------------------------------------------------------------------------\u001b[0m",
      "\u001b[0;31mNameError\u001b[0m                                 Traceback (most recent call last)",
      "\u001b[0;32m<ipython-input-11-75c1b40dec1e>\u001b[0m in \u001b[0;36m<module>\u001b[0;34m\u001b[0m\n\u001b[0;32m----> 1\u001b[0;31m \u001b[0msuma_total\u001b[0m\u001b[0;34m=\u001b[0m\u001b[0mnp\u001b[0m\u001b[0;34m.\u001b[0m\u001b[0mzeros\u001b[0m\u001b[0;34m(\u001b[0m\u001b[0;34m(\u001b[0m\u001b[0mlen\u001b[0m\u001b[0;34m(\u001b[0m\u001b[0mnmm_fourier\u001b[0m\u001b[0;34m)\u001b[0m\u001b[0;34m,\u001b[0m\u001b[0;34m)\u001b[0m\u001b[0;34m)\u001b[0m\u001b[0;34m*\u001b[0m\u001b[0;36m1j\u001b[0m\u001b[0;34m\u001b[0m\u001b[0;34m\u001b[0m\u001b[0m\n\u001b[0m\u001b[1;32m      2\u001b[0m \u001b[0mt\u001b[0m\u001b[0;34m=\u001b[0m\u001b[0mnp\u001b[0m\u001b[0;34m.\u001b[0m\u001b[0marange\u001b[0m\u001b[0;34m(\u001b[0m\u001b[0;36m0\u001b[0m\u001b[0;34m,\u001b[0m\u001b[0mlen\u001b[0m\u001b[0;34m(\u001b[0m\u001b[0mnmm_fourier\u001b[0m\u001b[0;34m)\u001b[0m\u001b[0;34m)\u001b[0m\u001b[0;34m\u001b[0m\u001b[0;34m\u001b[0m\u001b[0m\n\u001b[1;32m      3\u001b[0m \u001b[0;32mfor\u001b[0m \u001b[0mix\u001b[0m \u001b[0;32min\u001b[0m \u001b[0mindex\u001b[0m\u001b[0;34m:\u001b[0m\u001b[0;34m\u001b[0m\u001b[0;34m\u001b[0m\u001b[0m\n\u001b[1;32m      4\u001b[0m     \u001b[0mamplitud\u001b[0m\u001b[0;34m=\u001b[0m\u001b[0mnmm_potencias\u001b[0m\u001b[0;34m[\u001b[0m\u001b[0mix\u001b[0m\u001b[0;34m]\u001b[0m\u001b[0;34m*\u001b[0m\u001b[0;36m2\u001b[0m\u001b[0;34m\u001b[0m\u001b[0;34m\u001b[0m\u001b[0m\n\u001b[1;32m      5\u001b[0m     \u001b[0mfase\u001b[0m\u001b[0;34m=\u001b[0m\u001b[0mnp\u001b[0m\u001b[0;34m.\u001b[0m\u001b[0mangle\u001b[0m\u001b[0;34m(\u001b[0m\u001b[0mnmm_fourier\u001b[0m\u001b[0;34m[\u001b[0m\u001b[0mix\u001b[0m\u001b[0;34m]\u001b[0m\u001b[0;34m)\u001b[0m\u001b[0;34m\u001b[0m\u001b[0;34m\u001b[0m\u001b[0m\n",
      "\u001b[0;31mNameError\u001b[0m: name 'nmm_fourier' is not defined"
     ]
    }
   ],
   "source": [
    "suma_total=np.zeros((len(nmm_fourier),))*1j\n",
    "t=np.arange(0,len(nmm_fourier))\n",
    "for ix in index:\n",
    "    amplitud=nmm_potencias[ix]*2 \n",
    "    fase=np.angle(nmm_fourier[ix])\n",
    "    suma_total+=amplitud*np.exp(1j*(nmm_freq[ix]*2*np.pi*t+fase))\n",
    "#     suma_total+=amplitud*(np.cos(nmm_freq[ix]*2*np.pi*t+fase)+1j*np.sin(nmm_freq[ix]*2*np.pi*t+fase))"
   ]
  },
  {
   "cell_type": "code",
   "execution_count": null,
   "metadata": {
    "ExecuteTime": {
     "end_time": "2020-02-18T18:25:35.464891Z",
     "start_time": "2020-02-18T18:25:35.454Z"
    }
   },
   "outputs": [],
   "source": [
    "plt.figure()\n",
    "plt.plot(suma_total)"
   ]
  },
  {
   "cell_type": "code",
   "execution_count": 12,
   "metadata": {
    "ExecuteTime": {
     "end_time": "2020-02-18T18:25:35.586925Z",
     "start_time": "2020-02-18T18:25:35.566878Z"
    }
   },
   "outputs": [
    {
     "ename": "NameError",
     "evalue": "name 'nmm_fourier' is not defined",
     "output_type": "error",
     "traceback": [
      "\u001b[0;31m---------------------------------------------------------------------------\u001b[0m",
      "\u001b[0;31mNameError\u001b[0m                                 Traceback (most recent call last)",
      "\u001b[0;32m<ipython-input-12-e1e12698d2ed>\u001b[0m in \u001b[0;36m<module>\u001b[0;34m\u001b[0m\n\u001b[0;32m----> 1\u001b[0;31m \u001b[0mn\u001b[0m\u001b[0;34m=\u001b[0m\u001b[0mlen\u001b[0m\u001b[0;34m(\u001b[0m\u001b[0mnmm_fourier\u001b[0m\u001b[0;34m)\u001b[0m\u001b[0;34m\u001b[0m\u001b[0;34m\u001b[0m\u001b[0m\n\u001b[0m\u001b[1;32m      2\u001b[0m \u001b[0msuma\u001b[0m\u001b[0;34m=\u001b[0m\u001b[0mnp\u001b[0m\u001b[0;34m.\u001b[0m\u001b[0mzeros\u001b[0m\u001b[0;34m(\u001b[0m\u001b[0;34m(\u001b[0m\u001b[0mlen\u001b[0m\u001b[0;34m(\u001b[0m\u001b[0mnmm_fourier\u001b[0m\u001b[0;34m)\u001b[0m\u001b[0;34m,\u001b[0m\u001b[0;34m)\u001b[0m\u001b[0;34m)\u001b[0m\u001b[0;34m*\u001b[0m\u001b[0;36m1j\u001b[0m\u001b[0;34m\u001b[0m\u001b[0;34m\u001b[0m\u001b[0m\n\u001b[1;32m      3\u001b[0m \u001b[0;32mfor\u001b[0m \u001b[0mi\u001b[0m \u001b[0;32min\u001b[0m \u001b[0mindex\u001b[0m\u001b[0;34m:\u001b[0m\u001b[0;34m\u001b[0m\u001b[0;34m\u001b[0m\u001b[0m\n\u001b[1;32m      4\u001b[0m     \u001b[0mnmm_fourier_copy\u001b[0m\u001b[0;34m=\u001b[0m\u001b[0mnp\u001b[0m\u001b[0;34m.\u001b[0m\u001b[0mcopy\u001b[0m\u001b[0;34m(\u001b[0m\u001b[0mnmm_fourier\u001b[0m\u001b[0;34m)\u001b[0m\u001b[0;34m\u001b[0m\u001b[0;34m\u001b[0m\u001b[0m\n\u001b[1;32m      5\u001b[0m     \u001b[0mnp\u001b[0m\u001b[0;34m.\u001b[0m\u001b[0mput\u001b[0m\u001b[0;34m(\u001b[0m\u001b[0mnmm_fourier_copy\u001b[0m\u001b[0;34m,\u001b[0m \u001b[0mrange\u001b[0m\u001b[0;34m(\u001b[0m\u001b[0;36m0\u001b[0m\u001b[0;34m,\u001b[0m\u001b[0mi\u001b[0m\u001b[0;34m)\u001b[0m\u001b[0;34m,\u001b[0m \u001b[0;36m0.0\u001b[0m\u001b[0;34m)\u001b[0m\u001b[0;34m\u001b[0m\u001b[0;34m\u001b[0m\u001b[0m\n",
      "\u001b[0;31mNameError\u001b[0m: name 'nmm_fourier' is not defined"
     ]
    }
   ],
   "source": [
    "n=len(nmm_fourier)\n",
    "suma=np.zeros((len(nmm_fourier),))*1j\n",
    "for i in index:\n",
    "    nmm_fourier_copy=np.copy(nmm_fourier)    \n",
    "    np.put(nmm_fourier_copy, range(0,i), 0.0)\n",
    "    np.put(nmm_fourier_copy, range(i+1, n), 0.0)\n",
    "# Now fourier holds 1 imaginary coefficient\n",
    "    ifft = np.fft.ifft(nmm_fourier_copy*2)\n",
    "    suma+=ifft"
   ]
  },
  {
   "cell_type": "code",
   "execution_count": null,
   "metadata": {
    "ExecuteTime": {
     "end_time": "2020-02-18T18:25:35.589673Z",
     "start_time": "2020-02-18T18:25:35.465Z"
    }
   },
   "outputs": [],
   "source": [
    "plt.figure()\n",
    "plt.plot(suma)"
   ]
  },
  {
   "cell_type": "markdown",
   "metadata": {},
   "source": [
    "Sólo queda elegir los períodos a través de los cuales se quiere filtrar, extender el vector t dentro del ciclo y restar el valor obtenido al registro inicial."
   ]
  },
  {
   "cell_type": "code",
   "execution_count": null,
   "metadata": {},
   "outputs": [],
   "source": []
  },
  {
   "cell_type": "code",
   "execution_count": 13,
   "metadata": {
    "ExecuteTime": {
     "end_time": "2020-02-18T18:25:35.704022Z",
     "start_time": "2020-02-18T18:25:35.692842Z"
    }
   },
   "outputs": [
    {
     "ename": "NameError",
     "evalue": "name 'serie_real' is not defined",
     "output_type": "error",
     "traceback": [
      "\u001b[0;31m---------------------------------------------------------------------------\u001b[0m",
      "\u001b[0;31mNameError\u001b[0m                                 Traceback (most recent call last)",
      "\u001b[0;32m<ipython-input-13-9eafec80e5b1>\u001b[0m in \u001b[0;36m<module>\u001b[0;34m\u001b[0m\n\u001b[0;32m----> 1\u001b[0;31m \u001b[0mserie_real\u001b[0m\u001b[0;34m=\u001b[0m\u001b[0mserie_real\u001b[0m\u001b[0;34m.\u001b[0m\u001b[0mrolling\u001b[0m\u001b[0;34m(\u001b[0m\u001b[0;36m30\u001b[0m\u001b[0;34m)\u001b[0m\u001b[0;34m.\u001b[0m\u001b[0mmean\u001b[0m\u001b[0;34m(\u001b[0m\u001b[0;34m)\u001b[0m\u001b[0;34m\u001b[0m\u001b[0;34m\u001b[0m\u001b[0m\n\u001b[0m",
      "\u001b[0;31mNameError\u001b[0m: name 'serie_real' is not defined"
     ]
    }
   ],
   "source": [
    "serie_real=serie_real.rolling(30).mean()"
   ]
  },
  {
   "cell_type": "code",
   "execution_count": null,
   "metadata": {
    "ExecuteTime": {
     "end_time": "2020-02-18T18:25:35.706841Z",
     "start_time": "2020-02-18T18:25:35.608Z"
    }
   },
   "outputs": [],
   "source": [
    "serie_real"
   ]
  },
  {
   "cell_type": "code",
   "execution_count": null,
   "metadata": {
    "ExecuteTime": {
     "end_time": "2020-02-18T18:25:35.708456Z",
     "start_time": "2020-02-18T18:25:35.613Z"
    }
   },
   "outputs": [],
   "source": [
    "plt.plot(serie_real)"
   ]
  },
  {
   "cell_type": "markdown",
   "metadata": {
    "ExecuteTime": {
     "end_time": "2020-02-17T05:38:01.478694Z",
     "start_time": "2020-02-17T05:38:01.466005Z"
    }
   },
   "source": [
    "# Revisando evento por evento"
   ]
  },
  {
   "cell_type": "markdown",
   "metadata": {},
   "source": [
    "## Niño 1994-1995 (moderado)"
   ]
  },
  {
   "cell_type": "code",
   "execution_count": 14,
   "metadata": {
    "ExecuteTime": {
     "end_time": "2020-02-18T18:25:36.606184Z",
     "start_time": "2020-02-18T18:25:35.890614Z"
    }
   },
   "outputs": [
    {
     "ename": "NameError",
     "evalue": "name 'lat' is not defined",
     "output_type": "error",
     "traceback": [
      "\u001b[0;31m---------------------------------------------------------------------------\u001b[0m",
      "\u001b[0;31mNameError\u001b[0m                                 Traceback (most recent call last)",
      "\u001b[0;32m<ipython-input-14-efd04156c78c>\u001b[0m in \u001b[0;36m<module>\u001b[0;34m\u001b[0m\n\u001b[1;32m     18\u001b[0m \u001b[0max2\u001b[0m \u001b[0;34m=\u001b[0m \u001b[0mfig\u001b[0m\u001b[0;34m.\u001b[0m\u001b[0madd_subplot\u001b[0m\u001b[0;34m(\u001b[0m\u001b[0mgs\u001b[0m\u001b[0;34m[\u001b[0m\u001b[0;36m1\u001b[0m\u001b[0;34m,\u001b[0m \u001b[0;36m0\u001b[0m\u001b[0;34m]\u001b[0m\u001b[0;34m)\u001b[0m\u001b[0;34m\u001b[0m\u001b[0;34m\u001b[0m\u001b[0m\n\u001b[1;32m     19\u001b[0m \u001b[0max2\u001b[0m\u001b[0;34m.\u001b[0m\u001b[0minvert_yaxis\u001b[0m\u001b[0;34m(\u001b[0m\u001b[0;34m)\u001b[0m  \u001b[0;31m# Reverse the time order to do oldest first\u001b[0m\u001b[0;34m\u001b[0m\u001b[0;34m\u001b[0m\u001b[0m\n\u001b[0;32m---> 20\u001b[0;31m \u001b[0max2\u001b[0m\u001b[0;34m.\u001b[0m\u001b[0mset_title\u001b[0m\u001b[0;34m(\u001b[0m\u001b[0;34m'Diagrama de Hovmoller para lat: '\u001b[0m\u001b[0;34m+\u001b[0m\u001b[0mstr\u001b[0m\u001b[0;34m(\u001b[0m\u001b[0mlat\u001b[0m\u001b[0;34m[\u001b[0m\u001b[0;36m27\u001b[0m\u001b[0;34m]\u001b[0m\u001b[0;34m)\u001b[0m\u001b[0;34m+\u001b[0m\u001b[0;34m\"°N\"\u001b[0m\u001b[0;34m,\u001b[0m\u001b[0mfontsize\u001b[0m\u001b[0;34m=\u001b[0m\u001b[0;36m18\u001b[0m\u001b[0;34m)\u001b[0m\u001b[0;34m\u001b[0m\u001b[0;34m\u001b[0m\u001b[0m\n\u001b[0m\u001b[1;32m     21\u001b[0m \u001b[0;34m\u001b[0m\u001b[0m\n\u001b[1;32m     22\u001b[0m \u001b[0mx\u001b[0m\u001b[0;34m,\u001b[0m\u001b[0my\u001b[0m\u001b[0;34m=\u001b[0m\u001b[0mnp\u001b[0m\u001b[0;34m.\u001b[0m\u001b[0mmeshgrid\u001b[0m\u001b[0;34m(\u001b[0m\u001b[0mnew_lon\u001b[0m\u001b[0;34m,\u001b[0m\u001b[0mnew_array\u001b[0m\u001b[0;34m)\u001b[0m\u001b[0;34m\u001b[0m\u001b[0;34m\u001b[0m\u001b[0m\n",
      "\u001b[0;31mNameError\u001b[0m: name 'lat' is not defined"
     ]
    },
    {
     "data": {
      "image/png": "[encoded data removed]",
      "text/plain": [
       "<Figure size 864x720 with 1 Axes>"
      ]
     },
     "metadata": {
      "needs_background": "light"
     },
     "output_type": "display_data"
    }
   ],
   "source": [
    "fig=plt.figure(figsize=(12,10))\n",
    "fig.suptitle(\"Niño 1994-1995 (moderado)\",y=0.92,fontsize=20)\n",
    "\n",
    "gs = gsa.GridSpec(nrows=2, ncols=1,height_ratios=[1,6])\n",
    "\n",
    "# x_tick_labels = [u'120\\N{DEGREE SIGN}W', u'110\\N{DEGREE SIGN}W',\n",
    "#                  u'100\\N{DEGREE SIGN}W', u'90\\N{DEGREE SIGN}W',\n",
    "#                  u'80\\N{DEGREE SIGN}W']\n",
    "\n",
    "# y_tick_labels = [u'-2\\N{DEGREE SIGN}N', u'0\\N{DEGREE SIGN}N',\n",
    "#                  u'2\\N{DEGREE SIGN}N', u'4\\N{DEGREE SIGN}N',\n",
    "#                  u'6\\N{DEGREE SIGN}N',u'8\\N{DEGREE SIGN}N']\n",
    "\n",
    "xlocs=np.arange(-120, -60, 10)\n",
    "ylocs=np.arange(-3,10,2)\n",
    "\n",
    "# Acerca del segundo subplot\n",
    "ax2 = fig.add_subplot(gs[1, 0])\n",
    "ax2.invert_yaxis()  # Reverse the time order to do oldest first\n",
    "ax2.set_title('Diagrama de Hovmoller para lat: '+str(lat[27])+\"°N\",fontsize=18)\n",
    "\n",
    "x,y=np.meshgrid(new_lon,new_array)\n",
    "cf=ax2.contourf(x,y,sla_copy_mod[:,:],20,cmap=\"jet\")\n",
    "cr=ax2.contour(x,y,sla_copy_mod[:,:],20,colors=\"k\",linewidths=0.3)\n",
    "cbar = plt.colorbar(cf, orientation='horizontal', pad=0.08, aspect=50)\n",
    "cbar.set_label('m',fontsize=15)\n",
    "cbar.ax.tick_params(labelsize=15) \n",
    "\n",
    "ax2.set_xticks(np.array(xlocs)+360)\n",
    "ax2.set_xticklabels(x_tick_labels)\n",
    "ax2.set_ylim((new_array[365*3],new_array[0]))\n",
    "ax2.set_xlim((new_lon[0],new_lon[-4]))\n",
    "\n",
    "ax2.tick_params(labelsize=15)\n",
    "\n",
    "\n",
    "#Linea alrededor de 92°W\n",
    "ax2.axvline(x=new_lon[26],c='k',ls='--',lw=3)\n",
    "\n",
    "# Acerca del primer subplot\n",
    "ax1 = fig.add_subplot(gs[0, 0])\n",
    "ax1.plot(serie_real, 'k')\n",
    "for i,k in zip(inicio_niño,fin_niño): #Niño y después niña\n",
    "    ax1.fill_betweenx([-3,3],Serie_oni.index[locs_niño[i]],Serie_oni.index[locs_niño[k]],color=\"r\",alpha=0.4)\n",
    "for j,m in zip(inicio_niña,fin_niña): #Niño y después niña\n",
    "    ax1.fill_betweenx([-3,3],Serie_oni.index[locs_niña[j]],Serie_oni.index[locs_niña[m]],color=\"b\",alpha=0.4) \n",
    "ax1.set_ylabel(\"nmm [m]\")\n",
    "ax1.set_xlim((new_array[0],new_array[365*3]))\n",
    "\n",
    "plt.savefig('./Plots/hovmoller_95_96.png',dpi=600,bbox_inches=\"tight\")"
   ]
  },
  {
   "cell_type": "markdown",
   "metadata": {},
   "source": [
    "Tuvo cerca a la costa, anomalías alrededor de los 12 cm, su intensidad fue moderada, empezó en Septiembre y acabó en marzo y duró cerca de 6 meses.\n",
    "\n",
    "Las anomalías que registra son..."
   ]
  },
  {
   "cell_type": "code",
   "execution_count": null,
   "metadata": {},
   "outputs": [],
   "source": []
  },
  {
   "cell_type": "markdown",
   "metadata": {},
   "source": [
    "## Niño 1997-1998 (very strong) "
   ]
  },
  {
   "cell_type": "code",
   "execution_count": null,
   "metadata": {
    "ExecuteTime": {
     "end_time": "2020-02-18T18:25:36.610971Z",
     "start_time": "2020-02-18T18:25:36.238Z"
    }
   },
   "outputs": [],
   "source": [
    "fig=plt.figure(figsize=(12,10))\n",
    "fig.suptitle(\"Niño 1997-1998 (muy fuerte)\",y=0.92,fontsize=20)\n",
    "\n",
    "\n",
    "gs = gsa.GridSpec(nrows=2, ncols=1,height_ratios=[1,6])\n",
    "\n",
    "# x_tick_labels = [u'120\\N{DEGREE SIGN}W', u'110\\N{DEGREE SIGN}W',\n",
    "#                  u'100\\N{DEGREE SIGN}W', u'90\\N{DEGREE SIGN}W',\n",
    "#                  u'80\\N{DEGREE SIGN}W']\n",
    "\n",
    "# y_tick_labels = [u'-2\\N{DEGREE SIGN}N', u'0\\N{DEGREE SIGN}N',\n",
    "#                  u'2\\N{DEGREE SIGN}N', u'4\\N{DEGREE SIGN}N',\n",
    "#                  u'6\\N{DEGREE SIGN}N',u'8\\N{DEGREE SIGN}N']\n",
    "\n",
    "xlocs=np.arange(-120, -60, 10)\n",
    "ylocs=np.arange(-3,10,2)\n",
    "\n",
    "# Acerca del segundo subplot\n",
    "ax2 = fig.add_subplot(gs[1, 0])\n",
    "ax2.invert_yaxis()  # Reverse the time order to do oldest first\n",
    "ax2.set_title('Diagrama de Hovmoller para lat: '+str(lat[27])+\"°N\",fontsize=18)\n",
    "\n",
    "x,y=np.meshgrid(new_lon,new_array)\n",
    "cf=ax2.contourf(x,y,sla_copy_mod[:,:],20,cmap=\"jet\")\n",
    "cr=ax2.contour(x,y,sla_copy_mod[:,:],20,colors=\"k\",linewidths=0.3)\n",
    "cbar = plt.colorbar(cf, orientation='horizontal', pad=0.08, aspect=50)\n",
    "cbar.set_label('m',fontsize=15)\n",
    "cbar.ax.tick_params(labelsize=15) \n",
    "\n",
    "ax2.set_xticks(np.array(xlocs)+360)\n",
    "ax2.set_xticklabels(x_tick_labels)\n",
    "ax2.set_ylim((new_array[365*6],new_array[365*3]))\n",
    "ax2.set_xlim((new_lon[0],new_lon[-4]))\n",
    "\n",
    "ax2.tick_params(labelsize=15)\n",
    "\n",
    "ax2.axvline(x=new_lon[26],c='k',ls='--',lw=3)\n",
    "\n",
    "\n",
    "# Acerca del primer subplot\n",
    "ax1 = fig.add_subplot(gs[0, 0])\n",
    "ax1.plot(pd.Series(smooth(serie_real,90),index=serie_real.index), 'k')\n",
    "for i,k in zip(inicio_niño,fin_niño): #Niño y después niña\n",
    "    ax1.fill_betweenx([-3,3],Serie_oni.index[locs_niño[i]],Serie_oni.index[locs_niño[k]],color=\"r\",alpha=0.4)\n",
    "for j,m in zip(inicio_niña,fin_niña): #Niño y después niña\n",
    "    ax1.fill_betweenx([-3,3],Serie_oni.index[locs_niña[j]],Serie_oni.index[locs_niña[m]],color=\"b\",alpha=0.4) \n",
    "ax1.set_ylabel(\"nmm [m]\")\n",
    "ax1.set_xlim((new_array[365*3],new_array[365*6]))\n",
    "\n",
    "plt.savefig('./Plots/hovmoller_97_98.png',dpi=600,bbox_inches=\"tight\")"
   ]
  },
  {
   "cell_type": "markdown",
   "metadata": {},
   "source": [
    "Tuvo cerca a la costa, anomalías alrededor de los 30 cm, su intensidad fue muy fuerte, empezó en Mayo y acabó en Abril y duró cerca de 11 meses.\n",
    "\n",
    "Las anomalías que registra son..."
   ]
  },
  {
   "cell_type": "markdown",
   "metadata": {},
   "source": [
    "## Niño 2002-2003 (moderate)"
   ]
  },
  {
   "cell_type": "code",
   "execution_count": null,
   "metadata": {
    "ExecuteTime": {
     "end_time": "2020-02-18T18:25:36.614315Z",
     "start_time": "2020-02-18T18:25:36.560Z"
    }
   },
   "outputs": [],
   "source": [
    "fig=plt.figure(figsize=(12,10))\n",
    "fig.suptitle(\"Niño 2002-2003 (moderado)\",y=0.92,fontsize=20)\n",
    "gs = gsa.GridSpec(nrows=2, ncols=1,height_ratios=[1,6])\n",
    "\n",
    "# x_tick_labels = [u'120\\N{DEGREE SIGN}W', u'110\\N{DEGREE SIGN}W',\n",
    "#                  u'100\\N{DEGREE SIGN}W', u'90\\N{DEGREE SIGN}W',\n",
    "#                  u'80\\N{DEGREE SIGN}W']\n",
    "\n",
    "# y_tick_labels = [u'-2\\N{DEGREE SIGN}N', u'0\\N{DEGREE SIGN}N',\n",
    "#                  u'2\\N{DEGREE SIGN}N', u'4\\N{DEGREE SIGN}N',\n",
    "#                  u'6\\N{DEGREE SIGN}N',u'8\\N{DEGREE SIGN}N']\n",
    "\n",
    "xlocs=np.arange(-120, -60, 10)\n",
    "ylocs=np.arange(-3,10,2)\n",
    "\n",
    "# Acerca del segundo subplot\n",
    "ax2 = fig.add_subplot(gs[1, 0])\n",
    "ax2.invert_yaxis()  # Reverse the time order to do oldest first\n",
    "ax2.set_title('Diagrama de Hovmoller para lat: '+str(lat[27])+\"°N\",fontsize=18)\n",
    "\n",
    "x,y=np.meshgrid(new_lon,new_array)\n",
    "cf=ax2.contourf(x,y,sla_copy_mod[:,:],20,cmap=\"jet\")\n",
    "cr=ax2.contour(x,y,sla_copy_mod[:,:],20,colors=\"k\",linewidths=0.3)\n",
    "cbar = plt.colorbar(cf, orientation='horizontal', pad=0.08, aspect=50)\n",
    "cbar.set_label('m',fontsize=15)\n",
    "cbar.ax.tick_params(labelsize=15) \n",
    "\n",
    "ax2.set_xticks(np.array(xlocs)+360)\n",
    "ax2.set_xticklabels(x_tick_labels)\n",
    "ax2.set_ylim((new_array[365*11],new_array[365*9]))\n",
    "ax2.set_xlim((new_lon[0],new_lon[-4]))\n",
    "\n",
    "ax2.tick_params(labelsize=15)\n",
    "\n",
    "ax2.axvline(x=new_lon[26],c='k',ls='--',lw=3)\n",
    "\n",
    "\n",
    "# Acerca del primer subplot\n",
    "ax1 = fig.add_subplot(gs[0, 0])\n",
    "ax1.plot(pd.Series(smooth(serie_real,90),index=serie_real.index), 'k')\n",
    "for i,k in zip(inicio_niño,fin_niño): #Niño y después niña\n",
    "    ax1.fill_betweenx([-3,3],Serie_oni.index[locs_niño[i]],Serie_oni.index[locs_niño[k]],color=\"r\",alpha=0.4)\n",
    "for j,m in zip(inicio_niña,fin_niña): #Niño y después niña\n",
    "    ax1.fill_betweenx([-3,3],Serie_oni.index[locs_niña[j]],Serie_oni.index[locs_niña[m]],color=\"b\",alpha=0.4) \n",
    "ax1.set_ylabel(\"nmm [m]\")\n",
    "ax1.set_xlim((new_array[365*9],new_array[365*11]))\n",
    "\n",
    "plt.savefig('./Plots/hovmoller_02_03.png',dpi=600,bbox_inches=\"tight\")"
   ]
  },
  {
   "cell_type": "markdown",
   "metadata": {},
   "source": [
    "Tuvo cerca a la costa, anomalías alrededor de los 18 cm, su intensidad fue moderada, empezó en Junio y acabó en Febrero y duró cerca de 7 meses.\n",
    "\n",
    "Las anomalías que registra son..."
   ]
  },
  {
   "cell_type": "markdown",
   "metadata": {},
   "source": [
    "## Niño 2004-2005 (weak)"
   ]
  },
  {
   "cell_type": "code",
   "execution_count": 15,
   "metadata": {
    "ExecuteTime": {
     "end_time": "2020-02-18T18:25:37.251354Z",
     "start_time": "2020-02-18T18:25:36.927217Z"
    }
   },
   "outputs": [
    {
     "ename": "NameError",
     "evalue": "name 'lat' is not defined",
     "output_type": "error",
     "traceback": [
      "\u001b[0;31m---------------------------------------------------------------------------\u001b[0m",
      "\u001b[0;31mNameError\u001b[0m                                 Traceback (most recent call last)",
      "\u001b[0;32m<ipython-input-15-56e88618608f>\u001b[0m in \u001b[0;36m<module>\u001b[0;34m\u001b[0m\n\u001b[1;32m     17\u001b[0m \u001b[0max2\u001b[0m \u001b[0;34m=\u001b[0m \u001b[0mfig\u001b[0m\u001b[0;34m.\u001b[0m\u001b[0madd_subplot\u001b[0m\u001b[0;34m(\u001b[0m\u001b[0mgs\u001b[0m\u001b[0;34m[\u001b[0m\u001b[0;36m1\u001b[0m\u001b[0;34m,\u001b[0m \u001b[0;36m0\u001b[0m\u001b[0;34m]\u001b[0m\u001b[0;34m)\u001b[0m\u001b[0;34m\u001b[0m\u001b[0;34m\u001b[0m\u001b[0m\n\u001b[1;32m     18\u001b[0m \u001b[0max2\u001b[0m\u001b[0;34m.\u001b[0m\u001b[0minvert_yaxis\u001b[0m\u001b[0;34m(\u001b[0m\u001b[0;34m)\u001b[0m  \u001b[0;31m# Reverse the time order to do oldest first\u001b[0m\u001b[0;34m\u001b[0m\u001b[0;34m\u001b[0m\u001b[0m\n\u001b[0;32m---> 19\u001b[0;31m \u001b[0max2\u001b[0m\u001b[0;34m.\u001b[0m\u001b[0mset_title\u001b[0m\u001b[0;34m(\u001b[0m\u001b[0;34m'Diagrama de Hovmoller para lat: '\u001b[0m\u001b[0;34m+\u001b[0m\u001b[0mstr\u001b[0m\u001b[0;34m(\u001b[0m\u001b[0mlat\u001b[0m\u001b[0;34m[\u001b[0m\u001b[0;36m27\u001b[0m\u001b[0;34m]\u001b[0m\u001b[0;34m)\u001b[0m\u001b[0;34m+\u001b[0m\u001b[0;34m\"°N\"\u001b[0m\u001b[0;34m,\u001b[0m\u001b[0mfontsize\u001b[0m\u001b[0;34m=\u001b[0m\u001b[0;36m18\u001b[0m\u001b[0;34m)\u001b[0m\u001b[0;34m\u001b[0m\u001b[0;34m\u001b[0m\u001b[0m\n\u001b[0m\u001b[1;32m     20\u001b[0m \u001b[0;34m\u001b[0m\u001b[0m\n\u001b[1;32m     21\u001b[0m \u001b[0mx\u001b[0m\u001b[0;34m,\u001b[0m\u001b[0my\u001b[0m\u001b[0;34m=\u001b[0m\u001b[0mnp\u001b[0m\u001b[0;34m.\u001b[0m\u001b[0mmeshgrid\u001b[0m\u001b[0;34m(\u001b[0m\u001b[0mnew_lon\u001b[0m\u001b[0;34m,\u001b[0m\u001b[0mnew_array\u001b[0m\u001b[0;34m)\u001b[0m\u001b[0;34m\u001b[0m\u001b[0;34m\u001b[0m\u001b[0m\n",
      "\u001b[0;31mNameError\u001b[0m: name 'lat' is not defined"
     ]
    },
    {
     "data": {
      "image/png": "[encoded data removed]",
      "text/plain": [
       "<Figure size 864x720 with 1 Axes>"
      ]
     },
     "metadata": {
      "needs_background": "light"
     },
     "output_type": "display_data"
    }
   ],
   "source": [
    "fig=plt.figure(figsize=(12,10))\n",
    "fig.suptitle(\"Niño 2004-2005 (débil)\",y=0.92,fontsize=20)\n",
    "gs = gsa.GridSpec(nrows=2, ncols=1,height_ratios=[1,6])\n",
    "\n",
    "# x_tick_labels = [u'120\\N{DEGREE SIGN}W', u'110\\N{DEGREE SIGN}W',\n",
    "#                  u'100\\N{DEGREE SIGN}W', u'90\\N{DEGREE SIGN}W',\n",
    "#                  u'80\\N{DEGREE SIGN}W']\n",
    "\n",
    "# y_tick_labels = [u'-2\\N{DEGREE SIGN}N', u'0\\N{DEGREE SIGN}N',\n",
    "#                  u'2\\N{DEGREE SIGN}N', u'4\\N{DEGREE SIGN}N',\n",
    "#                  u'6\\N{DEGREE SIGN}N',u'8\\N{DEGREE SIGN}N']\n",
    "\n",
    "xlocs=np.arange(-120, -60, 10)\n",
    "ylocs=np.arange(-3,10,2)\n",
    "\n",
    "# Acerca del segundo subplot\n",
    "ax2 = fig.add_subplot(gs[1, 0])\n",
    "ax2.invert_yaxis()  # Reverse the time order to do oldest first\n",
    "ax2.set_title('Diagrama de Hovmoller para lat: '+str(lat[27])+\"°N\",fontsize=18)\n",
    "\n",
    "x,y=np.meshgrid(new_lon,new_array)\n",
    "cf=ax2.contourf(x,y,sla_copy_mod[:,:],20,cmap=\"jet\")\n",
    "cr=ax2.contour(x,y,sla_copy_mod[:,:],20,colors=\"k\",linewidths=0.3)\n",
    "cbar = plt.colorbar(cf, orientation='horizontal', pad=0.08, aspect=50)\n",
    "cbar.set_label('m',fontsize=15)\n",
    "cbar.ax.tick_params(labelsize=15) \n",
    "\n",
    "ax2.set_xticks(np.array(xlocs)+360)\n",
    "ax2.set_xticklabels(x_tick_labels)\n",
    "ax2.set_ylim((new_array[365*13],new_array[365*10]))\n",
    "ax2.set_xlim((new_lon[0],new_lon[-4]))\n",
    "\n",
    "ax2.tick_params(labelsize=15)\n",
    "\n",
    "ax2.axvline(x=new_lon[26],c='k',ls='--',lw=3)\n",
    "\n",
    "# Acerca del primer subplot\n",
    "ax1 = fig.add_subplot(gs[0, 0])\n",
    "ax1.plot(pd.Series(smooth(serie_real,90),index=serie_real.index), 'k')\n",
    "for i,k in zip(inicio_niño,fin_niño): #Niño y después niña\n",
    "    ax1.fill_betweenx([-3,3],Serie_oni.index[locs_niño[i]],Serie_oni.index[locs_niño[k]],color=\"r\",alpha=0.4)\n",
    "for j,m in zip(inicio_niña,fin_niña): #Niño y después niña\n",
    "    ax1.fill_betweenx([-3,3],Serie_oni.index[locs_niña[j]],Serie_oni.index[locs_niña[m]],color=\"b\",alpha=0.4) \n",
    "ax1.set_ylabel(\"nmm [m]\")\n",
    "ax1.set_xlim((new_array[365*10],new_array[365*13]))\n",
    "\n",
    "plt.savefig('./Plots/hovmoller_04_05.png',dpi=600,bbox_inches=\"tight\")"
   ]
  },
  {
   "cell_type": "markdown",
   "metadata": {},
   "source": [
    "Tuvo cerca a la costa, anomalías alrededor de los 10-11 cm, su intensidad fue débil, empezó en Julio y acabó en Febrero y duró cerca de 6 meses.\n",
    "\n",
    "Las anomalías que registra son..."
   ]
  },
  {
   "cell_type": "markdown",
   "metadata": {},
   "source": [
    "## Niño 2006-2007 (weak)"
   ]
  },
  {
   "cell_type": "code",
   "execution_count": null,
   "metadata": {
    "ExecuteTime": {
     "end_time": "2020-02-18T18:25:37.254013Z",
     "start_time": "2020-02-18T18:25:37.206Z"
    }
   },
   "outputs": [],
   "source": [
    "fig=plt.figure(figsize=(12,10))\n",
    "fig.suptitle(\"Niño 2006-2007 (débil)\",y=0.92,fontsize=20)\n",
    "\n",
    "gs = gsa.GridSpec(nrows=2, ncols=1,height_ratios=[1,6])\n",
    "\n",
    "# x_tick_labels = [u'120\\N{DEGREE SIGN}W', u'110\\N{DEGREE SIGN}W',\n",
    "#                  u'100\\N{DEGREE SIGN}W', u'90\\N{DEGREE SIGN}W',\n",
    "#                  u'80\\N{DEGREE SIGN}W']\n",
    "\n",
    "# y_tick_labels = [u'-2\\N{DEGREE SIGN}N', u'0\\N{DEGREE SIGN}N',\n",
    "#                  u'2\\N{DEGREE SIGN}N', u'4\\N{DEGREE SIGN}N',\n",
    "#                  u'6\\N{DEGREE SIGN}N',u'8\\N{DEGREE SIGN}N']\n",
    "\n",
    "xlocs=np.arange(-120, -60, 10)\n",
    "ylocs=np.arange(-3,10,2)\n",
    "\n",
    "# Acerca del segundo subplot\n",
    "ax2 = fig.add_subplot(gs[1, 0])\n",
    "ax2.invert_yaxis()  # Reverse the time order to do oldest first\n",
    "ax2.set_title('Diagrama de Hovmoller para lat: '+str(lat[27])+\"°N\",fontsize=18)\n",
    "\n",
    "x,y=np.meshgrid(new_lon,new_array)\n",
    "cf=ax2.contourf(x,y,sla_copy_mod[:,:],20,cmap=\"jet\")\n",
    "cr=ax2.contour(x,y,sla_copy_mod[:,:],20,colors=\"k\",linewidths=0.3)\n",
    "cbar = plt.colorbar(cf, orientation='horizontal', pad=0.08, aspect=50)\n",
    "cbar.set_label('m',fontsize=15)\n",
    "cbar.ax.tick_params(labelsize=15) \n",
    "\n",
    "ax2.set_xticks(np.array(xlocs)+360)\n",
    "ax2.set_xticklabels(x_tick_labels)\n",
    "ax2.set_ylim((new_array[365*15],new_array[365*13]))\n",
    "ax2.set_xlim((new_lon[0],new_lon[-4]))\n",
    "\n",
    "ax2.tick_params(labelsize=15)\n",
    "ax2.axvline(x=new_lon[26],c='k',ls='--',lw=3)\n",
    "\n",
    "\n",
    "# Acerca del primer subplot\n",
    "ax1 = fig.add_subplot(gs[0, 0])\n",
    "ax1.plot(pd.Series(smooth(serie_real,90),index=serie_real.index), 'k')\n",
    "for i,k in zip(inicio_niño,fin_niño): #Niño y después niña\n",
    "    ax1.fill_betweenx([-3,3],Serie_oni.index[locs_niño[i]],Serie_oni.index[locs_niño[k]],color=\"r\",alpha=0.4)\n",
    "for j,m in zip(inicio_niña,fin_niña): #Niño y después niña\n",
    "    ax1.fill_betweenx([-3,3],Serie_oni.index[locs_niña[j]],Serie_oni.index[locs_niña[m]],color=\"b\",alpha=0.4) \n",
    "ax1.set_ylabel(\"nmm [m]\")\n",
    "ax1.set_xlim((new_array[365*13],new_array[365*15]))\n",
    "\n",
    "plt.savefig('./Plots/hovmoller_06_07.png',dpi=600,bbox_inches=\"tight\")"
   ]
  },
  {
   "cell_type": "markdown",
   "metadata": {},
   "source": [
    "Tuvo cerca a la costa, anomalías alrededor de los 10-11 cm, su intensidad fue débil, empezó en Julio y acabó en Febrero y duró cerca de 4 meses.\n",
    "\n",
    "Las anomalías que registra son..."
   ]
  },
  {
   "cell_type": "code",
   "execution_count": 16,
   "metadata": {
    "ExecuteTime": {
     "end_time": "2020-02-18T18:25:37.370343Z",
     "start_time": "2020-02-18T18:25:37.357098Z"
    }
   },
   "outputs": [
    {
     "ename": "NameError",
     "evalue": "name 'inicio_niño' is not defined",
     "output_type": "error",
     "traceback": [
      "\u001b[0;31m---------------------------------------------------------------------------\u001b[0m",
      "\u001b[0;31mNameError\u001b[0m                                 Traceback (most recent call last)",
      "\u001b[0;32m<ipython-input-16-21188b4c30bf>\u001b[0m in \u001b[0;36m<module>\u001b[0;34m\u001b[0m\n\u001b[0;32m----> 1\u001b[0;31m \u001b[0;32mfor\u001b[0m \u001b[0mi\u001b[0m\u001b[0;34m,\u001b[0m\u001b[0mk\u001b[0m \u001b[0;32min\u001b[0m \u001b[0mzip\u001b[0m\u001b[0;34m(\u001b[0m\u001b[0minicio_niño\u001b[0m\u001b[0;34m,\u001b[0m\u001b[0mfin_niño\u001b[0m\u001b[0;34m)\u001b[0m\u001b[0;34m:\u001b[0m \u001b[0;31m#Niño y después niña\u001b[0m\u001b[0;34m\u001b[0m\u001b[0;34m\u001b[0m\u001b[0m\n\u001b[0m\u001b[1;32m      2\u001b[0m     \u001b[0ma\u001b[0m\u001b[0;34m=\u001b[0m\u001b[0mSerie_oni\u001b[0m\u001b[0;34m.\u001b[0m\u001b[0mindex\u001b[0m\u001b[0;34m[\u001b[0m\u001b[0mlocs_niño\u001b[0m\u001b[0;34m[\u001b[0m\u001b[0mi\u001b[0m\u001b[0;34m]\u001b[0m\u001b[0;34m]\u001b[0m\u001b[0;34m\u001b[0m\u001b[0;34m\u001b[0m\u001b[0m\n\u001b[1;32m      3\u001b[0m     \u001b[0mb\u001b[0m\u001b[0;34m=\u001b[0m\u001b[0mSerie_oni\u001b[0m\u001b[0;34m.\u001b[0m\u001b[0mindex\u001b[0m\u001b[0;34m[\u001b[0m\u001b[0mlocs_niño\u001b[0m\u001b[0;34m[\u001b[0m\u001b[0mk\u001b[0m\u001b[0;34m]\u001b[0m\u001b[0;34m]\u001b[0m\u001b[0;34m\u001b[0m\u001b[0;34m\u001b[0m\u001b[0m\n\u001b[1;32m      4\u001b[0m     \u001b[0mprint\u001b[0m\u001b[0;34m(\u001b[0m\u001b[0ma\u001b[0m\u001b[0;34m,\u001b[0m\u001b[0mb\u001b[0m\u001b[0;34m)\u001b[0m\u001b[0;34m\u001b[0m\u001b[0;34m\u001b[0m\u001b[0m\n",
      "\u001b[0;31mNameError\u001b[0m: name 'inicio_niño' is not defined"
     ]
    }
   ],
   "source": [
    "for i,k in zip(inicio_niño,fin_niño): #Niño y después niña\n",
    "    a=Serie_oni.index[locs_niño[i]]\n",
    "    b=Serie_oni.index[locs_niño[k]]\n",
    "    print(a,b)"
   ]
  },
  {
   "cell_type": "markdown",
   "metadata": {},
   "source": [
    "## Niño 2009-2010 (moderate)"
   ]
  },
  {
   "cell_type": "code",
   "execution_count": 17,
   "metadata": {
    "ExecuteTime": {
     "end_time": "2020-02-18T18:25:37.815201Z",
     "start_time": "2020-02-18T18:25:37.475678Z"
    }
   },
   "outputs": [
    {
     "ename": "NameError",
     "evalue": "name 'lat' is not defined",
     "output_type": "error",
     "traceback": [
      "\u001b[0;31m---------------------------------------------------------------------------\u001b[0m",
      "\u001b[0;31mNameError\u001b[0m                                 Traceback (most recent call last)",
      "\u001b[0;32m<ipython-input-17-4fa2a816da31>\u001b[0m in \u001b[0;36m<module>\u001b[0;34m\u001b[0m\n\u001b[1;32m     18\u001b[0m \u001b[0max2\u001b[0m \u001b[0;34m=\u001b[0m \u001b[0mfig\u001b[0m\u001b[0;34m.\u001b[0m\u001b[0madd_subplot\u001b[0m\u001b[0;34m(\u001b[0m\u001b[0mgs\u001b[0m\u001b[0;34m[\u001b[0m\u001b[0;36m1\u001b[0m\u001b[0;34m,\u001b[0m \u001b[0;36m0\u001b[0m\u001b[0;34m]\u001b[0m\u001b[0;34m)\u001b[0m\u001b[0;34m\u001b[0m\u001b[0;34m\u001b[0m\u001b[0m\n\u001b[1;32m     19\u001b[0m \u001b[0max2\u001b[0m\u001b[0;34m.\u001b[0m\u001b[0minvert_yaxis\u001b[0m\u001b[0;34m(\u001b[0m\u001b[0;34m)\u001b[0m  \u001b[0;31m# Reverse the time order to do oldest first\u001b[0m\u001b[0;34m\u001b[0m\u001b[0;34m\u001b[0m\u001b[0m\n\u001b[0;32m---> 20\u001b[0;31m \u001b[0max2\u001b[0m\u001b[0;34m.\u001b[0m\u001b[0mset_title\u001b[0m\u001b[0;34m(\u001b[0m\u001b[0;34m'Diagrama de Hovmoller para lat: '\u001b[0m\u001b[0;34m+\u001b[0m\u001b[0mstr\u001b[0m\u001b[0;34m(\u001b[0m\u001b[0mlat\u001b[0m\u001b[0;34m[\u001b[0m\u001b[0;36m27\u001b[0m\u001b[0;34m]\u001b[0m\u001b[0;34m)\u001b[0m\u001b[0;34m+\u001b[0m\u001b[0;34m\"°N\"\u001b[0m\u001b[0;34m,\u001b[0m\u001b[0mfontsize\u001b[0m\u001b[0;34m=\u001b[0m\u001b[0;36m18\u001b[0m\u001b[0;34m)\u001b[0m\u001b[0;34m\u001b[0m\u001b[0;34m\u001b[0m\u001b[0m\n\u001b[0m\u001b[1;32m     21\u001b[0m \u001b[0;34m\u001b[0m\u001b[0m\n\u001b[1;32m     22\u001b[0m \u001b[0mx\u001b[0m\u001b[0;34m,\u001b[0m\u001b[0my\u001b[0m\u001b[0;34m=\u001b[0m\u001b[0mnp\u001b[0m\u001b[0;34m.\u001b[0m\u001b[0mmeshgrid\u001b[0m\u001b[0;34m(\u001b[0m\u001b[0mnew_lon\u001b[0m\u001b[0;34m,\u001b[0m\u001b[0mnew_array\u001b[0m\u001b[0;34m)\u001b[0m\u001b[0;34m\u001b[0m\u001b[0;34m\u001b[0m\u001b[0m\n",
      "\u001b[0;31mNameError\u001b[0m: name 'lat' is not defined"
     ]
    },
    {
     "data": {
      "image/png": "[encoded data removed]",
      "text/plain": [
       "<Figure size 864x720 with 1 Axes>"
      ]
     },
     "metadata": {
      "needs_background": "light"
     },
     "output_type": "display_data"
    }
   ],
   "source": [
    "fig=plt.figure(figsize=(12,10))\n",
    "fig.suptitle(\"Niño 2009-2010 (moderado)\",y=0.92,fontsize=20)\n",
    "\n",
    "gs = gsa.GridSpec(nrows=2, ncols=1,height_ratios=[1,6])\n",
    "\n",
    "# x_tick_labels = [u'120\\N{DEGREE SIGN}W', u'110\\N{DEGREE SIGN}W',\n",
    "#                  u'100\\N{DEGREE SIGN}W', u'90\\N{DEGREE SIGN}W',\n",
    "#                  u'80\\N{DEGREE SIGN}W']\n",
    "\n",
    "# y_tick_labels = [u'-2\\N{DEGREE SIGN}N', u'0\\N{DEGREE SIGN}N',\n",
    "#                  u'2\\N{DEGREE SIGN}N', u'4\\N{DEGREE SIGN}N',\n",
    "#                  u'6\\N{DEGREE SIGN}N',u'8\\N{DEGREE SIGN}N']\n",
    "\n",
    "xlocs=np.arange(-120, -60, 10)\n",
    "ylocs=np.arange(-3,10,2)\n",
    "\n",
    "# Acerca del segundo subplot\n",
    "ax2 = fig.add_subplot(gs[1, 0])\n",
    "ax2.invert_yaxis()  # Reverse the time order to do oldest first\n",
    "ax2.set_title('Diagrama de Hovmoller para lat: '+str(lat[27])+\"°N\",fontsize=18)\n",
    "\n",
    "x,y=np.meshgrid(new_lon,new_array)\n",
    "cf=ax2.contourf(x,y,sla_copy_mod[:,:],20,cmap=\"jet\")\n",
    "cr=ax2.contour(x,y,sla_copy_mod[:,:],20,colors=\"k\",linewidths=0.3)\n",
    "cbar = plt.colorbar(cf, orientation='horizontal', pad=0.08, aspect=50)\n",
    "cbar.set_label('m',fontsize=15)\n",
    "cbar.ax.tick_params(labelsize=15) \n",
    "\n",
    "ax2.set_xticks(np.array(xlocs)+360)\n",
    "ax2.set_xticklabels(x_tick_labels)\n",
    "ax2.set_ylim((new_array[365*18],new_array[365*16]))\n",
    "ax2.set_xlim((new_lon[0],new_lon[-4]))\n",
    "\n",
    "ax2.tick_params(labelsize=15)\n",
    "ax2.axvline(x=new_lon[26],c='k',ls='--',lw=3)\n",
    "\n",
    "\n",
    "# Acerca del primer subplot\n",
    "ax1 = fig.add_subplot(gs[0, 0])\n",
    "ax1.plot(pd.Series(smooth(serie_real,90),index=serie_real.index), 'k')\n",
    "for i,k in zip(inicio_niño,fin_niño): #Niño y después niña\n",
    "    ax1.fill_betweenx([-3,3],Serie_oni.index[locs_niño[i]],Serie_oni.index[locs_niño[k]],color=\"r\",alpha=0.4)\n",
    "for j,m in zip(inicio_niña,fin_niña): #Niño y después niña\n",
    "    ax1.fill_betweenx([-3,3],Serie_oni.index[locs_niña[j]],Serie_oni.index[locs_niña[m]],color=\"b\",alpha=0.4) \n",
    "ax1.set_ylabel(\"nmm [m]\")\n",
    "ax1.set_xlim((new_array[365*16],new_array[365*18]))\n",
    "\n",
    "plt.savefig('./Plots/hovmoller_09_10.png',dpi=600,bbox_inches=\"tight\")"
   ]
  },
  {
   "cell_type": "markdown",
   "metadata": {},
   "source": [
    "Tuvo cerca a la costa, anomalías alrededor de los 21-23 cm, su intensidad fue moderada, empezó en Julio y acabó en Febrero y duró cerca de 8 meses.\n",
    "\n",
    "Las anomalías que registra son..."
   ]
  },
  {
   "cell_type": "markdown",
   "metadata": {},
   "source": [
    "## Niño 2014-2015 (weak)"
   ]
  },
  {
   "cell_type": "code",
   "execution_count": null,
   "metadata": {
    "ExecuteTime": {
     "end_time": "2020-02-18T18:25:37.818186Z",
     "start_time": "2020-02-18T18:25:37.769Z"
    }
   },
   "outputs": [],
   "source": [
    "fig=plt.figure(figsize=(12,10))\n",
    "fig.suptitle(\"Niño 2014-2015 (débil)\",y=0.92,fontsize=20)\n",
    "gs = gsa.GridSpec(nrows=2, ncols=1,height_ratios=[1,6])\n",
    "\n",
    "# x_tick_labels = [u'120\\N{DEGREE SIGN}W', u'110\\N{DEGREE SIGN}W',\n",
    "#                  u'100\\N{DEGREE SIGN}W', u'90\\N{DEGREE SIGN}W',\n",
    "#                  u'80\\N{DEGREE SIGN}W']\n",
    "\n",
    "# y_tick_labels = [u'-2\\N{DEGREE SIGN}N', u'0\\N{DEGREE SIGN}N',\n",
    "#                  u'2\\N{DEGREE SIGN}N', u'4\\N{DEGREE SIGN}N',\n",
    "#                  u'6\\N{DEGREE SIGN}N',u'8\\N{DEGREE SIGN}N']\n",
    "\n",
    "xlocs=np.arange(-120, -60, 10)\n",
    "ylocs=np.arange(-3,10,2)\n",
    "\n",
    "# Acerca del segundo subplot\n",
    "ax2 = fig.add_subplot(gs[1, 0])\n",
    "ax2.invert_yaxis()  # Reverse the time order to do oldest first\n",
    "ax2.set_title('Diagrama de Hovmoller para lat: '+str(lat[27])+\"°N\",fontsize=18)\n",
    "\n",
    "x,y=np.meshgrid(new_lon,new_array)\n",
    "cf=ax2.contourf(x,y,sla_copy_mod[:,:],20,cmap=\"jet\")\n",
    "cr=ax2.contour(x,y,sla_copy_mod[:,:],20,colors=\"k\",linewidths=0.3)\n",
    "cbar = plt.colorbar(cf, orientation='horizontal', pad=0.08, aspect=50)\n",
    "cbar.set_label('m',fontsize=15)\n",
    "cbar.ax.tick_params(labelsize=15) \n",
    "\n",
    "ax2.set_xticks(np.array(xlocs)+360)\n",
    "ax2.set_xticklabels(x_tick_labels)\n",
    "ax2.set_ylim((new_array[365*23],new_array[365*21]))\n",
    "ax2.set_xlim((new_lon[0],new_lon[-4]))\n",
    "\n",
    "ax2.tick_params(labelsize=15)\n",
    "ax2.axvline(x=new_lon[26],c='k',ls='--',lw=3)\n",
    "\n",
    "# Acerca del primer subplot\n",
    "ax1 = fig.add_subplot(gs[0, 0])\n",
    "ax1.plot(pd.Series(smooth(serie_real,90),index=serie_real.index), 'k')\n",
    "for i,k in zip(inicio_niño,fin_niño): #Niño y después niña\n",
    "    ax1.fill_betweenx([-3,3],Serie_oni.index[locs_niño[i]],Serie_oni.index[locs_niño[k]],color=\"r\",alpha=0.4)\n",
    "for j,m in zip(inicio_niña,fin_niña): #Niño y después niña\n",
    "    ax1.fill_betweenx([-3,3],Serie_oni.index[locs_niña[j]],Serie_oni.index[locs_niña[m]],color=\"b\",alpha=0.4) \n",
    "ax1.set_ylabel(\"nmm [m]\")\n",
    "ax1.set_xlim((new_array[365*21],new_array[365*23]))\n",
    "\n",
    "plt.savefig('./Plots/hovmoller_14_15.png',dpi=600,bbox_inches=\"tight\")"
   ]
  },
  {
   "cell_type": "markdown",
   "metadata": {},
   "source": [
    "## Niño 2015-2016 (Very strong)"
   ]
  },
  {
   "cell_type": "code",
   "execution_count": 18,
   "metadata": {
    "ExecuteTime": {
     "end_time": "2020-02-18T18:25:38.283581Z",
     "start_time": "2020-02-18T18:25:37.921118Z"
    }
   },
   "outputs": [
    {
     "ename": "NameError",
     "evalue": "name 'lat' is not defined",
     "output_type": "error",
     "traceback": [
      "\u001b[0;31m---------------------------------------------------------------------------\u001b[0m",
      "\u001b[0;31mNameError\u001b[0m                                 Traceback (most recent call last)",
      "\u001b[0;32m<ipython-input-18-d945d545f0fd>\u001b[0m in \u001b[0;36m<module>\u001b[0;34m\u001b[0m\n\u001b[1;32m     17\u001b[0m \u001b[0max2\u001b[0m \u001b[0;34m=\u001b[0m \u001b[0mfig\u001b[0m\u001b[0;34m.\u001b[0m\u001b[0madd_subplot\u001b[0m\u001b[0;34m(\u001b[0m\u001b[0mgs\u001b[0m\u001b[0;34m[\u001b[0m\u001b[0;36m1\u001b[0m\u001b[0;34m,\u001b[0m \u001b[0;36m0\u001b[0m\u001b[0;34m]\u001b[0m\u001b[0;34m)\u001b[0m\u001b[0;34m\u001b[0m\u001b[0;34m\u001b[0m\u001b[0m\n\u001b[1;32m     18\u001b[0m \u001b[0max2\u001b[0m\u001b[0;34m.\u001b[0m\u001b[0minvert_yaxis\u001b[0m\u001b[0;34m(\u001b[0m\u001b[0;34m)\u001b[0m  \u001b[0;31m# Reverse the time order to do oldest first\u001b[0m\u001b[0;34m\u001b[0m\u001b[0;34m\u001b[0m\u001b[0m\n\u001b[0;32m---> 19\u001b[0;31m \u001b[0max2\u001b[0m\u001b[0;34m.\u001b[0m\u001b[0mset_title\u001b[0m\u001b[0;34m(\u001b[0m\u001b[0;34m'Diagrama de Hovmoller para lat: '\u001b[0m\u001b[0;34m+\u001b[0m\u001b[0mstr\u001b[0m\u001b[0;34m(\u001b[0m\u001b[0mlat\u001b[0m\u001b[0;34m[\u001b[0m\u001b[0;36m27\u001b[0m\u001b[0;34m]\u001b[0m\u001b[0;34m)\u001b[0m\u001b[0;34m+\u001b[0m\u001b[0;34m\"°N\"\u001b[0m\u001b[0;34m,\u001b[0m\u001b[0mfontsize\u001b[0m\u001b[0;34m=\u001b[0m\u001b[0;36m18\u001b[0m\u001b[0;34m)\u001b[0m\u001b[0;34m\u001b[0m\u001b[0;34m\u001b[0m\u001b[0m\n\u001b[0m\u001b[1;32m     20\u001b[0m \u001b[0;34m\u001b[0m\u001b[0m\n\u001b[1;32m     21\u001b[0m \u001b[0mx\u001b[0m\u001b[0;34m,\u001b[0m\u001b[0my\u001b[0m\u001b[0;34m=\u001b[0m\u001b[0mnp\u001b[0m\u001b[0;34m.\u001b[0m\u001b[0mmeshgrid\u001b[0m\u001b[0;34m(\u001b[0m\u001b[0mnew_lon\u001b[0m\u001b[0;34m,\u001b[0m\u001b[0mnew_array\u001b[0m\u001b[0;34m)\u001b[0m\u001b[0;34m\u001b[0m\u001b[0;34m\u001b[0m\u001b[0m\n",
      "\u001b[0;31mNameError\u001b[0m: name 'lat' is not defined"
     ]
    },
    {
     "data": {
      "image/png": "[encoded data removed]",
      "text/plain": [
       "<Figure size 864x720 with 1 Axes>"
      ]
     },
     "metadata": {
      "needs_background": "light"
     },
     "output_type": "display_data"
    }
   ],
   "source": [
    "fig=plt.figure(figsize=(12,10))\n",
    "fig.suptitle(\"Niño 2015-2016 (muy fuerte)\",y=0.92,fontsize=20)\n",
    "gs = gsa.GridSpec(nrows=2, ncols=1,height_ratios=[1,6])\n",
    "\n",
    "# x_tick_labels = [u'120\\N{DEGREE SIGN}W', u'110\\N{DEGREE SIGN}W',\n",
    "#                  u'100\\N{DEGREE SIGN}W', u'90\\N{DEGREE SIGN}W',\n",
    "#                  u'80\\N{DEGREE SIGN}W']\n",
    "\n",
    "# y_tick_labels = [u'-2\\N{DEGREE SIGN}N', u'0\\N{DEGREE SIGN}N',\n",
    "#                  u'2\\N{DEGREE SIGN}N', u'4\\N{DEGREE SIGN}N',\n",
    "#                  u'6\\N{DEGREE SIGN}N',u'8\\N{DEGREE SIGN}N']\n",
    "\n",
    "xlocs=np.arange(-120, -60, 10)\n",
    "ylocs=np.arange(-3,10,2)\n",
    "\n",
    "# Acerca del segundo subplot\n",
    "ax2 = fig.add_subplot(gs[1, 0])\n",
    "ax2.invert_yaxis()  # Reverse the time order to do oldest first\n",
    "ax2.set_title('Diagrama de Hovmoller para lat: '+str(lat[27])+\"°N\",fontsize=18)\n",
    "\n",
    "x,y=np.meshgrid(new_lon,new_array)\n",
    "cf=ax2.contourf(x,y,sla_copy_mod[:,:],20,cmap=\"jet\")\n",
    "cr=ax2.contour(x,y,sla_copy_mod[:,:],20,colors=\"k\",linewidths=0.3)\n",
    "cbar = plt.colorbar(cf, orientation='horizontal', pad=0.08, aspect=50)\n",
    "cbar.set_label('m',fontsize=15)\n",
    "cbar.ax.tick_params(labelsize=15) \n",
    "\n",
    "ax2.set_xticks(np.array(xlocs)+360)\n",
    "ax2.set_xticklabels(x_tick_labels)\n",
    "ax2.set_ylim((new_array[365*24],new_array[365*22]))\n",
    "ax2.set_xlim((new_lon[0],new_lon[-4]))\n",
    "\n",
    "ax2.tick_params(labelsize=15)\n",
    "ax2.axvline(x=new_lon[26],c='k',ls='--',lw=3)\n",
    "\n",
    "\n",
    "# Acerca del primer subplot\n",
    "ax1 = fig.add_subplot(gs[0, 0])\n",
    "ax1.plot(pd.Series(smooth(serie_real,90),index=serie_real.index), 'k')\n",
    "for i,k in zip(inicio_niño,fin_niño): #Niño y después niña\n",
    "    ax1.fill_betweenx([-3,3],Serie_oni.index[locs_niño[i]],Serie_oni.index[locs_niño[k]],color=\"r\",alpha=0.4)\n",
    "for j,m in zip(inicio_niña,fin_niña): #Niño y después niña\n",
    "    ax1.fill_betweenx([-3,3],Serie_oni.index[locs_niña[j]],Serie_oni.index[locs_niña[m]],color=\"b\",alpha=0.4) \n",
    "ax1.set_ylabel(\"nmm [m]\")\n",
    "ax1.set_xlim((new_array[365*22],new_array[365*24]))\n",
    "\n",
    "plt.savefig('./Plots/hovmoller_15_16.png',dpi=600,bbox_inches=\"tight\")"
   ]
  },
  {
   "cell_type": "markdown",
   "metadata": {},
   "source": [
    "Tuvo cerca a la costa, anomalías alrededor de los 30 cm, su intensidad fue muy fuerte, empezó en Julio y acabó en Febrero y duró cerca de 8-9 meses.\n",
    "\n",
    "Las anomalías que registra son..."
   ]
  },
  {
   "cell_type": "code",
   "execution_count": null,
   "metadata": {},
   "outputs": [],
   "source": []
  },
  {
   "cell_type": "code",
   "execution_count": null,
   "metadata": {},
   "outputs": [],
   "source": []
  },
  {
   "cell_type": "code",
   "execution_count": null,
   "metadata": {},
   "outputs": [],
   "source": []
  },
  {
   "cell_type": "code",
   "execution_count": null,
   "metadata": {
    "ExecuteTime": {
     "end_time": "2020-02-18T18:25:38.286542Z",
     "start_time": "2020-02-18T18:25:38.094Z"
    }
   },
   "outputs": [],
   "source": [
    "rutas = glob.glob(\"../Dataset/CMEMS_ECMFW/*.nc\")"
   ]
  }
 ],
 "metadata": {
  "hide_input": false,
  "kernelspec": {
   "display_name": "Python 3",
   "language": "python",
   "name": "python3"
  },
  "language_info": {
   "codemirror_mode": {
    "name": "ipython",
    "version": 3
   },
   "file_extension": ".py",
   "mimetype": "text/x-python",
   "name": "python",
   "nbconvert_exporter": "python",
   "pygments_lexer": "ipython3",
   "version": "3.6.8"
  },
  "latex_envs": {
   "LaTeX_envs_menu_present": true,
   "autoclose": false,
   "autocomplete": true,
   "bibliofile": "biblio.bib",
   "cite_by": "apalike",
   "current_citInitial": 1,
   "eqLabelWithNumbers": true,
   "eqNumInitial": 1,
   "hotkeys": {
    "equation": "Ctrl-E",
    "itemize": "Ctrl-I"
   },
   "labels_anchors": false,
   "latex_user_defs": false,
   "report_style_numbering": false,
   "user_envs_cfg": false
  },
  "notify_time": "5",
  "toc": {
   "base_numbering": 1,
   "nav_menu": {},
   "number_sections": true,
   "sideBar": true,
   "skip_h1_title": false,
   "title_cell": "Table of Contents",
   "title_sidebar": "Contents",
   "toc_cell": false,
   "toc_position": {
    "height": "calc(100% - 180px)",
    "left": "10px",
    "top": "150px",
    "width": "195.188px"
   },
   "toc_section_display": true,
   "toc_window_display": true
  }
 },
 "nbformat": 4,
 "nbformat_minor": 2
}
