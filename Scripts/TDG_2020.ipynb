{
 "cells": [
  {
   "cell_type": "markdown",
   "metadata": {},
   "source": [
    "# Importando las librerías y funciones básicas"
   ]
  },
  {
   "cell_type": "code",
   "execution_count": 218,
   "metadata": {
    "ExecuteTime": {
     "end_time": "2020-03-03T18:08:41.957965Z",
     "start_time": "2020-03-03T18:08:41.949908Z"
    }
   },
   "outputs": [],
   "source": [
    "#Librería de graficación\n",
    "import matplotlib.pyplot as plt\n",
    "import matplotlib as mp\n",
    "import cartopy.crs as ccrs\n",
    "import cartopy\n",
    "import matplotlib.pyplot as plt\n",
    "import cartopy.feature as cfeature\n",
    "import metpy.calc as mpcalc\n",
    "from cartopy.mpl.gridliner import LONGITUDE_FORMATTER, LATITUDE_FORMATTER\n",
    "import matplotlib.gridspec as gsa\n",
    "import matplotlib.ticker as mticker\n",
    "from mpl_toolkits.basemap import Basemap\n",
    "from matplotlib import pyplot, transforms\n",
    "\n",
    "\n",
    "#Librerías de procesamiento matemático y lectura de archivos\n",
    "import numpy as np\n",
    "import netCDF4 as nc\n",
    "import pandas as pd\n",
    "import glob\n",
    "import os\n",
    "from scipy import signal\n",
    "import qgrid\n",
    "\n",
    "\n",
    "#Librería de estadística\n",
    "import scipy as sp\n",
    "\n",
    "#librería para manejo de fechas\n",
    "from datetime import datetime,timedelta\n",
    "\n",
    "\n",
    "# from mpl_toolkits.axes_grid1 import make_axes_locatable\n",
    "\n",
    "#Análisis Armónico\n",
    "from ttide import t_tide\n",
    "from pytides.tide import Tide\n",
    "# from pytides.astro import astro\n",
    "\n",
    "plt.style.use(\"seaborn\")\n",
    "mp.rcParams['xtick.labelsize']=15\n",
    "mp.rcParams['ytick.labelsize']=15\n",
    "\n",
    "mp.rcParams['axes.labelsize']=17"
   ]
  },
  {
   "cell_type": "code",
   "execution_count": 6,
   "metadata": {
    "ExecuteTime": {
     "end_time": "2020-03-03T04:26:04.890591Z",
     "start_time": "2020-03-03T04:26:04.870376Z"
    }
   },
   "outputs": [],
   "source": [
    "def reading_netcdf(ruta):\n",
    "    data=nc.Dataset(ruta)\n",
    "    for i in data.variables:\n",
    "        try:\n",
    "            print (i,data.variables[i].shape,data.variables[i].units) \n",
    "        except:\n",
    "            print (i,data.variables[i].shape) \n",
    "    print(\"\\n\")\n",
    "    data_variables=[np.array(data[i][:]) for i in list(data.variables.keys())]\n",
    "    return data_variables"
   ]
  },
  {
   "cell_type": "markdown",
   "metadata": {},
   "source": [
    "# Limpieza y exploración de los datos"
   ]
  },
  {
   "cell_type": "code",
   "execution_count": 7,
   "metadata": {
    "ExecuteTime": {
     "end_time": "2020-03-03T04:26:20.937338Z",
     "start_time": "2020-03-03T04:26:06.701079Z"
    },
    "scrolled": true
   },
   "outputs": [
    {
     "name": "stdout",
     "output_type": "stream",
     "text": [
      "adt (366, 45, 185) m\n",
      "time (366,) days since 1950-01-01 00:00:00\n",
      "latitude (45,) degrees_north\n",
      "longitude (185,) degrees_east\n",
      "ugos (366, 45, 185) m/s\n",
      "vgos (366, 45, 185) m/s\n",
      "vgosa (366, 45, 185) m/s\n",
      "sla (366, 45, 185) m\n",
      "ugosa (366, 45, 185) m/s\n",
      "\n",
      "\n",
      "adt (366, 45, 185) m\n",
      "time (366,) days since 1950-01-01 00:00:00\n",
      "latitude (45,) degrees_north\n",
      "longitude (185,) degrees_east\n",
      "ugos (366, 45, 185) m/s\n",
      "vgos (366, 45, 185) m/s\n",
      "vgosa (366, 45, 185) m/s\n",
      "sla (366, 45, 185) m\n",
      "ugosa (366, 45, 185) m/s\n",
      "\n",
      "\n",
      "adt (366, 45, 185) m\n",
      "time (366,) days since 1950-01-01 00:00:00\n",
      "latitude (45,) degrees_north\n",
      "longitude (185,) degrees_east\n",
      "ugos (366, 45, 185) m/s\n",
      "vgos (366, 45, 185) m/s\n",
      "vgosa (366, 45, 185) m/s\n",
      "sla (366, 45, 185) m\n",
      "ugosa (366, 45, 185) m/s\n",
      "\n",
      "\n",
      "adt (367, 45, 185) m\n",
      "time (367,) days since 1950-01-01 00:00:00\n",
      "latitude (45,) degrees_north\n",
      "longitude (185,) degrees_east\n",
      "ugos (367, 45, 185) m/s\n",
      "vgos (367, 45, 185) m/s\n",
      "vgosa (367, 45, 185) m/s\n",
      "sla (367, 45, 185) m\n",
      "ugosa (367, 45, 185) m/s\n",
      "\n",
      "\n",
      "adt (366, 45, 185) m\n",
      "time (366,) days since 1950-01-01 00:00:00\n",
      "latitude (45,) degrees_north\n",
      "longitude (185,) degrees_east\n",
      "ugos (366, 45, 185) m/s\n",
      "vgos (366, 45, 185) m/s\n",
      "vgosa (366, 45, 185) m/s\n",
      "sla (366, 45, 185) m\n",
      "ugosa (366, 45, 185) m/s\n",
      "\n",
      "\n",
      "adt (366, 45, 185) m\n",
      "time (366,) days since 1950-01-01 00:00:00\n",
      "latitude (45,) degrees_north\n",
      "longitude (185,) degrees_east\n",
      "ugos (366, 45, 185) m/s\n",
      "vgos (366, 45, 185) m/s\n",
      "vgosa (366, 45, 185) m/s\n",
      "sla (366, 45, 185) m\n",
      "ugosa (366, 45, 185) m/s\n",
      "\n",
      "\n",
      "adt (366, 45, 185) m\n",
      "time (366,) days since 1950-01-01 00:00:00\n",
      "latitude (45,) degrees_north\n",
      "longitude (185,) degrees_east\n",
      "ugos (366, 45, 185) m/s\n",
      "vgos (366, 45, 185) m/s\n",
      "vgosa (366, 45, 185) m/s\n",
      "sla (366, 45, 185) m\n",
      "ugosa (366, 45, 185) m/s\n",
      "\n",
      "\n",
      "adt (367, 45, 185) m\n",
      "time (367,) days since 1950-01-01 00:00:00\n",
      "latitude (45,) degrees_north\n",
      "longitude (185,) degrees_east\n",
      "ugos (367, 45, 185) m/s\n",
      "vgos (367, 45, 185) m/s\n",
      "vgosa (367, 45, 185) m/s\n",
      "sla (367, 45, 185) m\n",
      "ugosa (367, 45, 185) m/s\n",
      "\n",
      "\n",
      "adt (366, 45, 185) m\n",
      "time (366,) days since 1950-01-01 00:00:00\n",
      "latitude (45,) degrees_north\n",
      "longitude (185,) degrees_east\n",
      "ugos (366, 45, 185) m/s\n",
      "vgos (366, 45, 185) m/s\n",
      "vgosa (366, 45, 185) m/s\n",
      "sla (366, 45, 185) m\n",
      "ugosa (366, 45, 185) m/s\n",
      "\n",
      "\n",
      "adt (366, 45, 185) m\n",
      "time (366,) days since 1950-01-01 00:00:00\n",
      "latitude (45,) degrees_north\n",
      "longitude (185,) degrees_east\n",
      "ugos (366, 45, 185) m/s\n",
      "vgos (366, 45, 185) m/s\n",
      "vgosa (366, 45, 185) m/s\n",
      "sla (366, 45, 185) m\n",
      "ugosa (366, 45, 185) m/s\n",
      "\n",
      "\n",
      "adt (366, 45, 185) m\n",
      "time (366,) days since 1950-01-01 00:00:00\n",
      "latitude (45,) degrees_north\n",
      "longitude (185,) degrees_east\n",
      "ugos (366, 45, 185) m/s\n",
      "vgos (366, 45, 185) m/s\n",
      "vgosa (366, 45, 185) m/s\n",
      "sla (366, 45, 185) m\n",
      "ugosa (366, 45, 185) m/s\n",
      "\n",
      "\n",
      "adt (367, 45, 185) m\n",
      "time (367,) days since 1950-01-01 00:00:00\n",
      "latitude (45,) degrees_north\n",
      "longitude (185,) degrees_east\n",
      "ugos (367, 45, 185) m/s\n",
      "vgos (367, 45, 185) m/s\n",
      "vgosa (367, 45, 185) m/s\n",
      "sla (367, 45, 185) m\n",
      "ugosa (367, 45, 185) m/s\n",
      "\n",
      "\n",
      "adt (366, 45, 185) m\n",
      "time (366,) days since 1950-01-01 00:00:00\n",
      "latitude (45,) degrees_north\n",
      "longitude (185,) degrees_east\n",
      "ugos (366, 45, 185) m/s\n",
      "vgos (366, 45, 185) m/s\n",
      "vgosa (366, 45, 185) m/s\n",
      "sla (366, 45, 185) m\n",
      "ugosa (366, 45, 185) m/s\n",
      "\n",
      "\n",
      "adt (366, 45, 185) m\n",
      "time (366,) days since 1950-01-01 00:00:00\n",
      "latitude (45,) degrees_north\n",
      "longitude (185,) degrees_east\n",
      "ugos (366, 45, 185) m/s\n",
      "vgos (366, 45, 185) m/s\n",
      "vgosa (366, 45, 185) m/s\n",
      "sla (366, 45, 185) m\n",
      "ugosa (366, 45, 185) m/s\n",
      "\n",
      "\n",
      "adt (366, 45, 185) m\n",
      "time (366,) days since 1950-01-01 00:00:00\n",
      "latitude (45,) degrees_north\n",
      "longitude (185,) degrees_east\n",
      "ugos (366, 45, 185) m/s\n",
      "vgos (366, 45, 185) m/s\n",
      "vgosa (366, 45, 185) m/s\n",
      "sla (366, 45, 185) m\n",
      "ugosa (366, 45, 185) m/s\n",
      "\n",
      "\n",
      "adt (367, 45, 185) m\n",
      "time (367,) days since 1950-01-01 00:00:00\n",
      "latitude (45,) degrees_north\n",
      "longitude (185,) degrees_east\n",
      "ugos (367, 45, 185) m/s\n",
      "vgos (367, 45, 185) m/s\n",
      "vgosa (367, 45, 185) m/s\n",
      "sla (367, 45, 185) m\n",
      "ugosa (367, 45, 185) m/s\n",
      "\n",
      "\n",
      "adt (366, 45, 185) m\n",
      "time (366,) days since 1950-01-01 00:00:00\n",
      "latitude (45,) degrees_north\n",
      "longitude (185,) degrees_east\n",
      "ugos (366, 45, 185) m/s\n",
      "vgos (366, 45, 185) m/s\n",
      "vgosa (366, 45, 185) m/s\n",
      "sla (366, 45, 185) m\n",
      "ugosa (366, 45, 185) m/s\n",
      "\n",
      "\n",
      "adt (366, 45, 185) m\n",
      "time (366,) days since 1950-01-01 00:00:00\n",
      "latitude (45,) degrees_north\n",
      "longitude (185,) degrees_east\n",
      "ugos (366, 45, 185) m/s\n",
      "vgos (366, 45, 185) m/s\n",
      "vgosa (366, 45, 185) m/s\n",
      "sla (366, 45, 185) m\n",
      "ugosa (366, 45, 185) m/s\n",
      "\n",
      "\n",
      "adt (366, 45, 185) m\n",
      "time (366,) days since 1950-01-01 00:00:00\n",
      "latitude (45,) degrees_north\n",
      "longitude (185,) degrees_east\n",
      "ugos (366, 45, 185) m/s\n",
      "vgos (366, 45, 185) m/s\n",
      "vgosa (366, 45, 185) m/s\n",
      "sla (366, 45, 185) m\n",
      "ugosa (366, 45, 185) m/s\n",
      "\n",
      "\n",
      "adt (367, 45, 185) m\n",
      "time (367,) days since 1950-01-01 00:00:00\n",
      "latitude (45,) degrees_north\n",
      "longitude (185,) degrees_east\n",
      "ugos (367, 45, 185) m/s\n",
      "vgos (367, 45, 185) m/s\n",
      "vgosa (367, 45, 185) m/s\n",
      "sla (367, 45, 185) m\n",
      "ugosa (367, 45, 185) m/s\n",
      "\n",
      "\n",
      "adt (366, 45, 185) m\n",
      "time (366,) days since 1950-01-01 00:00:00\n",
      "latitude (45,) degrees_north\n",
      "longitude (185,) degrees_east\n",
      "ugos (366, 45, 185) m/s\n",
      "vgos (366, 45, 185) m/s\n",
      "vgosa (366, 45, 185) m/s\n",
      "sla (366, 45, 185) m\n",
      "ugosa (366, 45, 185) m/s\n",
      "\n",
      "\n",
      "adt (366, 45, 185) m\n",
      "time (366,) days since 1950-01-01 00:00:00\n",
      "latitude (45,) degrees_north\n",
      "longitude (185,) degrees_east\n",
      "ugos (366, 45, 185) m/s\n",
      "vgos (366, 45, 185) m/s\n",
      "vgosa (366, 45, 185) m/s\n",
      "sla (366, 45, 185) m\n",
      "ugosa (366, 45, 185) m/s\n",
      "\n",
      "\n",
      "adt (366, 45, 185) m\n",
      "time (366,) days since 1950-01-01 00:00:00\n",
      "latitude (45,) degrees_north\n",
      "longitude (185,) degrees_east\n",
      "ugos (366, 45, 185) m/s\n",
      "vgos (366, 45, 185) m/s\n",
      "vgosa (366, 45, 185) m/s\n",
      "sla (366, 45, 185) m\n",
      "ugosa (366, 45, 185) m/s\n",
      "\n",
      "\n",
      "adt (367, 45, 185) m\n",
      "time (367,) days since 1950-01-01 00:00:00\n",
      "latitude (45,) degrees_north\n",
      "longitude (185,) degrees_east\n",
      "ugos (367, 45, 185) m/s\n",
      "vgos (367, 45, 185) m/s\n",
      "vgosa (367, 45, 185) m/s\n",
      "sla (367, 45, 185) m\n",
      "ugosa (367, 45, 185) m/s\n",
      "\n",
      "\n",
      "adt (366, 45, 185) m\n",
      "time (366,) days since 1950-01-01 00:00:00\n",
      "latitude (45,) degrees_north\n",
      "longitude (185,) degrees_east\n",
      "ugos (366, 45, 185) m/s\n",
      "vgos (366, 45, 185) m/s\n",
      "vgosa (366, 45, 185) m/s\n",
      "sla (366, 45, 185) m\n",
      "ugosa (366, 45, 185) m/s\n",
      "\n",
      "\n",
      "adt (133, 45, 185) m\n",
      "time (133,) days since 1950-01-01 00:00:00\n",
      "latitude (45,) degrees_north\n",
      "longitude (185,) degrees_east\n",
      "ugos (133, 45, 185) m/s\n",
      "vgos (133, 45, 185) m/s\n",
      "vgosa (133, 45, 185) m/s\n",
      "sla (133, 45, 185) m\n",
      "ugosa (133, 45, 185) m/s\n",
      "\n",
      "\n"
     ]
    }
   ],
   "source": [
    "rutas = np.sort(glob.glob(\"../Dataset/CMEMS_ECMFW/*.nc\"))\n",
    "\n",
    "#Al estar por años se debe concatenar\n",
    "for i in range(0,len(rutas)):\n",
    "    if i==0:\n",
    "        [adt,time,lat,lon,ugos,vgos,vgosa,sla,ugosa]=reading_netcdf(rutas[i])\n",
    "    else:\n",
    "        [adt,time2,lat,lon,ugos,vgos,vgosa,sla2,ugosa]=reading_netcdf(rutas[i])\n",
    "        sla=np.concatenate((sla,sla2))\n",
    "        time=np.concatenate((time,time2))\n"
   ]
  },
  {
   "cell_type": "code",
   "execution_count": 8,
   "metadata": {
    "ExecuteTime": {
     "end_time": "2020-03-03T04:26:21.024872Z",
     "start_time": "2020-03-03T04:26:20.939118Z"
    },
    "scrolled": true
   },
   "outputs": [],
   "source": [
    "sla[sla<=-1000]=np.nan"
   ]
  },
  {
   "cell_type": "code",
   "execution_count": 9,
   "metadata": {
    "ExecuteTime": {
     "end_time": "2020-03-03T04:26:22.410376Z",
     "start_time": "2020-03-03T04:26:21.028044Z"
    }
   },
   "outputs": [
    {
     "data": {
      "image/png": "[encoded data removed]",
      "text/plain": [
       "<Figure size 1440x1440 with 2 Axes>"
      ]
     },
     "metadata": {},
     "output_type": "display_data"
    }
   ],
   "source": [
    "fig=plt.figure(figsize=(20,20))\n",
    "ax=fig.add_subplot(projection=ccrs.PlateCarree())\n",
    "x,y=np.meshgrid(lon,lat)\n",
    "cf=ax.contourf(x,y,sla[2000,:,:],20,transform=ccrs.PlateCarree(),cmap=\"jet\")\n",
    "gl = ax.gridlines(crs=ccrs.PlateCarree(), draw_labels=True,\n",
    "                  linewidth=1, color='gray', alpha=0.6, linestyle='--')\n",
    "gl.xlabel_style = {'size': 18, 'color': 'black'}\n",
    "gl.ylabel_style = {'size': 18, 'color': 'black'}\n",
    "ax.coastlines()\n",
    "cbar=plt.colorbar(cf,orientation=\"horizontal\",fraction=0.1, pad=0.06,aspect=40)\n",
    "cbar.ax.tick_params(labelsize=15) \n",
    "\n",
    "plt.show()"
   ]
  },
  {
   "cell_type": "code",
   "execution_count": 10,
   "metadata": {
    "ExecuteTime": {
     "end_time": "2020-03-03T04:26:23.557762Z",
     "start_time": "2020-03-03T04:26:22.412238Z"
    }
   },
   "outputs": [
    {
     "name": "stderr",
     "output_type": "stream",
     "text": [
      "/home/franklin/my_projects_dir/entorno_jup/lib/python3.6/site-packages/ipykernel_launcher.py:1: RuntimeWarning: Mean of empty slice\n",
      "  \"\"\"Entry point for launching an IPython kernel.\n"
     ]
    }
   ],
   "source": [
    "serie=np.nanmean(sla,axis=1)\n",
    "serie_temp=np.nanmean(serie,axis=1)"
   ]
  },
  {
   "cell_type": "code",
   "execution_count": 11,
   "metadata": {
    "ExecuteTime": {
     "end_time": "2020-03-03T04:26:23.710247Z",
     "start_time": "2020-03-03T04:26:23.559733Z"
    }
   },
   "outputs": [],
   "source": [
    "da=[datetime(1950,1,1,0,0,0)+timedelta(days=int(time[w])) for w in range (0,len(time))]\n",
    "date=pd.DatetimeIndex(da)"
   ]
  },
  {
   "cell_type": "code",
   "execution_count": 12,
   "metadata": {
    "ExecuteTime": {
     "end_time": "2020-03-03T04:26:23.783344Z",
     "start_time": "2020-03-03T04:26:23.713486Z"
    }
   },
   "outputs": [],
   "source": [
    "serie_sla=pd.Series(serie_temp,date)"
   ]
  },
  {
   "cell_type": "markdown",
   "metadata": {},
   "source": [
    "# Graficando un diagrama de Hovmoller"
   ]
  },
  {
   "cell_type": "markdown",
   "metadata": {},
   "source": [
    "Un diagrama de Hovmoller permite conocer la variación temporal de una variable integrada en las latitudes o en las latitudes."
   ]
  },
  {
   "cell_type": "code",
   "execution_count": 13,
   "metadata": {
    "ExecuteTime": {
     "end_time": "2020-03-03T04:26:23.893956Z",
     "start_time": "2020-03-03T04:26:23.791351Z"
    }
   },
   "outputs": [],
   "source": [
    "new_array = np.array(date.to_pydatetime(), dtype=object)"
   ]
  },
  {
   "cell_type": "code",
   "execution_count": null,
   "metadata": {
    "ExecuteTime": {
     "end_time": "2020-02-18T18:25:34.173081Z",
     "start_time": "2020-02-18T18:25:32.993Z"
    }
   },
   "outputs": [],
   "source": [
    "sla_copy=sla"
   ]
  },
  {
   "cell_type": "markdown",
   "metadata": {},
   "source": [
    "Se realiza el filtrado de la información con un suavizado anual para solo captar variaciones interanuales."
   ]
  },
  {
   "cell_type": "code",
   "execution_count": null,
   "metadata": {
    "ExecuteTime": {
     "end_time": "2020-02-18T18:25:34.174134Z",
     "start_time": "2020-02-18T18:25:33.095Z"
    }
   },
   "outputs": [],
   "source": [
    "for la in range (sla_copy.shape[1]):\n",
    "    for lo in range(sla_copy.shape[2]):\n",
    "        a=sla_copy[:,la,lo]\n",
    "        serie_test=pd.Series(a,index=date)\n",
    "        serie_rolling=serie_test.rolling(30).mean()\n",
    "#         serie_rolling=serie_rolling\n",
    "        sla_copy[:,la,lo]=serie_rolling.values"
   ]
  },
  {
   "cell_type": "markdown",
   "metadata": {},
   "source": [
    "## Hovmoller con las longitudes"
   ]
  },
  {
   "cell_type": "code",
   "execution_count": null,
   "metadata": {
    "ExecuteTime": {
     "end_time": "2020-02-18T18:25:34.175120Z",
     "start_time": "2020-02-18T18:25:33.180Z"
    }
   },
   "outputs": [],
   "source": [
    "fig=plt.figure(figsize=(10,13))\n",
    "\n",
    "gs = gsa.GridSpec(nrows=2, ncols=1,height_ratios=[1,6],hspace=0.2)\n",
    "\n",
    "x_tick_labels = [u'120\\N{DEGREE SIGN}W', u'110\\N{DEGREE SIGN}W',\n",
    "                 u'100\\N{DEGREE SIGN}W', u'90\\N{DEGREE SIGN}W',\n",
    "                 u'80\\N{DEGREE SIGN}W']\n",
    "\n",
    "y_tick_labels = [u'-2\\N{DEGREE SIGN}N', u'0\\N{DEGREE SIGN}N',\n",
    "                 u'2\\N{DEGREE SIGN}N', u'4\\N{DEGREE SIGN}N',\n",
    "                 u'6\\N{DEGREE SIGN}N',u'8\\N{DEGREE SIGN}N']\n",
    "\n",
    "xlocs=np.arange(-120, -60, 10)\n",
    "ylocs=np.arange(-3,10,2)\n",
    "\n",
    "# Acerca del primer subplot\n",
    "ax1 = fig.add_subplot(gs[0, 0], projection=ccrs.PlateCarree())\n",
    "ax1.set_extent([lon[0], lon[-1], lat[0],lat[-1]], ccrs.PlateCarree())\n",
    "ax1.coastlines('50m')\n",
    "ax1.add_feature(cartopy.feature.LAND, zorder=0,facecolor='#B1B2B4')\n",
    "ax1.plot([lon[0],lon[-1]],[lat[27],lat[27]],color='red',transform=ccrs.PlateCarree())\n",
    "\n",
    "gl = ax1.gridlines(crs=ccrs.PlateCarree(), draw_labels=True,\n",
    "                  linewidth=2, color='gray', alpha=0.2, linestyle='--',\n",
    "                   xlocs=xlocs,ylocs=ylocs)\n",
    "gl.xformatter = LONGITUDE_FORMATTER\n",
    "gl.yformatter = LATITUDE_FORMATTER\n",
    "gl.xlabel_style = {'size': 13, 'color': 'black'}\n",
    "gl.ylabel_style = {'size': 13, 'color': 'black'}\n",
    "\n",
    "# plt.title('CMEMS Reanalysis',y=1.3, loc='right',fontsize=18)\n",
    "\n",
    "# Acerca del segundo subplot\n",
    "ax2 = fig.add_subplot(gs[1, 0])\n",
    "ax2.invert_yaxis()  # Reverse the time order to do oldest first\n",
    "ax2.set_title('Diagrama de Hovmoller para lat: '+str(lat[27])+\"°N\",fontsize=18)\n",
    "\n",
    "x,y=np.meshgrid(lon,new_array)\n",
    "cf=ax2.contourf(x,y,sla_copy[:,27,:],20,cmap=\"jet\")\n",
    "cr=ax2.contour(x,y,sla_copy[:,27,:],20,colors=\"k\",linewidths=0.3)\n",
    "cbar = plt.colorbar(cf, orientation='horizontal', pad=0.08, aspect=50)\n",
    "cbar.set_label('m',fontsize=15)\n",
    "cbar.ax.tick_params(labelsize=15) \n",
    "\n",
    "ax2.set_xticks(np.array(xlocs)+360)\n",
    "ax2.set_xticklabels(x_tick_labels)\n",
    "ax2.set_ylim((new_array[-1],new_array[365]))\n",
    "\n",
    "ax2.tick_params(labelsize=15)\n",
    "plt.savefig('./Plots/hovmoller_lon.png',dpi=600,bbox_inches=\"tight\")"
   ]
  },
  {
   "cell_type": "markdown",
   "metadata": {},
   "source": [
    "### Interpolando los datos a resoluciones espaciales menores."
   ]
  },
  {
   "cell_type": "code",
   "execution_count": null,
   "metadata": {
    "ExecuteTime": {
     "end_time": "2020-02-18T18:25:34.176238Z",
     "start_time": "2020-02-18T18:25:33.270Z"
    }
   },
   "outputs": [],
   "source": [
    "new_lon=np.arange(240,286,1)\n",
    "sla_copy_mod=np.zeros((sla_copy.shape[0],len(new_lon)))\n",
    "for i in range(sla_copy.shape[0]):\n",
    "    sla_copy_mod[i,:]=np.interp(new_lon,lon,sla_copy[i,27,:])"
   ]
  },
  {
   "cell_type": "code",
   "execution_count": null,
   "metadata": {
    "ExecuteTime": {
     "end_time": "2020-02-18T18:25:34.177337Z",
     "start_time": "2020-02-18T18:25:33.274Z"
    },
    "scrolled": true
   },
   "outputs": [],
   "source": [
    "sla_copy_mod.shape"
   ]
  },
  {
   "cell_type": "code",
   "execution_count": null,
   "metadata": {
    "ExecuteTime": {
     "end_time": "2020-02-18T18:25:34.178434Z",
     "start_time": "2020-02-18T18:25:33.279Z"
    }
   },
   "outputs": [],
   "source": [
    "fig=plt.figure(figsize=(10,13))\n",
    "\n",
    "gs = gsa.GridSpec(nrows=2, ncols=1,height_ratios=[1,6],hspace=0.2)\n",
    "\n",
    "x_tick_labels = [u'120\\N{DEGREE SIGN}W', u'110\\N{DEGREE SIGN}W',\n",
    "                 u'100\\N{DEGREE SIGN}W', u'90\\N{DEGREE SIGN}W',\n",
    "                 u'80\\N{DEGREE SIGN}W']\n",
    "\n",
    "y_tick_labels = [u'-2\\N{DEGREE SIGN}N', u'0\\N{DEGREE SIGN}N',\n",
    "                 u'2\\N{DEGREE SIGN}N', u'4\\N{DEGREE SIGN}N',\n",
    "                 u'6\\N{DEGREE SIGN}N',u'8\\N{DEGREE SIGN}N']\n",
    "\n",
    "xlocs=np.arange(-120, -60, 10)\n",
    "ylocs=np.arange(-3,10,2)\n",
    "\n",
    "# Acerca del primer subplot\n",
    "ax1 = fig.add_subplot(gs[0, 0], projection=ccrs.PlateCarree())\n",
    "ax1.set_extent([lon[0], lon[-1], lat[0],lat[-1]], ccrs.PlateCarree())\n",
    "ax1.coastlines('50m')\n",
    "ax1.add_feature(cartopy.feature.LAND, zorder=0,facecolor='#B1B2B4')\n",
    "ax1.plot([lon[0],lon[-1]],[lat[27],lat[27]],color='red',transform=ccrs.PlateCarree())\n",
    "\n",
    "gl = ax1.gridlines(crs=ccrs.PlateCarree(), draw_labels=True,\n",
    "                  linewidth=2, color='gray', alpha=0.2, linestyle='--',\n",
    "                   xlocs=xlocs,ylocs=ylocs)\n",
    "gl.xformatter = LONGITUDE_FORMATTER\n",
    "gl.yformatter = LATITUDE_FORMATTER\n",
    "gl.xlabel_style = {'size': 13, 'color': 'black'}\n",
    "gl.ylabel_style = {'size': 13, 'color': 'black'}\n",
    "\n",
    "# plt.title('CMEMS Reanalysis',y=1.3, loc='right',fontsize=18)\n",
    "\n",
    "# Acerca del segundo subplot\n",
    "ax2 = fig.add_subplot(gs[1, 0])\n",
    "ax2.invert_yaxis()  # Reverse the time order to do oldest first\n",
    "ax2.set_title('Diagrama de Hovmoller para lat: '+str(lat[27])+\"°N\",fontsize=18)\n",
    "\n",
    "x,y=np.meshgrid(new_lon,new_array)\n",
    "cf=ax2.contourf(x,y,sla_copy_mod[:,:],20,cmap=\"jet\")\n",
    "cr=ax2.contour(x,y,sla_copy_mod[:,:],20,colors=\"k\",linewidths=0.3)\n",
    "cbar = plt.colorbar(cf, orientation='horizontal', pad=0.08, aspect=50)\n",
    "cbar.set_label('m',fontsize=15)\n",
    "cbar.ax.tick_params(labelsize=15) \n",
    "\n",
    "ax2.set_xticks(np.array(xlocs)+360)\n",
    "ax2.set_xticklabels(x_tick_labels)\n",
    "ax2.set_ylim((new_array[2300],new_array[1400]))\n",
    "\n",
    "ax2.tick_params(labelsize=15)\n",
    "plt.savefig('./Plots/hovmoller_lon_mod.png',dpi=600,bbox_inches=\"tight\")"
   ]
  },
  {
   "cell_type": "markdown",
   "metadata": {},
   "source": [
    "**La pregunta de investigación que surgiría es: ¿Los incrementos de nivel del mar en Buenaventura (tasas altas) se han registrado antes en una mayor longitud (mar adentro)?**"
   ]
  },
  {
   "cell_type": "markdown",
   "metadata": {},
   "source": [
    "## Hovmoller con las latitudes"
   ]
  },
  {
   "cell_type": "code",
   "execution_count": null,
   "metadata": {
    "ExecuteTime": {
     "end_time": "2020-02-18T18:25:34.179595Z",
     "start_time": "2020-02-18T18:25:33.454Z"
    }
   },
   "outputs": [],
   "source": [
    "fig=plt.figure(figsize=(10,13))\n",
    "\n",
    "gs = gsa.GridSpec(nrows=2, ncols=1,height_ratios=[1,6],hspace=0.2)\n",
    "\n",
    "x_tick_labels = [u'120\\N{DEGREE SIGN}W', u'110\\N{DEGREE SIGN}W',\n",
    "                 u'100\\N{DEGREE SIGN}W', u'90\\N{DEGREE SIGN}W',\n",
    "                 u'80\\N{DEGREE SIGN}W']\n",
    "\n",
    "y_tick_labels = [u'-2\\N{DEGREE SIGN}N', u'0\\N{DEGREE SIGN}N',\n",
    "                 u'2\\N{DEGREE SIGN}N', u'4\\N{DEGREE SIGN}N',\n",
    "                 u'6\\N{DEGREE SIGN}N',u'8\\N{DEGREE SIGN}N']\n",
    "\n",
    "xlocs=np.arange(-120, -60, 10)\n",
    "ylocs=np.arange(-3,10,2)\n",
    "\n",
    "# Acerca del primer subplot\n",
    "ax1 = fig.add_subplot(gs[0, 0], projection=ccrs.PlateCarree())\n",
    "ax1.set_extent([lon[0], lon[-1], lat[0],lat[-1]], ccrs.PlateCarree())\n",
    "ax1.coastlines('50m')\n",
    "ax1.add_feature(cartopy.feature.LAND, zorder=0,facecolor='#B1B2B4')\n",
    "ax1.plot([lon[150],lon[150]],[lat[0],lat[-1]],color='red',transform=ccrs.PlateCarree())\n",
    "\n",
    "gl = ax1.gridlines(crs=ccrs.PlateCarree(), draw_labels=True,\n",
    "                  linewidth=2, color='gray', alpha=0.2, linestyle='--',\n",
    "                   xlocs=xlocs,ylocs=ylocs)\n",
    "gl.xformatter = LONGITUDE_FORMATTER\n",
    "gl.yformatter = LATITUDE_FORMATTER\n",
    "gl.xlabel_style = {'size': 13, 'color': 'black'}\n",
    "gl.ylabel_style = {'size': 13, 'color': 'black'}\n",
    "\n",
    "# plt.title('CMEMS Reanalysis',y=1.3, loc='right',fontsize=18)\n",
    "\n",
    "# Acerca del segundo subplot\n",
    "ax2 = fig.add_subplot(gs[1, 0])\n",
    "ax2.set_title('Diagrama de Hovmoller para lon: '+str(360-lon[150])+\"°W\",fontsize=18)\n",
    "\n",
    "x,y=np.meshgrid(new_array,lat)\n",
    "cf=ax2.contourf(x,y,sla[:,:,150].T,10,cmap=\"jet\")\n",
    "cr=ax2.contour(x,y,sla[:,:,150].T,10,colors=\"k\",linewidths=0.3)\n",
    "cbar = plt.colorbar(cf, orientation='horizontal', pad=0.08, aspect=50)\n",
    "cbar.set_label('m',fontsize=15)\n",
    "cbar.ax.tick_params(labelsize=15) \n",
    "\n",
    "# ax2.set_xticks(np.array(xlocs)+360)\n",
    "# ax2.set_xticklabels(x_tick_labels)\n",
    "ax2.set_xlim((new_array[365],new_array[-1]))\n",
    "\n",
    "ax2.tick_params(labelsize=15)"
   ]
  },
  {
   "cell_type": "markdown",
   "metadata": {},
   "source": [
    "Revisando el diagrama de Hovmoller para las longitudes puede intuirse que si existe una zona más hacia el oeste donde también ocurren las altas tasas de nivel medio del mar que se registran en Buenaventura.\n",
    "\n",
    "Para comparar las tasas de nivel medio del mar de 2016-2019 (zona con mayores incrementos) con otros períodos, se calculan las tasas de cambio en ventanas de 3 años"
   ]
  },
  {
   "cell_type": "markdown",
   "metadata": {},
   "source": [
    "# Recopilando la información y análisis de 2019"
   ]
  },
  {
   "cell_type": "code",
   "execution_count": 158,
   "metadata": {
    "ExecuteTime": {
     "end_time": "2020-03-03T17:43:36.354745Z",
     "start_time": "2020-03-03T17:43:36.307040Z"
    }
   },
   "outputs": [],
   "source": [
    "fecha_inicio=datetime(1970,1,1)\n",
    "fecha_inicio2=datetime(1980,1,1)\n",
    "fecha_fin=datetime(2019,1,1)\n",
    "fecha_fin2=datetime(1986,1,1)"
   ]
  },
  {
   "cell_type": "markdown",
   "metadata": {},
   "source": [
    "## Cargue de información de nivel del mar"
   ]
  },
  {
   "cell_type": "code",
   "execution_count": 155,
   "metadata": {
    "ExecuteTime": {
     "end_time": "2020-03-03T17:43:35.246039Z",
     "start_time": "2020-03-03T17:42:25.456165Z"
    },
    "scrolled": false
   },
   "outputs": [
    {
     "ename": "KeyboardInterrupt",
     "evalue": "",
     "output_type": "error",
     "traceback": [
      "\u001b[0;31m---------------------------------------------------------------------------\u001b[0m",
      "\u001b[0;31mKeyboardInterrupt\u001b[0m                         Traceback (most recent call last)",
      "\u001b[0;32m~/my_projects_dir/entorno_jup/lib/python3.6/abc.py\u001b[0m in \u001b[0;36m__instancecheck__\u001b[0;34m(cls, instance)\u001b[0m\n\u001b[1;32m    188\u001b[0m             if (cls._abc_negative_cache_version ==\n\u001b[1;32m    189\u001b[0m                 \u001b[0mABCMeta\u001b[0m\u001b[0;34m.\u001b[0m\u001b[0m_abc_invalidation_counter\u001b[0m \u001b[0;32mand\u001b[0m\u001b[0;34m\u001b[0m\u001b[0;34m\u001b[0m\u001b[0m\n\u001b[0;32m--> 190\u001b[0;31m                 subclass in cls._abc_negative_cache):\n\u001b[0m\u001b[1;32m    191\u001b[0m                 \u001b[0;32mreturn\u001b[0m \u001b[0;32mFalse\u001b[0m\u001b[0;34m\u001b[0m\u001b[0;34m\u001b[0m\u001b[0m\n\u001b[1;32m    192\u001b[0m             \u001b[0;31m# Fall back to the subclass check.\u001b[0m\u001b[0;34m\u001b[0m\u001b[0;34m\u001b[0m\u001b[0;34m\u001b[0m\u001b[0m\n",
      "\u001b[0;32m~/my_projects_dir/entorno_jup/lib/python3.6/_weakrefset.py\u001b[0m in \u001b[0;36m__contains__\u001b[0;34m(self, item)\u001b[0m\n\u001b[1;32m     68\u001b[0m         \u001b[0;32mreturn\u001b[0m \u001b[0mlen\u001b[0m\u001b[0;34m(\u001b[0m\u001b[0mself\u001b[0m\u001b[0;34m.\u001b[0m\u001b[0mdata\u001b[0m\u001b[0;34m)\u001b[0m \u001b[0;34m-\u001b[0m \u001b[0mlen\u001b[0m\u001b[0;34m(\u001b[0m\u001b[0mself\u001b[0m\u001b[0;34m.\u001b[0m\u001b[0m_pending_removals\u001b[0m\u001b[0;34m)\u001b[0m\u001b[0;34m\u001b[0m\u001b[0;34m\u001b[0m\u001b[0m\n\u001b[1;32m     69\u001b[0m \u001b[0;34m\u001b[0m\u001b[0m\n\u001b[0;32m---> 70\u001b[0;31m     \u001b[0;32mdef\u001b[0m \u001b[0m__contains__\u001b[0m\u001b[0;34m(\u001b[0m\u001b[0mself\u001b[0m\u001b[0;34m,\u001b[0m \u001b[0mitem\u001b[0m\u001b[0;34m)\u001b[0m\u001b[0;34m:\u001b[0m\u001b[0;34m\u001b[0m\u001b[0;34m\u001b[0m\u001b[0m\n\u001b[0m\u001b[1;32m     71\u001b[0m         \u001b[0;32mtry\u001b[0m\u001b[0;34m:\u001b[0m\u001b[0;34m\u001b[0m\u001b[0;34m\u001b[0m\u001b[0m\n\u001b[1;32m     72\u001b[0m             \u001b[0mwr\u001b[0m \u001b[0;34m=\u001b[0m \u001b[0mref\u001b[0m\u001b[0;34m(\u001b[0m\u001b[0mitem\u001b[0m\u001b[0;34m)\u001b[0m\u001b[0;34m\u001b[0m\u001b[0;34m\u001b[0m\u001b[0m\n",
      "\u001b[0;31mKeyboardInterrupt\u001b[0m: "
     ]
    },
    {
     "name": "stderr",
     "output_type": "stream",
     "text": [
      "Exception ignored in: 'pandas._libs.lib.c_is_list_like'\n",
      "Traceback (most recent call last):\n",
      "  File \"/home/franklin/my_projects_dir/entorno_jup/lib/python3.6/abc.py\", line 190, in __instancecheck__\n",
      "    subclass in cls._abc_negative_cache):\n",
      "  File \"/home/franklin/my_projects_dir/entorno_jup/lib/python3.6/_weakrefset.py\", line 70, in __contains__\n",
      "    def __contains__(self, item):\n",
      "KeyboardInterrupt\n"
     ]
    },
    {
     "ename": "KeyboardInterrupt",
     "evalue": "",
     "output_type": "error",
     "traceback": [
      "\u001b[0;31m---------------------------------------------------------------------------\u001b[0m",
      "\u001b[0;31mKeyboardInterrupt\u001b[0m                         Traceback (most recent call last)",
      "\u001b[0;32m~/my_projects_dir/entorno_jup/lib/python3.6/abc.py\u001b[0m in \u001b[0;36m__instancecheck__\u001b[0;34m(cls, instance)\u001b[0m\n\u001b[1;32m    184\u001b[0m         \u001b[0;32mif\u001b[0m \u001b[0msubclass\u001b[0m \u001b[0;32min\u001b[0m \u001b[0mcls\u001b[0m\u001b[0;34m.\u001b[0m\u001b[0m_abc_cache\u001b[0m\u001b[0;34m:\u001b[0m\u001b[0;34m\u001b[0m\u001b[0;34m\u001b[0m\u001b[0m\n\u001b[1;32m    185\u001b[0m             \u001b[0;32mreturn\u001b[0m \u001b[0;32mTrue\u001b[0m\u001b[0;34m\u001b[0m\u001b[0;34m\u001b[0m\u001b[0m\n\u001b[0;32m--> 186\u001b[0;31m         \u001b[0msubtype\u001b[0m \u001b[0;34m=\u001b[0m \u001b[0mtype\u001b[0m\u001b[0;34m(\u001b[0m\u001b[0minstance\u001b[0m\u001b[0;34m)\u001b[0m\u001b[0;34m\u001b[0m\u001b[0;34m\u001b[0m\u001b[0m\n\u001b[0m\u001b[1;32m    187\u001b[0m         \u001b[0;32mif\u001b[0m \u001b[0msubtype\u001b[0m \u001b[0;32mis\u001b[0m \u001b[0msubclass\u001b[0m\u001b[0;34m:\u001b[0m\u001b[0;34m\u001b[0m\u001b[0;34m\u001b[0m\u001b[0m\n\u001b[1;32m    188\u001b[0m             if (cls._abc_negative_cache_version ==\n",
      "\u001b[0;31mKeyboardInterrupt\u001b[0m: "
     ]
    },
    {
     "name": "stderr",
     "output_type": "stream",
     "text": [
      "Exception ignored in: 'pandas._libs.lib.c_is_list_like'\n",
      "Traceback (most recent call last):\n",
      "  File \"/home/franklin/my_projects_dir/entorno_jup/lib/python3.6/abc.py\", line 186, in __instancecheck__\n",
      "    subtype = type(instance)\n",
      "KeyboardInterrupt\n"
     ]
    }
   ],
   "source": [
    "df_nmm=pd.read_csv(r\"../Dataset/rqh0085a.csv\")\n",
    "fechas=[datetime(df_nmm.Year.loc[i],df_nmm.Month.loc[i],df_nmm.Day.loc[i],df_nmm.Hour.loc[i]) for i in range(len(df_nmm))]\n",
    "serie_nmm=pd.Series(data=df_nmm.nmm.values/1000,index=fechas)\n",
    "# serie_nmm=serie_nmm[fecha_inicio:]"
   ]
  },
  {
   "cell_type": "code",
   "execution_count": 156,
   "metadata": {
    "ExecuteTime": {
     "end_time": "2020-03-03T17:43:36.214504Z",
     "start_time": "2020-03-03T17:43:35.248137Z"
    }
   },
   "outputs": [
    {
     "data": {
      "text/plain": [
       "[<matplotlib.lines.Line2D at 0x7f895b8cae48>]"
      ]
     },
     "execution_count": 156,
     "metadata": {},
     "output_type": "execute_result"
    },
    {
     "data": {
      "image/png": "[encoded data removed]",
      "text/plain": [
       "<Figure size 576x396 with 1 Axes>"
      ]
     },
     "metadata": {},
     "output_type": "display_data"
    }
   ],
   "source": [
    "plt.plot(serie_nmm)"
   ]
  },
  {
   "cell_type": "markdown",
   "metadata": {},
   "source": [
    "## Calculando el porcentaje de datos faltantes por año:"
   ]
  },
  {
   "cell_type": "code",
   "execution_count": 157,
   "metadata": {
    "ExecuteTime": {
     "end_time": "2020-03-03T17:43:36.295882Z",
     "start_time": "2020-03-03T17:43:36.217340Z"
    }
   },
   "outputs": [],
   "source": [
    "data_nmm=pd.DataFrame(serie_nmm,columns=[\"nmm\"])\n",
    "data_nmm[\"year\"]=data_nmm.index.year\n",
    "data_nmm_year=data_nmm.groupby(\"year\").count()"
   ]
  },
  {
   "cell_type": "code",
   "execution_count": 17,
   "metadata": {
    "ExecuteTime": {
     "end_time": "2020-03-03T04:31:18.199021Z",
     "start_time": "2020-03-03T04:31:18.173346Z"
    }
   },
   "outputs": [],
   "source": [
    "porcentajes=np.zeros((int(len(data_nmm_year.index)),1))\n",
    "for i,z in enumerate(data_nmm_year.index):\n",
    "    d=(lambda year : (year % 400 == 0) or (year % 4 == 0 and year % 100 != 0))(z)\n",
    "    if d==True:\n",
    "        dv=366*24\n",
    "        porcentajes[i]=((dv-data_nmm_year.nmm[z])/(dv))*100\n",
    "    else:\n",
    "        dv=365*24\n",
    "        porcentajes[i]=((dv-data_nmm_year.nmm[z])/(dv))*100"
   ]
  },
  {
   "cell_type": "code",
   "execution_count": 18,
   "metadata": {
    "ExecuteTime": {
     "end_time": "2020-03-03T04:31:18.319809Z",
     "start_time": "2020-03-03T04:31:18.201717Z"
    }
   },
   "outputs": [],
   "source": [
    "df_faltantes=pd.DataFrame(porcentajes,index=data_nmm_year.index,columns=[\"Datos faltantes [%]\"])"
   ]
  },
  {
   "cell_type": "code",
   "execution_count": 22,
   "metadata": {
    "ExecuteTime": {
     "end_time": "2020-03-03T04:33:27.300831Z",
     "start_time": "2020-03-03T04:33:26.958956Z"
    }
   },
   "outputs": [
    {
     "data": {
      "text/plain": [
       "[<matplotlib.lines.Line2D at 0x7f89618e1f28>]"
      ]
     },
     "execution_count": 22,
     "metadata": {},
     "output_type": "execute_result"
    },
    {
     "data": {
      "image/png": "[encoded data removed]",
      "text/plain": [
       "<Figure size 576x396 with 1 Axes>"
      ]
     },
     "metadata": {},
     "output_type": "display_data"
    }
   ],
   "source": [
    "plt.plot(df_faltantes)"
   ]
  },
  {
   "cell_type": "markdown",
   "metadata": {},
   "source": [
    "## Sensibilidad de la componente M2 respecto a la cantidad de información tomada"
   ]
  },
  {
   "cell_type": "code",
   "execution_count": 147,
   "metadata": {
    "ExecuteTime": {
     "end_time": "2020-03-03T17:40:14.947201Z",
     "start_time": "2020-03-03T17:39:42.554640Z"
    }
   },
   "outputs": [
    {
     "name": "stderr",
     "output_type": "stream",
     "text": [
      "/home/franklin/Documentos/GitHub/TDG/Scripts/ttide/t_tide.py:295: FutureWarning: `rcond` parameter will change to the default of machine precision times ``max(M, N)`` where M and N are the input matrix dimensions.\n",
      "To use the future default and silence this warning we advise to pass `rcond=None`, to keep using the old, explicitly pass `rcond=-1`.\n",
      "  coef = np.linalg.lstsq(tc[gd, :], xin[gd])[0].T\n",
      "/home/franklin/my_projects_dir/entorno_jup/lib/python3.6/site-packages/numpy/lib/type_check.py:161: FutureWarning: `real` is deprecated and will be removed in a future version. To eliminate this warning for a Series `ser`, use `np.real(ser.to_numpy())` or `ser.to_numpy().real`.\n",
      "  return val.real\n",
      "/home/franklin/my_projects_dir/entorno_jup/lib/python3.6/site-packages/numpy/lib/type_check.py:204: FutureWarning: `imag` is deprecated and will be removed in a future version. To eliminate this warning for a Series `ser`, use `np.imag(ser.to_numpy())` or `ser.to_numpy().imag`.\n",
      "  return val.imag\n",
      "/home/franklin/Documentos/GitHub/TDG/Scripts/ttide/t_utils.py:447: FutureWarning: `real` is deprecated and will be removed in a future version. To eliminate this warning for a Series `ser`, use `np.real(ser.to_numpy())` or `ser.to_numpy().real`.\n",
      "  x = np.var(out['xingd'].real, ddof=1)\n",
      "/home/franklin/Documentos/GitHub/TDG/Scripts/ttide/t_utils.py:449: FutureWarning: `real` is deprecated and will be removed in a future version. To eliminate this warning for a Series `ser`, use `np.real(ser.to_numpy())` or `ser.to_numpy().real`.\n",
      "  xr = np.var(out['xresgd'].real, ddof=1)\n"
     ]
    },
    {
     "name": "stdout",
     "output_type": "stream",
     "text": [
      "-----------------------------------\n",
      "nobs = 8715 \n",
      "ngood = 8715 \n",
      "record length (days) = 363.12\n",
      "rayleigh criterion = 1.0\n",
      "\n",
      "Phases at central time\n",
      "x0= 0.028  xtrend= 0\n",
      "var(data)= 1.32    var(prediction)= 0.80    var(residual)= 0.52\n",
      "var(prediction)/var(data) (%) = 61.0\n",
      "\n",
      "        tidal amplitude and phase with 95 % CI estimates\n",
      " tide      freq        amp      amp_err   pha      pha_err    snr\n",
      "* SSA   0.0002282     0.0577     0.028    290.28     31.29       4.2\n",
      "  MSM   0.0013098     0.0100     0.023     50.98    150.42      0.18\n",
      "  MM    0.0015122     0.0132     0.023    349.06    127.27      0.32\n",
      "  MSF   0.0028219     0.0272     0.026    163.95     81.71       1.1\n",
      "  MF    0.0030501     0.0086     0.024    224.33    164.17      0.13\n",
      "  ALP1  0.0343966     0.0010     0.003     70.74    111.34       0.1\n",
      "  2Q1   0.0357064     0.0020     0.004    207.31     48.02       0.3\n",
      "  SIG1  0.0359087     0.0017     0.002    309.39    131.88      0.64\n",
      "* Q1    0.0372185     0.0039     0.003    162.95     75.85       2.4\n",
      "  RHO1  0.0374209     0.0027     0.003    176.29     81.21      0.74\n",
      "* O1    0.0387307     0.0196     0.005     17.73      6.66        13\n",
      "  TAU1  0.0389588     0.0066     0.005     44.80      9.23       1.8\n",
      "  BET1  0.0400404     0.0013     0.004    244.39     72.40      0.13\n",
      "* NO1   0.0402686     0.0036     0.002    117.90     76.19       4.8\n",
      "  CHI1  0.0404710     0.0005     0.003    247.37    114.63     0.026\n",
      "* P1    0.0415526     0.0266     0.004     73.63      6.73        37\n",
      "* K1    0.0417807     0.1159     0.006     37.63      0.54   4.3e+02\n",
      "  PHI1  0.0420089     0.0068     0.007     51.87     11.23       1.1\n",
      "  THE1  0.0430905     0.0024     0.004     62.21     45.06      0.38\n",
      "* J1    0.0432929     0.0089     0.004    351.21     31.88       5.5\n",
      "  SO1   0.0446027     0.0068     0.005    223.93      9.76       1.7\n",
      "* OO1   0.0448308     0.0078     0.004    267.93     32.19       3.9\n",
      "  UPS1  0.0463430     0.0002     0.003     18.73    199.93    0.0029\n",
      "  OQ2   0.0759749     0.0138     0.076     92.56    220.78     0.033\n",
      "  EPS2  0.0761773     0.0131     0.077     70.61    217.75     0.029\n",
      "  2N2   0.0774871     0.0459     0.082    296.92    115.83      0.31\n",
      "  MU2   0.0776895     0.0245     0.075     25.34    196.08      0.11\n",
      "* N2    0.0789992     0.2285     0.095    207.11     31.66       5.8\n",
      "  NU2   0.0792016     0.1060     0.098    232.89     56.58       1.2\n",
      "* M2    0.0805114     1.1268     0.109    172.04      5.73   1.1e+02\n",
      "* MKS2  0.0807396     0.3692     0.088    208.91     19.90        17\n",
      "  LDA2  0.0818212     0.0424     0.083     80.46    142.66      0.26\n",
      "  L2    0.0820236     0.0059     0.075    310.88    237.54    0.0063\n",
      "* S2    0.0833333     0.3786     0.118    298.09     14.64        10\n",
      "  K2    0.0835615     0.0936     0.088     19.03     63.21       1.1\n",
      "  MSN2  0.0848455     0.0131     0.073    280.63    218.04     0.032\n",
      "  ETA2  0.0850736     0.0219     0.076    142.27    175.73     0.084\n",
      "  MO3   0.1192421     0.0032     0.003     88.88     54.87      0.86\n",
      "  M3    0.1207671     0.0045     0.003     14.67     38.36       1.9\n",
      "* SO3   0.1220640     0.0047     0.003    188.88     38.96       2.8\n",
      "  MK3   0.1222921     0.0043     0.003    249.40     41.73       1.9\n",
      "* SK3   0.1251141     0.0083     0.003    135.87     21.94       7.7\n",
      "* MN4   0.1595106     0.0210     0.008     53.05     23.04       6.5\n",
      "* M4    0.1610228     0.0420     0.008     11.03     11.95        27\n",
      "  SN4   0.1623326     0.0083     0.008    283.44     61.06      0.98\n",
      "* MS4   0.1638447     0.0263     0.010    178.91     19.47       7.6\n",
      "* MK4   0.1640729     0.0196     0.008    265.03     23.43       5.4\n",
      "  S4    0.1666667     0.0067     0.007    351.03     78.66      0.83\n",
      "  SK4   0.1668948     0.0063     0.007     11.80     92.88      0.81\n",
      "* 2MK5  0.2028035     0.0039     0.002    182.99     30.78       4.7\n",
      "  2SK5  0.2084474     0.0018     0.002    250.69     67.81      0.73\n",
      "* 2MN6  0.2400221     0.0045     0.002    107.88     30.98       3.2\n",
      "  M6    0.2415342     0.0028     0.003     68.81     53.31       1.1\n",
      "* 2MS6  0.2443561     0.0062     0.003    165.48     23.63       4.7\n",
      "  2MK6  0.2445843     0.0021     0.003    318.57     71.10      0.69\n",
      "  2SM6  0.2471781     0.0025     0.002    309.95     66.38       1.4\n",
      "  MSK6  0.2474062     0.0022     0.002     14.89     66.54      0.94\n",
      "  3MK7  0.2833149     0.0014     0.001    264.13     46.72       1.8\n",
      "* M8    0.3220456     0.0086     0.001     69.79      7.61        75\n",
      "-----------------------------------\n",
      "nobs = 17414 \n",
      "ngood = 17413 \n",
      "record length (days) = 725.58\n",
      "rayleigh criterion = 1.0\n",
      "\n",
      "Phases at central time\n",
      "x0= 0.0255  xtrend= 0\n",
      "var(data)= 1.32    var(prediction)= 0.42    var(residual)= 0.90\n",
      "var(prediction)/var(data) (%) = 32.0\n",
      "\n",
      "        tidal amplitude and phase with 95 % CI estimates\n",
      " tide      freq        amp      amp_err   pha      pha_err    snr\n",
      "* SA    0.0001141     0.0909     0.015    251.84      9.34        38\n",
      "* SSA   0.0002282     0.0656     0.014    297.49     12.66        22\n",
      "  MSM   0.0013098     0.0117     0.012    217.11     63.46       0.9\n",
      "  MM    0.0015122     0.0164     0.012    102.03     53.55       1.8\n",
      "* MSF   0.0028219     0.0204     0.014     35.20     42.06       2.2\n",
      "  MF    0.0030501     0.0147     0.013    101.01     54.73       1.3\n",
      "  ALP1  0.0343966     0.0011     0.007    201.36    235.96     0.027\n",
      "  2Q1   0.0357064     0.0020     0.006     40.34    151.13       0.1\n",
      "  SIG1  0.0359087     0.0014     0.006    303.58    203.93     0.061\n",
      "  Q1    0.0372185     0.0026     0.007    209.44    162.71      0.13\n",
      "  RHO1  0.0374209     0.0026     0.006     37.13    178.12      0.16\n",
      "  O1    0.0387307     0.0130     0.010    219.80     34.35       1.7\n",
      "  TAU1  0.0389588     0.0070     0.008    207.11     73.81       0.7\n",
      "  BET1  0.0400404     0.0025     0.007    136.77    179.21      0.14\n",
      "  NO1   0.0402686     0.0054     0.007     85.75     83.82      0.58\n",
      "  CHI1  0.0404710     0.0021     0.006    333.45    211.38      0.12\n",
      "  PI1   0.0414385     0.0091     0.009    117.24     59.32      0.95\n",
      "  P1    0.0415526     0.0109     0.008     65.99     46.17       1.8\n",
      "* S1    0.0416667     0.0134     0.009     68.20     42.29       2.1\n",
      "* K1    0.0417807     0.0569     0.009    144.03      8.98        44\n",
      "* PSI1  0.0418948     0.0467     0.010    232.27     10.03        24\n",
      "  PHI1  0.0420089     0.0018     0.006    321.61    203.67       0.1\n",
      "  THE1  0.0430905     0.0035     0.007    356.65    138.37      0.24\n",
      "  J1    0.0432929     0.0057     0.007    274.95     78.19      0.67\n",
      "  SO1   0.0446027     0.0021     0.006    206.64    156.27      0.11\n",
      "  OO1   0.0448308     0.0041     0.007    316.07    117.96      0.31\n",
      "  UPS1  0.0463430     0.0023     0.005    166.02    190.42      0.19\n",
      "  OQ2   0.0759749     0.0043     0.086    183.25    251.81    0.0025\n",
      "  EPS2  0.0761773     0.0070     0.096      2.30    238.28    0.0052\n",
      "  2N2   0.0774871     0.0168     0.092    307.24    196.38     0.033\n",
      "  MU2   0.0776895     0.0051     0.099    114.51    260.93    0.0027\n",
      "  N2    0.0789992     0.0573     0.104     91.19    127.66       0.3\n",
      "  NU2   0.0792016     0.0278     0.092     44.06    176.22     0.092\n",
      "* GAM2  0.0803090     0.2101     0.125    330.44     34.47       2.8\n",
      "  H1    0.0803973     0.1594     0.149    280.89     49.91       1.1\n",
      "* M2    0.0805114     0.6041     0.133    186.00     12.39        21\n",
      "* H2    0.0806255     0.5382     0.136    201.58     14.46        16\n",
      "  MKS2  0.0807396     0.0649     0.114    132.34    105.89      0.33\n",
      "  LDA2  0.0818212     0.0367     0.095    341.83    169.98      0.15\n",
      "  L2    0.0820236     0.0170     0.090    337.42    227.73     0.036\n",
      "  T2    0.0832193     0.0510     0.097    169.19    134.25      0.28\n",
      "* S2    0.0833333     0.3230     0.143    167.81     23.77       5.1\n",
      "  R2    0.0834474     0.0292     0.089    216.59    175.87      0.11\n",
      "  K2    0.0835615     0.0849     0.115    303.96     87.55      0.55\n",
      "  MSN2  0.0848455     0.0167     0.097    318.40    193.46      0.03\n",
      "  ETA2  0.0850736     0.0106     0.098    123.03    219.59     0.012\n",
      "  MO3   0.1192421     0.0018     0.003      4.33     92.59      0.35\n",
      "  M3    0.1207671     0.0008     0.002      9.02    180.62       0.1\n",
      "  SO3   0.1220640     0.0010     0.002    127.61    159.48      0.22\n",
      "  MK3   0.1222921     0.0032     0.003    296.20     67.30       1.3\n",
      "* SK3   0.1251141     0.0049     0.003    105.37     39.88       2.6\n",
      "  MN4   0.1595106     0.0136     0.011    133.51     45.38       1.5\n",
      "* M4    0.1610228     0.0266     0.012    226.75     24.42       5.3\n",
      "  SN4   0.1623326     0.0021     0.007    305.64    214.86      0.09\n",
      "  MS4   0.1638447     0.0067     0.009     84.25    103.65      0.55\n",
      "  MK4   0.1640729     0.0083     0.010      6.24     77.86      0.74\n",
      "  S4    0.1666667     0.0041     0.008     65.80    131.49      0.23\n",
      "  SK4   0.1668948     0.0009     0.007     30.07    240.11      0.02\n",
      "  2MK5  0.2028035     0.0017     0.001    158.08     57.06       1.4\n",
      "  2SK5  0.2084474     0.0014     0.001     90.91     69.55         1\n",
      "* 2MN6  0.2400221     0.0031     0.002    155.10     34.96       3.1\n",
      "  M6    0.2415342     0.0024     0.002    252.85     48.65       1.9\n",
      "* 2MS6  0.2443561     0.0040     0.002    241.28     28.66       5.6\n",
      "* 2MK6  0.2445843     0.0025     0.002     45.40     45.05       2.5\n",
      "  2SM6  0.2471781     0.0010     0.002     51.72     93.48      0.43\n",
      "  MSK6  0.2474062     0.0015     0.002    352.74     64.57      0.92\n",
      "  3MK7  0.2833149     0.0010     0.001    197.70     46.34       1.3\n",
      "* M8    0.3220456     0.0048     0.001    239.70     10.21        51\n"
     ]
    },
    {
     "name": "stdout",
     "output_type": "stream",
     "text": [
      "-----------------------------------\n",
      "nobs = 26174 \n",
      "ngood = 26173 \n",
      "record length (days) = 1090.58\n",
      "rayleigh criterion = 1.0\n",
      "\n",
      "Phases at central time\n",
      "x0= 0.0201  xtrend= 0\n",
      "var(data)= 1.32    var(prediction)= 0.48    var(residual)= 0.85\n",
      "var(prediction)/var(data) (%) = 36.1\n",
      "\n",
      "        tidal amplitude and phase with 95 % CI estimates\n",
      " tide      freq        amp      amp_err   pha      pha_err    snr\n",
      "* SA    0.0001141     0.0912     0.012     70.06      7.29        59\n",
      "* SSA   0.0002282     0.0570     0.011    297.93     11.23        29\n",
      "  MSM   0.0013098     0.0084     0.010    294.99     75.01      0.67\n",
      "* MM    0.0015122     0.0167     0.011    234.26     41.87       2.2\n",
      "* MSF   0.0028219     0.0200     0.012    226.00     32.04         3\n",
      "  MF    0.0030501     0.0111     0.011    310.63     63.79       1.1\n",
      "  ALP1  0.0343966     0.0011     0.006    305.30    213.98     0.031\n",
      "  2Q1   0.0357064     0.0005     0.007    291.16    266.67    0.0061\n",
      "  SIG1  0.0359087     0.0014     0.007    189.87    191.31      0.04\n",
      "  Q1    0.0372185     0.0029     0.007    198.47    175.81      0.17\n",
      "  RHO1  0.0374209     0.0019     0.007     62.40    194.19     0.068\n",
      "  O1    0.0387307     0.0134     0.010    324.44     41.66       1.9\n",
      "  TAU1  0.0389588     0.0038     0.007    325.18    144.88      0.26\n",
      "  BET1  0.0400404     0.0025     0.008    351.15    158.01      0.11\n",
      "  NO1   0.0402686     0.0029     0.008    342.32    171.00      0.12\n",
      "  CHI1  0.0404710     0.0011     0.007    309.52    242.90     0.024\n",
      "  PI1   0.0414385     0.0057     0.008    289.72    107.91      0.49\n",
      "* P1    0.0415526     0.0158     0.010     23.27     32.42       2.4\n",
      "  S1    0.0416667     0.0030     0.007    235.58    172.67      0.18\n",
      "  K1    0.0417807     0.0050     0.008    104.17    108.61      0.42\n",
      "* PSI1  0.0418948     0.0302     0.011     52.57     18.14         8\n",
      "  PHI1  0.0420089     0.0010     0.007    323.36    245.91     0.024\n",
      "  THE1  0.0430905     0.0015     0.006     65.71    210.03     0.053\n",
      "  J1    0.0432929     0.0030     0.008    107.59    144.57      0.15\n",
      "  SO1   0.0446027     0.0015     0.008    179.01    195.60     0.035\n",
      "  OO1   0.0448308     0.0049     0.008    192.14    108.80      0.41\n",
      "  UPS1  0.0463430     0.0016     0.007    147.62    217.03     0.052\n",
      "  OQ2   0.0759749     0.0015     0.069    117.36    285.65   0.00047\n",
      "  EPS2  0.0761773     0.0079     0.058     95.16    212.23     0.019\n",
      "  2N2   0.0774871     0.0063     0.064    295.46    253.39    0.0096\n",
      "  MU2   0.0776895     0.0166     0.063    257.35    200.57      0.07\n",
      "  N2    0.0789992     0.1137     0.092    158.95     50.09       1.5\n",
      "  NU2   0.0792016     0.0281     0.067     74.56    151.58      0.18\n",
      "* GAM2  0.0803090     0.1555     0.107     47.45     33.01       2.1\n",
      "  H1    0.0803973     0.1101     0.093    218.30     55.76       1.4\n",
      "* M2    0.0805114     0.8150     0.095    346.80      7.21        73\n",
      "* H2    0.0806255     0.3688     0.088    150.76     13.92        18\n",
      "  MKS2  0.0807396     0.0471     0.079    260.20     92.66      0.35\n",
      "  LDA2  0.0818212     0.0136     0.067    188.18    219.58     0.042\n",
      "  L2    0.0820236     0.0182     0.067    330.65    202.65     0.074\n",
      "  T2    0.0832193     0.0404     0.069    355.18    128.91      0.35\n",
      "* S2    0.0833333     0.3468     0.087    167.23     13.20        16\n",
      "  R2    0.0834474     0.0178     0.067     53.85    184.92     0.072\n",
      "  K2    0.0835615     0.0885     0.097    305.15     56.75      0.83\n",
      "  MSN2  0.0848455     0.0141     0.070     95.80    208.63     0.041\n",
      "  ETA2  0.0850736     0.0068     0.062    240.12    235.00     0.012\n",
      "  MO3   0.1192421     0.0022     0.002    210.89     67.20      0.77\n",
      "  M3    0.1207671     0.0018     0.002     34.24     78.12      0.61\n",
      "  SO3   0.1220640     0.0014     0.002     15.36    100.19      0.31\n",
      "  MK3   0.1222921     0.0035     0.003     69.74     39.57       1.9\n",
      "  SK3   0.1251141     0.0002     0.002     82.98    223.46     0.022\n",
      "* MN4   0.1595106     0.0182     0.008    265.71     23.57       4.6\n",
      "* M4    0.1610228     0.0395     0.007    111.02     11.32        36\n",
      "  SN4   0.1623326     0.0030     0.006     89.35    155.02      0.23\n",
      "* MS4   0.1638447     0.0185     0.008    251.72     25.57       5.1\n",
      "  MK4   0.1640729     0.0070     0.007    108.70     73.85      0.98\n",
      "  S4    0.1666667     0.0057     0.007     71.94     67.63      0.62\n",
      "  SK4   0.1668948     0.0007     0.005    296.60    264.04     0.015\n",
      "  2MK5  0.2028035     0.0009     0.001    135.04     70.85      0.71\n",
      "  2SK5  0.2084474     0.0013     0.001     95.52     56.56       1.3\n",
      "  2MN6  0.2400221     0.0020     0.001     61.26     41.70       1.8\n",
      "* M6    0.2415342     0.0022     0.001    299.82     38.53       2.4\n",
      "* 2MS6  0.2443561     0.0049     0.001    130.27     18.19        13\n",
      "* 2MK6  0.2445843     0.0028     0.001    307.23     28.19       3.6\n",
      "  2SM6  0.2471781     0.0017     0.002    228.02     51.78       1.2\n",
      "* MSK6  0.2474062     0.0017     0.001    105.40     47.59       2.2\n",
      "  3MK7  0.2833149     0.0007     0.001    198.45     51.12       1.2\n",
      "* M8    0.3220456     0.0010     0.001     66.96     34.65       3.3\n",
      "-----------------------------------\n",
      "nobs = 34696 \n",
      "ngood = 34695 \n",
      "record length (days) = 1445.67\n",
      "rayleigh criterion = 1.0\n",
      "\n",
      "Phases at central time\n",
      "x0= 0.0161  xtrend= 0\n",
      "var(data)= 1.32    var(prediction)= 0.42    var(residual)= 0.90\n",
      "var(prediction)/var(data) (%) = 31.7\n",
      "\n",
      "        tidal amplitude and phase with 95 % CI estimates\n",
      " tide      freq        amp      amp_err   pha      pha_err    snr\n",
      "* SA    0.0001141     0.0811     0.011    254.46      8.31        52\n",
      "* SSA   0.0002282     0.0500     0.011    310.12     13.54        19\n",
      "  MSM   0.0013098     0.0064     0.010    102.61    104.88      0.43\n",
      "  MM    0.0015122     0.0088     0.010     77.30     67.71      0.75\n",
      "* MSF   0.0028219     0.0154     0.011    228.33     45.89       2.1\n",
      "  MF    0.0030501     0.0098     0.012    313.35     65.50      0.68\n",
      "  ALP1  0.0343966     0.0008     0.005     68.69    228.66     0.023\n",
      "  2Q1   0.0357064     0.0003     0.006    288.53    272.78     0.003\n",
      "  SIG1  0.0359087     0.0003     0.005    158.61    269.90    0.0039\n",
      "  Q1    0.0372185     0.0024     0.006    350.77    156.29      0.15\n",
      "  RHO1  0.0374209     0.0022     0.006    265.47    159.48      0.14\n",
      "  O1    0.0387307     0.0100     0.008    320.12     49.96       1.5\n",
      "  TAU1  0.0389588     0.0034     0.006    339.16    122.11      0.28\n",
      "  BET1  0.0400404     0.0016     0.006     99.65    180.14     0.084\n",
      "  NO1   0.0402686     0.0030     0.007     85.92    134.67      0.18\n",
      "  CHI1  0.0404710     0.0006     0.005     32.49    254.22     0.014\n",
      "  PI1   0.0414385     0.0077     0.008    107.13     57.72         1\n",
      "* P1    0.0415526     0.0198     0.007      0.86     22.34       7.5\n",
      "  S1    0.0416667     0.0034     0.006    106.10    127.69      0.28\n",
      "* K1    0.0417807     0.0210     0.009    324.55     21.16       5.1\n",
      "* PSI1  0.0418948     0.0204     0.008    238.84     25.83       6.1\n",
      "  PHI1  0.0420089     0.0009     0.006    348.02    210.75     0.024\n",
      "  THE1  0.0430905     0.0018     0.007    186.86    189.31     0.077\n",
      "  J1    0.0432929     0.0034     0.006    273.27    130.40      0.32\n",
      "  SO1   0.0446027     0.0011     0.005    113.53    221.09     0.037\n",
      "  OO1   0.0448308     0.0036     0.006    177.21    120.16      0.33\n",
      "  UPS1  0.0463430     0.0014     0.005     16.66    215.89     0.074\n",
      "  OQ2   0.0759749     0.0072     0.053    283.22    219.54     0.019\n",
      "  EPS2  0.0761773     0.0186     0.057    241.43    184.31       0.1\n",
      "  2N2   0.0774871     0.0110     0.052    221.34    212.76     0.044\n",
      "  MU2   0.0776895     0.0177     0.056    209.84    177.14       0.1\n",
      "  N2    0.0789992     0.0524     0.075    285.53     92.60      0.49\n",
      "  NU2   0.0792016     0.0315     0.068    214.91    126.74      0.22\n",
      "* GAM2  0.0803090     0.1560     0.082    340.60     25.17       3.6\n",
      "* H1    0.0803973     0.3244     0.085      5.41     13.84        15\n",
      "* M2    0.0805114     0.6631     0.080    334.75      8.65        69\n",
      "* H2    0.0806255     0.3917     0.081    282.43     12.24        23\n",
      "  MKS2  0.0807396     0.0174     0.054    231.68    195.14       0.1\n",
      "  LDA2  0.0818212     0.0186     0.054     27.36    172.13      0.12\n",
      "  L2    0.0820236     0.0074     0.049     76.79    244.87     0.023\n",
      "  T2    0.0832193     0.0140     0.056    228.50    176.38     0.062\n",
      "* S2    0.0833333     0.3368     0.081    138.61     13.87        17\n",
      "  R2    0.0834474     0.0596     0.070    173.96     82.96      0.73\n",
      "  K2    0.0835615     0.0704     0.066    285.82     79.44       1.1\n",
      "  MSN2  0.0848455     0.0148     0.053    275.40    223.67     0.077\n",
      "  ETA2  0.0850736     0.0088     0.055     58.74    214.66     0.026\n",
      "  MO3   0.1192421     0.0017     0.002    168.25     66.50       1.2\n",
      "  M3    0.1207671     0.0014     0.002    240.98     87.28      0.52\n",
      "  SO3   0.1220640     0.0007     0.002      5.48    134.88       0.2\n",
      "* MK3   0.1222921     0.0030     0.002     53.27     35.00       2.3\n",
      "  SK3   0.1251141     0.0009     0.002    260.22    117.41      0.34\n",
      "* MN4   0.1595106     0.0181     0.006     23.51     18.76       9.4\n",
      "* M4    0.1610228     0.0283     0.006     40.96     10.99        26\n",
      "  SN4   0.1623326     0.0009     0.004    192.40    191.69     0.049\n",
      "* MS4   0.1638447     0.0205     0.006    222.80     17.22        12\n",
      "  MK4   0.1640729     0.0072     0.005     71.55     48.52         2\n",
      "  S4    0.1666667     0.0047     0.006     15.30     71.44      0.73\n",
      "  SK4   0.1668948     0.0001     0.004    343.71    245.13   0.00095\n",
      "  2MK5  0.2028035     0.0012     0.001     47.26     52.59       1.6\n",
      "  2SK5  0.2084474     0.0011     0.001     58.18     52.89       1.2\n",
      "  2MN6  0.2400221     0.0017     0.001    174.42     43.78       1.6\n",
      "  M6    0.2415342     0.0014     0.001    223.62     56.51       1.3\n",
      "* 2MS6  0.2443561     0.0034     0.001     50.05     22.62       7.3\n",
      "* 2MK6  0.2445843     0.0020     0.001    237.84     40.12       2.8\n",
      "  2SM6  0.2471781     0.0013     0.001    179.32     57.89       1.3\n",
      "  MSK6  0.2474062     0.0014     0.001     47.18     53.71       1.3\n",
      "  3MK7  0.2833149     0.0005     0.001     90.97     70.72      0.91\n",
      "* M8    0.3220456     0.0010     0.001    307.79     33.06       3.4\n"
     ]
    },
    {
     "name": "stdout",
     "output_type": "stream",
     "text": [
      "-----------------------------------\n",
      "nobs = 43456 \n",
      "ngood = 43455 \n",
      "record length (days) = 1810.67\n",
      "rayleigh criterion = 1.0\n",
      "\n",
      "Phases at central time\n",
      "x0= 0.0381  xtrend= 0\n",
      "var(data)= 1.33    var(prediction)= 0.49    var(residual)= 0.84\n",
      "var(prediction)/var(data) (%) = 36.9\n",
      "\n",
      "        tidal amplitude and phase with 95 % CI estimates\n",
      " tide      freq        amp      amp_err   pha      pha_err    snr\n",
      "* SA    0.0001141     0.0892     0.010     72.63      7.43        74\n",
      "* SSA   0.0002282     0.0613     0.010    297.96     10.73        34\n",
      "  MSM   0.0013098     0.0014     0.007    164.93    246.18     0.037\n",
      "  MM    0.0015122     0.0036     0.008    204.27    135.78      0.22\n",
      "* MSF   0.0028219     0.0160     0.011    120.88     43.91       2.2\n",
      "  MF    0.0030501     0.0109     0.010    206.00     58.24       1.1\n",
      "  ALP1  0.0343966     0.0004     0.004    151.54    252.90    0.0075\n",
      "  2Q1   0.0357064     0.0003     0.004     71.53    219.64    0.0049\n",
      "  SIG1  0.0359087     0.0002     0.004    359.30    244.33    0.0032\n",
      "  Q1    0.0372185     0.0026     0.005     13.29    110.51      0.23\n",
      "  RHO1  0.0374209     0.0016     0.005    299.02    184.74      0.12\n",
      "  O1    0.0387307     0.0082     0.006     58.51     45.25       1.8\n",
      "  TAU1  0.0389588     0.0022     0.005    100.27    128.96      0.21\n",
      "  BET1  0.0400404     0.0009     0.004    349.47    226.70     0.044\n",
      "  NO1   0.0402686     0.0033     0.005    336.90    118.09      0.37\n",
      "  CHI1  0.0404710     0.0014     0.005    274.22    158.86     0.092\n",
      "  PI1   0.0414385     0.0061     0.006    284.10     60.53      0.92\n",
      "* P1    0.0415526     0.0228     0.007      6.57     17.17        12\n",
      "  S1    0.0416667     0.0013     0.004     50.18    188.43     0.092\n",
      "* K1    0.0417807     0.0364     0.006    336.34      9.29        41\n",
      "* PSI1  0.0418948     0.0163     0.006     60.23     22.85       6.4\n",
      "  PHI1  0.0420089     0.0007     0.005    350.52    231.37     0.018\n",
      "  THE1  0.0430905     0.0014     0.005    299.82    188.61     0.078\n",
      "  J1    0.0432929     0.0039     0.005     31.66     86.03      0.59\n",
      "  SO1   0.0446027     0.0006     0.005    348.20    220.96     0.017\n",
      "  OO1   0.0448308     0.0022     0.004     52.65    144.23      0.26\n",
      "  UPS1  0.0463430     0.0008     0.004     34.17    223.04     0.037\n",
      "  OQ2   0.0759749     0.0078     0.061      6.92    236.92     0.016\n",
      "  EPS2  0.0761773     0.0178     0.065      6.19    181.89     0.074\n",
      "  2N2   0.0774871     0.0168     0.056     63.33    209.73      0.09\n",
      "  MU2   0.0776895     0.0200     0.059     62.79    176.31      0.11\n",
      "  N2    0.0789992     0.0420     0.067     25.79    116.28      0.39\n",
      "  NU2   0.0792016     0.0182     0.061    301.82    172.08     0.088\n",
      "* GAM2  0.0803090     0.1311     0.084     64.37     37.89       2.4\n",
      "* H1    0.0803973     0.2553     0.085    316.19     19.22         9\n",
      "* M2    0.0805114     0.8274     0.085     98.41      5.62        94\n",
      "* H2    0.0806255     0.3115     0.082    231.86     15.94        14\n",
      "  MKS2  0.0807396     0.0132     0.057    357.02    210.01     0.053\n",
      "  LDA2  0.0818212     0.0188     0.060    263.83    181.58     0.099\n",
      "  L2    0.0820236     0.0134     0.063    277.49    185.67     0.045\n",
      "  T2    0.0832193     0.0161     0.062     44.67    188.22     0.068\n",
      "* S2    0.0833333     0.3180     0.077    150.67     14.66        17\n",
      "  R2    0.0834474     0.0484     0.081    355.39     99.44      0.36\n",
      "  K2    0.0835615     0.0669     0.075    297.22     59.48       0.8\n",
      "  MSN2  0.0848455     0.0120     0.054     44.43    208.64     0.049\n",
      "  ETA2  0.0850736     0.0071     0.053    193.80    207.58     0.018\n",
      "  MO3   0.1192421     0.0008     0.001     51.35    115.51      0.44\n",
      "  M3    0.1207671     0.0017     0.002    296.88     63.09      0.89\n",
      "  SO3   0.1220640     0.0011     0.002    111.49     92.17      0.52\n",
      "* MK3   0.1222921     0.0032     0.002    180.59     34.20       3.4\n",
      "  SK3   0.1251141     0.0023     0.002    313.92     46.12       1.7\n",
      "* MN4   0.1595106     0.0152     0.005    170.81     19.10       9.4\n",
      "* M4    0.1610228     0.0351     0.006    284.47      9.55        34\n",
      "  SN4   0.1623326     0.0022     0.004     38.61    124.52      0.26\n",
      "* MS4   0.1638447     0.0245     0.005      1.65     12.51        25\n",
      "* MK4   0.1640729     0.0065     0.004    195.48     41.63       2.1\n",
      "  S4    0.1666667     0.0026     0.005     33.30    103.91      0.31\n",
      "  SK4   0.1668948     0.0004     0.003     30.56    234.44     0.011\n",
      "  2MK5  0.2028035     0.0012     0.001    336.91     21.21      0.63\n",
      "* 2SK5  0.2084474     0.0010     0.000     61.21     70.58       5.3\n",
      "  2MN6  0.2400221     0.0002     0.001    204.70    189.44      0.04\n",
      "* M6    0.2415342     0.0025     0.001    276.62     30.13       4.2\n",
      "* 2MS6  0.2443561     0.0047     0.001    327.04     15.18        17\n",
      "* 2MK6  0.2445843     0.0020     0.001    142.99     36.64       2.3\n",
      "  2SM6  0.2471781     0.0012     0.001     12.74     58.94         1\n",
      "  MSK6  0.2474062     0.0010     0.001    190.31     72.85      0.68\n",
      "  3MK7  0.2833149     0.0006     0.000     68.48     55.68       1.7\n",
      "* M8    0.3220456     0.0027     0.000    145.08      8.76        36\n",
      "-----------------------------------\n",
      "nobs = 52216 \n",
      "ngood = 52215 \n",
      "record length (days) = 2175.67\n",
      "rayleigh criterion = 1.0\n",
      "\n",
      "Phases at central time\n",
      "x0= 0.0357  xtrend= 0\n",
      "var(data)= 1.33    var(prediction)= 0.56    var(residual)= 0.77\n",
      "var(prediction)/var(data) (%) = 42.3\n",
      "\n",
      "        tidal amplitude and phase with 95 % CI estimates\n",
      " tide      freq        amp      amp_err   pha      pha_err    snr\n",
      "* SA    0.0001141     0.0763     0.011    251.00      8.04        52\n",
      "* SSA   0.0002282     0.0563     0.011    294.55     11.93        29\n",
      "  MSM   0.0013098     0.0018     0.008    212.14    228.00     0.051\n",
      "  MM    0.0015122     0.0007     0.007    107.20    236.58    0.0087\n",
      "* MSF   0.0028219     0.0174     0.010      3.07     35.01       2.8\n",
      "  MF    0.0030501     0.0085     0.011     83.57     73.95      0.58\n",
      "  ALP1  0.0343966     0.0004     0.003    235.21    234.50     0.012\n",
      "  2Q1   0.0357064     0.0005     0.004    204.37    228.59     0.017\n",
      "  SIG1  0.0359087     0.0004     0.003    267.13    259.04     0.018\n",
      "  Q1    0.0372185     0.0025     0.004     13.38    113.19      0.33\n",
      "  RHO1  0.0374209     0.0012     0.004    339.68    177.46     0.097\n",
      "* O1    0.0387307     0.0080     0.005    165.82     36.46       2.5\n",
      "  TAU1  0.0389588     0.0012     0.003    220.57    169.19      0.13\n",
      "  BET1  0.0400404     0.0010     0.004    215.34    186.92      0.07\n",
      "  NO1   0.0402686     0.0040     0.005    211.34     79.64      0.69\n",
      "  CHI1  0.0404710     0.0007     0.004    182.62    201.48     0.043\n",
      "  PI1   0.0414385     0.0050     0.005    100.60     59.29         1\n",
      "* P1    0.0415526     0.0245     0.006      9.63     13.69        19\n",
      "  S1    0.0416667     0.0034     0.005    261.57     84.49      0.56\n",
      "* K1    0.0417807     0.0472     0.005    341.75      5.95        82\n",
      "* PSI1  0.0418948     0.0135     0.005    239.98     21.21       6.9\n",
      "  PHI1  0.0420089     0.0010     0.003    355.02    207.41     0.088\n",
      "  THE1  0.0430905     0.0010     0.004     44.20    200.29     0.087\n",
      "  J1    0.0432929     0.0048     0.005    158.97     67.32         1\n",
      "  SO1   0.0446027     0.0001     0.003    130.86    256.70   0.00064\n",
      "  OO1   0.0448308     0.0010     0.004    263.61    203.97     0.064\n",
      "  UPS1  0.0463430     0.0004     0.003     16.31    250.25     0.012\n",
      "  OQ2   0.0759749     0.0077     0.054    101.98    263.90     0.021\n",
      "  EPS2  0.0761773     0.0174     0.053    128.01    174.43      0.11\n",
      "  2N2   0.0774871     0.0226     0.055    279.18    155.65      0.17\n",
      "  MU2   0.0776895     0.0231     0.061    307.81    163.02      0.14\n",
      "  N2    0.0789992     0.0881     0.080     42.68     51.97       1.2\n",
      "  NU2   0.0792016     0.0237     0.057    358.59    159.03      0.17\n",
      "* GAM2  0.0803090     0.1114     0.078    154.89     43.83       2.1\n",
      "* H1    0.0803973     0.2172     0.082    265.59     23.94         7\n",
      "* M2    0.0805114     0.9434     0.071    225.72      4.99   1.8e+02\n",
      "* H2    0.0806255     0.2619     0.072    181.45     17.55        13\n",
      "  MKS2  0.0807396     0.0138     0.064    142.55    200.46     0.046\n",
      "  LDA2  0.0818212     0.0175     0.057    134.58    194.54     0.093\n",
      "  L2    0.0820236     0.0188     0.060    186.82    168.03     0.099\n",
      "  T2    0.0832193     0.0192     0.056    214.67    176.35      0.12\n",
      "* S2    0.0833333     0.3145     0.093    159.69     15.58        12\n",
      "  R2    0.0834474     0.0393     0.065    177.15    106.28      0.37\n",
      "  K2    0.0835615     0.0651     0.075    305.47     66.92      0.75\n",
      "  MSN2  0.0848455     0.0110     0.060    171.26    234.04     0.034\n",
      "  ETA2  0.0850736     0.0060     0.058    323.89    249.53      0.01\n",
      "  MO3   0.1192421     0.0007     0.001    310.78    144.19      0.26\n",
      "* M3    0.1207671     0.0023     0.002    330.91     45.41       2.3\n",
      "  SO3   0.1220640     0.0015     0.002    238.94     66.55      0.82\n",
      "* MK3   0.1222921     0.0034     0.002    307.99     28.85       4.5\n",
      "* SK3   0.1251141     0.0037     0.002    320.95     25.12       4.7\n",
      "* MN4   0.1595106     0.0153     0.006    312.88     17.00       7.1\n",
      "* M4    0.1610228     0.0394     0.005    176.28      8.01        68\n",
      "  SN4   0.1623326     0.0042     0.005     33.70     70.53       0.8\n",
      "* MS4   0.1638447     0.0270     0.005    135.20      9.74        28\n",
      "* MK4   0.1640729     0.0061     0.004    322.12     41.16         2\n",
      "  S4    0.1666667     0.0020     0.004     75.07    125.46      0.26\n",
      "  SK4   0.1668948     0.0005     0.004     21.76    255.46     0.016\n",
      "  2MK5  0.2028035     0.0011     0.001    265.59     46.44       1.6\n",
      "  2SK5  0.2084474     0.0008     0.001     62.31     67.67      0.78\n",
      "  2MN6  0.2400221     0.0013     0.001    127.91     57.94      0.92\n",
      "* M6    0.2415342     0.0031     0.001    304.27     24.10       7.8\n",
      "* 2MS6  0.2443561     0.0054     0.001    232.23     12.28        18\n",
      "* 2MK6  0.2445843     0.0019     0.001     41.34     37.91       2.1\n",
      "* 2SM6  0.2471781     0.0017     0.001    163.07     44.16       2.1\n",
      "  MSK6  0.2474062     0.0010     0.001    331.12     71.48      0.65\n",
      "* 3MK7  0.2833149     0.0008     0.000     79.53     31.71       3.1\n",
      "* M8    0.3220456     0.0039     0.000    308.73      5.82        90\n"
     ]
    },
    {
     "name": "stdout",
     "output_type": "stream",
     "text": [
      "-----------------------------------\n",
      "nobs = 60976 \n",
      "ngood = 60975 \n",
      "record length (days) = 2540.67\n",
      "rayleigh criterion = 1.0\n",
      "\n",
      "Phases at central time\n",
      "x0= 0.0335  xtrend= 0\n",
      "var(data)= 1.34    var(prediction)= 0.64    var(residual)= 0.70\n",
      "var(prediction)/var(data) (%) = 47.8\n",
      "\n",
      "        tidal amplitude and phase with 95 % CI estimates\n",
      " tide      freq        amp      amp_err   pha      pha_err    snr\n",
      "* SA    0.0001141     0.0745     0.012     67.49      8.71        37\n",
      "* SSA   0.0002282     0.0554     0.013    293.22     11.40        19\n",
      "  MSM   0.0013098     0.0017     0.009    333.39    219.28     0.034\n",
      "  MM    0.0015122     0.0035     0.009    299.90    155.06      0.15\n",
      "* MSF   0.0028219     0.0183     0.010    230.15     35.41       3.1\n",
      "  MF    0.0030501     0.0095     0.010    326.26     68.14      0.88\n",
      "  ALP1  0.0343966     0.0002     0.003    342.41    272.22    0.0029\n",
      "  2Q1   0.0357064     0.0006     0.003     88.16    226.47     0.047\n",
      "  SIG1  0.0359087     0.0005     0.003    136.36    213.43     0.026\n",
      "  Q1    0.0372185     0.0026     0.004     15.45    107.55      0.49\n",
      "  RHO1  0.0374209     0.0014     0.003     27.00    151.13      0.18\n",
      "* O1    0.0387307     0.0088     0.004    277.95     33.74       4.6\n",
      "  TAU1  0.0389588     0.0007     0.003    346.38    207.61     0.059\n",
      "  BET1  0.0400404     0.0011     0.003     75.37    149.87      0.15\n",
      "  NO1   0.0402686     0.0042     0.004     83.94     58.74       1.4\n",
      "  CHI1  0.0404710     0.0009     0.003    102.46    184.44     0.081\n",
      "  PI1   0.0414385     0.0043     0.004    277.98     55.37       1.2\n",
      "* P1    0.0415526     0.0259     0.004     12.44      9.63        33\n",
      "  S1    0.0416667     0.0050     0.004     88.79     46.21       1.4\n",
      "* K1    0.0417807     0.0555     0.004    344.67      4.35   1.6e+02\n",
      "* PSI1  0.0418948     0.0113     0.005     60.21     24.07       6.1\n",
      "  PHI1  0.0420089     0.0009     0.003    358.95    189.93     0.067\n",
      "  THE1  0.0430905     0.0007     0.003    178.30    194.37     0.064\n",
      "  J1    0.0432929     0.0054     0.005    295.59     46.37       1.4\n",
      "  SO1   0.0446027     0.0006     0.003    272.26    208.77     0.045\n",
      "  OO1   0.0448308     0.0005     0.003     89.32    215.25     0.026\n",
      "  UPS1  0.0463430     0.0005     0.003      6.07    232.17     0.021\n",
      "  OQ2   0.0759749     0.0069     0.050    183.63    216.41     0.019\n",
      "  EPS2  0.0761773     0.0173     0.053    251.87    182.12      0.11\n",
      "  2N2   0.0774871     0.0240     0.056    134.51    140.04      0.18\n",
      "  MU2   0.0776895     0.0257     0.055    194.78    141.71      0.22\n",
      "* N2    0.0789992     0.1212     0.075     42.30     45.80       2.6\n",
      "  NU2   0.0792016     0.0289     0.055     38.69    143.28      0.28\n",
      "  GAM2  0.0803090     0.0947     0.069    246.80     41.91       1.9\n",
      "* H1    0.0803973     0.1912     0.073    214.27     23.19         7\n",
      "* M2    0.0805114     1.0306     0.070    353.79      4.21   2.2e+02\n",
      "* H2    0.0806255     0.2243     0.066    131.58     19.23        12\n",
      "  MKS2  0.0807396     0.0114     0.052    273.91    210.78     0.049\n",
      "  LDA2  0.0818212     0.0163     0.054      2.12    186.89     0.093\n",
      "  L2    0.0820236     0.0216     0.052     82.93    189.98      0.17\n",
      "  T2    0.0832193     0.0207     0.059     32.92    183.15      0.12\n",
      "* S2    0.0833333     0.3201     0.071    165.62     14.28        20\n",
      "  R2    0.0834474     0.0329     0.061    356.71    115.64      0.29\n",
      "  K2    0.0835615     0.0658     0.065    313.10     66.98         1\n",
      "  MSN2  0.0848455     0.0106     0.057    297.56    209.33     0.035\n",
      "  ETA2  0.0850736     0.0045     0.052     97.74    248.55    0.0076\n",
      "  MO3   0.1192421     0.0007     0.001    209.81    129.98      0.36\n",
      "* M3    0.1207671     0.0030     0.002    344.72     31.38       3.9\n",
      "  SO3   0.1220640     0.0017     0.002    359.80     50.00       1.1\n",
      "* MK3   0.1222921     0.0035     0.002     76.49     25.98       5.3\n",
      "* SK3   0.1251141     0.0045     0.002    323.59     18.61       8.1\n",
      "* MN4   0.1595106     0.0165     0.004     88.03     15.30        16\n",
      "* M4    0.1610228     0.0431     0.004     70.13      6.13   1.1e+02\n",
      "  SN4   0.1623326     0.0052     0.005     20.21     49.70       1.2\n",
      "* MS4   0.1638447     0.0297     0.005    265.07      7.34        42\n",
      "* MK4   0.1640729     0.0066     0.004     84.24     39.92       2.9\n",
      "  S4    0.1666667     0.0026     0.004     98.62     90.16      0.42\n",
      "  SK4   0.1668948     0.0005     0.003    341.71    208.05      0.03\n",
      "* 2MK5  0.2028035     0.0015     0.001    179.69     33.61       2.6\n",
      "  2SK5  0.2084474     0.0007     0.001     53.23     69.78      0.59\n",
      "  2MN6  0.2400221     0.0015     0.001     22.60     54.80       1.5\n",
      "* M6    0.2415342     0.0026     0.001    323.15     27.63       3.4\n",
      "* 2MS6  0.2443561     0.0056     0.001    126.81     12.30        24\n",
      "  2MK6  0.2445843     0.0018     0.001    292.97     43.76       1.9\n",
      "* 2SM6  0.2471781     0.0022     0.001    298.54     31.75       3.5\n",
      "  MSK6  0.2474062     0.0012     0.001    106.38     67.61      0.85\n",
      "* 3MK7  0.2833149     0.0009     0.000    102.15     29.27       4.3\n",
      "* M8    0.3220456     0.0046     0.000    110.58      5.25   1.1e+02\n",
      "-----------------------------------\n",
      "nobs = 69203 \n",
      "ngood = 69203 \n",
      "record length (days) = 2883.46\n",
      "rayleigh criterion = 1.0\n",
      "\n",
      "Phases at central time\n",
      "x0= 0.0304  xtrend= 0\n",
      "var(data)= 1.34    var(prediction)= 0.64    var(residual)= 0.70\n",
      "var(prediction)/var(data) (%) = 47.8\n",
      "\n",
      "        tidal amplitude and phase with 95 % CI estimates\n",
      " tide      freq        amp      amp_err   pha      pha_err    snr\n",
      "* SA    0.0001141     0.0764     0.012    255.27      8.47        39\n",
      "* SSA   0.0002282     0.0553     0.011    314.55     11.07        26\n",
      "  MSM   0.0013098     0.0015     0.007    188.86    210.60     0.044\n",
      "  MM    0.0015122     0.0063     0.009    227.17    107.34      0.46\n",
      "* MSF   0.0028219     0.0183     0.010     12.24     37.39       3.1\n",
      "  MF    0.0030501     0.0090     0.009    137.36     79.97      0.92\n",
      "  ALP1  0.0343966     0.0003     0.002    258.73    229.11     0.015\n",
      "  2Q1   0.0357064     0.0005     0.002     88.24    218.45     0.053\n",
      "  SIG1  0.0359087     0.0005     0.002    250.13    196.88      0.06\n",
      "  Q1    0.0372185     0.0026     0.003    342.82     84.61      0.73\n",
      "  RHO1  0.0374209     0.0012     0.003     48.89    148.06       0.2\n",
      "* O1    0.0387307     0.0079     0.003    165.75     23.50       5.6\n",
      "  TAU1  0.0389588     0.0013     0.002    227.02    148.03       0.3\n",
      "  BET1  0.0400404     0.0012     0.003    181.22    131.99      0.18\n",
      "  NO1   0.0402686     0.0036     0.003    206.46     55.70       1.2\n",
      "  CHI1  0.0404710     0.0009     0.003    289.42    165.94      0.11\n",
      "* PI1   0.0414385     0.0050     0.003     97.54     38.27       2.5\n",
      "* P1    0.0415526     0.0272     0.004     22.88      7.07        59\n",
      "* S1    0.0416667     0.0070     0.003    336.32     30.43       5.1\n",
      "* K1    0.0417807     0.0543     0.003     17.82      3.23   2.6e+02\n",
      "  PSI1  0.0418948     0.0039     0.004    264.18     52.37         1\n",
      "  PHI1  0.0420089     0.0025     0.003    160.71     82.93      0.59\n",
      "  THE1  0.0430905     0.0010     0.002     63.45    173.54      0.18\n",
      "  J1    0.0432929     0.0051     0.004    253.50     38.22       1.8\n",
      "  SO1   0.0446027     0.0008     0.002    138.70    186.72      0.15\n",
      "  OO1   0.0448308     0.0009     0.002    211.72    153.69      0.16\n",
      "  UPS1  0.0463430     0.0008     0.002    145.33    179.09      0.15\n",
      "  OQ2   0.0759749     0.0069     0.048      6.60    233.95     0.021\n",
      "  EPS2  0.0761773     0.0180     0.048    101.83    159.63      0.14\n",
      "  2N2   0.0774871     0.0210     0.051    202.78    170.36      0.17\n",
      "  MU2   0.0776895     0.0245     0.046    331.72    146.35      0.29\n",
      "* N2    0.0789992     0.1383     0.054     38.81     23.53       6.5\n",
      "  NU2   0.0792016     0.0147     0.048    109.90    210.31     0.093\n",
      "* GAM2  0.0803090     0.0934     0.061    105.86     39.52       2.4\n",
      "* H1    0.0803973     0.1270     0.072    295.72     29.58       3.1\n",
      "* M2    0.0805114     1.0408     0.064    277.10      3.55   2.6e+02\n",
      "* H2    0.0806255     0.2630     0.068    246.46     14.50        15\n",
      "  MKS2  0.0807396     0.0189     0.045    327.28    141.59      0.18\n",
      "  LDA2  0.0818212     0.0088     0.043    120.80    235.21     0.042\n",
      "  L2    0.0820236     0.0219     0.055    300.33    133.58      0.16\n",
      "  T2    0.0832193     0.0500     0.058    228.20     72.29      0.74\n",
      "* S2    0.0833333     0.2768     0.061    223.66     12.90        20\n",
      "  R2    0.0834474     0.0403     0.052    292.22     85.12      0.61\n",
      "  K2    0.0835615     0.0591     0.058     28.67     70.22       1.1\n",
      "  MSN2  0.0848455     0.0113     0.046    256.65    203.68     0.062\n",
      "  ETA2  0.0850736     0.0067     0.042    105.61    227.02     0.026\n",
      "  MO3   0.1192421     0.0005     0.001    315.23    145.72      0.22\n",
      "* M3    0.1207671     0.0031     0.001     32.80     23.24       6.3\n",
      "  SO3   0.1220640     0.0016     0.001    286.73     47.59       1.5\n",
      "* MK3   0.1222921     0.0038     0.001     35.63     20.62       9.4\n",
      "* SK3   0.1251141     0.0038     0.002     78.50     19.85       6.1\n",
      "* MN4   0.1595106     0.0158     0.004     15.34     14.54        17\n",
      "* M4    0.1610228     0.0409     0.004    273.79      5.19   1.2e+02\n",
      "  SN4   0.1623326     0.0047     0.003     71.99     53.42       1.8\n",
      "* MS4   0.1638447     0.0280     0.004    238.19      7.85        47\n",
      "* MK4   0.1640729     0.0064     0.004     75.77     34.38       2.6\n",
      "  S4    0.1666667     0.0029     0.004    233.59     81.11      0.55\n",
      "  SK4   0.1668948     0.0006     0.003    105.22    178.10     0.056\n",
      "* 2MK5  0.2028035     0.0015     0.001     65.79     27.60       3.8\n",
      "  2SK5  0.2084474     0.0004     0.001    218.35    112.91      0.42\n",
      "  2MN6  0.2400221     0.0014     0.001    220.34     51.65       1.3\n",
      "* M6    0.2415342     0.0027     0.001     82.84     25.83         4\n",
      "* 2MS6  0.2443561     0.0058     0.001     22.44     12.43        24\n",
      "* 2MK6  0.2445843     0.0015     0.001    215.47     51.99       2.2\n",
      "* 2SM6  0.2471781     0.0020     0.001    343.97     40.45       3.2\n",
      "  MSK6  0.2474062     0.0013     0.001    178.31     53.76       1.7\n",
      "* 3MK7  0.2833149     0.0009     0.000    273.71     25.24       5.1\n",
      "* M8    0.3220456     0.0041     0.000    144.32      6.37        88\n"
     ]
    },
    {
     "name": "stdout",
     "output_type": "stream",
     "text": [
      "-----------------------------------\n",
      "nobs = 77963 \n",
      "ngood = 77963 \n",
      "record length (days) = 3248.46\n",
      "rayleigh criterion = 1.0\n",
      "\n",
      "Phases at central time\n",
      "x0= 0.0271  xtrend= 0\n",
      "var(data)= 1.33    var(prediction)= 0.62    var(residual)= 0.71\n",
      "var(prediction)/var(data) (%) = 46.6\n",
      "\n",
      "        tidal amplitude and phase with 95 % CI estimates\n",
      " tide      freq        amp      amp_err   pha      pha_err    snr\n",
      "* SA    0.0001141     0.0773     0.010     72.67      7.77        57\n",
      "* SSA   0.0002282     0.0539     0.010    307.17      9.87        30\n",
      "  MSM   0.0013098     0.0012     0.007    270.66    258.29     0.028\n",
      "  MM    0.0015122     0.0074     0.009     17.86     81.81      0.63\n",
      "* MSF   0.0028219     0.0148     0.010    244.12     40.46       2.4\n",
      "  MF    0.0030501     0.0078     0.008     34.45     82.74      0.94\n",
      "  ALP1  0.0343966     0.0005     0.002     35.62    211.51     0.043\n",
      "  2Q1   0.0357064     0.0003     0.002    335.75    212.94     0.022\n",
      "  SIG1  0.0359087     0.0008     0.002    150.87    189.38      0.12\n",
      "  Q1    0.0372185     0.0027     0.003    347.96     82.72      0.84\n",
      "  RHO1  0.0374209     0.0009     0.003     78.82    170.68      0.13\n",
      "* O1    0.0387307     0.0073     0.003    320.62     28.52       4.6\n",
      "  TAU1  0.0389588     0.0016     0.002      0.39    118.07      0.44\n",
      "  BET1  0.0400404     0.0013     0.003     28.24    134.43      0.26\n",
      "  NO1   0.0402686     0.0026     0.003     55.00     66.46      0.72\n",
      "  CHI1  0.0404710     0.0005     0.002    229.55    186.48     0.062\n",
      "* PI1   0.0414385     0.0042     0.003    277.56     45.11       2.2\n",
      "* P1    0.0415526     0.0273     0.004     17.68      7.36        60\n",
      "* S1    0.0416667     0.0063     0.003    136.06     31.23         4\n",
      "* K1    0.0417807     0.0519     0.003      3.55      4.19   2.3e+02\n",
      "  PSI1  0.0418948     0.0039     0.004     83.17     55.96       1.2\n",
      "  PHI1  0.0420089     0.0021     0.003    163.36     87.02       0.6\n",
      "  THE1  0.0430905     0.0014     0.003    167.34    136.26      0.27\n",
      "* J1    0.0432929     0.0050     0.003     26.33     33.88       2.3\n",
      "  SO1   0.0446027     0.0011     0.003     17.52    160.71      0.16\n",
      "  OO1   0.0448308     0.0019     0.003     72.13     91.22      0.42\n",
      "  UPS1  0.0463430     0.0010     0.003    148.70    147.25      0.15\n",
      "  OQ2   0.0759749     0.0053     0.041     80.88    256.97     0.016\n",
      "  EPS2  0.0761773     0.0146     0.044    220.03    156.83      0.11\n",
      "  2N2   0.0774871     0.0201     0.046     45.80    130.60      0.19\n",
      "  MU2   0.0776895     0.0204     0.045    216.14    132.28       0.2\n",
      "* N2    0.0789992     0.1560     0.053     35.16     21.09       8.8\n",
      "  NU2   0.0792016     0.0220     0.043    158.05    149.19      0.26\n",
      "  GAM2  0.0803090     0.0718     0.058    201.73     47.73       1.6\n",
      "* H1    0.0803973     0.1111     0.065    245.77     27.74       2.9\n",
      "* M2    0.0805114     1.0464     0.061     53.54      2.87     3e+02\n",
      "* H2    0.0806255     0.2323     0.060    196.84     12.28        15\n",
      "  MKS2  0.0807396     0.0179     0.044    102.09    130.71      0.17\n",
      "  LDA2  0.0818212     0.0043     0.041     26.07    264.91     0.011\n",
      "  L2    0.0820236     0.0201     0.042    208.05    143.63      0.23\n",
      "  T2    0.0832193     0.0423     0.044     43.72     77.44      0.92\n",
      "* S2    0.0833333     0.2259     0.053    213.62     14.90        18\n",
      "  R2    0.0834474     0.0356     0.045    114.86     85.28      0.64\n",
      "  K2    0.0835615     0.0437     0.050     20.25     67.06      0.77\n",
      "  MSN2  0.0848455     0.0106     0.037     25.20    173.41     0.081\n",
      "  ETA2  0.0850736     0.0065     0.038    252.17    214.42      0.03\n",
      "  MO3   0.1192421     0.0003     0.001    171.76    172.33     0.096\n",
      "* M3    0.1207671     0.0029     0.001     29.99     27.81       4.7\n",
      "* SO3   0.1220640     0.0018     0.001     54.18     38.98       2.2\n",
      "* MK3   0.1222921     0.0036     0.001    158.30     20.00       8.5\n",
      "* SK3   0.1251141     0.0032     0.001     96.38     22.40       7.3\n",
      "* MN4   0.1595106     0.0147     0.004    151.43     12.31        11\n",
      "* M4    0.1610228     0.0373     0.004    184.49      5.94        82\n",
      "  SN4   0.1623326     0.0026     0.003     50.89     93.64      0.63\n",
      "* MS4   0.1638447     0.0253     0.004    357.03      8.32        43\n",
      "  MK4   0.1640729     0.0049     0.004    194.36     51.90       1.8\n",
      "  S4    0.1666667     0.0031     0.003    249.06     79.22       0.8\n",
      "  SK4   0.1668948     0.0011     0.003    113.33    173.39      0.18\n",
      "* 2MK5  0.2028035     0.0018     0.001    332.42     24.56       9.1\n",
      "  2SK5  0.2084474     0.0004     0.001    199.45    101.59      0.44\n",
      "  2MN6  0.2400221     0.0013     0.001    129.20     56.05      0.93\n",
      "* M6    0.2415342     0.0023     0.001    109.93     30.15         4\n",
      "* 2MS6  0.2443561     0.0057     0.001    277.32     13.50        23\n",
      "  2MK6  0.2445843     0.0012     0.001     96.16     60.01         1\n",
      "* 2SM6  0.2471781     0.0019     0.001    124.97     40.99       2.4\n",
      "  MSK6  0.2474062     0.0014     0.001    319.32     61.06       1.6\n",
      "* 3MK7  0.2833149     0.0010     0.001    310.72      2.46       3.8\n",
      "* M8    0.3220456     0.0033     0.000    287.17      6.56        71\n",
      "-----------------------------------\n",
      "nobs = 86628 \n",
      "ngood = 86627 \n",
      "record length (days) = 3609.50\n",
      "rayleigh criterion = 1.0\n",
      "\n",
      "Phases at central time\n",
      "x0= 0.0323  xtrend= 0\n",
      "var(data)= 1.33    var(prediction)= 0.55    var(residual)= 0.78\n",
      "var(prediction)/var(data) (%) = 41.1\n",
      "\n",
      "        tidal amplitude and phase with 95 % CI estimates\n",
      " tide      freq        amp      amp_err   pha      pha_err    snr\n",
      "* SA    0.0001141     0.0790     0.011    255.65      6.62        48\n",
      "* SSA   0.0002282     0.0520     0.009    306.45      9.80        31\n",
      "  MSM   0.0013098     0.0015     0.006     86.93    197.79     0.068\n",
      "  MM    0.0015122     0.0094     0.009    180.89     58.18       1.1\n",
      "  MSF   0.0028219     0.0121     0.009    168.55     44.88       1.6\n",
      "  MF    0.0030501     0.0090     0.008    334.83     61.29       1.3\n",
      "  ALP1  0.0343966     0.0006     0.002     20.98    225.76     0.052\n",
      "  2Q1   0.0357064     0.0002     0.002    120.85    294.58    0.0042\n",
      "  SIG1  0.0359087     0.0007     0.003    295.69    185.94     0.065\n",
      "  Q1    0.0372185     0.0025     0.003    272.47     95.96       0.7\n",
      "  RHO1  0.0374209     0.0011     0.003     30.36    175.19      0.17\n",
      "* O1    0.0387307     0.0066     0.004     55.79     36.12       2.5\n",
      "  TAU1  0.0389588     0.0024     0.003     98.95     82.19      0.58\n",
      "  BET1  0.0400404     0.0009     0.003    212.71    175.44      0.12\n",
      "  NO1   0.0402686     0.0023     0.003    245.69     89.55      0.55\n",
      "  CHI1  0.0404710     0.0006     0.003     73.57    230.31     0.042\n",
      "  PI1   0.0414385     0.0037     0.004    101.80     57.16      0.97\n",
      "* P1    0.0415526     0.0274     0.004     13.52      6.85        55\n",
      "* S1    0.0416667     0.0060     0.004    303.64     32.76       2.5\n",
      "* K1    0.0417807     0.0530     0.004    353.28      4.03   2.2e+02\n",
      "  PSI1  0.0418948     0.0037     0.003    273.97     54.51       1.1\n",
      "  PHI1  0.0420089     0.0018     0.003    174.63    120.46      0.31\n",
      "  THE1  0.0430905     0.0009     0.003    284.96    171.20      0.11\n",
      "  J1    0.0432929     0.0053     0.004    180.84     37.33       1.9\n",
      "  SO1   0.0446027     0.0016     0.003    305.58    124.42      0.24\n",
      "  OO1   0.0448308     0.0024     0.003    341.64     84.21      0.64\n",
      "  UPS1  0.0463430     0.0008     0.002    212.84    174.38      0.12\n",
      "  OQ2   0.0759749     0.0039     0.031     16.85    277.54     0.016\n",
      "  EPS2  0.0761773     0.0112     0.034    206.75    202.90      0.11\n",
      "  2N2   0.0774871     0.0178     0.035    156.42    153.47      0.26\n",
      "  MU2   0.0776895     0.0171     0.036      9.21    125.15      0.23\n",
      "* N2    0.0789992     0.1567     0.050    313.92     17.82       9.9\n",
      "  NU2   0.0792016     0.0190     0.040     88.64    128.52      0.23\n",
      "* GAM2  0.0803090     0.0728     0.046    187.69     41.99       2.5\n",
      "* H1    0.0803973     0.1010     0.055    108.73     28.01       3.3\n",
      "* M2    0.0805114     0.9921     0.053    139.11      2.97   3.5e+02\n",
      "* H2    0.0806255     0.1523     0.055    109.38     17.17       7.6\n",
      "  MKS2  0.0807396     0.0577     0.048    188.23     52.75       1.4\n",
      "  LDA2  0.0818212     0.0032     0.035    163.93    230.15    0.0085\n",
      "  L2    0.0820236     0.0216     0.034     83.21    126.20      0.39\n",
      "  T2    0.0832193     0.0401     0.042    227.62     67.44      0.91\n",
      "* S2    0.0833333     0.2009     0.044    202.99     14.31        21\n",
      "  R2    0.0834474     0.0276     0.046    290.96     91.80      0.37\n",
      "  K2    0.0835615     0.0337     0.035     13.21     89.70      0.94\n",
      "  MSN2  0.0848455     0.0097     0.031    183.03    170.30     0.096\n",
      "  ETA2  0.0850736     0.0076     0.034     53.74    225.88     0.052\n",
      "  MO3   0.1192421     0.0001     0.001     88.72    246.05    0.0098\n",
      "* M3    0.1207671     0.0026     0.001    325.19     22.59       5.5\n",
      "* SO3   0.1220640     0.0018     0.001    138.84     34.13       2.4\n",
      "* MK3   0.1222921     0.0033     0.001    234.88     20.10       6.7\n",
      "* SK3   0.1251141     0.0030     0.001    123.22     23.00         6\n",
      "* MN4   0.1595106     0.0149     0.004    159.69     14.06        13\n",
      "* M4    0.1610228     0.0365     0.004    352.29      6.35        93\n",
      "  SN4   0.1623326     0.0021     0.003    319.15     86.96      0.53\n",
      "* MS4   0.1638447     0.0243     0.003     73.54      7.96        50\n",
      "  MK4   0.1640729     0.0037     0.003    290.90     55.71       1.4\n",
      "  S4    0.1666667     0.0029     0.003    269.47     80.91      0.88\n",
      "  SK4   0.1668948     0.0008     0.003    135.00    175.09     0.097\n",
      "* 2MK5  0.2028035     0.0021     0.001    137.63     23.18         8\n",
      "  2SK5  0.2084474     0.0002     0.001    165.82    190.49      0.12\n",
      "  2MN6  0.2400221     0.0012     0.001    215.73     60.36      0.99\n",
      "* M6    0.2415342     0.0020     0.001    348.41     36.54       3.5\n",
      "* 2MS6  0.2443561     0.0058     0.001     74.06     12.42        18\n",
      "  2MK6  0.2445843     0.0011     0.001    253.78     61.01       1.5\n",
      "* 2SM6  0.2471781     0.0017     0.001    211.34     38.88       2.5\n",
      "  MSK6  0.2474062     0.0014     0.001     45.67     49.28       1.4\n",
      "* 3MK7  0.2833149     0.0011     0.000    203.36     20.19       7.6\n",
      "* M8    0.3220456     0.0030     0.000    242.15      7.09        57\n"
     ]
    },
    {
     "name": "stdout",
     "output_type": "stream",
     "text": [
      "-----------------------------------\n",
      "nobs = 95215 \n",
      "ngood = 95215 \n",
      "record length (days) = 3967.29\n",
      "rayleigh criterion = 1.0\n",
      "\n",
      "Phases at central time\n",
      "x0= 0.0319  xtrend= 0\n",
      "var(data)= 1.33    var(prediction)= 0.44    var(residual)= 0.88\n",
      "var(prediction)/var(data) (%) = 33.5\n",
      "\n",
      "        tidal amplitude and phase with 95 % CI estimates\n",
      " tide      freq        amp      amp_err   pha      pha_err    snr\n",
      "* SA    0.0001141     0.0806     0.009     76.84      6.52        77\n",
      "* SSA   0.0002282     0.0517     0.009    310.09      9.58        30\n",
      "  MSM   0.0013098     0.0012     0.006    256.57    203.49     0.042\n",
      "  MM    0.0015122     0.0109     0.009      4.23     50.05       1.4\n",
      "* MSF   0.0028219     0.0122     0.008    128.64     45.92       2.2\n",
      "  MF    0.0030501     0.0090     0.008    294.06     59.70       1.2\n",
      "  ALP1  0.0343966     0.0005     0.003    132.01    211.16     0.024\n",
      "  2Q1   0.0357064     0.0003     0.002    312.20    249.24     0.013\n",
      "  SIG1  0.0359087     0.0008     0.003    220.34    185.00      0.09\n",
      "  Q1    0.0372185     0.0023     0.004    340.96     98.59       0.4\n",
      "  RHO1  0.0374209     0.0010     0.003    156.18    177.50      0.11\n",
      "* O1    0.0387307     0.0061     0.004    298.28     38.07       2.8\n",
      "  TAU1  0.0389588     0.0024     0.003    345.85     79.85      0.47\n",
      "  BET1  0.0400404     0.0009     0.003    246.08    185.75      0.13\n",
      "  NO1   0.0402686     0.0024     0.003    285.60     99.55      0.53\n",
      "  CHI1  0.0404710     0.0005     0.003    199.79    195.26     0.032\n",
      "  PI1   0.0414385     0.0022     0.003    157.97    105.99       0.5\n",
      "* P1    0.0415526     0.0270     0.004    223.35      8.12        44\n",
      "* S1    0.0416667     0.0067     0.004    301.42     33.99       2.5\n",
      "* K1    0.0417807     0.0560     0.004    206.03      3.92   2.2e+02\n",
      "* PSI1  0.0418948     0.0081     0.004    349.80     25.95       4.4\n",
      "  PHI1  0.0420089     0.0018     0.003     41.40    118.69       0.3\n",
      "  THE1  0.0430905     0.0019     0.003    291.93    136.92       0.3\n",
      "* J1    0.0432929     0.0061     0.004    213.96     38.42       2.1\n",
      "  SO1   0.0446027     0.0015     0.003    104.36    140.42      0.22\n",
      "  OO1   0.0448308     0.0028     0.004    145.94     93.77      0.57\n",
      "  UPS1  0.0463430     0.0010     0.003    228.48    175.64      0.12\n",
      "  OQ2   0.0759749     0.0053     0.034    303.51    244.30     0.023\n",
      "  EPS2  0.0761773     0.0094     0.034    192.08    178.22     0.074\n",
      "  2N2   0.0774871     0.0135     0.040    256.69    173.17      0.11\n",
      "  MU2   0.0776895     0.0136     0.035    176.92    183.11      0.15\n",
      "* N2    0.0789992     0.1248     0.047    241.12     24.72         7\n",
      "  NU2   0.0792016     0.0084     0.034     54.98    219.88     0.062\n",
      "* GAM2  0.0803090     0.0832     0.054    256.07     34.84       2.3\n",
      "  H1    0.0803973     0.0393     0.046     73.32     79.07      0.74\n",
      "* M2    0.0805114     0.8887     0.050    245.74      3.66   3.2e+02\n",
      "* H2    0.0806255     0.1773     0.056     10.90     17.63       9.9\n",
      "  MKS2  0.0807396     0.0487     0.047    301.11     54.79       1.1\n",
      "  LDA2  0.0818212     0.0017     0.034    145.65    255.85    0.0024\n",
      "  L2    0.0820236     0.0159     0.034     17.08    162.18      0.22\n",
      "  T2    0.0832193     0.0218     0.041     78.48    123.20      0.29\n",
      "* S2    0.0833333     0.1843     0.051    262.42     15.59        13\n",
      "  R2    0.0834474     0.0386     0.052    116.84     79.30      0.56\n",
      "  K2    0.0835615     0.0326     0.045     83.50     99.64      0.53\n",
      "  MSN2  0.0848455     0.0069     0.040     58.19    213.05      0.03\n",
      "  ETA2  0.0850736     0.0072     0.037    288.31    224.20     0.037\n",
      "  MO3   0.1192421     0.0005     0.001     95.00    125.50      0.27\n",
      "* M3    0.1207671     0.0023     0.001    125.22     28.23       5.2\n",
      "  SO3   0.1220640     0.0014     0.001     95.13     44.56       1.5\n",
      "* MK3   0.1222921     0.0033     0.001    200.66     19.99       7.2\n",
      "* SK3   0.1251141     0.0030     0.001     43.56     23.20       6.3\n",
      "* MN4   0.1595106     0.0135     0.003    183.19     15.63        17\n",
      "* M4    0.1610228     0.0355     0.004    198.54      5.36        91\n",
      "  SN4   0.1623326     0.0019     0.003    320.61     97.26      0.54\n",
      "* MS4   0.1638447     0.0209     0.003    244.41     11.49        37\n",
      "  MK4   0.1640729     0.0045     0.004    105.88     46.35       1.6\n",
      "  S4    0.1666667     0.0026     0.004     45.63     87.26      0.53\n",
      "  SK4   0.1668948     0.0009     0.002    262.21    178.62      0.14\n",
      "* 2MK5  0.2028035     0.0018     0.001    187.92     23.67       7.1\n",
      "  2SK5  0.2084474     0.0004     0.001     99.43     99.11      0.36\n",
      "  2MN6  0.2400221     0.0010     0.001    336.41     66.58      0.97\n",
      "* M6    0.2415342     0.0019     0.001    293.61     36.55       2.4\n",
      "* 2MS6  0.2443561     0.0051     0.001    335.73     13.63        18\n",
      "  2MK6  0.2445843     0.0009     0.001    167.15     74.08      0.81\n",
      "  2SM6  0.2471781     0.0014     0.001     71.95     44.39       1.3\n",
      "  MSK6  0.2474062     0.0012     0.001    275.59     58.10       1.2\n",
      "* 3MK7  0.2833149     0.0009     0.000      8.84     25.95         5\n",
      "* M8    0.3220456     0.0032     0.000    291.32      6.27        85\n",
      "-----------------------------------\n",
      "nobs = 102771 \n",
      "ngood = 102771 \n",
      "record length (days) = 4282.12\n",
      "rayleigh criterion = 1.0\n",
      "\n",
      "Phases at central time\n",
      "x0= 0.0347  xtrend= 0\n",
      "var(data)= 1.32    var(prediction)= 0.43    var(residual)= 0.89\n",
      "var(prediction)/var(data) (%) = 32.5\n",
      "\n",
      "        tidal amplitude and phase with 95 % CI estimates\n",
      " tide      freq        amp      amp_err   pha      pha_err    snr\n",
      "* SA    0.0001141     0.0807     0.009    275.81      6.03        82\n",
      "* SSA   0.0002282     0.0462     0.008    352.95     10.92        31\n",
      "  MSM   0.0013098     0.0008     0.005    257.52    237.65     0.021\n",
      "  MM    0.0015122     0.0106     0.008    107.86     49.06       1.6\n",
      "  MSF   0.0028219     0.0106     0.008    252.34     48.35       1.7\n",
      "  MF    0.0030501     0.0083     0.007    114.99     58.64       1.3\n",
      "  ALP1  0.0343966     0.0006     0.003    170.96    194.78     0.059\n",
      "  2Q1   0.0357064     0.0003     0.003      7.48    236.47    0.0062\n",
      "  SIG1  0.0359087     0.0008     0.003      5.51    186.19       0.1\n",
      "  Q1    0.0372185     0.0026     0.004    107.22     79.63       0.4\n",
      "  RHO1  0.0374209     0.0012     0.003     49.24    146.59      0.15\n",
      "  O1    0.0387307     0.0049     0.004    163.74     51.72       1.7\n",
      "  TAU1  0.0389588     0.0017     0.003    267.50    142.95      0.29\n",
      "  BET1  0.0400404     0.0016     0.003    126.01    112.43      0.28\n",
      "  NO1   0.0402686     0.0024     0.004    233.98     94.97      0.37\n",
      "  CHI1  0.0404710     0.0004     0.002    236.97    216.62      0.03\n",
      "  PI1   0.0414385     0.0037     0.004    316.41     68.23      0.83\n",
      "* P1    0.0415526     0.0253     0.004    228.44      9.43        34\n",
      "  S1    0.0416667     0.0050     0.004    192.58     48.24       1.9\n",
      "* K1    0.0417807     0.0493     0.004    265.56      4.65   1.4e+02\n",
      "* PSI1  0.0418948     0.0118     0.004    222.00     19.10       9.6\n",
      "  PHI1  0.0420089     0.0028     0.004    144.06     90.60      0.64\n",
      "  THE1  0.0430905     0.0014     0.003      4.42    128.89      0.27\n",
      "  J1    0.0432929     0.0046     0.004      7.15     52.87       1.4\n",
      "  SO1   0.0446027     0.0017     0.003    288.16    144.81      0.32\n",
      "  OO1   0.0448308     0.0021     0.004     14.00    105.08      0.34\n",
      "  UPS1  0.0463430     0.0007     0.003    188.19    205.51     0.073\n",
      "  OQ2   0.0759749     0.0055     0.031    293.82    237.67     0.032\n",
      "  EPS2  0.0761773     0.0086     0.035    279.09    196.21     0.062\n",
      "  2N2   0.0774871     0.0134     0.041    352.63    169.51      0.11\n",
      "  MU2   0.0776895     0.0075     0.032    347.48    224.55     0.054\n",
      "* N2    0.0789992     0.1313     0.052     73.28     20.87       6.4\n",
      "  NU2   0.0792016     0.0195     0.033    355.37    132.54      0.34\n",
      "* GAM2  0.0803090     0.0874     0.048    107.52     34.02       3.3\n",
      "  H1    0.0803973     0.0420     0.044    162.99     63.50      0.91\n",
      "* M2    0.0805114     0.8825     0.050    186.30      3.05   3.2e+02\n",
      "* H2    0.0806255     0.1190     0.053    146.00     22.48         5\n",
      "  MKS2  0.0807396     0.0476     0.052    272.75     59.22      0.84\n",
      "  LDA2  0.0818212     0.0123     0.039    143.38    168.87       0.1\n",
      "  L2    0.0820236     0.0215     0.035    108.00    131.23      0.38\n",
      "  T2    0.0832193     0.0289     0.042    273.94     92.78      0.47\n",
      "* S2    0.0833333     0.1800     0.052    320.07     16.03        12\n",
      "  R2    0.0834474     0.0504     0.047     25.32     56.02       1.1\n",
      "  K2    0.0835615     0.0331     0.042    203.79     78.26      0.63\n",
      "  MSN2  0.0848455     0.0073     0.037    225.31    192.99      0.04\n",
      "  ETA2  0.0850736     0.0042     0.032    141.30    250.83     0.017\n",
      "  MO3   0.1192421     0.0004     0.001    280.97    127.11      0.23\n",
      "* M3    0.1207671     0.0017     0.001     39.88     35.93         2\n",
      "* SO3   0.1220640     0.0015     0.001     38.14     40.41       2.1\n",
      "* MK3   0.1222921     0.0032     0.001    198.49     19.62       9.3\n",
      "* SK3   0.1251141     0.0031     0.001    149.86     20.49       7.9\n",
      "* MN4   0.1595106     0.0137     0.003    320.64     13.16        16\n",
      "* M4    0.1610228     0.0331     0.004     77.70      6.96        86\n",
      "  SN4   0.1623326     0.0022     0.003    209.24     93.07      0.53\n",
      "* MS4   0.1638447     0.0201     0.004    245.51      9.05        33\n",
      "* MK4   0.1640729     0.0050     0.003    150.52     37.25       2.9\n",
      "  S4    0.1666667     0.0024     0.003    157.52     90.88      0.59\n",
      "  SK4   0.1668948     0.0007     0.003     92.20    192.69     0.053\n",
      "* 2MK5  0.2028035     0.0015     0.001    111.20     26.81       4.8\n",
      "  2SK5  0.2084474     0.0004     0.001    283.63    113.50       0.5\n",
      "  2MN6  0.2400221     0.0009     0.001     43.09     64.20      0.94\n",
      "* M6    0.2415342     0.0016     0.001    108.63     36.64       2.2\n",
      "* 2MS6  0.2443561     0.0047     0.001    274.26     12.62        17\n",
      "  2MK6  0.2445843     0.0011     0.001    159.78     61.60       1.2\n",
      "  2SM6  0.2471781     0.0014     0.001    124.93     47.40       1.8\n",
      "  MSK6  0.2474062     0.0010     0.001     21.81     67.34      0.66\n",
      "* 3MK7  0.2833149     0.0008     0.000    225.29     29.29       4.8\n",
      "* M8    0.3220456     0.0032     0.000     39.36      5.50        96\n"
     ]
    },
    {
     "name": "stdout",
     "output_type": "stream",
     "text": [
      "-----------------------------------\n",
      "nobs = 110588 \n",
      "ngood = 110587 \n",
      "record length (days) = 4607.83\n",
      "rayleigh criterion = 1.0\n",
      "\n",
      "Phases at central time\n",
      "x0= 0.035  xtrend= 0\n",
      "var(data)= 1.32    var(prediction)= 0.40    var(residual)= 0.92\n",
      "var(prediction)/var(data) (%) = 30.1\n",
      "\n",
      "        tidal amplitude and phase with 95 % CI estimates\n",
      " tide      freq        amp      amp_err   pha      pha_err    snr\n",
      "* SA    0.0001141     0.0736     0.008    112.67      7.08        75\n",
      "* SSA   0.0002282     0.0410     0.008     30.37     11.35        25\n",
      "  MSM   0.0013098     0.0010     0.005    138.21    239.16     0.035\n",
      "  MM    0.0015122     0.0084     0.008    139.21     56.95         1\n",
      "  MSF   0.0028219     0.0090     0.008    242.79     44.00       1.2\n",
      "  MF    0.0030501     0.0085     0.008    134.99     54.49       1.2\n",
      "  ALP1  0.0343966     0.0009     0.003      7.89    199.60     0.089\n",
      "  2Q1   0.0357064     0.0006     0.003    170.50    244.09     0.033\n",
      "  SIG1  0.0359087     0.0007     0.003    266.61    197.12     0.054\n",
      "  Q1    0.0372185     0.0021     0.004    312.21    122.41      0.35\n",
      "  RHO1  0.0374209     0.0011     0.003    300.73    161.39       0.1\n",
      "  O1    0.0387307     0.0058     0.004     21.44     37.60       1.7\n",
      "  TAU1  0.0389588     0.0018     0.003    166.45    120.55      0.28\n",
      "  BET1  0.0400404     0.0010     0.004    323.11    184.79     0.077\n",
      "  NO1   0.0402686     0.0018     0.003     95.65    147.63      0.29\n",
      "  CHI1  0.0404710     0.0008     0.003    256.47    179.32     0.058\n",
      "  PI1   0.0414385     0.0044     0.004    334.19     55.41       1.3\n",
      "* P1    0.0415526     0.0213     0.005     85.34     12.02        21\n",
      "  S1    0.0416667     0.0051     0.004    273.83     47.29       1.9\n",
      "* K1    0.0417807     0.0490     0.004    166.84      4.79   1.4e+02\n",
      "* PSI1  0.0418948     0.0065     0.004    285.44     42.42       2.4\n",
      "  PHI1  0.0420089     0.0043     0.004     40.39     59.47       1.3\n",
      "  THE1  0.0430905     0.0017     0.003    241.18    125.35      0.27\n",
      "  J1    0.0432929     0.0037     0.004    298.02     67.74       1.1\n",
      "  SO1   0.0446027     0.0015     0.003    156.71    132.78      0.24\n",
      "  OO1   0.0448308     0.0021     0.003    301.66    110.95      0.38\n",
      "  UPS1  0.0463430     0.0011     0.003    145.75    157.15      0.12\n",
      "  OQ2   0.0759749     0.0057     0.038    343.73    239.56     0.022\n",
      "  EPS2  0.0761773     0.0119     0.040     20.83    186.45     0.089\n",
      "  2N2   0.0774871     0.0157     0.040     76.10    153.02      0.15\n",
      "  MU2   0.0776895     0.0056     0.036    113.52    220.55     0.023\n",
      "* N2    0.0789992     0.1095     0.049    167.49     27.24       5.1\n",
      "  NU2   0.0792016     0.0145     0.036    144.65    153.75      0.16\n",
      "* GAM2  0.0803090     0.1258     0.055    155.18     22.28       5.3\n",
      "  H1    0.0803973     0.0339     0.044    110.17     95.07       0.6\n",
      "* M2    0.0805114     0.8541     0.051    315.48      3.61   2.8e+02\n",
      "  H2    0.0806255     0.0508     0.050    131.32     58.80         1\n",
      "  MKS2  0.0807396     0.0455     0.048     97.79     61.42      0.92\n",
      "  LDA2  0.0818212     0.0161     0.039    248.05    143.61      0.17\n",
      "  L2    0.0820236     0.0278     0.047    258.39    106.46      0.35\n",
      "  T2    0.0832193     0.0136     0.037    179.61    186.50      0.14\n",
      "* S2    0.0833333     0.1650     0.045     79.77     18.85        13\n",
      "  R2    0.0834474     0.0647     0.047    348.69     47.87       1.9\n",
      "  K2    0.0835615     0.0382     0.045    357.66     86.91      0.71\n",
      "  MSN2  0.0848455     0.0071     0.032    347.41    213.74     0.049\n",
      "  ETA2  0.0850736     0.0038     0.038    345.55    241.74      0.01\n",
      "  MO3   0.1192421     0.0001     0.001    118.18    247.15     0.024\n",
      "* M3    0.1207671     0.0019     0.001     55.86     31.94         3\n",
      "  SO3   0.1220640     0.0012     0.001     43.12     56.40       1.2\n",
      "* MK3   0.1222921     0.0037     0.001    216.24     17.04       9.8\n",
      "* SK3   0.1251141     0.0032     0.001    172.60     20.48       9.4\n",
      "* MN4   0.1595106     0.0126     0.003    188.48     15.82        14\n",
      "* M4    0.1610228     0.0311     0.003    335.93      7.21        97\n",
      "  SN4   0.1623326     0.0023     0.003     73.96     85.11      0.62\n",
      "* MS4   0.1638447     0.0183     0.004    130.83     12.07        27\n",
      "* MK4   0.1640729     0.0054     0.003     68.42     34.34       2.5\n",
      "  S4    0.1666667     0.0021     0.003     42.11     92.99      0.46\n",
      "  SK4   0.1668948     0.0009     0.003    356.83    181.71       0.1\n",
      "* 2MK5  0.2028035     0.0017     0.001    277.08     23.06       6.5\n",
      "  2SK5  0.2084474     0.0003     0.000     61.94    133.68      0.29\n",
      "  2MN6  0.2400221     0.0009     0.001     35.59     63.57         1\n",
      "  M6    0.2415342     0.0011     0.001    129.76     54.90       1.1\n",
      "* 2MS6  0.2443561     0.0042     0.001    293.72     15.66        16\n",
      "  2MK6  0.2445843     0.0009     0.001    217.01     70.10      0.87\n",
      "  2SM6  0.2471781     0.0012     0.001    140.61     56.88       1.3\n",
      "  MSK6  0.2474062     0.0010     0.001     72.18     57.60       1.2\n",
      "* 3MK7  0.2833149     0.0008     0.000    158.59     22.97       6.4\n",
      "* M8    0.3220456     0.0029     0.000    202.89      7.16        71\n",
      "-----------------------------------\n",
      "nobs = 118941 \n",
      "ngood = 118941 \n",
      "record length (days) = 4955.88\n",
      "rayleigh criterion = 1.0\n",
      "\n",
      "Phases at central time\n",
      "x0= 0.0344  xtrend= 0\n",
      "var(data)= 1.31    var(prediction)= 0.36    var(residual)= 0.96\n",
      "var(prediction)/var(data) (%) = 27.1\n",
      "\n",
      "        tidal amplitude and phase with 95 % CI estimates\n",
      " tide      freq        amp      amp_err   pha      pha_err    snr\n",
      "* SA    0.0001141     0.0652     0.007    294.80      7.38        77\n",
      "* SSA   0.0002282     0.0361     0.009     58.55     13.29        16\n",
      "  MSM   0.0013098     0.0002     0.006    290.81    272.60    0.0017\n",
      "  MM    0.0015122     0.0089     0.007     19.05     54.49       1.6\n",
      "  MSF   0.0028219     0.0080     0.007    307.84     56.15       1.2\n",
      "  MF    0.0030501     0.0092     0.008    222.23     51.61       1.2\n",
      "  ALP1  0.0343966     0.0008     0.003    136.37    206.00     0.079\n",
      "  2Q1   0.0357064     0.0005     0.003    137.89    192.36     0.029\n",
      "  SIG1  0.0359087     0.0007     0.003    285.50    225.20     0.039\n",
      "  Q1    0.0372185     0.0023     0.004    140.46    111.25       0.3\n",
      "  RHO1  0.0374209     0.0013     0.003    200.22    168.05      0.15\n",
      "* O1    0.0387307     0.0068     0.004     93.99     39.26       2.6\n",
      "  TAU1  0.0389588     0.0025     0.004    267.66     85.43      0.37\n",
      "  BET1  0.0400404     0.0011     0.003    234.46    173.14      0.13\n",
      "  NO1   0.0402686     0.0022     0.003     25.86    100.01      0.44\n",
      "  CHI1  0.0404710     0.0006     0.003    205.32    222.42     0.032\n",
      "  PI1   0.0414385     0.0038     0.004    276.24     72.85      0.93\n",
      "* P1    0.0415526     0.0186     0.005    242.08     12.08        16\n",
      "  S1    0.0416667     0.0033     0.004    336.68     77.02      0.55\n",
      "* K1    0.0417807     0.0465     0.004    343.80      4.69   1.1e+02\n",
      "* PSI1  0.0418948     0.0073     0.004    233.50     29.00         3\n",
      "  PHI1  0.0420089     0.0034     0.004    231.46     83.29      0.68\n",
      "  THE1  0.0430905     0.0022     0.003    235.10     91.59      0.45\n",
      "  J1    0.0432929     0.0033     0.004      3.42     81.04      0.79\n",
      "  SO1   0.0446027     0.0015     0.003     65.52    138.71      0.22\n",
      "  OO1   0.0448308     0.0013     0.003    230.75    165.84      0.15\n",
      "  UPS1  0.0463430     0.0008     0.003    294.63    188.86     0.093\n",
      "  OQ2   0.0759749     0.0038     0.035    196.58    241.98     0.011\n",
      "  EPS2  0.0761773     0.0127     0.038    302.78    164.78      0.11\n",
      "  2N2   0.0774871     0.0161     0.032    194.08    160.18      0.26\n",
      "  MU2   0.0776895     0.0048     0.035    301.26    223.03     0.019\n",
      "* N2    0.0789992     0.1087     0.053    179.13     27.14       4.2\n",
      "  NU2   0.0792016     0.0170     0.037    228.21    164.70      0.22\n",
      "* GAM2  0.0803090     0.1277     0.052    338.23     23.54         6\n",
      "* H1    0.0803973     0.0692     0.047    238.49     44.28       2.2\n",
      "* M2    0.0805114     0.8012     0.047    209.18      4.02   2.9e+02\n",
      "  H2    0.0806255     0.0279     0.049    310.49    113.01      0.32\n",
      "* MKS2  0.0807396     0.0628     0.044     18.03     44.90       2.1\n",
      "  LDA2  0.0818212     0.0162     0.039    344.13    140.18      0.17\n",
      "  L2    0.0820236     0.0257     0.038     41.71    124.94      0.45\n",
      "  T2    0.0832193     0.0051     0.032    290.31    238.30     0.026\n",
      "* S2    0.0833333     0.1369     0.050     49.89     22.60       7.5\n",
      "* R2    0.0834474     0.0767     0.053    158.31     39.47       2.1\n",
      "  K2    0.0835615     0.0390     0.043    340.75     70.49      0.83\n",
      "  MSN2  0.0848455     0.0060     0.035    209.03    218.30     0.029\n",
      "  ETA2  0.0850736     0.0055     0.033    234.22    249.88     0.027\n",
      "  MO3   0.1192421     0.0001     0.001    140.45    241.64    0.0098\n",
      "* M3    0.1207671     0.0016     0.001    258.64     36.58         2\n",
      "  SO3   0.1220640     0.0010     0.001    105.73     71.40      0.96\n",
      "* MK3   0.1222921     0.0034     0.001    282.52     20.50        10\n",
      "* SK3   0.1251141     0.0029     0.001    321.55     21.70       7.4\n",
      "* MN4   0.1595106     0.0110     0.004     88.30     18.92       8.7\n",
      "* M4    0.1610228     0.0261     0.003    120.81      8.01        70\n",
      "  SN4   0.1623326     0.0016     0.003     58.86    111.29      0.28\n",
      "* MS4   0.1638447     0.0150     0.004    353.18     13.35        15\n",
      "* MK4   0.1640729     0.0055     0.003    298.71     33.62       2.9\n",
      "  S4    0.1666667     0.0015     0.003    351.15    128.21      0.23\n",
      "  SK4   0.1668948     0.0005     0.002    330.32    200.70     0.047\n",
      "* 2MK5  0.2028035     0.0016     0.001    228.50     21.72       7.2\n",
      "  2SK5  0.2084474     0.0003     0.001    154.93    113.75      0.39\n",
      "  2MN6  0.2400221     0.0008     0.001    189.76     79.69      0.83\n",
      "  M6    0.2415342     0.0006     0.001    178.07     94.55      0.46\n",
      "* 2MS6  0.2443561     0.0039     0.001     50.46     14.09        10\n",
      "  2MK6  0.2445843     0.0009     0.001      0.35     63.04       1.1\n",
      "  2SM6  0.2471781     0.0010     0.001    332.76     53.11      0.98\n",
      "  MSK6  0.2474062     0.0011     0.001    291.02     53.97       1.2\n",
      "* 3MK7  0.2833149     0.0008     0.000     17.46     25.66         4\n",
      "* M8    0.3220456     0.0023     0.000    143.34      6.72        50\n"
     ]
    },
    {
     "name": "stdout",
     "output_type": "stream",
     "text": [
      "-----------------------------------\n",
      "nobs = 127603 \n",
      "ngood = 127603 \n",
      "record length (days) = 5316.79\n",
      "rayleigh criterion = 1.0\n",
      "\n",
      "Phases at central time\n",
      "x0= 0.0306  xtrend= 0\n",
      "var(data)= 1.31    var(prediction)= 0.37    var(residual)= 0.93\n",
      "var(prediction)/var(data) (%) = 28.4\n",
      "\n",
      "        tidal amplitude and phase with 95 % CI estimates\n",
      " tide      freq        amp      amp_err   pha      pha_err    snr\n",
      "* SA    0.0001141     0.0565     0.009    112.96      7.82        43\n",
      "* SSA   0.0002282     0.0322     0.008     69.38     17.81        16\n",
      "  MSM   0.0013098     0.0008     0.006     60.96    232.72      0.02\n",
      "  MM    0.0015122     0.0086     0.008    175.23     57.94       1.1\n",
      "  MSF   0.0028219     0.0084     0.008    240.61     54.49      0.98\n",
      "  MF    0.0030501     0.0083     0.008    154.78     62.36       1.1\n",
      "  ALP1  0.0343966     0.0006     0.003    141.02    199.85     0.051\n",
      "  2Q1   0.0357064     0.0007     0.003    267.67    190.68     0.049\n",
      "  SIG1  0.0359087     0.0008     0.003    114.69    202.35     0.075\n",
      "  Q1    0.0372185     0.0019     0.004     59.09    121.56      0.28\n",
      "  RHO1  0.0374209     0.0013     0.003    164.43    184.75      0.16\n",
      "* O1    0.0387307     0.0067     0.004    202.84     38.54       2.3\n",
      "  TAU1  0.0389588     0.0025     0.004     12.82    101.27      0.39\n",
      "  BET1  0.0400404     0.0007     0.003     71.57    199.20     0.055\n",
      "  NO1   0.0402686     0.0027     0.004    244.60     79.79      0.56\n",
      "  CHI1  0.0404710     0.0006     0.003    109.96    235.92     0.035\n",
      "  PI1   0.0414385     0.0033     0.004     93.42     80.63      0.73\n",
      "* P1    0.0415526     0.0157     0.004    248.00     13.95        13\n",
      "  S1    0.0416667     0.0048     0.004    160.05     54.78       1.1\n",
      "* K1    0.0417807     0.0485     0.004    352.64      5.19   1.2e+02\n",
      "  PSI1  0.0418948     0.0057     0.004     80.00     49.36       1.7\n",
      "  PHI1  0.0420089     0.0041     0.004    266.55     55.58         1\n",
      "  THE1  0.0430905     0.0021     0.004     14.64     96.68      0.34\n",
      "  J1    0.0432929     0.0024     0.003    179.01    109.82      0.47\n",
      "  SO1   0.0446027     0.0017     0.003    349.82    121.57      0.27\n",
      "  OO1   0.0448308     0.0016     0.003    172.44    146.98      0.24\n",
      "  UPS1  0.0463430     0.0008     0.003     49.33    183.99     0.062\n",
      "  OQ2   0.0759749     0.0070     0.037    181.01    212.60     0.035\n",
      "  EPS2  0.0761773     0.0138     0.040    336.94    174.61      0.12\n",
      "  2N2   0.0774871     0.0127     0.038    324.77    154.43      0.11\n",
      "  MU2   0.0776895     0.0063     0.033    109.33    211.38     0.036\n",
      "* N2    0.0789992     0.0911     0.051    136.62     33.05       3.2\n",
      "  NU2   0.0792016     0.0168     0.042    217.31    158.27      0.16\n",
      "* GAM2  0.0803090     0.1282     0.054     50.34     23.01       5.6\n",
      "* H1    0.0803973     0.0773     0.047    156.44     37.13       2.7\n",
      "* M2    0.0805114     0.8345     0.053    320.43      3.16   2.4e+02\n",
      "  H2    0.0806255     0.0233     0.038    287.82    113.23      0.37\n",
      "  MKS2  0.0807396     0.0647     0.050    137.47     45.80       1.7\n",
      "  LDA2  0.0818212     0.0155     0.038    202.11    167.90      0.16\n",
      "  L2    0.0820236     0.0211     0.040    305.78    144.80      0.28\n",
      "  T2    0.0832193     0.0114     0.035    114.91    217.47       0.1\n",
      "* S2    0.0833333     0.1037     0.049     79.49     30.51       4.5\n",
      "  R2    0.0834474     0.0666     0.052     12.64     48.76       1.6\n",
      "  K2    0.0835615     0.0327     0.047    358.19     92.30      0.48\n",
      "  MSN2  0.0848455     0.0056     0.034     62.74    246.60     0.027\n",
      "  ETA2  0.0850736     0.0057     0.033     83.82    228.27     0.029\n",
      "  MO3   0.1192421     0.0002     0.001    190.63    187.22     0.052\n",
      "  M3    0.1207671     0.0012     0.001    253.29     55.57       1.5\n",
      "  SO3   0.1220640     0.0008     0.001    230.33     79.06      0.64\n",
      "* MK3   0.1222921     0.0035     0.001     43.62     17.81       9.5\n",
      "* SK3   0.1251141     0.0031     0.001      9.80     20.30       6.7\n",
      "* MN4   0.1595106     0.0089     0.003    148.51     24.37       7.4\n",
      "* M4    0.1610228     0.0267     0.003    344.05      7.87        61\n",
      "  SN4   0.1623326     0.0009     0.002      1.94    175.38      0.14\n",
      "* MS4   0.1638447     0.0117     0.003    133.09     15.85        12\n",
      "  MK4   0.1640729     0.0044     0.003     78.27     45.15       1.7\n",
      "  S4    0.1666667     0.0012     0.003     44.68    163.23      0.15\n",
      "  SK4   0.1668948     0.0002     0.002      6.68    272.40    0.0068\n",
      "* 2MK5  0.2028035     0.0017     0.001    108.10     23.47       5.2\n",
      "  2SK5  0.2084474     0.0003     0.001    203.30    115.61      0.38\n",
      "  2MN6  0.2400221     0.0008     0.001      2.74     68.20      0.78\n",
      "  M6    0.2415342     0.0008     0.001    144.79     73.35      0.65\n",
      "* 2MS6  0.2443561     0.0034     0.001    300.00     13.67        10\n",
      "  2MK6  0.2445843     0.0008     0.001    256.03     66.85      0.96\n",
      "  2SM6  0.2471781     0.0009     0.001    134.29     58.81      0.94\n",
      "  MSK6  0.2474062     0.0011     0.001    100.81     51.27       1.6\n",
      "* 3MK7  0.2833149     0.0009     0.000    359.78     21.54       6.3\n",
      "* M8    0.3220456     0.0022     0.000    218.63      7.24        30\n"
     ]
    }
   ],
   "source": [
    "fecha_inicio=datetime(1993,1,1)\n",
    "amps_m2=np.ones((15,1))\n",
    "\n",
    "for i in range(0,15,1):\n",
    "    ttide=t_tide(serie_real[fecha_inicio:datetime(1993+i+1,1,1)],dt=1)\n",
    "    ttide_out=ttide\n",
    "    idx_m2=np.where(ttide_out[\"nameu\"]==b'M2  ')[0]\n",
    "    amps=ttide_out[\"tidecon\"][:,0]\n",
    "    amp_m2=amps[idx_m2]\n",
    "    amps_m2[i]=amp_m2"
   ]
  },
  {
   "cell_type": "markdown",
   "metadata": {},
   "source": [
    "## Recreando la serie completa desde ttide"
   ]
  },
  {
   "cell_type": "code",
   "execution_count": 148,
   "metadata": {
    "ExecuteTime": {
     "end_time": "2020-03-03T17:40:32.865053Z",
     "start_time": "2020-03-03T17:40:32.619133Z"
    }
   },
   "outputs": [
    {
     "data": {
      "text/plain": [
       "[<matplotlib.lines.Line2D at 0x7f895b813630>]"
      ]
     },
     "execution_count": 148,
     "metadata": {},
     "output_type": "execute_result"
    },
    {
     "data": {
      "image/png": "[encoded data removed]",
      "text/plain": [
       "<Figure size 576x396 with 1 Axes>"
      ]
     },
     "metadata": {},
     "output_type": "display_data"
    }
   ],
   "source": [
    "plt.plot(np.arange(1,16,1),amps_m2)"
   ]
  },
  {
   "cell_type": "code",
   "execution_count": 150,
   "metadata": {
    "ExecuteTime": {
     "end_time": "2020-03-03T17:40:34.262694Z",
     "start_time": "2020-03-03T17:40:34.028244Z"
    }
   },
   "outputs": [
    {
     "data": {
      "text/plain": [
       "[<matplotlib.lines.Line2D at 0x7f895b8435c0>]"
      ]
     },
     "execution_count": 150,
     "metadata": {},
     "output_type": "execute_result"
    },
    {
     "data": {
      "image/png": "[encoded data removed]",
      "text/plain": [
       "<Figure size 576x396 with 1 Axes>"
      ]
     },
     "metadata": {},
     "output_type": "display_data"
    }
   ],
   "source": [
    "datos_astro=ttide_out[\"xout\"].ravel()\n",
    "plt.plot(datos_astro[:100])"
   ]
  },
  {
   "cell_type": "code",
   "execution_count": 159,
   "metadata": {
    "ExecuteTime": {
     "end_time": "2020-03-03T17:44:01.546093Z",
     "start_time": "2020-03-03T17:43:59.833951Z"
    }
   },
   "outputs": [],
   "source": [
    "ttide=t_tide(serie_real[fecha_inicio2:fecha_fin2],dt=1,out_style=None)\n",
    "ttide_out=ttide\n",
    "\n",
    "freqs=ttide_out[\"fu\"]\n",
    "amps=ttide_out[\"tidecon\"][:,0]\n",
    "phases=ttide_out[\"tidecon\"][:,2]\n",
    "amps_err=ttide_out[\"tidecon\"][:,1]\n",
    "\n",
    "suma_total=np.zeros((len(serie_real[fecha_inicio2:fecha_fin2]),))*1j\n",
    "t=np.arange(0,len(serie_real[fecha_inicio2:fecha_fin2]))\n",
    "for ix in range(0,len(freqs)):\n",
    "    suma_total+=(amps[ix]+amps_err[ix])*np.exp(1j*(freqs[ix]*2*np.pi*t+phases[ix]))\n",
    "#     suma_total+=amplitud*(np.cos(nmm_freq[ix]*2*np.pi*t+fase)+1j*np.sin(nmm_freq[ix]*2*np.pi*t+fase))\n"
   ]
  },
  {
   "cell_type": "code",
   "execution_count": 160,
   "metadata": {
    "ExecuteTime": {
     "end_time": "2020-03-03T17:44:03.820279Z",
     "start_time": "2020-03-03T17:44:03.517752Z"
    }
   },
   "outputs": [
    {
     "name": "stderr",
     "output_type": "stream",
     "text": [
      "/home/franklin/my_projects_dir/entorno_jup/lib/python3.6/site-packages/numpy/core/_asarray.py:85: ComplexWarning: Casting complex values to real discards the imaginary part\n",
      "  return array(a, dtype, copy=False, order=order)\n"
     ]
    },
    {
     "data": {
      "text/plain": [
       "[<matplotlib.lines.Line2D at 0x7f895b991b70>]"
      ]
     },
     "execution_count": 160,
     "metadata": {},
     "output_type": "execute_result"
    },
    {
     "data": {
      "image/png": "[encoded data removed]",
      "text/plain": [
       "<Figure size 576x396 with 1 Axes>"
      ]
     },
     "metadata": {},
     "output_type": "display_data"
    }
   ],
   "source": [
    "plt.plot(suma_total[:100])"
   ]
  },
  {
   "cell_type": "markdown",
   "metadata": {},
   "source": [
    "## Determinación de la marea astronómica"
   ]
  },
  {
   "cell_type": "markdown",
   "metadata": {},
   "source": [
    "La herramienta empleada es Pytides, una librería de Python que realiza el análisis armónico de la marea."
   ]
  },
  {
   "cell_type": "code",
   "execution_count": 23,
   "metadata": {
    "ExecuteTime": {
     "end_time": "2020-03-03T04:35:15.512603Z",
     "start_time": "2020-03-03T04:35:15.402100Z"
    }
   },
   "outputs": [],
   "source": [
    "serie_real=serie_nmm-np.mean(serie_nmm) #Anomalías de la serie"
   ]
  },
  {
   "cell_type": "code",
   "execution_count": 24,
   "metadata": {
    "ExecuteTime": {
     "end_time": "2020-03-03T04:36:03.021536Z",
     "start_time": "2020-03-03T04:36:03.007642Z"
    }
   },
   "outputs": [],
   "source": [
    "#Script de Víctor Saavedra\n",
    "\n",
    "# marea = niveles-nmm\n",
    "# tide = Tide.decompose(marea, tiempos)\n",
    "# tide1 = Tide(model = tide.model, radians = False)\n",
    "# astronomica = tide1.at(tiempos)\n",
    "# meteo = marea-tide1.at(tiempos)"
   ]
  },
  {
   "cell_type": "code",
   "execution_count": 25,
   "metadata": {
    "ExecuteTime": {
     "end_time": "2020-03-03T04:38:06.432441Z",
     "start_time": "2020-03-03T04:36:04.748008Z"
    }
   },
   "outputs": [],
   "source": [
    "tide = Tide.decompose(serie_real.values,serie_real.index)\n",
    "tide1 = Tide(model = tide.model, radians = False)\n",
    "astronomica = tide1.at(serie_real.index)\n",
    "serie_astronomica=pd.Series(astronomica,index=serie_real.index)"
   ]
  },
  {
   "cell_type": "code",
   "execution_count": 28,
   "metadata": {
    "ExecuteTime": {
     "end_time": "2020-03-03T04:38:33.671852Z",
     "start_time": "2020-03-03T04:38:33.654629Z"
    }
   },
   "outputs": [],
   "source": [
    "serie_residual=serie_real-serie_astronomica"
   ]
  },
  {
   "cell_type": "code",
   "execution_count": 29,
   "metadata": {
    "ExecuteTime": {
     "end_time": "2020-03-03T04:38:37.307133Z",
     "start_time": "2020-03-03T04:38:36.804548Z"
    }
   },
   "outputs": [
    {
     "data": {
      "text/plain": [
       "(array([711858., 715510., 719163., 722815., 726468., 730120., 733773.,\n",
       "        737425.]), <a list of 8 Text xticklabel objects>)"
      ]
     },
     "execution_count": 29,
     "metadata": {},
     "output_type": "execute_result"
    },
    {
     "data": {
      "image/png": "[encoded data removed]",
      "text/plain": [
       "<Figure size 576x396 with 1 Axes>"
      ]
     },
     "metadata": {},
     "output_type": "display_data"
    }
   ],
   "source": [
    "plt.figure()\n",
    "plt.plot(serie_residual)\n",
    "plt.xticks(rotation=30)"
   ]
  },
  {
   "cell_type": "code",
   "execution_count": 189,
   "metadata": {
    "ExecuteTime": {
     "end_time": "2020-03-03T18:01:10.286899Z",
     "start_time": "2020-03-03T18:01:08.224764Z"
    }
   },
   "outputs": [
    {
     "data": {
      "text/plain": [
       "<matplotlib.legend.Legend at 0x7f8963cfb588>"
      ]
     },
     "execution_count": 189,
     "metadata": {},
     "output_type": "execute_result"
    },
    {
     "data": {
      "image/png": "[encoded data removed]",
      "text/plain": [
       "<Figure size 576x396 with 1 Axes>"
      ]
     },
     "metadata": {},
     "output_type": "display_data"
    }
   ],
   "source": [
    "plt.figure()\n",
    "plt.plot(serie_real,label=\"real\")\n",
    "plt.plot(serie_astronomica,label=\"astronómica\")\n",
    "plt.xticks(rotation=30)\n",
    "plt.legend(prop={'size':13},mode=\"expand\",bbox_to_anchor=(0,1.02,1,0.1),ncol=2)"
   ]
  },
  {
   "cell_type": "markdown",
   "metadata": {},
   "source": [
    "## Componentes armónicas importantes"
   ]
  },
  {
   "cell_type": "code",
   "execution_count": 193,
   "metadata": {
    "ExecuteTime": {
     "end_time": "2020-03-03T18:01:36.442905Z",
     "start_time": "2020-03-03T18:01:36.417834Z"
    }
   },
   "outputs": [
    {
     "name": "stdout",
     "output_type": "stream",
     "text": [
      "Form number 0.07404437171080588, the tide is semidiurnal.\n"
     ]
    },
    {
     "data": {
      "text/html": [
       "<div>\n",
       "<style scoped>\n",
       "    .dataframe tbody tr th:only-of-type {\n",
       "        vertical-align: middle;\n",
       "    }\n",
       "\n",
       "    .dataframe tbody tr th {\n",
       "        vertical-align: top;\n",
       "    }\n",
       "\n",
       "    .dataframe thead th {\n",
       "        text-align: right;\n",
       "    }\n",
       "</style>\n",
       "<table border=\"1\" class=\"dataframe\">\n",
       "  <thead>\n",
       "    <tr style=\"text-align: right;\">\n",
       "      <th></th>\n",
       "      <th>amplitude</th>\n",
       "      <th>phase</th>\n",
       "    </tr>\n",
       "  </thead>\n",
       "  <tbody>\n",
       "    <tr>\n",
       "      <th>Z0</th>\n",
       "      <td>8.818746e-16</td>\n",
       "      <td>180.000000</td>\n",
       "    </tr>\n",
       "    <tr>\n",
       "      <th>M2</th>\n",
       "      <td>1.496180e+00</td>\n",
       "      <td>254.876106</td>\n",
       "    </tr>\n",
       "    <tr>\n",
       "      <th>S2</th>\n",
       "      <td>4.020873e-01</td>\n",
       "      <td>314.505943</td>\n",
       "    </tr>\n",
       "    <tr>\n",
       "      <th>N2</th>\n",
       "      <td>3.143344e-01</td>\n",
       "      <td>225.782371</td>\n",
       "    </tr>\n",
       "    <tr>\n",
       "      <th>K1</th>\n",
       "      <td>1.148958e-01</td>\n",
       "      <td>62.672819</td>\n",
       "    </tr>\n",
       "    <tr>\n",
       "      <th>M4</th>\n",
       "      <td>6.526875e-02</td>\n",
       "      <td>222.617288</td>\n",
       "    </tr>\n",
       "    <tr>\n",
       "      <th>O1</th>\n",
       "      <td>2.566022e-02</td>\n",
       "      <td>72.832462</td>\n",
       "    </tr>\n",
       "    <tr>\n",
       "      <th>M6</th>\n",
       "      <td>1.904818e-03</td>\n",
       "      <td>47.834515</td>\n",
       "    </tr>\n",
       "    <tr>\n",
       "      <th>MK3</th>\n",
       "      <td>4.724058e-03</td>\n",
       "      <td>30.646567</td>\n",
       "    </tr>\n",
       "    <tr>\n",
       "      <th>S4</th>\n",
       "      <td>8.254021e-03</td>\n",
       "      <td>10.961457</td>\n",
       "    </tr>\n",
       "    <tr>\n",
       "      <th>MN4</th>\n",
       "      <td>2.761133e-02</td>\n",
       "      <td>204.191259</td>\n",
       "    </tr>\n",
       "    <tr>\n",
       "      <th>nu2</th>\n",
       "      <td>5.463701e-02</td>\n",
       "      <td>229.113165</td>\n",
       "    </tr>\n",
       "    <tr>\n",
       "      <th>S6</th>\n",
       "      <td>1.590922e-04</td>\n",
       "      <td>310.794195</td>\n",
       "    </tr>\n",
       "    <tr>\n",
       "      <th>mu2</th>\n",
       "      <td>4.825813e-02</td>\n",
       "      <td>231.885963</td>\n",
       "    </tr>\n",
       "    <tr>\n",
       "      <th>2N2</th>\n",
       "      <td>4.019469e-02</td>\n",
       "      <td>199.247975</td>\n",
       "    </tr>\n",
       "    <tr>\n",
       "      <th>OO1</th>\n",
       "      <td>7.892819e-03</td>\n",
       "      <td>102.969480</td>\n",
       "    </tr>\n",
       "    <tr>\n",
       "      <th>lambda2</th>\n",
       "      <td>1.745960e-02</td>\n",
       "      <td>235.330271</td>\n",
       "    </tr>\n",
       "    <tr>\n",
       "      <th>S1</th>\n",
       "      <td>1.751115e-02</td>\n",
       "      <td>153.964161</td>\n",
       "    </tr>\n",
       "    <tr>\n",
       "      <th>M1</th>\n",
       "      <td>7.883759e-04</td>\n",
       "      <td>220.433357</td>\n",
       "    </tr>\n",
       "    <tr>\n",
       "      <th>J1</th>\n",
       "      <td>9.315281e-03</td>\n",
       "      <td>91.030707</td>\n",
       "    </tr>\n",
       "    <tr>\n",
       "      <th>Mm</th>\n",
       "      <td>1.686856e-02</td>\n",
       "      <td>33.013369</td>\n",
       "    </tr>\n",
       "    <tr>\n",
       "      <th>Ssa</th>\n",
       "      <td>5.068172e-02</td>\n",
       "      <td>143.731352</td>\n",
       "    </tr>\n",
       "    <tr>\n",
       "      <th>Sa</th>\n",
       "      <td>7.491347e-02</td>\n",
       "      <td>167.100683</td>\n",
       "    </tr>\n",
       "    <tr>\n",
       "      <th>MSF</th>\n",
       "      <td>1.822784e-02</td>\n",
       "      <td>65.976966</td>\n",
       "    </tr>\n",
       "    <tr>\n",
       "      <th>Mf</th>\n",
       "      <td>1.561979e-02</td>\n",
       "      <td>24.217108</td>\n",
       "    </tr>\n",
       "    <tr>\n",
       "      <th>rho1</th>\n",
       "      <td>1.021653e-03</td>\n",
       "      <td>112.724673</td>\n",
       "    </tr>\n",
       "    <tr>\n",
       "      <th>Q1</th>\n",
       "      <td>5.392940e-03</td>\n",
       "      <td>140.126755</td>\n",
       "    </tr>\n",
       "    <tr>\n",
       "      <th>T2</th>\n",
       "      <td>2.518584e-02</td>\n",
       "      <td>325.095421</td>\n",
       "    </tr>\n",
       "    <tr>\n",
       "      <th>R2</th>\n",
       "      <td>3.346328e-03</td>\n",
       "      <td>275.492169</td>\n",
       "    </tr>\n",
       "    <tr>\n",
       "      <th>2Q1</th>\n",
       "      <td>1.470813e-03</td>\n",
       "      <td>140.474764</td>\n",
       "    </tr>\n",
       "    <tr>\n",
       "      <th>P1</th>\n",
       "      <td>3.456818e-02</td>\n",
       "      <td>63.412879</td>\n",
       "    </tr>\n",
       "    <tr>\n",
       "      <th>2SM2</th>\n",
       "      <td>9.899597e-03</td>\n",
       "      <td>129.638903</td>\n",
       "    </tr>\n",
       "    <tr>\n",
       "      <th>M3</th>\n",
       "      <td>5.713051e-03</td>\n",
       "      <td>28.408009</td>\n",
       "    </tr>\n",
       "    <tr>\n",
       "      <th>L2</th>\n",
       "      <td>4.269700e-02</td>\n",
       "      <td>261.067483</td>\n",
       "    </tr>\n",
       "    <tr>\n",
       "      <th>2MK3</th>\n",
       "      <td>3.216973e-03</td>\n",
       "      <td>224.681572</td>\n",
       "    </tr>\n",
       "    <tr>\n",
       "      <th>K2</th>\n",
       "      <td>1.043465e-01</td>\n",
       "      <td>310.487260</td>\n",
       "    </tr>\n",
       "    <tr>\n",
       "      <th>M8</th>\n",
       "      <td>7.865417e-03</td>\n",
       "      <td>109.287571</td>\n",
       "    </tr>\n",
       "    <tr>\n",
       "      <th>MS4</th>\n",
       "      <td>4.251314e-02</td>\n",
       "      <td>292.979985</td>\n",
       "    </tr>\n",
       "  </tbody>\n",
       "</table>\n",
       "</div>"
      ],
      "text/plain": [
       "            amplitude       phase\n",
       "Z0       8.818746e-16  180.000000\n",
       "M2       1.496180e+00  254.876106\n",
       "S2       4.020873e-01  314.505943\n",
       "N2       3.143344e-01  225.782371\n",
       "K1       1.148958e-01   62.672819\n",
       "M4       6.526875e-02  222.617288\n",
       "O1       2.566022e-02   72.832462\n",
       "M6       1.904818e-03   47.834515\n",
       "MK3      4.724058e-03   30.646567\n",
       "S4       8.254021e-03   10.961457\n",
       "MN4      2.761133e-02  204.191259\n",
       "nu2      5.463701e-02  229.113165\n",
       "S6       1.590922e-04  310.794195\n",
       "mu2      4.825813e-02  231.885963\n",
       "2N2      4.019469e-02  199.247975\n",
       "OO1      7.892819e-03  102.969480\n",
       "lambda2  1.745960e-02  235.330271\n",
       "S1       1.751115e-02  153.964161\n",
       "M1       7.883759e-04  220.433357\n",
       "J1       9.315281e-03   91.030707\n",
       "Mm       1.686856e-02   33.013369\n",
       "Ssa      5.068172e-02  143.731352\n",
       "Sa       7.491347e-02  167.100683\n",
       "MSF      1.822784e-02   65.976966\n",
       "Mf       1.561979e-02   24.217108\n",
       "rho1     1.021653e-03  112.724673\n",
       "Q1       5.392940e-03  140.126755\n",
       "T2       2.518584e-02  325.095421\n",
       "R2       3.346328e-03  275.492169\n",
       "2Q1      1.470813e-03  140.474764\n",
       "P1       3.456818e-02   63.412879\n",
       "2SM2     9.899597e-03  129.638903\n",
       "M3       5.713051e-03   28.408009\n",
       "L2       4.269700e-02  261.067483\n",
       "2MK3     3.216973e-03  224.681572\n",
       "K2       1.043465e-01  310.487260\n",
       "M8       7.865417e-03  109.287571\n",
       "MS4      4.251314e-02  292.979985"
      ]
     },
     "execution_count": 193,
     "metadata": {},
     "output_type": "execute_result"
    }
   ],
   "source": [
    "constituent = [c.name for c in tide.model['constituent']]\n",
    "df = pd.DataFrame(tide.model, index=constituent).drop('constituent', axis=1)\n",
    "df.sort_values('amplitude', ascending=False).head(10)\n",
    "print('Form number %s, the tide is %s.' %\n",
    "      (tide.form_number()[0], tide.classify()))\n",
    "df"
   ]
  },
  {
   "cell_type": "code",
   "execution_count": 194,
   "metadata": {
    "ExecuteTime": {
     "end_time": "2020-03-03T18:01:42.167397Z",
     "start_time": "2020-03-03T18:01:42.164479Z"
    }
   },
   "outputs": [],
   "source": [
    "# def astronomica(serie_real):\n",
    "#     ttide=t_tide(serie_real,dt=1)\n",
    "#     ttide_out=ttide\n",
    "#     datos_astro=ttide_out[\"xout\"].ravel()\n",
    "#     serie_astro=pd.Series(data=datos_astro,index=serie_real.index)\n",
    "#     return serie_astro\n",
    "\n",
    "# serie_astro=astronomica(serie_real[fecha_inicio2:fecha_fin2])"
   ]
  },
  {
   "cell_type": "markdown",
   "metadata": {},
   "source": [
    "Según información recolectada, el mayor aporte a la marea lo da la componente $M_{2}$ (principal lunar), por lo tanto es semidiurno (**tiene todo el sentido del mundo**)\n",
    "\n",
    "Aportes principales:\n",
    "\n",
    "- $M_{2}$: Principal lunar, 150.09 cm\n",
    "- $S_{2}$: Principal solar, 40.25 cm\n",
    "- $N_{2}$: Lunar mayor elíptica, 31.66 cm\n",
    "- $K_{2}$: Lunar-solar declinacional, 10.97 cm\n",
    "- $K_{1}$: Lunar-solar diurna declinacional, 11.25 cm\n",
    "\n",
    "\n",
    "EL link de la info es [Caracterización de la marea](http://www.ideam.gov.co/documents/21021/23877/Caracterizaci%C3%B3n+de+la+Marea+%282010%29.pdf/a8ed71d8-3d7f-4a88-bed5-796c542aff4f)\n"
   ]
  },
  {
   "cell_type": "markdown",
   "metadata": {},
   "source": [
    "## Suavizado de la información\n",
    "\n",
    "Con el fin de que la visualización de la información sea más clara y ordenada, se realiza un suavizado de cada 30 horas."
   ]
  },
  {
   "cell_type": "code",
   "execution_count": 195,
   "metadata": {
    "ExecuteTime": {
     "end_time": "2020-03-03T18:01:45.595103Z",
     "start_time": "2020-03-03T18:01:45.592035Z"
    }
   },
   "outputs": [],
   "source": [
    "def smooth(y,box_pts):\n",
    "    box=np.ones(box_pts)/box_pts\n",
    "    y_smooth=np.convolve(y,box,mode=\"same\")\n",
    "    return y_smooth"
   ]
  },
  {
   "cell_type": "code",
   "execution_count": 196,
   "metadata": {
    "ExecuteTime": {
     "end_time": "2020-03-03T18:01:59.628042Z",
     "start_time": "2020-03-03T18:01:46.517632Z"
    }
   },
   "outputs": [],
   "source": [
    "def maximos(serie_residual,inicio):\n",
    "    maximos_residual,fechas_residual=[],[]\n",
    "#     maximos_astro,fechas_astro=[],[]\n",
    "    for k in range(int(len(serie_residual)/24)):\n",
    "\n",
    "        #Ventana de marea residual\n",
    "        window_residual=serie_residual[inicio+timedelta(days=int(k)):inicio+timedelta(days=int(k+1))-timedelta(hours=1)]\n",
    "        max_window_residual=np.max(window_residual)\n",
    "\n",
    "        #Ventana de marea astronómica\n",
    "#         window_astro=serie_astro[inicio+timedelta(days=int(k)):inicio+timedelta(days=int(k+1))-timedelta(hours=1)]\n",
    "#         max_window_astro=np.max(window_astro)\n",
    "\n",
    "        if max_window_residual>0:\n",
    "#             maximos_astro.append(max_window_astro)\n",
    "#             fechas_astro.append(window_astro.idxmax()-timedelta(hours=window_astro.idxmax().hour))    \n",
    "            maximos_residual.append(max_window_residual)\n",
    "            fechas_residual.append(window_residual.idxmax()-timedelta(hours=window_residual.idxmax().hour))\n",
    "\n",
    "    #Series de máximos\n",
    "    serie_maximos_residual=pd.Series(data=maximos_residual,index=fechas_residual)\n",
    "#     serie_maximos_astro=pd.Series(data=maximos_astro,index=fechas_astro)\n",
    "    return serie_maximos_residual\n",
    "\n",
    "serie_max_residual=maximos(serie_residual,serie_residual.index[0])"
   ]
  },
  {
   "cell_type": "code",
   "execution_count": 308,
   "metadata": {
    "ExecuteTime": {
     "end_time": "2020-03-03T19:03:34.954314Z",
     "start_time": "2020-03-03T19:03:34.948498Z"
    }
   },
   "outputs": [],
   "source": [
    "# plt.plot(serie_residual[\"1953-05-9\":\"1953-05-15\"])"
   ]
  },
  {
   "cell_type": "code",
   "execution_count": 104,
   "metadata": {
    "ExecuteTime": {
     "end_time": "2020-03-03T13:05:17.513573Z",
     "start_time": "2020-03-03T13:05:17.508635Z"
    }
   },
   "outputs": [],
   "source": [
    "def smoothed(serie_max_residual):\n",
    "    serie_dif_maximos=serie_max_residual\n",
    "    dif_maximos_smoothed=smooth(serie_dif_maximos,90)\n",
    "    serie_maximos_smoothed=pd.Series(data=dif_maximos_smoothed,index=serie_dif_maximos.index)\n",
    "    return serie_dif_maximos,serie_maximos_smoothed"
   ]
  },
  {
   "cell_type": "code",
   "execution_count": 105,
   "metadata": {
    "ExecuteTime": {
     "end_time": "2020-03-03T13:05:19.030684Z",
     "start_time": "2020-03-03T13:05:19.027201Z"
    }
   },
   "outputs": [],
   "source": [
    "serie_dif_maximos,serie_maximos_smoothed=smoothed(serie_max_residual)"
   ]
  },
  {
   "cell_type": "code",
   "execution_count": 306,
   "metadata": {
    "ExecuteTime": {
     "end_time": "2020-03-03T19:03:22.222837Z",
     "start_time": "2020-03-03T19:03:21.883487Z"
    }
   },
   "outputs": [
    {
     "data": {
      "text/plain": [
       "Text(0.5, 0, 'Tiempo [h]')"
      ]
     },
     "execution_count": 306,
     "metadata": {},
     "output_type": "execute_result"
    },
    {
     "data": {
      "image/png": "[encoded data removed]",
      "text/plain": [
       "<Figure size 720x432 with 1 Axes>"
      ]
     },
     "metadata": {},
     "output_type": "display_data"
    }
   ],
   "source": [
    "plt.figure(figsize=(10,6))\n",
    "plt.title(\"Serie de Máximos\",fontsize=15)\n",
    "plt.plot(serie_dif_maximos,c=\"orange\",alpha=0.5)\n",
    "plt.plot(serie_maximos_smoothed,c=\"k\")\n",
    "plt.ylabel(\"h [m]\")\n",
    "plt.xlabel(\"Tiempo [h]\")"
   ]
  },
  {
   "cell_type": "markdown",
   "metadata": {},
   "source": [
    "## Datos y Eventos ENSO desde el índice ONI"
   ]
  },
  {
   "cell_type": "code",
   "execution_count": 197,
   "metadata": {
    "ExecuteTime": {
     "end_time": "2020-03-03T18:03:18.171736Z",
     "start_time": "2020-03-03T18:03:18.142369Z"
    }
   },
   "outputs": [],
   "source": [
    "dataset_oni=pd.read_excel(r\"../Dataset/oni index.xlsx\").set_index(\"Year\")"
   ]
  },
  {
   "cell_type": "code",
   "execution_count": 198,
   "metadata": {
    "ExecuteTime": {
     "end_time": "2020-03-03T18:03:19.119442Z",
     "start_time": "2020-03-03T18:03:19.109493Z"
    }
   },
   "outputs": [],
   "source": [
    "def serie_oni(dataset_oni,a,b):\n",
    "    data=dataset_oni.values.ravel()\n",
    "    fechas=pd.date_range(\"1950-01-01\",\"2019-01-01\",freq=\"M\")\n",
    "    date=[i-timedelta(days=15) for i in fechas]\n",
    "    serie_oni_d=pd.Series(data=data,index=date)[a:b]\n",
    "    return serie_oni_d"
   ]
  },
  {
   "cell_type": "code",
   "execution_count": 199,
   "metadata": {
    "ExecuteTime": {
     "end_time": "2020-03-03T18:03:20.034427Z",
     "start_time": "2020-03-03T18:03:19.985181Z"
    }
   },
   "outputs": [],
   "source": [
    "Serie_oni=serie_oni(dataset_oni,serie_residual.index[0],serie_residual.index[-1])"
   ]
  },
  {
   "cell_type": "code",
   "execution_count": 200,
   "metadata": {
    "ExecuteTime": {
     "end_time": "2020-03-03T18:03:21.085830Z",
     "start_time": "2020-03-03T18:03:21.073286Z"
    }
   },
   "outputs": [],
   "source": [
    "def looking_for_events(Serie_oni):\n",
    "    loc_niña=[] #Revisar siempre estas posiciones\n",
    "    loc_niño=[]\n",
    "    for i in range (4,int(len(Serie_oni)-4)):\n",
    "        k,d,z=0,0,0\n",
    "        while k<5:\n",
    "            a=i+k-4\n",
    "            b=i+k+1\n",
    "            window=np.around(np.asarray((Serie_oni.values[a:b])),1)\n",
    "            test_niño=window>=0.5\n",
    "            test_niña=window<=-0.5\n",
    "            if test_niño.all()==True:\n",
    "                d=d+1\n",
    "            if test_niña.all()==True:\n",
    "                z=z+1\n",
    "            k=k+1\n",
    "        if d>=1:\n",
    "            loc_niño.append(i)\n",
    "        if z>=1:\n",
    "            loc_niña.append(i)\n",
    "    return loc_niña,loc_niño"
   ]
  },
  {
   "cell_type": "code",
   "execution_count": 201,
   "metadata": {
    "ExecuteTime": {
     "end_time": "2020-03-03T18:03:23.225153Z",
     "start_time": "2020-03-03T18:03:23.153294Z"
    }
   },
   "outputs": [],
   "source": [
    "locs_niña,locs_niño=looking_for_events(Serie_oni)     "
   ]
  },
  {
   "cell_type": "code",
   "execution_count": 202,
   "metadata": {
    "ExecuteTime": {
     "end_time": "2020-03-03T18:03:23.969214Z",
     "start_time": "2020-03-03T18:03:23.955775Z"
    }
   },
   "outputs": [],
   "source": [
    "def events(loc_niño,loc_niña):\n",
    "    fines_niña=np.where(np.diff(loc_niña)!=1)[0].tolist()+[len(loc_niña)-1]\n",
    "    fines_niño=np.where(np.diff(loc_niño)!=1)[0].tolist()+[len(loc_niño)-1]\n",
    "    inicios_niña=[0]+[i+1 for i in fines_niña][:-1]\n",
    "    inicios_niño=[0]+[i+1 for i in fines_niño][:-1]\n",
    "    return inicios_niño,fines_niño,inicios_niña,fines_niña"
   ]
  },
  {
   "cell_type": "code",
   "execution_count": 203,
   "metadata": {
    "ExecuteTime": {
     "end_time": "2020-03-03T18:03:24.415489Z",
     "start_time": "2020-03-03T18:03:24.408568Z"
    }
   },
   "outputs": [],
   "source": [
    "inicio_niño,fin_niño,inicio_niña,fin_niña=events(locs_niño,locs_niña)"
   ]
  },
  {
   "cell_type": "code",
   "execution_count": 309,
   "metadata": {
    "ExecuteTime": {
     "end_time": "2020-03-03T19:03:50.640496Z",
     "start_time": "2020-03-03T19:03:50.628095Z"
    }
   },
   "outputs": [],
   "source": [
    "def plotting_events(Serie_oni,inicio_niño,fin_niño,locs_niño,inicio_niña,fin_niña,locs_niña):\n",
    "    fig,ax=plt.subplots(1,1,figsize=(12,6))\n",
    "    ax.plot(Serie_oni,'-o',c='k')\n",
    "    ax.set_title(\"Eventos ENSO\")\n",
    "#     ax.set_yticks(np.arange(-3,3,0.5))\n",
    "    ax.grid()\n",
    "    for i,k in zip(inicio_niño,fin_niño): #Niño y después niña\n",
    "        ax.fill_betweenx([-3,3],Serie_oni.index[locs_niño[i]],Serie_oni.index[locs_niño[k]],color=\"r\",alpha=0.4)\n",
    "    for j,m in zip(inicio_niña,fin_niña): #Niño y después niña\n",
    "        ax.fill_betweenx([-3,3],Serie_oni.index[locs_niña[j]],Serie_oni.index[locs_niña[m]],color=\"b\",alpha=0.4) \n",
    "    plt.grid()\n",
    "    plt.savefig(\".\\Plots\\Eventos_ENSO.png\",dpi=400,box_inches=\"tight\")\n",
    "    return fig"
   ]
  },
  {
   "cell_type": "code",
   "execution_count": 310,
   "metadata": {
    "ExecuteTime": {
     "end_time": "2020-03-03T19:03:53.382643Z",
     "start_time": "2020-03-03T19:03:51.322126Z"
    },
    "scrolled": false
   },
   "outputs": [
    {
     "data": {
      "image/png": "[encoded data removed]",
      "text/plain": [
       "<Figure size 864x432 with 1 Axes>"
      ]
     },
     "metadata": {},
     "output_type": "display_data"
    }
   ],
   "source": [
    "plots_ENSO=plotting_events(Serie_oni,inicio_niño[1:],fin_niño[1:],locs_niño,inicio_niña,fin_niña,locs_niña)"
   ]
  },
  {
   "cell_type": "markdown",
   "metadata": {},
   "source": [
    "## Traslapando la información"
   ]
  },
  {
   "cell_type": "code",
   "execution_count": 283,
   "metadata": {
    "ExecuteTime": {
     "end_time": "2020-03-03T18:44:34.983993Z",
     "start_time": "2020-03-03T18:44:34.980997Z"
    }
   },
   "outputs": [],
   "source": [
    "rate=0.73/0.0678"
   ]
  },
  {
   "cell_type": "code",
   "execution_count": 325,
   "metadata": {
    "ExecuteTime": {
     "end_time": "2020-03-03T19:09:56.502945Z",
     "start_time": "2020-03-03T19:09:56.488594Z"
    }
   },
   "outputs": [],
   "source": [
    "def converge(serie_original,serie_smoothed,Serie_oni,swich):\n",
    "        fig,ax=plt.subplots(1,1,figsize=(12,6))\n",
    "        ax.set_ylabel(\"h [m]\")\n",
    "        ax.set_xlabel(\"Tiempo [h]\")\n",
    "        ax.set_xlim(serie_smoothed.index[0],serie_smoothed.index[-1])\n",
    "        \n",
    "        if swich==\"on\":\n",
    "#         ax.set_yticks(np.arange(-3,3,0.5))\n",
    "            ax.plot(serie_original,c='orange',alpha=0.5,label=\"Sobrelevaciones\")\n",
    "            ax.set_title(\"Sobrelevaciones del nivel del mar en Eventos ENSO\",fontsize=16)\n",
    "            ax.set_ylim(-0.5,1.5)\n",
    "            for i,k in zip(inicio_niño,fin_niño): #Niño y después niña\n",
    "                ax.fill_betweenx([-3,3],Serie_oni.index[locs_niño[i]],Serie_oni.index[locs_niño[k]],color=\"r\",alpha=0.4)\n",
    "            for j,m in zip(inicio_niña,fin_niña): #Niño y después niña\n",
    "                ax.fill_betweenx([-3,3],Serie_oni.index[locs_niña[j]],Serie_oni.index[locs_niña[m]],color=\"b\",alpha=0.4) \n",
    "            ax.plot(serie_smoothed,c='k',label=\"Sobrelevaciones suavizada\")\n",
    "        else:\n",
    "#             ax.plot(serie_original,c='orange',alpha=0.5,label=\"Sobrelevaciones\")\n",
    "            ax.plot(Serie_oni/rate,c='red',alpha=0.5,label=\"ONI\")\n",
    "            ax.plot(serie_smoothed[Serie_oni.index],c='k',label=\"Sobrelevaciones suavizada\")\n",
    "            ax.set_title(\"Sobrelevaciones del nivel del mar vs ONI\",fontsize=16)\n",
    "            ax.set_ylim(-0.5,1)\n",
    "        \n",
    "        ax.legend(prop={'size':14},mode=\"expand\", borderaxespad=0, ncol=4,bbox_to_anchor=(0,1.02,1,0.13))\n",
    "        plt.savefig(\".\\Plots\\All.png\",dpi=400,box_inches=\"tight\")\n",
    "        return fig"
   ]
  },
  {
   "cell_type": "code",
   "execution_count": 326,
   "metadata": {
    "ExecuteTime": {
     "end_time": "2020-03-03T19:09:59.727219Z",
     "start_time": "2020-03-03T19:09:57.265171Z"
    }
   },
   "outputs": [
    {
     "data": {
      "image/png": "[encoded data removed]",
      "text/plain": [
       "<Figure size 864x432 with 1 Axes>"
      ]
     },
     "metadata": {},
     "output_type": "display_data"
    }
   ],
   "source": [
    "plot_final=converge(serie_dif_maximos,serie_maximos_smoothed,Serie_oni,\"on\")"
   ]
  },
  {
   "cell_type": "code",
   "execution_count": 327,
   "metadata": {
    "ExecuteTime": {
     "end_time": "2020-03-03T19:10:01.827511Z",
     "start_time": "2020-03-03T19:09:59.729403Z"
    }
   },
   "outputs": [
    {
     "data": {
      "image/png": "[encoded data removed]",
      "text/plain": [
       "<Figure size 864x432 with 1 Axes>"
      ]
     },
     "metadata": {},
     "output_type": "display_data"
    }
   ],
   "source": [
    "plot_final=converge(serie_dif_maximos,serie_maximos_smoothed,Serie_oni,\"off\")"
   ]
  },
  {
   "cell_type": "code",
   "execution_count": 296,
   "metadata": {
    "ExecuteTime": {
     "end_time": "2020-03-03T18:58:00.801140Z",
     "start_time": "2020-03-03T18:58:00.738224Z"
    }
   },
   "outputs": [
    {
     "data": {
      "text/plain": [
       "1953-05-16         NaN\n",
       "1953-06-15    0.261737\n",
       "1953-07-16    0.059554\n",
       "1953-08-16    0.042986\n",
       "1953-09-15         NaN\n",
       "                ...   \n",
       "2014-08-16         NaN\n",
       "2014-09-15         NaN\n",
       "2014-10-16         NaN\n",
       "2014-11-15         NaN\n",
       "2014-12-16         NaN\n",
       "Length: 740, dtype: float64"
      ]
     },
     "execution_count": 296,
     "metadata": {},
     "output_type": "execute_result"
    }
   ],
   "source": []
  },
  {
   "cell_type": "code",
   "execution_count": null,
   "metadata": {},
   "outputs": [],
   "source": []
  },
  {
   "cell_type": "code",
   "execution_count": null,
   "metadata": {},
   "outputs": [],
   "source": []
  },
  {
   "cell_type": "code",
   "execution_count": null,
   "metadata": {
    "ExecuteTime": {
     "end_time": "2020-03-03T13:58:04.545841Z",
     "start_time": "2020-03-03T13:57:59.920422Z"
    }
   },
   "outputs": [],
   "source": [
    "colors = cm.prism(np.linspace(0, 1, len(inicio_niño)))\n",
    "\n",
    "for i,k in zip(inicio_niño,fin_niño): #Niño y después niña\n",
    "    a=Serie_oni.index[locs_niño[i]]\n",
    "    b=Serie_oni.index[locs_niño[k]]\n",
    "    print(a,b)\n",
    "#     plt.figure()\n",
    "    serie_plot=serie_maximos_smoothed[a:b].values\n",
    "    if len(serie_plot)>300:\n",
    "        plt.plot(serie_plot,c=colors[inicio_niño.index(i)],label=str(a.year)+\"-\"+str(b.year))\n",
    "    else:\n",
    "        plt.plot(serie_plot,c=colors[inicio_niño.index(i)])\n",
    "    plt.ylim(-0.25,0.75)\n",
    "    plt.xlabel(\"Duración [días]\")\n",
    "    plt.ylabel(\"Sobrelevación [m]\")\n",
    "    plt.legend(prop={'size':12})\n",
    "plt.savefig('./Plots/nino_events',dpi=600,bbox_inches=\"tight\")"
   ]
  },
  {
   "cell_type": "code",
   "execution_count": null,
   "metadata": {},
   "outputs": [],
   "source": []
  },
  {
   "cell_type": "code",
   "execution_count": null,
   "metadata": {},
   "outputs": [],
   "source": []
  },
  {
   "cell_type": "code",
   "execution_count": null,
   "metadata": {},
   "outputs": [],
   "source": []
  },
  {
   "cell_type": "code",
   "execution_count": null,
   "metadata": {},
   "outputs": [],
   "source": []
  },
  {
   "cell_type": "code",
   "execution_count": null,
   "metadata": {},
   "outputs": [],
   "source": []
  },
  {
   "cell_type": "code",
   "execution_count": null,
   "metadata": {},
   "outputs": [],
   "source": []
  },
  {
   "cell_type": "code",
   "execution_count": null,
   "metadata": {},
   "outputs": [],
   "source": []
  },
  {
   "cell_type": "code",
   "execution_count": null,
   "metadata": {},
   "outputs": [],
   "source": []
  },
  {
   "cell_type": "code",
   "execution_count": null,
   "metadata": {},
   "outputs": [],
   "source": []
  },
  {
   "cell_type": "code",
   "execution_count": null,
   "metadata": {},
   "outputs": [],
   "source": []
  },
  {
   "cell_type": "code",
   "execution_count": null,
   "metadata": {},
   "outputs": [],
   "source": []
  },
  {
   "cell_type": "markdown",
   "metadata": {},
   "source": [
    "# Análisis espectral"
   ]
  },
  {
   "cell_type": "code",
   "execution_count": null,
   "metadata": {
    "ExecuteTime": {
     "end_time": "2020-02-18T18:25:35.031156Z",
     "start_time": "2020-02-18T18:25:34.953Z"
    }
   },
   "outputs": [],
   "source": [
    "plt.figure()\n",
    "plt.plot(serie_real)"
   ]
  },
  {
   "cell_type": "code",
   "execution_count": null,
   "metadata": {
    "ExecuteTime": {
     "end_time": "2020-02-18T18:25:35.032634Z",
     "start_time": "2020-02-18T18:25:34.958Z"
    }
   },
   "outputs": [],
   "source": [
    "fecha_inicio2,fecha_fin2"
   ]
  },
  {
   "cell_type": "code",
   "execution_count": null,
   "metadata": {
    "ExecuteTime": {
     "end_time": "2020-02-18T18:25:35.034162Z",
     "start_time": "2020-02-18T18:25:34.962Z"
    }
   },
   "outputs": [],
   "source": [
    "def T_fourier(serie):\n",
    "    serie_trend=serie[fecha_inicio2:fecha_fin2].values\n",
    "    serie_detrened=signal.detrend(serie_trend)\n",
    "    fourier=np.fft.fft(serie_detrened)\n",
    "    freq= np.fft.fftfreq(len(serie_detrened)) \n",
    "    pot = np.abs(fourier*1./len(fourier))\n",
    "    periodos = 1/freq\n",
    "    freq_pos=np.where(freq>=0)[0]\n",
    "    \n",
    "    return fourier,freq_pos,pot,periodos,freq"
   ]
  },
  {
   "cell_type": "code",
   "execution_count": null,
   "metadata": {
    "ExecuteTime": {
     "end_time": "2020-02-18T18:25:35.035731Z",
     "start_time": "2020-02-18T18:25:34.966Z"
    }
   },
   "outputs": [],
   "source": [
    "nmm_fourier,nmm_freq_pos,nmm_potencias,nmm_periodos,nmm_freq,=T_fourier(serie_real)"
   ]
  },
  {
   "cell_type": "code",
   "execution_count": null,
   "metadata": {
    "ExecuteTime": {
     "end_time": "2020-02-18T18:25:35.037238Z",
     "start_time": "2020-02-18T18:25:34.970Z"
    }
   },
   "outputs": [],
   "source": [
    "# %matplotlib notebook\n",
    "plt.figure(figsize=(8,4))\n",
    "plt.suptitle(\"Espectro de potencias de Fourier\")\n",
    "plt.subplot(121)\n",
    "plt.plot(nmm_periodos[nmm_freq_pos],nmm_potencias[nmm_freq_pos],'-o',c=\"tomato\")\n",
    "# plt.xscale(\"log\")\n",
    "plt.axvline(x=6,ymin=0,ymax=1,ls=\"--\",c='k')\n",
    "plt.axvline(x=12,ymin=0,ymax=1,ls=\"--\",c='k')\n",
    "plt.axvline(x=24,ymin=0,ymax=1,ls=\"--\",c='k')\n",
    "plt.xlabel(\"Período [horas]\")\n",
    "plt.ylabel(\"Potencia [$m^{2}$]\")\n",
    "plt.savefig(\".\\Plots\\Espectro de potencias.jpg\",dpi=800,box_inches=\"tight\",pad_inches=0)\n",
    "\n",
    "plt.subplot(122)\n",
    "plt.plot(nmm_periodos[nmm_freq_pos],nmm_potencias[nmm_freq_pos],'-o',c=\"tomato\")\n",
    "# plt.xscale(\"log\")\n",
    "plt.axvline(x=6,ymin=0,ymax=1,ls=\"--\",c='k',alpha=0.5)\n",
    "plt.axvline(x=12,ymin=0,ymax=1,ls=\"--\",c='k',alpha=0.5)\n",
    "plt.axvline(x=24,ymin=0,ymax=1,ls=\"--\",c='k',alpha=0.5)\n",
    "plt.xlabel(\"Período [horas]\")\n",
    "plt.ylabel(\"Potencia [$m^{2}$]\")\n",
    "plt.xlim(0,30)\n",
    "plt.ylim(0,0.1)\n",
    "plt.savefig(\".\\Plots\\Espectro de potencias.jpg\",dpi=800,box_inches=\"tight\",pad_inches=0)\n",
    "\n",
    "plt.subplots_adjust(wspace=0.3)"
   ]
  },
  {
   "cell_type": "code",
   "execution_count": null,
   "metadata": {
    "ExecuteTime": {
     "end_time": "2020-02-18T18:25:35.038723Z",
     "start_time": "2020-02-18T18:25:34.974Z"
    }
   },
   "outputs": [],
   "source": [
    "df_fourier=pd.DataFrame({\"potencias\":nmm_potencias[nmm_freq_pos],\"p\":nmm_periodos[nmm_freq_pos]})"
   ]
  },
  {
   "cell_type": "code",
   "execution_count": null,
   "metadata": {
    "ExecuteTime": {
     "end_time": "2020-02-18T18:25:35.040034Z",
     "start_time": "2020-02-18T18:25:34.979Z"
    }
   },
   "outputs": [],
   "source": [
    "# df_fourier[(round(df_fourier[\"p\"],2)==11.96) | (round(df_fourier[\"p\"],2)==11.97)]"
   ]
  },
  {
   "cell_type": "code",
   "execution_count": null,
   "metadata": {
    "ExecuteTime": {
     "end_time": "2020-02-18T18:25:35.041196Z",
     "start_time": "2020-02-18T18:25:34.983Z"
    }
   },
   "outputs": [],
   "source": [
    "test=df_fourier.sort_values(by=\"potencias\")\n",
    "# qgrid_widget = qgrid.show_grid(test, show_toolbar=True)"
   ]
  },
  {
   "cell_type": "markdown",
   "metadata": {},
   "source": [
    "## Construyendo una componente\n",
    "\n",
    "Para una primera aproximación, se intentará recrear el armónico $S_{2}$"
   ]
  },
  {
   "cell_type": "code",
   "execution_count": 9,
   "metadata": {
    "ExecuteTime": {
     "end_time": "2020-02-18T18:25:35.155265Z",
     "start_time": "2020-02-18T18:25:35.144254Z"
    }
   },
   "outputs": [
    {
     "ename": "NameError",
     "evalue": "name 'df_fourier' is not defined",
     "output_type": "error",
     "traceback": [
      "\u001b[0;31m---------------------------------------------------------------------------\u001b[0m",
      "\u001b[0;31mNameError\u001b[0m                                 Traceback (most recent call last)",
      "\u001b[0;32m<ipython-input-9-bb5b897a63fc>\u001b[0m in \u001b[0;36m<module>\u001b[0;34m\u001b[0m\n\u001b[0;32m----> 1\u001b[0;31m \u001b[0mindex\u001b[0m\u001b[0;34m=\u001b[0m\u001b[0mnp\u001b[0m\u001b[0;34m.\u001b[0m\u001b[0mwhere\u001b[0m\u001b[0;34m(\u001b[0m\u001b[0mround\u001b[0m\u001b[0;34m(\u001b[0m\u001b[0mdf_fourier\u001b[0m\u001b[0;34m[\u001b[0m\u001b[0;34m\"p\"\u001b[0m\u001b[0;34m]\u001b[0m\u001b[0;34m,\u001b[0m\u001b[0;36m2\u001b[0m\u001b[0;34m)\u001b[0m\u001b[0;34m==\u001b[0m\u001b[0;36m11.97\u001b[0m\u001b[0;34m)\u001b[0m\u001b[0;34m[\u001b[0m\u001b[0;36m0\u001b[0m\u001b[0;34m]\u001b[0m\u001b[0;34m[\u001b[0m\u001b[0;36m2\u001b[0m\u001b[0;34m]\u001b[0m \u001b[0;31m#Index 4384 con mayor potencia\u001b[0m\u001b[0;34m\u001b[0m\u001b[0;34m\u001b[0m\u001b[0m\n\u001b[0m\u001b[1;32m      2\u001b[0m \u001b[0mamplitud_s2\u001b[0m\u001b[0;34m=\u001b[0m\u001b[0mnmm_potencias\u001b[0m\u001b[0;34m[\u001b[0m\u001b[0mindex\u001b[0m\u001b[0;34m]\u001b[0m\u001b[0;34m*\u001b[0m\u001b[0;36m2\u001b[0m\u001b[0;34m\u001b[0m\u001b[0;34m\u001b[0m\u001b[0m\n\u001b[1;32m      3\u001b[0m \u001b[0mfase_s2\u001b[0m\u001b[0;34m=\u001b[0m\u001b[0mnp\u001b[0m\u001b[0;34m.\u001b[0m\u001b[0mangle\u001b[0m\u001b[0;34m(\u001b[0m\u001b[0mnmm_fourier\u001b[0m\u001b[0;34m[\u001b[0m\u001b[0mindex\u001b[0m\u001b[0;34m]\u001b[0m\u001b[0;34m)\u001b[0m\u001b[0;34m\u001b[0m\u001b[0;34m\u001b[0m\u001b[0m\n",
      "\u001b[0;31mNameError\u001b[0m: name 'df_fourier' is not defined"
     ]
    }
   ],
   "source": [
    "index=np.where(round(df_fourier[\"p\"],2)==11.97)[0][2] #Index 4384 con mayor potencia\n",
    "amplitud_s2=nmm_potencias[index]*2 \n",
    "fase_s2=np.angle(nmm_fourier[index])"
   ]
  },
  {
   "cell_type": "code",
   "execution_count": null,
   "metadata": {
    "ExecuteTime": {
     "end_time": "2020-02-18T18:25:35.157499Z",
     "start_time": "2020-02-18T18:25:35.109Z"
    }
   },
   "outputs": [],
   "source": [
    "t=np.arange(0,len(nmm_fourier))\n",
    "s2_e=amplitud_s2*np.exp(1j*(nmm_freq[index]*2*np.pi*t+fase_s2))\n",
    "s2=amplitud_s2*(np.cos(nmm_freq[index]*2*np.pi*t+fase_s2)+1j*np.sin(nmm_freq[index]*2*np.pi*t+fase_s2))"
   ]
  },
  {
   "cell_type": "code",
   "execution_count": null,
   "metadata": {
    "ExecuteTime": {
     "end_time": "2020-02-18T18:25:35.158904Z",
     "start_time": "2020-02-18T18:25:35.114Z"
    }
   },
   "outputs": [],
   "source": [
    "plt.plot(s2[:49])\n",
    "plt.plot(s2_e[:49])"
   ]
  },
  {
   "cell_type": "code",
   "execution_count": null,
   "metadata": {
    "ExecuteTime": {
     "end_time": "2020-02-18T18:25:35.160758Z",
     "start_time": "2020-02-18T18:25:35.118Z"
    }
   },
   "outputs": [],
   "source": [
    "n=len(nmm_fourier)\n",
    "\n",
    "nmm_fourier_copy=np.copy(nmm_fourier)    \n",
    "np.put(nmm_fourier_copy, range(0,index), 0.0)\n",
    "np.put(nmm_fourier_copy, range(index+1, n), 0.0)\n",
    "nmm_fourier_copy=nmm_fourier_copy*2\n",
    "# Now fourier holds 1 imaginary coefficient\n",
    "ifft = np.fft.ifft(nmm_fourier_copy)"
   ]
  },
  {
   "cell_type": "code",
   "execution_count": null,
   "metadata": {
    "ExecuteTime": {
     "end_time": "2020-02-18T18:25:35.162252Z",
     "start_time": "2020-02-18T18:25:35.123Z"
    }
   },
   "outputs": [],
   "source": [
    "plt.plot(ifft[:49])\n",
    "plt.plot(s2[:49])"
   ]
  },
  {
   "cell_type": "markdown",
   "metadata": {},
   "source": [
    "## Construyendo diversas componentes"
   ]
  },
  {
   "cell_type": "code",
   "execution_count": 10,
   "metadata": {
    "ExecuteTime": {
     "end_time": "2020-02-18T18:25:35.289428Z",
     "start_time": "2020-02-18T18:25:35.276010Z"
    }
   },
   "outputs": [
    {
     "ename": "NameError",
     "evalue": "name 'test' is not defined",
     "output_type": "error",
     "traceback": [
      "\u001b[0;31m---------------------------------------------------------------------------\u001b[0m",
      "\u001b[0;31mNameError\u001b[0m                                 Traceback (most recent call last)",
      "\u001b[0;32m<ipython-input-10-560b6b5b3156>\u001b[0m in \u001b[0;36m<module>\u001b[0;34m\u001b[0m\n\u001b[0;32m----> 1\u001b[0;31m \u001b[0mindex\u001b[0m\u001b[0;34m=\u001b[0m\u001b[0mtest\u001b[0m\u001b[0;34m[\u001b[0m\u001b[0mtest\u001b[0m\u001b[0;34m.\u001b[0m\u001b[0mp\u001b[0m\u001b[0;34m<=\u001b[0m\u001b[0;36m3\u001b[0m\u001b[0;34m]\u001b[0m\u001b[0;34m.\u001b[0m\u001b[0mindex\u001b[0m\u001b[0;34m\u001b[0m\u001b[0;34m\u001b[0m\u001b[0m\n\u001b[0m",
      "\u001b[0;31mNameError\u001b[0m: name 'test' is not defined"
     ]
    }
   ],
   "source": [
    "index=test[test.p<=3].index"
   ]
  },
  {
   "cell_type": "code",
   "execution_count": null,
   "metadata": {
    "ExecuteTime": {
     "end_time": "2020-02-18T18:25:35.292766Z",
     "start_time": "2020-02-18T18:25:35.283Z"
    }
   },
   "outputs": [],
   "source": [
    "test.p[index]"
   ]
  },
  {
   "cell_type": "markdown",
   "metadata": {},
   "source": [
    "### Obteniendo la sumatoria de las componente armónicas"
   ]
  },
  {
   "cell_type": "code",
   "execution_count": 11,
   "metadata": {
    "ExecuteTime": {
     "end_time": "2020-02-18T18:25:35.462464Z",
     "start_time": "2020-02-18T18:25:35.450255Z"
    }
   },
   "outputs": [
    {
     "ename": "NameError",
     "evalue": "name 'nmm_fourier' is not defined",
     "output_type": "error",
     "traceback": [
      "\u001b[0;31m---------------------------------------------------------------------------\u001b[0m",
      "\u001b[0;31mNameError\u001b[0m                                 Traceback (most recent call last)",
      "\u001b[0;32m<ipython-input-11-75c1b40dec1e>\u001b[0m in \u001b[0;36m<module>\u001b[0;34m\u001b[0m\n\u001b[0;32m----> 1\u001b[0;31m \u001b[0msuma_total\u001b[0m\u001b[0;34m=\u001b[0m\u001b[0mnp\u001b[0m\u001b[0;34m.\u001b[0m\u001b[0mzeros\u001b[0m\u001b[0;34m(\u001b[0m\u001b[0;34m(\u001b[0m\u001b[0mlen\u001b[0m\u001b[0;34m(\u001b[0m\u001b[0mnmm_fourier\u001b[0m\u001b[0;34m)\u001b[0m\u001b[0;34m,\u001b[0m\u001b[0;34m)\u001b[0m\u001b[0;34m)\u001b[0m\u001b[0;34m*\u001b[0m\u001b[0;36m1j\u001b[0m\u001b[0;34m\u001b[0m\u001b[0;34m\u001b[0m\u001b[0m\n\u001b[0m\u001b[1;32m      2\u001b[0m \u001b[0mt\u001b[0m\u001b[0;34m=\u001b[0m\u001b[0mnp\u001b[0m\u001b[0;34m.\u001b[0m\u001b[0marange\u001b[0m\u001b[0;34m(\u001b[0m\u001b[0;36m0\u001b[0m\u001b[0;34m,\u001b[0m\u001b[0mlen\u001b[0m\u001b[0;34m(\u001b[0m\u001b[0mnmm_fourier\u001b[0m\u001b[0;34m)\u001b[0m\u001b[0;34m)\u001b[0m\u001b[0;34m\u001b[0m\u001b[0;34m\u001b[0m\u001b[0m\n\u001b[1;32m      3\u001b[0m \u001b[0;32mfor\u001b[0m \u001b[0mix\u001b[0m \u001b[0;32min\u001b[0m \u001b[0mindex\u001b[0m\u001b[0;34m:\u001b[0m\u001b[0;34m\u001b[0m\u001b[0;34m\u001b[0m\u001b[0m\n\u001b[1;32m      4\u001b[0m     \u001b[0mamplitud\u001b[0m\u001b[0;34m=\u001b[0m\u001b[0mnmm_potencias\u001b[0m\u001b[0;34m[\u001b[0m\u001b[0mix\u001b[0m\u001b[0;34m]\u001b[0m\u001b[0;34m*\u001b[0m\u001b[0;36m2\u001b[0m\u001b[0;34m\u001b[0m\u001b[0;34m\u001b[0m\u001b[0m\n\u001b[1;32m      5\u001b[0m     \u001b[0mfase\u001b[0m\u001b[0;34m=\u001b[0m\u001b[0mnp\u001b[0m\u001b[0;34m.\u001b[0m\u001b[0mangle\u001b[0m\u001b[0;34m(\u001b[0m\u001b[0mnmm_fourier\u001b[0m\u001b[0;34m[\u001b[0m\u001b[0mix\u001b[0m\u001b[0;34m]\u001b[0m\u001b[0;34m)\u001b[0m\u001b[0;34m\u001b[0m\u001b[0;34m\u001b[0m\u001b[0m\n",
      "\u001b[0;31mNameError\u001b[0m: name 'nmm_fourier' is not defined"
     ]
    }
   ],
   "source": [
    "suma_total=np.zeros((len(nmm_fourier),))*1j\n",
    "t=np.arange(0,len(nmm_fourier))\n",
    "for ix in index:\n",
    "    amplitud=nmm_potencias[ix]*2 \n",
    "    fase=np.angle(nmm_fourier[ix])\n",
    "    suma_total+=amplitud*np.exp(1j*(nmm_freq[ix]*2*np.pi*t+fase))\n",
    "#     suma_total+=amplitud*(np.cos(nmm_freq[ix]*2*np.pi*t+fase)+1j*np.sin(nmm_freq[ix]*2*np.pi*t+fase))"
   ]
  },
  {
   "cell_type": "code",
   "execution_count": null,
   "metadata": {
    "ExecuteTime": {
     "end_time": "2020-02-18T18:25:35.464891Z",
     "start_time": "2020-02-18T18:25:35.454Z"
    }
   },
   "outputs": [],
   "source": [
    "plt.figure()\n",
    "plt.plot(suma_total)"
   ]
  },
  {
   "cell_type": "code",
   "execution_count": 12,
   "metadata": {
    "ExecuteTime": {
     "end_time": "2020-02-18T18:25:35.586925Z",
     "start_time": "2020-02-18T18:25:35.566878Z"
    }
   },
   "outputs": [
    {
     "ename": "NameError",
     "evalue": "name 'nmm_fourier' is not defined",
     "output_type": "error",
     "traceback": [
      "\u001b[0;31m---------------------------------------------------------------------------\u001b[0m",
      "\u001b[0;31mNameError\u001b[0m                                 Traceback (most recent call last)",
      "\u001b[0;32m<ipython-input-12-e1e12698d2ed>\u001b[0m in \u001b[0;36m<module>\u001b[0;34m\u001b[0m\n\u001b[0;32m----> 1\u001b[0;31m \u001b[0mn\u001b[0m\u001b[0;34m=\u001b[0m\u001b[0mlen\u001b[0m\u001b[0;34m(\u001b[0m\u001b[0mnmm_fourier\u001b[0m\u001b[0;34m)\u001b[0m\u001b[0;34m\u001b[0m\u001b[0;34m\u001b[0m\u001b[0m\n\u001b[0m\u001b[1;32m      2\u001b[0m \u001b[0msuma\u001b[0m\u001b[0;34m=\u001b[0m\u001b[0mnp\u001b[0m\u001b[0;34m.\u001b[0m\u001b[0mzeros\u001b[0m\u001b[0;34m(\u001b[0m\u001b[0;34m(\u001b[0m\u001b[0mlen\u001b[0m\u001b[0;34m(\u001b[0m\u001b[0mnmm_fourier\u001b[0m\u001b[0;34m)\u001b[0m\u001b[0;34m,\u001b[0m\u001b[0;34m)\u001b[0m\u001b[0;34m)\u001b[0m\u001b[0;34m*\u001b[0m\u001b[0;36m1j\u001b[0m\u001b[0;34m\u001b[0m\u001b[0;34m\u001b[0m\u001b[0m\n\u001b[1;32m      3\u001b[0m \u001b[0;32mfor\u001b[0m \u001b[0mi\u001b[0m \u001b[0;32min\u001b[0m \u001b[0mindex\u001b[0m\u001b[0;34m:\u001b[0m\u001b[0;34m\u001b[0m\u001b[0;34m\u001b[0m\u001b[0m\n\u001b[1;32m      4\u001b[0m     \u001b[0mnmm_fourier_copy\u001b[0m\u001b[0;34m=\u001b[0m\u001b[0mnp\u001b[0m\u001b[0;34m.\u001b[0m\u001b[0mcopy\u001b[0m\u001b[0;34m(\u001b[0m\u001b[0mnmm_fourier\u001b[0m\u001b[0;34m)\u001b[0m\u001b[0;34m\u001b[0m\u001b[0;34m\u001b[0m\u001b[0m\n\u001b[1;32m      5\u001b[0m     \u001b[0mnp\u001b[0m\u001b[0;34m.\u001b[0m\u001b[0mput\u001b[0m\u001b[0;34m(\u001b[0m\u001b[0mnmm_fourier_copy\u001b[0m\u001b[0;34m,\u001b[0m \u001b[0mrange\u001b[0m\u001b[0;34m(\u001b[0m\u001b[0;36m0\u001b[0m\u001b[0;34m,\u001b[0m\u001b[0mi\u001b[0m\u001b[0;34m)\u001b[0m\u001b[0;34m,\u001b[0m \u001b[0;36m0.0\u001b[0m\u001b[0;34m)\u001b[0m\u001b[0;34m\u001b[0m\u001b[0;34m\u001b[0m\u001b[0m\n",
      "\u001b[0;31mNameError\u001b[0m: name 'nmm_fourier' is not defined"
     ]
    }
   ],
   "source": [
    "n=len(nmm_fourier)\n",
    "suma=np.zeros((len(nmm_fourier),))*1j\n",
    "for i in index:\n",
    "    nmm_fourier_copy=np.copy(nmm_fourier)    \n",
    "    np.put(nmm_fourier_copy, range(0,i), 0.0)\n",
    "    np.put(nmm_fourier_copy, range(i+1, n), 0.0)\n",
    "# Now fourier holds 1 imaginary coefficient\n",
    "    ifft = np.fft.ifft(nmm_fourier_copy*2)\n",
    "    suma+=ifft"
   ]
  },
  {
   "cell_type": "code",
   "execution_count": null,
   "metadata": {
    "ExecuteTime": {
     "end_time": "2020-02-18T18:25:35.589673Z",
     "start_time": "2020-02-18T18:25:35.465Z"
    }
   },
   "outputs": [],
   "source": [
    "plt.figure()\n",
    "plt.plot(suma)"
   ]
  },
  {
   "cell_type": "markdown",
   "metadata": {},
   "source": [
    "Sólo queda elegir los períodos a través de los cuales se quiere filtrar, extender el vector t dentro del ciclo y restar el valor obtenido al registro inicial."
   ]
  },
  {
   "cell_type": "code",
   "execution_count": null,
   "metadata": {},
   "outputs": [],
   "source": []
  },
  {
   "cell_type": "code",
   "execution_count": 13,
   "metadata": {
    "ExecuteTime": {
     "end_time": "2020-02-18T18:25:35.704022Z",
     "start_time": "2020-02-18T18:25:35.692842Z"
    }
   },
   "outputs": [
    {
     "ename": "NameError",
     "evalue": "name 'serie_real' is not defined",
     "output_type": "error",
     "traceback": [
      "\u001b[0;31m---------------------------------------------------------------------------\u001b[0m",
      "\u001b[0;31mNameError\u001b[0m                                 Traceback (most recent call last)",
      "\u001b[0;32m<ipython-input-13-9eafec80e5b1>\u001b[0m in \u001b[0;36m<module>\u001b[0;34m\u001b[0m\n\u001b[0;32m----> 1\u001b[0;31m \u001b[0mserie_real\u001b[0m\u001b[0;34m=\u001b[0m\u001b[0mserie_real\u001b[0m\u001b[0;34m.\u001b[0m\u001b[0mrolling\u001b[0m\u001b[0;34m(\u001b[0m\u001b[0;36m30\u001b[0m\u001b[0;34m)\u001b[0m\u001b[0;34m.\u001b[0m\u001b[0mmean\u001b[0m\u001b[0;34m(\u001b[0m\u001b[0;34m)\u001b[0m\u001b[0;34m\u001b[0m\u001b[0;34m\u001b[0m\u001b[0m\n\u001b[0m",
      "\u001b[0;31mNameError\u001b[0m: name 'serie_real' is not defined"
     ]
    }
   ],
   "source": [
    "serie_real=serie_real.rolling(30).mean()"
   ]
  },
  {
   "cell_type": "markdown",
   "metadata": {
    "ExecuteTime": {
     "end_time": "2020-02-17T05:38:01.478694Z",
     "start_time": "2020-02-17T05:38:01.466005Z"
    }
   },
   "source": [
    "# Revisando evento por evento"
   ]
  },
  {
   "cell_type": "markdown",
   "metadata": {},
   "source": [
    "## Niño 1994-1995 (moderado)"
   ]
  },
  {
   "cell_type": "code",
   "execution_count": 14,
   "metadata": {
    "ExecuteTime": {
     "end_time": "2020-02-18T18:25:36.606184Z",
     "start_time": "2020-02-18T18:25:35.890614Z"
    }
   },
   "outputs": [
    {
     "ename": "NameError",
     "evalue": "name 'lat' is not defined",
     "output_type": "error",
     "traceback": [
      "\u001b[0;31m---------------------------------------------------------------------------\u001b[0m",
      "\u001b[0;31mNameError\u001b[0m                                 Traceback (most recent call last)",
      "\u001b[0;32m<ipython-input-14-efd04156c78c>\u001b[0m in \u001b[0;36m<module>\u001b[0;34m\u001b[0m\n\u001b[1;32m     18\u001b[0m \u001b[0max2\u001b[0m \u001b[0;34m=\u001b[0m \u001b[0mfig\u001b[0m\u001b[0;34m.\u001b[0m\u001b[0madd_subplot\u001b[0m\u001b[0;34m(\u001b[0m\u001b[0mgs\u001b[0m\u001b[0;34m[\u001b[0m\u001b[0;36m1\u001b[0m\u001b[0;34m,\u001b[0m \u001b[0;36m0\u001b[0m\u001b[0;34m]\u001b[0m\u001b[0;34m)\u001b[0m\u001b[0;34m\u001b[0m\u001b[0;34m\u001b[0m\u001b[0m\n\u001b[1;32m     19\u001b[0m \u001b[0max2\u001b[0m\u001b[0;34m.\u001b[0m\u001b[0minvert_yaxis\u001b[0m\u001b[0;34m(\u001b[0m\u001b[0;34m)\u001b[0m  \u001b[0;31m# Reverse the time order to do oldest first\u001b[0m\u001b[0;34m\u001b[0m\u001b[0;34m\u001b[0m\u001b[0m\n\u001b[0;32m---> 20\u001b[0;31m \u001b[0max2\u001b[0m\u001b[0;34m.\u001b[0m\u001b[0mset_title\u001b[0m\u001b[0;34m(\u001b[0m\u001b[0;34m'Diagrama de Hovmoller para lat: '\u001b[0m\u001b[0;34m+\u001b[0m\u001b[0mstr\u001b[0m\u001b[0;34m(\u001b[0m\u001b[0mlat\u001b[0m\u001b[0;34m[\u001b[0m\u001b[0;36m27\u001b[0m\u001b[0;34m]\u001b[0m\u001b[0;34m)\u001b[0m\u001b[0;34m+\u001b[0m\u001b[0;34m\"°N\"\u001b[0m\u001b[0;34m,\u001b[0m\u001b[0mfontsize\u001b[0m\u001b[0;34m=\u001b[0m\u001b[0;36m18\u001b[0m\u001b[0;34m)\u001b[0m\u001b[0;34m\u001b[0m\u001b[0;34m\u001b[0m\u001b[0m\n\u001b[0m\u001b[1;32m     21\u001b[0m \u001b[0;34m\u001b[0m\u001b[0m\n\u001b[1;32m     22\u001b[0m \u001b[0mx\u001b[0m\u001b[0;34m,\u001b[0m\u001b[0my\u001b[0m\u001b[0;34m=\u001b[0m\u001b[0mnp\u001b[0m\u001b[0;34m.\u001b[0m\u001b[0mmeshgrid\u001b[0m\u001b[0;34m(\u001b[0m\u001b[0mnew_lon\u001b[0m\u001b[0;34m,\u001b[0m\u001b[0mnew_array\u001b[0m\u001b[0;34m)\u001b[0m\u001b[0;34m\u001b[0m\u001b[0;34m\u001b[0m\u001b[0m\n",
      "\u001b[0;31mNameError\u001b[0m: name 'lat' is not defined"
     ]
    },
    {
     "data": {
      "image/png": "[encoded data removed]",
      "text/plain": [
       "<Figure size 864x720 with 1 Axes>"
      ]
     },
     "metadata": {
      "needs_background": "light"
     },
     "output_type": "display_data"
    }
   ],
   "source": [
    "fig=plt.figure(figsize=(12,10))\n",
    "fig.suptitle(\"Niño 1994-1995 (moderado)\",y=0.92,fontsize=20)\n",
    "\n",
    "gs = gsa.GridSpec(nrows=2, ncols=1,height_ratios=[1,6])\n",
    "\n",
    "# x_tick_labels = [u'120\\N{DEGREE SIGN}W', u'110\\N{DEGREE SIGN}W',\n",
    "#                  u'100\\N{DEGREE SIGN}W', u'90\\N{DEGREE SIGN}W',\n",
    "#                  u'80\\N{DEGREE SIGN}W']\n",
    "\n",
    "# y_tick_labels = [u'-2\\N{DEGREE SIGN}N', u'0\\N{DEGREE SIGN}N',\n",
    "#                  u'2\\N{DEGREE SIGN}N', u'4\\N{DEGREE SIGN}N',\n",
    "#                  u'6\\N{DEGREE SIGN}N',u'8\\N{DEGREE SIGN}N']\n",
    "\n",
    "xlocs=np.arange(-120, -60, 10)\n",
    "ylocs=np.arange(-3,10,2)\n",
    "\n",
    "# Acerca del segundo subplot\n",
    "ax2 = fig.add_subplot(gs[1, 0])\n",
    "ax2.invert_yaxis()  # Reverse the time order to do oldest first\n",
    "ax2.set_title('Diagrama de Hovmoller para lat: '+str(lat[27])+\"°N\",fontsize=18)\n",
    "\n",
    "x,y=np.meshgrid(new_lon,new_array)\n",
    "cf=ax2.contourf(x,y,sla_copy_mod[:,:],20,cmap=\"jet\")\n",
    "cr=ax2.contour(x,y,sla_copy_mod[:,:],20,colors=\"k\",linewidths=0.3)\n",
    "cbar = plt.colorbar(cf, orientation='horizontal', pad=0.08, aspect=50)\n",
    "cbar.set_label('m',fontsize=15)\n",
    "cbar.ax.tick_params(labelsize=15) \n",
    "\n",
    "ax2.set_xticks(np.array(xlocs)+360)\n",
    "ax2.set_xticklabels(x_tick_labels)\n",
    "ax2.set_ylim((new_array[365*3],new_array[0]))\n",
    "ax2.set_xlim((new_lon[0],new_lon[-4]))\n",
    "\n",
    "ax2.tick_params(labelsize=15)\n",
    "\n",
    "\n",
    "#Linea alrededor de 92°W\n",
    "ax2.axvline(x=new_lon[26],c='k',ls='--',lw=3)\n",
    "\n",
    "# Acerca del primer subplot\n",
    "ax1 = fig.add_subplot(gs[0, 0])\n",
    "ax1.plot(serie_real, 'k')\n",
    "for i,k in zip(inicio_niño,fin_niño): #Niño y después niña\n",
    "    ax1.fill_betweenx([-3,3],Serie_oni.index[locs_niño[i]],Serie_oni.index[locs_niño[k]],color=\"r\",alpha=0.4)\n",
    "for j,m in zip(inicio_niña,fin_niña): #Niño y después niña\n",
    "    ax1.fill_betweenx([-3,3],Serie_oni.index[locs_niña[j]],Serie_oni.index[locs_niña[m]],color=\"b\",alpha=0.4) \n",
    "ax1.set_ylabel(\"nmm [m]\")\n",
    "ax1.set_xlim((new_array[0],new_array[365*3]))\n",
    "\n",
    "plt.savefig('./Plots/hovmoller_95_96.png',dpi=600,bbox_inches=\"tight\")"
   ]
  },
  {
   "cell_type": "markdown",
   "metadata": {},
   "source": [
    "Tuvo cerca a la costa, anomalías alrededor de los 12 cm, su intensidad fue moderada, empezó en Septiembre y acabó en marzo y duró cerca de 6 meses.\n",
    "\n",
    "Las anomalías que registra son..."
   ]
  },
  {
   "cell_type": "code",
   "execution_count": null,
   "metadata": {},
   "outputs": [],
   "source": []
  },
  {
   "cell_type": "markdown",
   "metadata": {},
   "source": [
    "## Niño 1997-1998 (very strong) "
   ]
  },
  {
   "cell_type": "code",
   "execution_count": null,
   "metadata": {
    "ExecuteTime": {
     "end_time": "2020-02-18T18:25:36.610971Z",
     "start_time": "2020-02-18T18:25:36.238Z"
    }
   },
   "outputs": [],
   "source": [
    "fig=plt.figure(figsize=(12,10))\n",
    "fig.suptitle(\"Niño 1997-1998 (muy fuerte)\",y=0.92,fontsize=20)\n",
    "\n",
    "\n",
    "gs = gsa.GridSpec(nrows=2, ncols=1,height_ratios=[1,6])\n",
    "\n",
    "# x_tick_labels = [u'120\\N{DEGREE SIGN}W', u'110\\N{DEGREE SIGN}W',\n",
    "#                  u'100\\N{DEGREE SIGN}W', u'90\\N{DEGREE SIGN}W',\n",
    "#                  u'80\\N{DEGREE SIGN}W']\n",
    "\n",
    "# y_tick_labels = [u'-2\\N{DEGREE SIGN}N', u'0\\N{DEGREE SIGN}N',\n",
    "#                  u'2\\N{DEGREE SIGN}N', u'4\\N{DEGREE SIGN}N',\n",
    "#                  u'6\\N{DEGREE SIGN}N',u'8\\N{DEGREE SIGN}N']\n",
    "\n",
    "xlocs=np.arange(-120, -60, 10)\n",
    "ylocs=np.arange(-3,10,2)\n",
    "\n",
    "# Acerca del segundo subplot\n",
    "ax2 = fig.add_subplot(gs[1, 0])\n",
    "ax2.invert_yaxis()  # Reverse the time order to do oldest first\n",
    "ax2.set_title('Diagrama de Hovmoller para lat: '+str(lat[27])+\"°N\",fontsize=18)\n",
    "\n",
    "x,y=np.meshgrid(new_lon,new_array)\n",
    "cf=ax2.contourf(x,y,sla_copy_mod[:,:],20,cmap=\"jet\")\n",
    "cr=ax2.contour(x,y,sla_copy_mod[:,:],20,colors=\"k\",linewidths=0.3)\n",
    "cbar = plt.colorbar(cf, orientation='horizontal', pad=0.08, aspect=50)\n",
    "cbar.set_label('m',fontsize=15)\n",
    "cbar.ax.tick_params(labelsize=15) \n",
    "\n",
    "ax2.set_xticks(np.array(xlocs)+360)\n",
    "ax2.set_xticklabels(x_tick_labels)\n",
    "ax2.set_ylim((new_array[365*6],new_array[365*3]))\n",
    "ax2.set_xlim((new_lon[0],new_lon[-4]))\n",
    "\n",
    "ax2.tick_params(labelsize=15)\n",
    "\n",
    "ax2.axvline(x=new_lon[26],c='k',ls='--',lw=3)\n",
    "\n",
    "\n",
    "# Acerca del primer subplot\n",
    "ax1 = fig.add_subplot(gs[0, 0])\n",
    "ax1.plot(pd.Series(smooth(serie_real,90),index=serie_real.index), 'k')\n",
    "for i,k in zip(inicio_niño,fin_niño): #Niño y después niña\n",
    "    ax1.fill_betweenx([-3,3],Serie_oni.index[locs_niño[i]],Serie_oni.index[locs_niño[k]],color=\"r\",alpha=0.4)\n",
    "for j,m in zip(inicio_niña,fin_niña): #Niño y después niña\n",
    "    ax1.fill_betweenx([-3,3],Serie_oni.index[locs_niña[j]],Serie_oni.index[locs_niña[m]],color=\"b\",alpha=0.4) \n",
    "ax1.set_ylabel(\"nmm [m]\")\n",
    "ax1.set_xlim((new_array[365*3],new_array[365*6]))\n",
    "\n",
    "plt.savefig('./Plots/hovmoller_97_98.png',dpi=600,bbox_inches=\"tight\")"
   ]
  },
  {
   "cell_type": "markdown",
   "metadata": {},
   "source": [
    "Tuvo cerca a la costa, anomalías alrededor de los 30 cm, su intensidad fue muy fuerte, empezó en Mayo y acabó en Abril y duró cerca de 11 meses.\n",
    "\n",
    "Las anomalías que registra son..."
   ]
  },
  {
   "cell_type": "markdown",
   "metadata": {},
   "source": [
    "## Niño 2002-2003 (moderate)"
   ]
  },
  {
   "cell_type": "code",
   "execution_count": null,
   "metadata": {
    "ExecuteTime": {
     "end_time": "2020-02-18T18:25:36.614315Z",
     "start_time": "2020-02-18T18:25:36.560Z"
    }
   },
   "outputs": [],
   "source": [
    "fig=plt.figure(figsize=(12,10))\n",
    "fig.suptitle(\"Niño 2002-2003 (moderado)\",y=0.92,fontsize=20)\n",
    "gs = gsa.GridSpec(nrows=2, ncols=1,height_ratios=[1,6])\n",
    "\n",
    "# x_tick_labels = [u'120\\N{DEGREE SIGN}W', u'110\\N{DEGREE SIGN}W',\n",
    "#                  u'100\\N{DEGREE SIGN}W', u'90\\N{DEGREE SIGN}W',\n",
    "#                  u'80\\N{DEGREE SIGN}W']\n",
    "\n",
    "# y_tick_labels = [u'-2\\N{DEGREE SIGN}N', u'0\\N{DEGREE SIGN}N',\n",
    "#                  u'2\\N{DEGREE SIGN}N', u'4\\N{DEGREE SIGN}N',\n",
    "#                  u'6\\N{DEGREE SIGN}N',u'8\\N{DEGREE SIGN}N']\n",
    "\n",
    "xlocs=np.arange(-120, -60, 10)\n",
    "ylocs=np.arange(-3,10,2)\n",
    "\n",
    "# Acerca del segundo subplot\n",
    "ax2 = fig.add_subplot(gs[1, 0])\n",
    "ax2.invert_yaxis()  # Reverse the time order to do oldest first\n",
    "ax2.set_title('Diagrama de Hovmoller para lat: '+str(lat[27])+\"°N\",fontsize=18)\n",
    "\n",
    "x,y=np.meshgrid(new_lon,new_array)\n",
    "cf=ax2.contourf(x,y,sla_copy_mod[:,:],20,cmap=\"jet\")\n",
    "cr=ax2.contour(x,y,sla_copy_mod[:,:],20,colors=\"k\",linewidths=0.3)\n",
    "cbar = plt.colorbar(cf, orientation='horizontal', pad=0.08, aspect=50)\n",
    "cbar.set_label('m',fontsize=15)\n",
    "cbar.ax.tick_params(labelsize=15) \n",
    "\n",
    "ax2.set_xticks(np.array(xlocs)+360)\n",
    "ax2.set_xticklabels(x_tick_labels)\n",
    "ax2.set_ylim((new_array[365*11],new_array[365*9]))\n",
    "ax2.set_xlim((new_lon[0],new_lon[-4]))\n",
    "\n",
    "ax2.tick_params(labelsize=15)\n",
    "\n",
    "ax2.axvline(x=new_lon[26],c='k',ls='--',lw=3)\n",
    "\n",
    "\n",
    "# Acerca del primer subplot\n",
    "ax1 = fig.add_subplot(gs[0, 0])\n",
    "ax1.plot(pd.Series(smooth(serie_real,90),index=serie_real.index), 'k')\n",
    "for i,k in zip(inicio_niño,fin_niño): #Niño y después niña\n",
    "    ax1.fill_betweenx([-3,3],Serie_oni.index[locs_niño[i]],Serie_oni.index[locs_niño[k]],color=\"r\",alpha=0.4)\n",
    "for j,m in zip(inicio_niña,fin_niña): #Niño y después niña\n",
    "    ax1.fill_betweenx([-3,3],Serie_oni.index[locs_niña[j]],Serie_oni.index[locs_niña[m]],color=\"b\",alpha=0.4) \n",
    "ax1.set_ylabel(\"nmm [m]\")\n",
    "ax1.set_xlim((new_array[365*9],new_array[365*11]))\n",
    "\n",
    "plt.savefig('./Plots/hovmoller_02_03.png',dpi=600,bbox_inches=\"tight\")"
   ]
  },
  {
   "cell_type": "markdown",
   "metadata": {},
   "source": [
    "Tuvo cerca a la costa, anomalías alrededor de los 18 cm, su intensidad fue moderada, empezó en Junio y acabó en Febrero y duró cerca de 7 meses.\n",
    "\n",
    "Las anomalías que registra son..."
   ]
  },
  {
   "cell_type": "markdown",
   "metadata": {},
   "source": [
    "## Niño 2004-2005 (weak)"
   ]
  },
  {
   "cell_type": "code",
   "execution_count": 15,
   "metadata": {
    "ExecuteTime": {
     "end_time": "2020-02-18T18:25:37.251354Z",
     "start_time": "2020-02-18T18:25:36.927217Z"
    }
   },
   "outputs": [
    {
     "ename": "NameError",
     "evalue": "name 'lat' is not defined",
     "output_type": "error",
     "traceback": [
      "\u001b[0;31m---------------------------------------------------------------------------\u001b[0m",
      "\u001b[0;31mNameError\u001b[0m                                 Traceback (most recent call last)",
      "\u001b[0;32m<ipython-input-15-56e88618608f>\u001b[0m in \u001b[0;36m<module>\u001b[0;34m\u001b[0m\n\u001b[1;32m     17\u001b[0m \u001b[0max2\u001b[0m \u001b[0;34m=\u001b[0m \u001b[0mfig\u001b[0m\u001b[0;34m.\u001b[0m\u001b[0madd_subplot\u001b[0m\u001b[0;34m(\u001b[0m\u001b[0mgs\u001b[0m\u001b[0;34m[\u001b[0m\u001b[0;36m1\u001b[0m\u001b[0;34m,\u001b[0m \u001b[0;36m0\u001b[0m\u001b[0;34m]\u001b[0m\u001b[0;34m)\u001b[0m\u001b[0;34m\u001b[0m\u001b[0;34m\u001b[0m\u001b[0m\n\u001b[1;32m     18\u001b[0m \u001b[0max2\u001b[0m\u001b[0;34m.\u001b[0m\u001b[0minvert_yaxis\u001b[0m\u001b[0;34m(\u001b[0m\u001b[0;34m)\u001b[0m  \u001b[0;31m# Reverse the time order to do oldest first\u001b[0m\u001b[0;34m\u001b[0m\u001b[0;34m\u001b[0m\u001b[0m\n\u001b[0;32m---> 19\u001b[0;31m \u001b[0max2\u001b[0m\u001b[0;34m.\u001b[0m\u001b[0mset_title\u001b[0m\u001b[0;34m(\u001b[0m\u001b[0;34m'Diagrama de Hovmoller para lat: '\u001b[0m\u001b[0;34m+\u001b[0m\u001b[0mstr\u001b[0m\u001b[0;34m(\u001b[0m\u001b[0mlat\u001b[0m\u001b[0;34m[\u001b[0m\u001b[0;36m27\u001b[0m\u001b[0;34m]\u001b[0m\u001b[0;34m)\u001b[0m\u001b[0;34m+\u001b[0m\u001b[0;34m\"°N\"\u001b[0m\u001b[0;34m,\u001b[0m\u001b[0mfontsize\u001b[0m\u001b[0;34m=\u001b[0m\u001b[0;36m18\u001b[0m\u001b[0;34m)\u001b[0m\u001b[0;34m\u001b[0m\u001b[0;34m\u001b[0m\u001b[0m\n\u001b[0m\u001b[1;32m     20\u001b[0m \u001b[0;34m\u001b[0m\u001b[0m\n\u001b[1;32m     21\u001b[0m \u001b[0mx\u001b[0m\u001b[0;34m,\u001b[0m\u001b[0my\u001b[0m\u001b[0;34m=\u001b[0m\u001b[0mnp\u001b[0m\u001b[0;34m.\u001b[0m\u001b[0mmeshgrid\u001b[0m\u001b[0;34m(\u001b[0m\u001b[0mnew_lon\u001b[0m\u001b[0;34m,\u001b[0m\u001b[0mnew_array\u001b[0m\u001b[0;34m)\u001b[0m\u001b[0;34m\u001b[0m\u001b[0;34m\u001b[0m\u001b[0m\n",
      "\u001b[0;31mNameError\u001b[0m: name 'lat' is not defined"
     ]
    },
    {
     "data": {
      "image/png": "[encoded data removed]",
      "text/plain": [
       "<Figure size 864x720 with 1 Axes>"
      ]
     },
     "metadata": {
      "needs_background": "light"
     },
     "output_type": "display_data"
    }
   ],
   "source": [
    "fig=plt.figure(figsize=(12,10))\n",
    "fig.suptitle(\"Niño 2004-2005 (débil)\",y=0.92,fontsize=20)\n",
    "gs = gsa.GridSpec(nrows=2, ncols=1,height_ratios=[1,6])\n",
    "\n",
    "# x_tick_labels = [u'120\\N{DEGREE SIGN}W', u'110\\N{DEGREE SIGN}W',\n",
    "#                  u'100\\N{DEGREE SIGN}W', u'90\\N{DEGREE SIGN}W',\n",
    "#                  u'80\\N{DEGREE SIGN}W']\n",
    "\n",
    "# y_tick_labels = [u'-2\\N{DEGREE SIGN}N', u'0\\N{DEGREE SIGN}N',\n",
    "#                  u'2\\N{DEGREE SIGN}N', u'4\\N{DEGREE SIGN}N',\n",
    "#                  u'6\\N{DEGREE SIGN}N',u'8\\N{DEGREE SIGN}N']\n",
    "\n",
    "xlocs=np.arange(-120, -60, 10)\n",
    "ylocs=np.arange(-3,10,2)\n",
    "\n",
    "# Acerca del segundo subplot\n",
    "ax2 = fig.add_subplot(gs[1, 0])\n",
    "ax2.invert_yaxis()  # Reverse the time order to do oldest first\n",
    "ax2.set_title('Diagrama de Hovmoller para lat: '+str(lat[27])+\"°N\",fontsize=18)\n",
    "\n",
    "x,y=np.meshgrid(new_lon,new_array)\n",
    "cf=ax2.contourf(x,y,sla_copy_mod[:,:],20,cmap=\"jet\")\n",
    "cr=ax2.contour(x,y,sla_copy_mod[:,:],20,colors=\"k\",linewidths=0.3)\n",
    "cbar = plt.colorbar(cf, orientation='horizontal', pad=0.08, aspect=50)\n",
    "cbar.set_label('m',fontsize=15)\n",
    "cbar.ax.tick_params(labelsize=15) \n",
    "\n",
    "ax2.set_xticks(np.array(xlocs)+360)\n",
    "ax2.set_xticklabels(x_tick_labels)\n",
    "ax2.set_ylim((new_array[365*13],new_array[365*10]))\n",
    "ax2.set_xlim((new_lon[0],new_lon[-4]))\n",
    "\n",
    "ax2.tick_params(labelsize=15)\n",
    "\n",
    "ax2.axvline(x=new_lon[26],c='k',ls='--',lw=3)\n",
    "\n",
    "# Acerca del primer subplot\n",
    "ax1 = fig.add_subplot(gs[0, 0])\n",
    "ax1.plot(pd.Series(smooth(serie_real,90),index=serie_real.index), 'k')\n",
    "for i,k in zip(inicio_niño,fin_niño): #Niño y después niña\n",
    "    ax1.fill_betweenx([-3,3],Serie_oni.index[locs_niño[i]],Serie_oni.index[locs_niño[k]],color=\"r\",alpha=0.4)\n",
    "for j,m in zip(inicio_niña,fin_niña): #Niño y después niña\n",
    "    ax1.fill_betweenx([-3,3],Serie_oni.index[locs_niña[j]],Serie_oni.index[locs_niña[m]],color=\"b\",alpha=0.4) \n",
    "ax1.set_ylabel(\"nmm [m]\")\n",
    "ax1.set_xlim((new_array[365*10],new_array[365*13]))\n",
    "\n",
    "plt.savefig('./Plots/hovmoller_04_05.png',dpi=600,bbox_inches=\"tight\")"
   ]
  },
  {
   "cell_type": "markdown",
   "metadata": {},
   "source": [
    "Tuvo cerca a la costa, anomalías alrededor de los 10-11 cm, su intensidad fue débil, empezó en Julio y acabó en Febrero y duró cerca de 6 meses.\n",
    "\n",
    "Las anomalías que registra son..."
   ]
  },
  {
   "cell_type": "markdown",
   "metadata": {},
   "source": [
    "## Niño 2006-2007 (weak)"
   ]
  },
  {
   "cell_type": "code",
   "execution_count": null,
   "metadata": {
    "ExecuteTime": {
     "end_time": "2020-02-18T18:25:37.254013Z",
     "start_time": "2020-02-18T18:25:37.206Z"
    }
   },
   "outputs": [],
   "source": [
    "fig=plt.figure(figsize=(12,10))\n",
    "fig.suptitle(\"Niño 2006-2007 (débil)\",y=0.92,fontsize=20)\n",
    "\n",
    "gs = gsa.GridSpec(nrows=2, ncols=1,height_ratios=[1,6])\n",
    "\n",
    "# x_tick_labels = [u'120\\N{DEGREE SIGN}W', u'110\\N{DEGREE SIGN}W',\n",
    "#                  u'100\\N{DEGREE SIGN}W', u'90\\N{DEGREE SIGN}W',\n",
    "#                  u'80\\N{DEGREE SIGN}W']\n",
    "\n",
    "# y_tick_labels = [u'-2\\N{DEGREE SIGN}N', u'0\\N{DEGREE SIGN}N',\n",
    "#                  u'2\\N{DEGREE SIGN}N', u'4\\N{DEGREE SIGN}N',\n",
    "#                  u'6\\N{DEGREE SIGN}N',u'8\\N{DEGREE SIGN}N']\n",
    "\n",
    "xlocs=np.arange(-120, -60, 10)\n",
    "ylocs=np.arange(-3,10,2)\n",
    "\n",
    "# Acerca del segundo subplot\n",
    "ax2 = fig.add_subplot(gs[1, 0])\n",
    "ax2.invert_yaxis()  # Reverse the time order to do oldest first\n",
    "ax2.set_title('Diagrama de Hovmoller para lat: '+str(lat[27])+\"°N\",fontsize=18)\n",
    "\n",
    "x,y=np.meshgrid(new_lon,new_array)\n",
    "cf=ax2.contourf(x,y,sla_copy_mod[:,:],20,cmap=\"jet\")\n",
    "cr=ax2.contour(x,y,sla_copy_mod[:,:],20,colors=\"k\",linewidths=0.3)\n",
    "cbar = plt.colorbar(cf, orientation='horizontal', pad=0.08, aspect=50)\n",
    "cbar.set_label('m',fontsize=15)\n",
    "cbar.ax.tick_params(labelsize=15) \n",
    "\n",
    "ax2.set_xticks(np.array(xlocs)+360)\n",
    "ax2.set_xticklabels(x_tick_labels)\n",
    "ax2.set_ylim((new_array[365*15],new_array[365*13]))\n",
    "ax2.set_xlim((new_lon[0],new_lon[-4]))\n",
    "\n",
    "ax2.tick_params(labelsize=15)\n",
    "ax2.axvline(x=new_lon[26],c='k',ls='--',lw=3)\n",
    "\n",
    "\n",
    "# Acerca del primer subplot\n",
    "ax1 = fig.add_subplot(gs[0, 0])\n",
    "ax1.plot(pd.Series(smooth(serie_real,90),index=serie_real.index), 'k')\n",
    "for i,k in zip(inicio_niño,fin_niño): #Niño y después niña\n",
    "    ax1.fill_betweenx([-3,3],Serie_oni.index[locs_niño[i]],Serie_oni.index[locs_niño[k]],color=\"r\",alpha=0.4)\n",
    "for j,m in zip(inicio_niña,fin_niña): #Niño y después niña\n",
    "    ax1.fill_betweenx([-3,3],Serie_oni.index[locs_niña[j]],Serie_oni.index[locs_niña[m]],color=\"b\",alpha=0.4) \n",
    "ax1.set_ylabel(\"nmm [m]\")\n",
    "ax1.set_xlim((new_array[365*13],new_array[365*15]))\n",
    "\n",
    "plt.savefig('./Plots/hovmoller_06_07.png',dpi=600,bbox_inches=\"tight\")"
   ]
  },
  {
   "cell_type": "markdown",
   "metadata": {},
   "source": [
    "Tuvo cerca a la costa, anomalías alrededor de los 10-11 cm, su intensidad fue débil, empezó en Julio y acabó en Febrero y duró cerca de 4 meses.\n",
    "\n",
    "Las anomalías que registra son..."
   ]
  },
  {
   "cell_type": "code",
   "execution_count": 16,
   "metadata": {
    "ExecuteTime": {
     "end_time": "2020-02-18T18:25:37.370343Z",
     "start_time": "2020-02-18T18:25:37.357098Z"
    }
   },
   "outputs": [
    {
     "ename": "NameError",
     "evalue": "name 'inicio_niño' is not defined",
     "output_type": "error",
     "traceback": [
      "\u001b[0;31m---------------------------------------------------------------------------\u001b[0m",
      "\u001b[0;31mNameError\u001b[0m                                 Traceback (most recent call last)",
      "\u001b[0;32m<ipython-input-16-21188b4c30bf>\u001b[0m in \u001b[0;36m<module>\u001b[0;34m\u001b[0m\n\u001b[0;32m----> 1\u001b[0;31m \u001b[0;32mfor\u001b[0m \u001b[0mi\u001b[0m\u001b[0;34m,\u001b[0m\u001b[0mk\u001b[0m \u001b[0;32min\u001b[0m \u001b[0mzip\u001b[0m\u001b[0;34m(\u001b[0m\u001b[0minicio_niño\u001b[0m\u001b[0;34m,\u001b[0m\u001b[0mfin_niño\u001b[0m\u001b[0;34m)\u001b[0m\u001b[0;34m:\u001b[0m \u001b[0;31m#Niño y después niña\u001b[0m\u001b[0;34m\u001b[0m\u001b[0;34m\u001b[0m\u001b[0m\n\u001b[0m\u001b[1;32m      2\u001b[0m     \u001b[0ma\u001b[0m\u001b[0;34m=\u001b[0m\u001b[0mSerie_oni\u001b[0m\u001b[0;34m.\u001b[0m\u001b[0mindex\u001b[0m\u001b[0;34m[\u001b[0m\u001b[0mlocs_niño\u001b[0m\u001b[0;34m[\u001b[0m\u001b[0mi\u001b[0m\u001b[0;34m]\u001b[0m\u001b[0;34m]\u001b[0m\u001b[0;34m\u001b[0m\u001b[0;34m\u001b[0m\u001b[0m\n\u001b[1;32m      3\u001b[0m     \u001b[0mb\u001b[0m\u001b[0;34m=\u001b[0m\u001b[0mSerie_oni\u001b[0m\u001b[0;34m.\u001b[0m\u001b[0mindex\u001b[0m\u001b[0;34m[\u001b[0m\u001b[0mlocs_niño\u001b[0m\u001b[0;34m[\u001b[0m\u001b[0mk\u001b[0m\u001b[0;34m]\u001b[0m\u001b[0;34m]\u001b[0m\u001b[0;34m\u001b[0m\u001b[0;34m\u001b[0m\u001b[0m\n\u001b[1;32m      4\u001b[0m     \u001b[0mprint\u001b[0m\u001b[0;34m(\u001b[0m\u001b[0ma\u001b[0m\u001b[0;34m,\u001b[0m\u001b[0mb\u001b[0m\u001b[0;34m)\u001b[0m\u001b[0;34m\u001b[0m\u001b[0;34m\u001b[0m\u001b[0m\n",
      "\u001b[0;31mNameError\u001b[0m: name 'inicio_niño' is not defined"
     ]
    }
   ],
   "source": [
    "for i,k in zip(inicio_niño,fin_niño): #Niño y después niña\n",
    "    a=Serie_oni.index[locs_niño[i]]\n",
    "    b=Serie_oni.index[locs_niño[k]]\n",
    "    print(a,b)"
   ]
  },
  {
   "cell_type": "markdown",
   "metadata": {},
   "source": [
    "## Niño 2009-2010 (moderate)"
   ]
  },
  {
   "cell_type": "code",
   "execution_count": 17,
   "metadata": {
    "ExecuteTime": {
     "end_time": "2020-02-18T18:25:37.815201Z",
     "start_time": "2020-02-18T18:25:37.475678Z"
    }
   },
   "outputs": [
    {
     "ename": "NameError",
     "evalue": "name 'lat' is not defined",
     "output_type": "error",
     "traceback": [
      "\u001b[0;31m---------------------------------------------------------------------------\u001b[0m",
      "\u001b[0;31mNameError\u001b[0m                                 Traceback (most recent call last)",
      "\u001b[0;32m<ipython-input-17-4fa2a816da31>\u001b[0m in \u001b[0;36m<module>\u001b[0;34m\u001b[0m\n\u001b[1;32m     18\u001b[0m \u001b[0max2\u001b[0m \u001b[0;34m=\u001b[0m \u001b[0mfig\u001b[0m\u001b[0;34m.\u001b[0m\u001b[0madd_subplot\u001b[0m\u001b[0;34m(\u001b[0m\u001b[0mgs\u001b[0m\u001b[0;34m[\u001b[0m\u001b[0;36m1\u001b[0m\u001b[0;34m,\u001b[0m \u001b[0;36m0\u001b[0m\u001b[0;34m]\u001b[0m\u001b[0;34m)\u001b[0m\u001b[0;34m\u001b[0m\u001b[0;34m\u001b[0m\u001b[0m\n\u001b[1;32m     19\u001b[0m \u001b[0max2\u001b[0m\u001b[0;34m.\u001b[0m\u001b[0minvert_yaxis\u001b[0m\u001b[0;34m(\u001b[0m\u001b[0;34m)\u001b[0m  \u001b[0;31m# Reverse the time order to do oldest first\u001b[0m\u001b[0;34m\u001b[0m\u001b[0;34m\u001b[0m\u001b[0m\n\u001b[0;32m---> 20\u001b[0;31m \u001b[0max2\u001b[0m\u001b[0;34m.\u001b[0m\u001b[0mset_title\u001b[0m\u001b[0;34m(\u001b[0m\u001b[0;34m'Diagrama de Hovmoller para lat: '\u001b[0m\u001b[0;34m+\u001b[0m\u001b[0mstr\u001b[0m\u001b[0;34m(\u001b[0m\u001b[0mlat\u001b[0m\u001b[0;34m[\u001b[0m\u001b[0;36m27\u001b[0m\u001b[0;34m]\u001b[0m\u001b[0;34m)\u001b[0m\u001b[0;34m+\u001b[0m\u001b[0;34m\"°N\"\u001b[0m\u001b[0;34m,\u001b[0m\u001b[0mfontsize\u001b[0m\u001b[0;34m=\u001b[0m\u001b[0;36m18\u001b[0m\u001b[0;34m)\u001b[0m\u001b[0;34m\u001b[0m\u001b[0;34m\u001b[0m\u001b[0m\n\u001b[0m\u001b[1;32m     21\u001b[0m \u001b[0;34m\u001b[0m\u001b[0m\n\u001b[1;32m     22\u001b[0m \u001b[0mx\u001b[0m\u001b[0;34m,\u001b[0m\u001b[0my\u001b[0m\u001b[0;34m=\u001b[0m\u001b[0mnp\u001b[0m\u001b[0;34m.\u001b[0m\u001b[0mmeshgrid\u001b[0m\u001b[0;34m(\u001b[0m\u001b[0mnew_lon\u001b[0m\u001b[0;34m,\u001b[0m\u001b[0mnew_array\u001b[0m\u001b[0;34m)\u001b[0m\u001b[0;34m\u001b[0m\u001b[0;34m\u001b[0m\u001b[0m\n",
      "\u001b[0;31mNameError\u001b[0m: name 'lat' is not defined"
     ]
    },
    {
     "data": {
      "image/png": "[encoded data removed]",
      "text/plain": [
       "<Figure size 864x720 with 1 Axes>"
      ]
     },
     "metadata": {
      "needs_background": "light"
     },
     "output_type": "display_data"
    }
   ],
   "source": [
    "fig=plt.figure(figsize=(12,10))\n",
    "fig.suptitle(\"Niño 2009-2010 (moderado)\",y=0.92,fontsize=20)\n",
    "\n",
    "gs = gsa.GridSpec(nrows=2, ncols=1,height_ratios=[1,6])\n",
    "\n",
    "# x_tick_labels = [u'120\\N{DEGREE SIGN}W', u'110\\N{DEGREE SIGN}W',\n",
    "#                  u'100\\N{DEGREE SIGN}W', u'90\\N{DEGREE SIGN}W',\n",
    "#                  u'80\\N{DEGREE SIGN}W']\n",
    "\n",
    "# y_tick_labels = [u'-2\\N{DEGREE SIGN}N', u'0\\N{DEGREE SIGN}N',\n",
    "#                  u'2\\N{DEGREE SIGN}N', u'4\\N{DEGREE SIGN}N',\n",
    "#                  u'6\\N{DEGREE SIGN}N',u'8\\N{DEGREE SIGN}N']\n",
    "\n",
    "xlocs=np.arange(-120, -60, 10)\n",
    "ylocs=np.arange(-3,10,2)\n",
    "\n",
    "# Acerca del segundo subplot\n",
    "ax2 = fig.add_subplot(gs[1, 0])\n",
    "ax2.invert_yaxis()  # Reverse the time order to do oldest first\n",
    "ax2.set_title('Diagrama de Hovmoller para lat: '+str(lat[27])+\"°N\",fontsize=18)\n",
    "\n",
    "x,y=np.meshgrid(new_lon,new_array)\n",
    "cf=ax2.contourf(x,y,sla_copy_mod[:,:],20,cmap=\"jet\")\n",
    "cr=ax2.contour(x,y,sla_copy_mod[:,:],20,colors=\"k\",linewidths=0.3)\n",
    "cbar = plt.colorbar(cf, orientation='horizontal', pad=0.08, aspect=50)\n",
    "cbar.set_label('m',fontsize=15)\n",
    "cbar.ax.tick_params(labelsize=15) \n",
    "\n",
    "ax2.set_xticks(np.array(xlocs)+360)\n",
    "ax2.set_xticklabels(x_tick_labels)\n",
    "ax2.set_ylim((new_array[365*18],new_array[365*16]))\n",
    "ax2.set_xlim((new_lon[0],new_lon[-4]))\n",
    "\n",
    "ax2.tick_params(labelsize=15)\n",
    "ax2.axvline(x=new_lon[26],c='k',ls='--',lw=3)\n",
    "\n",
    "\n",
    "# Acerca del primer subplot\n",
    "ax1 = fig.add_subplot(gs[0, 0])\n",
    "ax1.plot(pd.Series(smooth(serie_real,90),index=serie_real.index), 'k')\n",
    "for i,k in zip(inicio_niño,fin_niño): #Niño y después niña\n",
    "    ax1.fill_betweenx([-3,3],Serie_oni.index[locs_niño[i]],Serie_oni.index[locs_niño[k]],color=\"r\",alpha=0.4)\n",
    "for j,m in zip(inicio_niña,fin_niña): #Niño y después niña\n",
    "    ax1.fill_betweenx([-3,3],Serie_oni.index[locs_niña[j]],Serie_oni.index[locs_niña[m]],color=\"b\",alpha=0.4) \n",
    "ax1.set_ylabel(\"nmm [m]\")\n",
    "ax1.set_xlim((new_array[365*16],new_array[365*18]))\n",
    "\n",
    "plt.savefig('./Plots/hovmoller_09_10.png',dpi=600,bbox_inches=\"tight\")"
   ]
  },
  {
   "cell_type": "markdown",
   "metadata": {},
   "source": [
    "Tuvo cerca a la costa, anomalías alrededor de los 21-23 cm, su intensidad fue moderada, empezó en Julio y acabó en Febrero y duró cerca de 8 meses.\n",
    "\n",
    "Las anomalías que registra son..."
   ]
  },
  {
   "cell_type": "markdown",
   "metadata": {},
   "source": [
    "## Niño 2014-2015 (weak)"
   ]
  },
  {
   "cell_type": "code",
   "execution_count": null,
   "metadata": {
    "ExecuteTime": {
     "end_time": "2020-02-18T18:25:37.818186Z",
     "start_time": "2020-02-18T18:25:37.769Z"
    }
   },
   "outputs": [],
   "source": [
    "fig=plt.figure(figsize=(12,10))\n",
    "fig.suptitle(\"Niño 2014-2015 (débil)\",y=0.92,fontsize=20)\n",
    "gs = gsa.GridSpec(nrows=2, ncols=1,height_ratios=[1,6])\n",
    "\n",
    "# x_tick_labels = [u'120\\N{DEGREE SIGN}W', u'110\\N{DEGREE SIGN}W',\n",
    "#                  u'100\\N{DEGREE SIGN}W', u'90\\N{DEGREE SIGN}W',\n",
    "#                  u'80\\N{DEGREE SIGN}W']\n",
    "\n",
    "# y_tick_labels = [u'-2\\N{DEGREE SIGN}N', u'0\\N{DEGREE SIGN}N',\n",
    "#                  u'2\\N{DEGREE SIGN}N', u'4\\N{DEGREE SIGN}N',\n",
    "#                  u'6\\N{DEGREE SIGN}N',u'8\\N{DEGREE SIGN}N']\n",
    "\n",
    "xlocs=np.arange(-120, -60, 10)\n",
    "ylocs=np.arange(-3,10,2)\n",
    "\n",
    "# Acerca del segundo subplot\n",
    "ax2 = fig.add_subplot(gs[1, 0])\n",
    "ax2.invert_yaxis()  # Reverse the time order to do oldest first\n",
    "ax2.set_title('Diagrama de Hovmoller para lat: '+str(lat[27])+\"°N\",fontsize=18)\n",
    "\n",
    "x,y=np.meshgrid(new_lon,new_array)\n",
    "cf=ax2.contourf(x,y,sla_copy_mod[:,:],20,cmap=\"jet\")\n",
    "cr=ax2.contour(x,y,sla_copy_mod[:,:],20,colors=\"k\",linewidths=0.3)\n",
    "cbar = plt.colorbar(cf, orientation='horizontal', pad=0.08, aspect=50)\n",
    "cbar.set_label('m',fontsize=15)\n",
    "cbar.ax.tick_params(labelsize=15) \n",
    "\n",
    "ax2.set_xticks(np.array(xlocs)+360)\n",
    "ax2.set_xticklabels(x_tick_labels)\n",
    "ax2.set_ylim((new_array[365*23],new_array[365*21]))\n",
    "ax2.set_xlim((new_lon[0],new_lon[-4]))\n",
    "\n",
    "ax2.tick_params(labelsize=15)\n",
    "ax2.axvline(x=new_lon[26],c='k',ls='--',lw=3)\n",
    "\n",
    "# Acerca del primer subplot\n",
    "ax1 = fig.add_subplot(gs[0, 0])\n",
    "ax1.plot(pd.Series(smooth(serie_real,90),index=serie_real.index), 'k')\n",
    "for i,k in zip(inicio_niño,fin_niño): #Niño y después niña\n",
    "    ax1.fill_betweenx([-3,3],Serie_oni.index[locs_niño[i]],Serie_oni.index[locs_niño[k]],color=\"r\",alpha=0.4)\n",
    "for j,m in zip(inicio_niña,fin_niña): #Niño y después niña\n",
    "    ax1.fill_betweenx([-3,3],Serie_oni.index[locs_niña[j]],Serie_oni.index[locs_niña[m]],color=\"b\",alpha=0.4) \n",
    "ax1.set_ylabel(\"nmm [m]\")\n",
    "ax1.set_xlim((new_array[365*21],new_array[365*23]))\n",
    "\n",
    "plt.savefig('./Plots/hovmoller_14_15.png',dpi=600,bbox_inches=\"tight\")"
   ]
  },
  {
   "cell_type": "markdown",
   "metadata": {},
   "source": [
    "## Niño 2015-2016 (Very strong)"
   ]
  },
  {
   "cell_type": "code",
   "execution_count": 18,
   "metadata": {
    "ExecuteTime": {
     "end_time": "2020-02-18T18:25:38.283581Z",
     "start_time": "2020-02-18T18:25:37.921118Z"
    }
   },
   "outputs": [
    {
     "ename": "NameError",
     "evalue": "name 'lat' is not defined",
     "output_type": "error",
     "traceback": [
      "\u001b[0;31m---------------------------------------------------------------------------\u001b[0m",
      "\u001b[0;31mNameError\u001b[0m                                 Traceback (most recent call last)",
      "\u001b[0;32m<ipython-input-18-d945d545f0fd>\u001b[0m in \u001b[0;36m<module>\u001b[0;34m\u001b[0m\n\u001b[1;32m     17\u001b[0m \u001b[0max2\u001b[0m \u001b[0;34m=\u001b[0m \u001b[0mfig\u001b[0m\u001b[0;34m.\u001b[0m\u001b[0madd_subplot\u001b[0m\u001b[0;34m(\u001b[0m\u001b[0mgs\u001b[0m\u001b[0;34m[\u001b[0m\u001b[0;36m1\u001b[0m\u001b[0;34m,\u001b[0m \u001b[0;36m0\u001b[0m\u001b[0;34m]\u001b[0m\u001b[0;34m)\u001b[0m\u001b[0;34m\u001b[0m\u001b[0;34m\u001b[0m\u001b[0m\n\u001b[1;32m     18\u001b[0m \u001b[0max2\u001b[0m\u001b[0;34m.\u001b[0m\u001b[0minvert_yaxis\u001b[0m\u001b[0;34m(\u001b[0m\u001b[0;34m)\u001b[0m  \u001b[0;31m# Reverse the time order to do oldest first\u001b[0m\u001b[0;34m\u001b[0m\u001b[0;34m\u001b[0m\u001b[0m\n\u001b[0;32m---> 19\u001b[0;31m \u001b[0max2\u001b[0m\u001b[0;34m.\u001b[0m\u001b[0mset_title\u001b[0m\u001b[0;34m(\u001b[0m\u001b[0;34m'Diagrama de Hovmoller para lat: '\u001b[0m\u001b[0;34m+\u001b[0m\u001b[0mstr\u001b[0m\u001b[0;34m(\u001b[0m\u001b[0mlat\u001b[0m\u001b[0;34m[\u001b[0m\u001b[0;36m27\u001b[0m\u001b[0;34m]\u001b[0m\u001b[0;34m)\u001b[0m\u001b[0;34m+\u001b[0m\u001b[0;34m\"°N\"\u001b[0m\u001b[0;34m,\u001b[0m\u001b[0mfontsize\u001b[0m\u001b[0;34m=\u001b[0m\u001b[0;36m18\u001b[0m\u001b[0;34m)\u001b[0m\u001b[0;34m\u001b[0m\u001b[0;34m\u001b[0m\u001b[0m\n\u001b[0m\u001b[1;32m     20\u001b[0m \u001b[0;34m\u001b[0m\u001b[0m\n\u001b[1;32m     21\u001b[0m \u001b[0mx\u001b[0m\u001b[0;34m,\u001b[0m\u001b[0my\u001b[0m\u001b[0;34m=\u001b[0m\u001b[0mnp\u001b[0m\u001b[0;34m.\u001b[0m\u001b[0mmeshgrid\u001b[0m\u001b[0;34m(\u001b[0m\u001b[0mnew_lon\u001b[0m\u001b[0;34m,\u001b[0m\u001b[0mnew_array\u001b[0m\u001b[0;34m)\u001b[0m\u001b[0;34m\u001b[0m\u001b[0;34m\u001b[0m\u001b[0m\n",
      "\u001b[0;31mNameError\u001b[0m: name 'lat' is not defined"
     ]
    },
    {
     "data": {
      "image/png": "[encoded data removed]",
      "text/plain": [
       "<Figure size 864x720 with 1 Axes>"
      ]
     },
     "metadata": {
      "needs_background": "light"
     },
     "output_type": "display_data"
    }
   ],
   "source": [
    "fig=plt.figure(figsize=(12,10))\n",
    "fig.suptitle(\"Niño 2015-2016 (muy fuerte)\",y=0.92,fontsize=20)\n",
    "gs = gsa.GridSpec(nrows=2, ncols=1,height_ratios=[1,6])\n",
    "\n",
    "# x_tick_labels = [u'120\\N{DEGREE SIGN}W', u'110\\N{DEGREE SIGN}W',\n",
    "#                  u'100\\N{DEGREE SIGN}W', u'90\\N{DEGREE SIGN}W',\n",
    "#                  u'80\\N{DEGREE SIGN}W']\n",
    "\n",
    "# y_tick_labels = [u'-2\\N{DEGREE SIGN}N', u'0\\N{DEGREE SIGN}N',\n",
    "#                  u'2\\N{DEGREE SIGN}N', u'4\\N{DEGREE SIGN}N',\n",
    "#                  u'6\\N{DEGREE SIGN}N',u'8\\N{DEGREE SIGN}N']\n",
    "\n",
    "xlocs=np.arange(-120, -60, 10)\n",
    "ylocs=np.arange(-3,10,2)\n",
    "\n",
    "# Acerca del segundo subplot\n",
    "ax2 = fig.add_subplot(gs[1, 0])\n",
    "ax2.invert_yaxis()  # Reverse the time order to do oldest first\n",
    "ax2.set_title('Diagrama de Hovmoller para lat: '+str(lat[27])+\"°N\",fontsize=18)\n",
    "\n",
    "x,y=np.meshgrid(new_lon,new_array)\n",
    "cf=ax2.contourf(x,y,sla_copy_mod[:,:],20,cmap=\"jet\")\n",
    "cr=ax2.contour(x,y,sla_copy_mod[:,:],20,colors=\"k\",linewidths=0.3)\n",
    "cbar = plt.colorbar(cf, orientation='horizontal', pad=0.08, aspect=50)\n",
    "cbar.set_label('m',fontsize=15)\n",
    "cbar.ax.tick_params(labelsize=15) \n",
    "\n",
    "ax2.set_xticks(np.array(xlocs)+360)\n",
    "ax2.set_xticklabels(x_tick_labels)\n",
    "ax2.set_ylim((new_array[365*24],new_array[365*22]))\n",
    "ax2.set_xlim((new_lon[0],new_lon[-4]))\n",
    "\n",
    "ax2.tick_params(labelsize=15)\n",
    "ax2.axvline(x=new_lon[26],c='k',ls='--',lw=3)\n",
    "\n",
    "\n",
    "# Acerca del primer subplot\n",
    "ax1 = fig.add_subplot(gs[0, 0])\n",
    "ax1.plot(pd.Series(smooth(serie_real,90),index=serie_real.index), 'k')\n",
    "for i,k in zip(inicio_niño,fin_niño): #Niño y después niña\n",
    "    ax1.fill_betweenx([-3,3],Serie_oni.index[locs_niño[i]],Serie_oni.index[locs_niño[k]],color=\"r\",alpha=0.4)\n",
    "for j,m in zip(inicio_niña,fin_niña): #Niño y después niña\n",
    "    ax1.fill_betweenx([-3,3],Serie_oni.index[locs_niña[j]],Serie_oni.index[locs_niña[m]],color=\"b\",alpha=0.4) \n",
    "ax1.set_ylabel(\"nmm [m]\")\n",
    "ax1.set_xlim((new_array[365*22],new_array[365*24]))\n",
    "\n",
    "plt.savefig('./Plots/hovmoller_15_16.png',dpi=600,bbox_inches=\"tight\")"
   ]
  },
  {
   "cell_type": "markdown",
   "metadata": {},
   "source": [
    "Tuvo cerca a la costa, anomalías alrededor de los 30 cm, su intensidad fue muy fuerte, empezó en Julio y acabó en Febrero y duró cerca de 8-9 meses.\n",
    "\n",
    "Las anomalías que registra son..."
   ]
  },
  {
   "cell_type": "code",
   "execution_count": null,
   "metadata": {},
   "outputs": [],
   "source": []
  },
  {
   "cell_type": "code",
   "execution_count": 181,
   "metadata": {
    "ExecuteTime": {
     "end_time": "2020-03-03T17:54:32.744759Z",
     "start_time": "2020-03-03T17:54:32.736405Z"
    }
   },
   "outputs": [
    {
     "data": {
      "text/plain": [
       "DatetimeIndex(['1990-05-12', '1990-05-13', '1990-05-14'], dtype='datetime64[ns]', freq='D')"
      ]
     },
     "execution_count": 181,
     "metadata": {},
     "output_type": "execute_result"
    }
   ],
   "source": [
    "data=pd.date_range(\"1990-05-12\",\"1990-05-14\",freq=\"D\")\n",
    "data"
   ]
  },
  {
   "cell_type": "code",
   "execution_count": 171,
   "metadata": {
    "ExecuteTime": {
     "end_time": "2020-03-03T17:51:34.264607Z",
     "start_time": "2020-03-03T17:51:34.260167Z"
    }
   },
   "outputs": [],
   "source": [
    "x=np.linspace(0,100,100)\n",
    "y=np.cos(x)"
   ]
  },
  {
   "cell_type": "code",
   "execution_count": 185,
   "metadata": {
    "ExecuteTime": {
     "end_time": "2020-03-03T17:58:17.029900Z",
     "start_time": "2020-03-03T17:58:16.804233Z"
    }
   },
   "outputs": [
    {
     "data": {
      "text/plain": [
       "([<matplotlib.axis.XTick at 0x7f8963bdb198>,\n",
       "  <matplotlib.axis.XTick at 0x7f89638cfa58>,\n",
       "  <matplotlib.axis.XTick at 0x7f8963ab97b8>],\n",
       " <a list of 3 Text xticklabel objects>)"
      ]
     },
     "execution_count": 185,
     "metadata": {},
     "output_type": "execute_result"
    },
    {
     "data": {
      "image/png": "[encoded data removed]",
      "text/plain": [
       "<Figure size 576x396 with 1 Axes>"
      ]
     },
     "metadata": {},
     "output_type": "display_data"
    }
   ],
   "source": [
    "plt.figure()\n",
    "plt.plot(y)\n",
    "plt.xticks(ticks=[0,1,2],labels=data)"
   ]
  },
  {
   "cell_type": "code",
   "execution_count": null,
   "metadata": {},
   "outputs": [],
   "source": []
  },
  {
   "cell_type": "code",
   "execution_count": null,
   "metadata": {},
   "outputs": [],
   "source": []
  },
  {
   "cell_type": "code",
   "execution_count": null,
   "metadata": {
    "ExecuteTime": {
     "end_time": "2020-02-18T18:25:38.286542Z",
     "start_time": "2020-02-18T18:25:38.094Z"
    }
   },
   "outputs": [],
   "source": [
    "rutas = glob.glob(\"../Dataset/CMEMS_ECMFW/*.nc\")"
   ]
  }
 ],
 "metadata": {
  "hide_input": false,
  "kernelspec": {
   "display_name": "Python 3",
   "language": "python",
   "name": "python3"
  },
  "language_info": {
   "codemirror_mode": {
    "name": "ipython",
    "version": 3
   },
   "file_extension": ".py",
   "mimetype": "text/x-python",
   "name": "python",
   "nbconvert_exporter": "python",
   "pygments_lexer": "ipython3",
   "version": "3.6.8"
  },
  "latex_envs": {
   "LaTeX_envs_menu_present": true,
   "autoclose": false,
   "autocomplete": true,
   "bibliofile": "biblio.bib",
   "cite_by": "apalike",
   "current_citInitial": 1,
   "eqLabelWithNumbers": true,
   "eqNumInitial": 1,
   "hotkeys": {
    "equation": "Ctrl-E",
    "itemize": "Ctrl-I"
   },
   "labels_anchors": false,
   "latex_user_defs": false,
   "report_style_numbering": false,
   "user_envs_cfg": false
  },
  "notify_time": "5",
  "toc": {
   "base_numbering": 1,
   "nav_menu": {},
   "number_sections": true,
   "sideBar": true,
   "skip_h1_title": false,
   "title_cell": "Table of Contents",
   "title_sidebar": "Contents",
   "toc_cell": false,
   "toc_position": {
    "height": "calc(100% - 180px)",
    "left": "10px",
    "top": "150px",
    "width": "195.188px"
   },
   "toc_section_display": true,
   "toc_window_display": false
  }
 },
 "nbformat": 4,
 "nbformat_minor": 2
}
