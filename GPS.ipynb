{
 "cells": [
  {
   "cell_type": "code",
   "execution_count": 1,
   "metadata": {},
   "outputs": [],
   "source": [
    "import pandas as pd\n",
    "import matplotlib.pyplot as plt\n",
    "import numpy as np\n",
    "import matplotlib as mp"
   ]
  },
  {
   "cell_type": "code",
   "execution_count": 2,
   "metadata": {},
   "outputs": [],
   "source": [
    "mp.rcParams[\"figure.figsize\"]=(12,10)\n",
    "mp.rcParams[\"xtick.labelsize\"]=16\n",
    "mp.rcParams[\"ytick.labelsize\"]=16"
   ]
  },
  {
   "cell_type": "code",
   "execution_count": 111,
   "metadata": {},
   "outputs": [],
   "source": [
    "dataset=pd.read_excel(r\"D:\\Google Drive\\Documents\\Semestre 10\\Campaña de Campo\\GPS 1.xlsx\")"
   ]
  },
  {
   "cell_type": "code",
   "execution_count": 114,
   "metadata": {},
   "outputs": [
    {
     "data": {
      "text/plain": [
       "<matplotlib.legend.Legend at 0x1d59090f160>"
      ]
     },
     "execution_count": 114,
     "metadata": {},
     "output_type": "execute_result"
    }
   ],
   "source": [
    "%matplotlib qt\n",
    "\n",
    "plt.figure()\n",
    "plt.plot(dataset.Long.loc[0],dataset.Lat.loc[0],\"-o\",c='r')\n",
    "plt.plot(dataset.Long.loc[:84],dataset.Lat.loc[:84],label=\"Recorrido 1\")\n",
    "plt.plot(dataset.Long.loc[83:],dataset.Lat.loc[83:],'.',label=\"Recorrido 2\")\n",
    "\n",
    "plt.legend()"
   ]
  },
  {
   "cell_type": "code",
   "execution_count": 139,
   "metadata": {},
   "outputs": [
    {
     "data": {
      "text/plain": [
       "-77.101389013"
      ]
     },
     "execution_count": 139,
     "metadata": {},
     "output_type": "execute_result"
    }
   ],
   "source": [
    "np.max(dataset.Long.loc[15:25])"
   ]
  },
  {
   "cell_type": "code",
   "execution_count": 136,
   "metadata": {
    "scrolled": true
   },
   "outputs": [
    {
     "data": {
      "text/plain": [
       "(array([-77.10155, -77.1015 , -77.10145, -77.1014 , -77.10135]),\n",
       " <a list of 5 Text xticklabel objects>)"
      ]
     },
     "execution_count": 136,
     "metadata": {},
     "output_type": "execute_result"
    }
   ],
   "source": [
    "plt.figure()\n",
    "\n",
    "plt.subplot(121)\n",
    "plt.plot(dataset.Long.loc[15:25],dataset.Elev.loc[15:25]-1.5,'g-.',scalex=False)\n",
    "plt.xlim(np.max(dataset.Long.loc[15:25]),np.min(dataset.Long.loc[15:25]))\n",
    "# plt.xticks(rotation=45)\n",
    "\n",
    "plt.subplot(122)\n",
    "plt.plot(dataset.Long.loc[15:25],dataset.Lat.loc[15:25])\n",
    "\n",
    "plt.xticks(rotation=45)"
   ]
  },
  {
   "cell_type": "code",
   "execution_count": null,
   "metadata": {},
   "outputs": [],
   "source": []
  }
 ],
 "metadata": {
  "kernelspec": {
   "display_name": "Python 3",
   "language": "python",
   "name": "python3"
  },
  "language_info": {
   "codemirror_mode": {
    "name": "ipython",
    "version": 3
   },
   "file_extension": ".py",
   "mimetype": "text/x-python",
   "name": "python",
   "nbconvert_exporter": "python",
   "pygments_lexer": "ipython3",
   "version": "3.7.3"
  }
 },
 "nbformat": 4,
 "nbformat_minor": 2
}
